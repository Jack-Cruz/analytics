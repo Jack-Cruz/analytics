{
 "cells": [
  {
   "cell_type": "markdown",
   "id": "3139115c",
   "metadata": {},
   "source": [
    "# IV. Definición de funciones y clases"
   ]
  },
  {
   "cell_type": "markdown",
   "id": "e4f8d995",
   "metadata": {},
   "source": [
    "# 1. Definición de funciones\n",
    "\n",
    "La palabra reservada **def** se usa para definir funciones. Debe seguirle el nombre de la función y la lista de parámetros formales entre paréntesis. Las sentencias que forman el cuerpo de la función empiezan en la línea siguiente, y deben estar con sangría.\n",
    "\n",
    "La primer sentencia del cuerpo de la función puede ser opcionalmente una cadena de texto literal; esta es la cadena de texto de documentación de la función, o docstring. (Podés encontrar más acerca de docstrings en la sección Cadenas de texto de documentación.)"
   ]
  },
  {
   "cell_type": "code",
   "execution_count": 10,
   "id": "6cd5fb8b",
   "metadata": {},
   "outputs": [],
   "source": [
    "def suma(x, y=4):\n",
    "    \"\"\"\n",
    "    \n",
    "    \"\"\"\n",
    "    return (x, y, x+y)"
   ]
  },
  {
   "cell_type": "code",
   "execution_count": 3,
   "id": "6f362443",
   "metadata": {},
   "outputs": [
    {
     "name": "stdout",
     "output_type": "stream",
     "text": [
      "4 4 8\n"
     ]
    }
   ],
   "source": [
    "# Llamamos a la función con un solo parámetro\n",
    "\n",
    "x, y, plus = suma(4)\n",
    "print(x, y, plus)"
   ]
  },
  {
   "cell_type": "code",
   "execution_count": 5,
   "id": "180ba966",
   "metadata": {},
   "outputs": [
    {
     "name": "stdout",
     "output_type": "stream",
     "text": [
      "4 8 12\n"
     ]
    }
   ],
   "source": [
    "x, y, plus = suma(4, 8)\n",
    "print(x, y, plus)"
   ]
  },
  {
   "cell_type": "markdown",
   "id": "628c0811",
   "metadata": {},
   "source": [
    "Otra forma de escribir funciones, aunque menos utilizada, es con la palabra clave lambda. Las funciones Lambda pueden ser usadas en cualquier lugar donde sea requerido un objeto de tipo función. Están sintácticamente restringidas a una sola expresión."
   ]
  },
  {
   "cell_type": "code",
   "execution_count": 6,
   "id": "91a691cc",
   "metadata": {},
   "outputs": [],
   "source": [
    "suma = lambda x, y = 2: x + y"
   ]
  },
  {
   "cell_type": "code",
   "execution_count": 7,
   "id": "5a75400a",
   "metadata": {},
   "outputs": [
    {
     "data": {
      "text/plain": [
       "6"
      ]
     },
     "execution_count": 7,
     "metadata": {},
     "output_type": "execute_result"
    }
   ],
   "source": [
    "suma(4)"
   ]
  },
  {
   "cell_type": "code",
   "execution_count": 8,
   "id": "d3b550f0",
   "metadata": {},
   "outputs": [
    {
     "data": {
      "text/plain": [
       "14"
      ]
     },
     "execution_count": 8,
     "metadata": {},
     "output_type": "execute_result"
    }
   ],
   "source": [
    "suma(4, 10)"
   ]
  },
  {
   "cell_type": "code",
   "execution_count": 11,
   "id": "dbb7ab91",
   "metadata": {},
   "outputs": [
    {
     "data": {
      "text/plain": [
       "function"
      ]
     },
     "execution_count": 11,
     "metadata": {},
     "output_type": "execute_result"
    }
   ],
   "source": [
    "type(suma)"
   ]
  },
  {
   "cell_type": "markdown",
   "id": "34fb2c1d",
   "metadata": {},
   "source": [
    "## 2. Definición de clases\n",
    "\n",
    "En el contexto de la programación orientada a objetos se habla de objetos, clases, métodos y atributos. En una clase un \"método\" equivale a una \"función\", y un \"atributo\" equivale a una \"variable\".\n",
    "\n",
    "Las clases proveen una forma de empaquetar datos y funcionalidad juntos. Al crear una nueva clase, se crea un nuevo tipo de objeto, permitiendo crear nuevas instancias de ese tipo. Cada instancia de clase puede tener atributos adjuntos para mantener su estado. Las instancias de clase también pueden tener métodos (definidos por su clase) para modificar su estado.\n",
    "\n",
    "Las clases de Python proveen todas las características normales de la Programación Orientada a Objetos:\n",
    "\n",
    "- El mecanismo de la herencia de clases permite múltiples clases base\n",
    "- Una clase derivada puede sobre escribir cualquier método de su(s) clase(s) base\n",
    "- Un método puede llamar al método de la clase base con el mismo nombre\n",
    "\n",
    "Los objetos pueden tener una cantidad arbitraria de datos de cualquier tipo. Igual que con los módulos, las clases participan de la naturaleza dinámica de Python: se crean en tiempo de ejecución, y pueden modificarse luego de la creación."
   ]
  },
  {
   "cell_type": "markdown",
   "id": "edc72f38",
   "metadata": {},
   "source": [
    "### Sintáxis en la definición de clases\n",
    "\n",
    "La forma más sencilla de definición de una clase se ve así\n",
    "\n",
    "<code>\n",
    "class Clase:     \n",
    "    declaración-1\n",
    "    .            \n",
    "    .            \n",
    "    .            \n",
    "    declaración-N\n",
    "</code>\n",
    "\n",
    "Las definiciones de clases, al igual que las definiciones de funciones (instrucciones def) deben ejecutarse antes de que tengan efecto alguno. Es concebible poner una definición de clase dentro de una rama de un if, o dentro de una función.\n",
    "\n",
    "Cuando una definición de clase se finaliza normalmente se crea un objeto clase. Básicamente, este objeto envuelve los contenidos del espacio de nombres creado por la definición de la clase"
   ]
  },
  {
   "cell_type": "markdown",
   "id": "c47779b8",
   "metadata": {},
   "source": [
    "### Objeto clase\n",
    "\n",
    "Los objetos clase soportan dos tipos de operaciones: instanciación y hacer referencia a atributos."
   ]
  },
  {
   "cell_type": "markdown",
   "id": "4a67bbea",
   "metadata": {},
   "source": [
    "#### Referencia a atributos\n",
    "\n",
    "Para hacer referencia a atributos se usa la sintaxis estándar de todas las referencias a atributos en Python: objeto.nombre.\n",
    "\n",
    "Los nombres de atributo válidos son todos los nombres que estaban en el espacio de nombres de la clase cuando ésta se creó. Por lo tanto, si la definición de la clase es así"
   ]
  },
  {
   "cell_type": "code",
   "execution_count": 42,
   "id": "0c11572a",
   "metadata": {},
   "outputs": [],
   "source": [
    "class MiClase:\n",
    "    \"\"\"Simple clase de ejemplo\"\"\"\n",
    "    var = 12345\n",
    "    \n",
    "    def funcion(self):\n",
    "        return 'Hola mundo'"
   ]
  },
  {
   "cell_type": "markdown",
   "id": "ea9daad2",
   "metadata": {},
   "source": [
    "entonces <code>MiClase.var</code> y <code>MiClase.funcion</code> son referencias de atributos válidas, que devuelven un entero y un objeto función respectivamente.\n",
    "\n",
    "Los atributos de clase también pueden ser asignados, o sea que se pueden cambiar el valor de <code>MiClase.var</code> mediante asignación."
   ]
  },
  {
   "cell_type": "code",
   "execution_count": 57,
   "id": "55aaa40c",
   "metadata": {},
   "outputs": [],
   "source": [
    "x.var = 12"
   ]
  },
  {
   "cell_type": "code",
   "execution_count": 62,
   "id": "76c8ebf5",
   "metadata": {},
   "outputs": [],
   "source": [
    "def faux():\n",
    "    return 'Hola Javier' \n",
    "\n",
    "x.funcion = faux\n",
    "#x.funcion = lambda: 'Hola Rodrigo' "
   ]
  },
  {
   "cell_type": "code",
   "execution_count": 63,
   "id": "ba9996af",
   "metadata": {},
   "outputs": [
    {
     "name": "stdout",
     "output_type": "stream",
     "text": [
      "12\n",
      "Hola Javier\n"
     ]
    }
   ],
   "source": [
    "print(x.var)\n",
    "print(x.funcion())"
   ]
  },
  {
   "cell_type": "markdown",
   "id": "964b9bc6",
   "metadata": {},
   "source": [
    "#### Instantación de clases\n",
    "\n",
    "La instanciación de clases usa la notación de funciones. Suponga que el objeto de clase es una función sin parámetros que devuelve una nueva instancia de la clase. Por ejemplo,"
   ]
  },
  {
   "cell_type": "code",
   "execution_count": 43,
   "id": "fea59e37",
   "metadata": {},
   "outputs": [],
   "source": [
    "x = MiClase()"
   ]
  },
  {
   "cell_type": "code",
   "execution_count": 44,
   "id": "ba490e3d",
   "metadata": {},
   "outputs": [
    {
     "data": {
      "text/plain": [
       "__main__.MiClase"
      ]
     },
     "execution_count": 44,
     "metadata": {},
     "output_type": "execute_result"
    }
   ],
   "source": [
    "type(x)"
   ]
  },
  {
   "cell_type": "markdown",
   "id": "20711b5c",
   "metadata": {},
   "source": [
    "crea una nueva instancia de la clase y asigna este objeto a la variable local x.\n",
    "\n",
    "Podemos ejecutar el método <code>funcion()</code> del objeto x."
   ]
  },
  {
   "cell_type": "code",
   "execution_count": 45,
   "id": "f86f2d6e",
   "metadata": {},
   "outputs": [
    {
     "data": {
      "text/plain": [
       "'Hola mundo'"
      ]
     },
     "execution_count": 45,
     "metadata": {},
     "output_type": "execute_result"
    }
   ],
   "source": [
    "x.funcion()"
   ]
  },
  {
   "cell_type": "markdown",
   "id": "c4925ebc",
   "metadata": {},
   "source": [
    "Cuando una clase define un método __init__(), la instanciación de la clase automáticamente invoca a __init__() para la instancia recién creada."
   ]
  },
  {
   "cell_type": "code",
   "execution_count": 27,
   "id": "7e4e01be",
   "metadata": {},
   "outputs": [],
   "source": [
    "class Complejo:\n",
    "    def __init__(self, partereal, parteimaginaria):\n",
    "        self.r = partereal\n",
    "        self.i = parteimaginaria"
   ]
  },
  {
   "cell_type": "code",
   "execution_count": 28,
   "id": "6d700b6a",
   "metadata": {},
   "outputs": [],
   "source": [
    "x = Complejo(30.0, -4.5)"
   ]
  },
  {
   "cell_type": "code",
   "execution_count": 29,
   "id": "a1e78360",
   "metadata": {},
   "outputs": [
    {
     "data": {
      "text/plain": [
       "30.0"
      ]
     },
     "execution_count": 29,
     "metadata": {},
     "output_type": "execute_result"
    }
   ],
   "source": [
    "x.r"
   ]
  },
  {
   "cell_type": "markdown",
   "id": "1e7baf32",
   "metadata": {},
   "source": [
    "### Variables de clase y de instancia (objeto)\n",
    "\n",
    "En general, las variables de instancia son para datos únicos de cada instancia y las variables de clase son para atributos y métodos compartidos por todas las instancias de la clase:"
   ]
  },
  {
   "cell_type": "code",
   "execution_count": 37,
   "id": "2838f338",
   "metadata": {},
   "outputs": [],
   "source": [
    "class Perro:\n",
    "    def __init__(self, nombre):\n",
    "        self.nombre = nombre       # variable de instancia (única para la instancia)\n",
    "        self.tipo = 'canino'       # variable de clase (compartido)"
   ]
  },
  {
   "cell_type": "code",
   "execution_count": 38,
   "id": "27bd268f",
   "metadata": {},
   "outputs": [],
   "source": [
    "d = Perro('Fido')\n",
    "e = Perro('Buddy') "
   ]
  },
  {
   "cell_type": "code",
   "execution_count": 39,
   "id": "94ac3a45",
   "metadata": {},
   "outputs": [
    {
     "name": "stdout",
     "output_type": "stream",
     "text": [
      "canino\n",
      "canino\n"
     ]
    }
   ],
   "source": [
    "# vairable compartida\n",
    "\n",
    "print(d.tipo)\n",
    "print(e.tipo)"
   ]
  },
  {
   "cell_type": "code",
   "execution_count": 41,
   "id": "aa51f2fe",
   "metadata": {},
   "outputs": [
    {
     "name": "stdout",
     "output_type": "stream",
     "text": [
      "Fido\n",
      "Buddy\n"
     ]
    }
   ],
   "source": [
    "# variable única para cada objeto\n",
    "\n",
    "print(d.nombre)\n",
    "print(e.nombre)"
   ]
  }
 ],
 "metadata": {
  "kernelspec": {
   "display_name": "analytics",
   "language": "python",
   "name": "myenv"
  },
  "language_info": {
   "codemirror_mode": {
    "name": "ipython",
    "version": 3
   },
   "file_extension": ".py",
   "mimetype": "text/x-python",
   "name": "python",
   "nbconvert_exporter": "python",
   "pygments_lexer": "ipython3",
   "version": "3.7.11"
  }
 },
 "nbformat": 4,
 "nbformat_minor": 5
}
