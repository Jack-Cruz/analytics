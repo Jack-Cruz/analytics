{
 "cells": [
  {
   "cell_type": "markdown",
   "id": "83c568ca",
   "metadata": {},
   "source": [
    "## ¿Qué es Python?\n",
    "\n",
    "* Es un lenguaje de programación interpretado.\n",
    "* Orientado a objetos\n",
    "* Posee un tipado dinámico, es decir no requiere que se declare el tipo de dato y además puede cambiar conforme se le vaya asignando valores.\n",
    "* Recomendado para aprender a programar, sintaxis muy sencilla y legible.\n",
    "* Es multiplataforma, se puede utilizar y ejecutar en Windows, Linux, MacOS, etc.\n",
    "* Enorme cantidad de módulos y paquetes respaldados por la comunidad.\n",
    "* ¡Código abierto! Completamente gratis, libre de usar y distribuir sin perder presencia en ámbitos comerciales"
   ]
  },
  {
   "cell_type": "markdown",
   "id": "766ae4ca",
   "metadata": {},
   "source": [
    "## ¿Por qué se usa en analítica de datos?\n",
    "\n",
    "Los científicos lo usan porque se puede analizar y modelar datos de manera sencilla (tiempo de aprendizaje, instalación o desarrollo).\n",
    "\n",
    "* Con extensa documentación y comunidad\n",
    "* Productos analíticos (modelos + API)"
   ]
  },
  {
   "cell_type": "markdown",
   "id": "c1b6ab70",
   "metadata": {},
   "source": [
    "## ¿Cómo empezar a codificar en python?\n",
    "Hay varias alternativas:\n",
    "\n",
    "* Descargar python desde su [página oficial](https://www.python.org/) (instalador)\n",
    "* Descargar python junto con la suite de [anaconda](https://docs.anaconda.com/anaconda/navigator/index.html)  "
   ]
  },
  {
   "cell_type": "markdown",
   "id": "5fa2dc21",
   "metadata": {},
   "source": [
    "## Pero ... y si ya sabemos R?\n",
    "\n",
    "... ¿Cuál es mejor? Es una pregunta difícil de responder, pero aquí dejamos algunos artículos que tratan de resaltar las ventajas y desventajas de cada uno.\n",
    "\n",
    "https://www.datanami.com/2018/07/19/python-gains-traction-among-data-scientists/\n",
    "\n",
    "https://elitedatascience.com/r-vs-python-for-data-science\n",
    "\n",
    "https://www.datacamp.com/community/tutorials/r-or-python-for-data-analysis\n",
    "\n",
    "http://www.kdnuggets.com/2015/05/r-vs-python-data-science.html\n",
    "\n",
    "http://www.kdnuggets.com/2015/03/the-grammar-data-science-python-vs-r.html\n",
    "\n",
    "https://www.dataquest.io/blog/python-vs-r/\n",
    "\n",
    "http://www.dataschool.io/python-or-r-for-data-science/\n",
    "\n",
    "https://www.digitalvidya.com/blog/r-vs-python/"
   ]
  },
  {
   "cell_type": "markdown",
   "id": "555c19b7",
   "metadata": {},
   "source": [
    "## Referencias extras \n",
    "\n",
    "En este notebook tendremos una introducción a Python. Existen muchos recursos en línea donde se puede aprender este lenguaje con mayor profundidad. El [Tutorial de Python](http://docs.python.org/3.7/tutorial/) es un buen punto de partida. Aquí listo algunos de los más importantes:\n",
    "\n",
    "1. [Udemy](https://www.udemy.com/)\n",
    "2. [DataCamp](https://www.datacamp.com/)\n",
    "3. [DataQuest](https://www.dataquest.io/)\n",
    "4. [Coursera](https://www.coursera.org/)\n",
    "5. [Udacity](https://www.udacity.com/)\n",
    "6. [Analytics Vidya](https://www.analyticsvidhya.com/)\n",
    "7. [Databricks](https://databricks.com/) (Uso del Api de Python para Spark)\n",
    "8. [Towards Data Science](https://towardsdatascience.com/)\n",
    "9. [Kdnuggets](https://www.kdnuggets.com/)\n",
    "\n",
    "Durante las sesiones de clase, haremos uso de los Notebooks. Una buena introducción a los notebooks se puede encontrar en la [Documentación de Jupyter](https://jupyter-notebook.readthedocs.io/en/stable/).\n",
    "\n",
    "De forma general, los notebooks tiene celdas de código (que por lo general son seguidas de celdas de resultados) y de texto. Un ejemplo de celda de texto es lo que estas leyendo ahora. Las celdas de código se reconocen fácilmente porque empiezan con **`In []:`** y con algún número, por lo general entre los corchetes, una vez que son ejecutados. Si ubicas tu cursor en una de las celdas de código y presionas **`shift` + `enter`**, el código se ejecutará en el intérprete de Python y el resultado se pintará en la celda de salida o resultado.\n",
    "\n"
   ]
  }
 ],
 "metadata": {
  "kernelspec": {
   "display_name": "analytics",
   "language": "python",
   "name": "myenv"
  },
  "language_info": {
   "codemirror_mode": {
    "name": "ipython",
    "version": 3
   },
   "file_extension": ".py",
   "mimetype": "text/x-python",
   "name": "python",
   "nbconvert_exporter": "python",
   "pygments_lexer": "ipython3",
   "version": "3.7.11"
  }
 },
 "nbformat": 4,
 "nbformat_minor": 5
}
