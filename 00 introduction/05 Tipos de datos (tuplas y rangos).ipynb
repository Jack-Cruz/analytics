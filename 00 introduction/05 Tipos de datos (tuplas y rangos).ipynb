{
 "cells": [
  {
   "cell_type": "markdown",
   "id": "97915977",
   "metadata": {},
   "source": [
    "## 6. Tuplas\n",
    "\n",
    "Una tupla es una lista inmutable. Una tupla no puede ser alterada de ninguna manera una vez definida.\n",
    "\n",
    "Se pueden crear usando la función tuple() o los símbolos ( ).\n",
    "\n",
    "Las tuplas no tienen los métodos append(), extend(), insert(), remove() y pop()"
   ]
  },
  {
   "cell_type": "markdown",
   "id": "b9ffce49",
   "metadata": {},
   "source": [
    "### Definir un objeto tipo tupla"
   ]
  },
  {
   "cell_type": "code",
   "execution_count": 3,
   "id": "0b7f17cd",
   "metadata": {},
   "outputs": [
    {
     "name": "stdout",
     "output_type": "stream",
     "text": [
      "() <class 'tuple'> 0\n"
     ]
    }
   ],
   "source": [
    "# Crear una tupla vacia\n",
    "\n",
    "x = tuple()\n",
    "print(x, type(x), len(x))"
   ]
  },
  {
   "cell_type": "code",
   "execution_count": 4,
   "id": "84d134d7",
   "metadata": {},
   "outputs": [
    {
     "name": "stdout",
     "output_type": "stream",
     "text": [
      "(1, 2.0, '3', 4.0) <class 'tuple'> 4\n"
     ]
    }
   ],
   "source": [
    "# Crear una tupla usando la función tuple()\n",
    "\n",
    "x = tuple([1, 2., '3', 4.])\n",
    "print(x, type(x), len(x))"
   ]
  },
  {
   "cell_type": "code",
   "execution_count": 5,
   "id": "6d1aad14",
   "metadata": {},
   "outputs": [
    {
     "name": "stdout",
     "output_type": "stream",
     "text": [
      "(2.0, 1, 4.0, '3') <class 'tuple'> 4\n"
     ]
    }
   ],
   "source": [
    "# Crear una tupla usando los símboloes ()\n",
    "\n",
    "x = (2., 1, 4., '3')\n",
    "print(x, type(x), len(x))"
   ]
  },
  {
   "cell_type": "markdown",
   "id": "be9b368d",
   "metadata": {},
   "source": [
    "### Acceder a un elemento"
   ]
  },
  {
   "cell_type": "code",
   "execution_count": 7,
   "id": "44f9b2e5",
   "metadata": {},
   "outputs": [
    {
     "data": {
      "text/plain": [
       "2.0"
      ]
     },
     "execution_count": 7,
     "metadata": {},
     "output_type": "execute_result"
    }
   ],
   "source": [
    "# Acceder al elemento 0 de la lista\n",
    "\n",
    "x[0]"
   ]
  },
  {
   "cell_type": "code",
   "execution_count": 8,
   "id": "e5093ecf",
   "metadata": {},
   "outputs": [
    {
     "data": {
      "text/plain": [
       "2.0"
      ]
     },
     "execution_count": 8,
     "metadata": {},
     "output_type": "execute_result"
    }
   ],
   "source": [
    "# ¿Qué sucede si tratamos de cambiar el valor del elemento 0?\n",
    "\n",
    "x[0]"
   ]
  },
  {
   "cell_type": "code",
   "execution_count": 9,
   "id": "619828c3",
   "metadata": {},
   "outputs": [
    {
     "ename": "TypeError",
     "evalue": "'tuple' object does not support item assignment",
     "output_type": "error",
     "traceback": [
      "\u001b[1;31m---------------------------------------------------------------------------\u001b[0m",
      "\u001b[1;31mTypeError\u001b[0m                                 Traceback (most recent call last)",
      "\u001b[1;32m~\\AppData\\Local\\Temp/ipykernel_9072/1585456490.py\u001b[0m in \u001b[0;36m<module>\u001b[1;34m\u001b[0m\n\u001b[0;32m      1\u001b[0m \u001b[1;31m#¿Qué sucede si tratamos de cambiar el calor del elemento 0?\u001b[0m\u001b[1;33m\u001b[0m\u001b[1;33m\u001b[0m\u001b[1;33m\u001b[0m\u001b[0m\n\u001b[0;32m      2\u001b[0m \u001b[1;33m\u001b[0m\u001b[0m\n\u001b[1;32m----> 3\u001b[1;33m \u001b[0mx\u001b[0m\u001b[1;33m[\u001b[0m\u001b[1;36m0\u001b[0m\u001b[1;33m]\u001b[0m \u001b[1;33m=\u001b[0m \u001b[1;34m'Hola mundo'\u001b[0m\u001b[1;33m\u001b[0m\u001b[1;33m\u001b[0m\u001b[0m\n\u001b[0m\u001b[0;32m      4\u001b[0m \u001b[0mx\u001b[0m\u001b[1;33m\u001b[0m\u001b[1;33m\u001b[0m\u001b[0m\n",
      "\u001b[1;31mTypeError\u001b[0m: 'tuple' object does not support item assignment"
     ]
    }
   ],
   "source": [
    "#¿Qué sucede si tratamos de cambiar el calor del elemento 0?\n",
    "\n",
    "x[0] = 'Hola mundo'\n",
    "x"
   ]
  },
  {
   "cell_type": "markdown",
   "id": "a747574a",
   "metadata": {},
   "source": [
    "### Acceder a un slice de la tupla"
   ]
  },
  {
   "cell_type": "code",
   "execution_count": 10,
   "id": "e8730bbb",
   "metadata": {},
   "outputs": [
    {
     "data": {
      "text/plain": [
       "(2.0, 1)"
      ]
     },
     "execution_count": 10,
     "metadata": {},
     "output_type": "execute_result"
    }
   ],
   "source": [
    "# Acceder a un slice desde el primer elemento hasta el segundo elemento\n",
    "# Usaremos indices 0 y 2\n",
    "\n",
    "x[0:2]"
   ]
  },
  {
   "cell_type": "code",
   "execution_count": 11,
   "id": "f7037918",
   "metadata": {},
   "outputs": [
    {
     "data": {
      "text/plain": [
       "(4.0, '3')"
      ]
     },
     "execution_count": 11,
     "metadata": {},
     "output_type": "execute_result"
    }
   ],
   "source": [
    "# Acceder a un slice desde el tercer elemento hasta el último elemento\n",
    "# Usamos indice 0 y dejamos en blanco el último\n",
    "\n",
    "x[2:]"
   ]
  },
  {
   "cell_type": "code",
   "execution_count": 16,
   "id": "c3a5421c",
   "metadata": {},
   "outputs": [
    {
     "data": {
      "text/plain": [
       "(4.0, '3')"
      ]
     },
     "execution_count": 16,
     "metadata": {},
     "output_type": "execute_result"
    }
   ],
   "source": [
    "# Acceder a los dos últimos elementos de la tupla\n",
    "# Usamos indices -2 y dejamos al final (4)\n",
    "x[-2:]"
   ]
  },
  {
   "cell_type": "markdown",
   "id": "b63d9d47",
   "metadata": {},
   "source": [
    "## 7. Rangos\n",
    "\n",
    "Un rango corresponde a una secuencia inmutable de números y es comúnmente usada en ciclos for para repetir un número finito de veces alguna expresión.\n",
    "\n",
    "Los rangos se pueden crear usando la función range(). Puede ser llamada usando un sólo parámetro **range(stop)**, dos parámetros **range(start,stop)** y hasta tres parámetros **range(start, stop, step)**\n",
    "\n",
    "En Python 2 range() era una función que creaba una lista de largo finitio, y también existía una función llamada xrange() que creaba un tipo de dato xrange(). En Python 3 la función original range() fue descontinuada y ahora range es un tipo de dato."
   ]
  },
  {
   "cell_type": "code",
   "execution_count": 21,
   "id": "b323f190",
   "metadata": {},
   "outputs": [
    {
     "name": "stdout",
     "output_type": "stream",
     "text": [
      "range(1, 9, 2) <class 'range'>\n"
     ]
    }
   ],
   "source": [
    "x = range(1, 9, 2)\n",
    "print(x, type(x))"
   ]
  },
  {
   "cell_type": "code",
   "execution_count": 22,
   "id": "9f042b3c",
   "metadata": {},
   "outputs": [
    {
     "data": {
      "text/plain": [
       "[1, 3, 5, 7]"
      ]
     },
     "execution_count": 22,
     "metadata": {},
     "output_type": "execute_result"
    }
   ],
   "source": [
    "list(x)"
   ]
  },
  {
   "cell_type": "code",
   "execution_count": 23,
   "id": "2b43e71e",
   "metadata": {},
   "outputs": [
    {
     "name": "stdout",
     "output_type": "stream",
     "text": [
      "[1, 3, 5, 7]\n"
     ]
    }
   ],
   "source": [
    "print(list(x))"
   ]
  },
  {
   "cell_type": "code",
   "execution_count": 24,
   "id": "6d63e326",
   "metadata": {},
   "outputs": [
    {
     "name": "stdout",
     "output_type": "stream",
     "text": [
      "1\n",
      "3\n",
      "5\n",
      "7\n"
     ]
    }
   ],
   "source": [
    "for i in x:\n",
    "    print(i)"
   ]
  },
  {
   "cell_type": "code",
   "execution_count": 25,
   "id": "0ee89391",
   "metadata": {},
   "outputs": [
    {
     "data": {
      "text/plain": [
       "range(1, 10, 2)"
      ]
     },
     "execution_count": 25,
     "metadata": {},
     "output_type": "execute_result"
    }
   ],
   "source": [
    "x = range(1, 10, 2)\n",
    "x"
   ]
  },
  {
   "cell_type": "code",
   "execution_count": 26,
   "id": "d9aacbe8",
   "metadata": {},
   "outputs": [
    {
     "name": "stdout",
     "output_type": "stream",
     "text": [
      "1\n",
      "3\n",
      "5\n",
      "7\n",
      "9\n"
     ]
    }
   ],
   "source": [
    "for i in x:\n",
    "    print(i)"
   ]
  },
  {
   "cell_type": "code",
   "execution_count": 27,
   "id": "2ce45210",
   "metadata": {},
   "outputs": [
    {
     "ename": "TypeError",
     "evalue": "'float' object cannot be interpreted as an integer",
     "output_type": "error",
     "traceback": [
      "\u001b[1;31m---------------------------------------------------------------------------\u001b[0m",
      "\u001b[1;31mTypeError\u001b[0m                                 Traceback (most recent call last)",
      "\u001b[1;32m~\\AppData\\Local\\Temp/ipykernel_9072/2729905654.py\u001b[0m in \u001b[0;36m<module>\u001b[1;34m\u001b[0m\n\u001b[0;32m      1\u001b[0m \u001b[1;31m# ¿Qué sucede si tratamos de crear un rango usando un paso no entero?\u001b[0m\u001b[1;33m\u001b[0m\u001b[1;33m\u001b[0m\u001b[1;33m\u001b[0m\u001b[0m\n\u001b[0;32m      2\u001b[0m \u001b[1;33m\u001b[0m\u001b[0m\n\u001b[1;32m----> 3\u001b[1;33m \u001b[0mx\u001b[0m \u001b[1;33m=\u001b[0m \u001b[0mrange\u001b[0m\u001b[1;33m(\u001b[0m\u001b[1;36m1\u001b[0m\u001b[1;33m,\u001b[0m \u001b[1;36m10\u001b[0m\u001b[1;33m,\u001b[0m \u001b[1;36m0.1\u001b[0m\u001b[1;33m)\u001b[0m\u001b[1;33m\u001b[0m\u001b[1;33m\u001b[0m\u001b[0m\n\u001b[0m",
      "\u001b[1;31mTypeError\u001b[0m: 'float' object cannot be interpreted as an integer"
     ]
    }
   ],
   "source": [
    "# ¿Qué sucede si tratamos de crear un rango usando un paso no entero?\n",
    "\n",
    "x = range(1, 10, 0.1)"
   ]
  },
  {
   "cell_type": "code",
   "execution_count": null,
   "id": "58a1eca9",
   "metadata": {},
   "outputs": [],
   "source": []
  }
 ],
 "metadata": {
  "kernelspec": {
   "display_name": "analytics",
   "language": "python",
   "name": "myenv"
  },
  "language_info": {
   "codemirror_mode": {
    "name": "ipython",
    "version": 3
   },
   "file_extension": ".py",
   "mimetype": "text/x-python",
   "name": "python",
   "nbconvert_exporter": "python",
   "pygments_lexer": "ipython3",
   "version": "3.7.11"
  }
 },
 "nbformat": 4,
 "nbformat_minor": 5
}
