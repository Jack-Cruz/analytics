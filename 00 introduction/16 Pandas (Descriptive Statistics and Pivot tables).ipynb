{
 "cells": [
  {
   "cell_type": "code",
   "execution_count": 1,
   "id": "54ae2643",
   "metadata": {},
   "outputs": [],
   "source": [
    "import numpy as np\n",
    "import pandas as pd"
   ]
  },
  {
   "cell_type": "markdown",
   "id": "7e315a4f",
   "metadata": {},
   "source": [
    "# Arithmetic and Data Alignment"
   ]
  },
  {
   "cell_type": "markdown",
   "id": "72669d29",
   "metadata": {},
   "source": [
    "## Summarizing and Computing Descriptive Statistics"
   ]
  },
  {
   "cell_type": "markdown",
   "id": "c6318f99",
   "metadata": {},
   "source": [
    "Unlike NumPy arrays, Pandas descriptive statistics automatically exclude missing data.  NaN values are excluded unless the entire row or column is NA."
   ]
  },
  {
   "cell_type": "code",
   "execution_count": 3,
   "id": "b20bed90",
   "metadata": {},
   "outputs": [
    {
     "data": {
      "text/html": [
       "<div>\n",
       "<style scoped>\n",
       "    .dataframe tbody tr th:only-of-type {\n",
       "        vertical-align: middle;\n",
       "    }\n",
       "\n",
       "    .dataframe tbody tr th {\n",
       "        vertical-align: top;\n",
       "    }\n",
       "\n",
       "    .dataframe thead th {\n",
       "        text-align: right;\n",
       "    }\n",
       "</style>\n",
       "<table border=\"1\" class=\"dataframe\">\n",
       "  <thead>\n",
       "    <tr style=\"text-align: right;\">\n",
       "      <th></th>\n",
       "      <th>a</th>\n",
       "      <th>b</th>\n",
       "      <th>c</th>\n",
       "    </tr>\n",
       "  </thead>\n",
       "  <tbody>\n",
       "    <tr>\n",
       "      <th>0</th>\n",
       "      <td>-0.217930</td>\n",
       "      <td>-1.987477</td>\n",
       "      <td>0.266556</td>\n",
       "    </tr>\n",
       "    <tr>\n",
       "      <th>1</th>\n",
       "      <td>2.265465</td>\n",
       "      <td>0.914885</td>\n",
       "      <td>-0.862443</td>\n",
       "    </tr>\n",
       "    <tr>\n",
       "      <th>2</th>\n",
       "      <td>1.616129</td>\n",
       "      <td>-1.295283</td>\n",
       "      <td>0.885437</td>\n",
       "    </tr>\n",
       "    <tr>\n",
       "      <th>3</th>\n",
       "      <td>0.432673</td>\n",
       "      <td>-0.483316</td>\n",
       "      <td>-0.787804</td>\n",
       "    </tr>\n",
       "    <tr>\n",
       "      <th>4</th>\n",
       "      <td>0.684649</td>\n",
       "      <td>-0.085879</td>\n",
       "      <td>0.532726</td>\n",
       "    </tr>\n",
       "    <tr>\n",
       "      <th>5</th>\n",
       "      <td>0.241696</td>\n",
       "      <td>0.782126</td>\n",
       "      <td>-0.447970</td>\n",
       "    </tr>\n",
       "    <tr>\n",
       "      <th>6</th>\n",
       "      <td>2.345735</td>\n",
       "      <td>1.169313</td>\n",
       "      <td>-0.448716</td>\n",
       "    </tr>\n",
       "    <tr>\n",
       "      <th>7</th>\n",
       "      <td>0.047316</td>\n",
       "      <td>1.527817</td>\n",
       "      <td>1.442229</td>\n",
       "    </tr>\n",
       "    <tr>\n",
       "      <th>8</th>\n",
       "      <td>1.143367</td>\n",
       "      <td>0.898275</td>\n",
       "      <td>1.245041</td>\n",
       "    </tr>\n",
       "    <tr>\n",
       "      <th>9</th>\n",
       "      <td>-0.025585</td>\n",
       "      <td>0.372686</td>\n",
       "      <td>-1.073423</td>\n",
       "    </tr>\n",
       "  </tbody>\n",
       "</table>\n",
       "</div>"
      ],
      "text/plain": [
       "          a         b         c\n",
       "0 -0.217930 -1.987477  0.266556\n",
       "1  2.265465  0.914885 -0.862443\n",
       "2  1.616129 -1.295283  0.885437\n",
       "3  0.432673 -0.483316 -0.787804\n",
       "4  0.684649 -0.085879  0.532726\n",
       "5  0.241696  0.782126 -0.447970\n",
       "6  2.345735  1.169313 -0.448716\n",
       "7  0.047316  1.527817  1.442229\n",
       "8  1.143367  0.898275  1.245041\n",
       "9 -0.025585  0.372686 -1.073423"
      ]
     },
     "execution_count": 3,
     "metadata": {},
     "output_type": "execute_result"
    }
   ],
   "source": [
    "df1 = pd.DataFrame( np.random.randn(10, 3),\n",
    "                  columns=['a', 'b', 'c'])\n",
    "\n",
    "df1"
   ]
  },
  {
   "cell_type": "code",
   "execution_count": 5,
   "id": "505af013",
   "metadata": {},
   "outputs": [
    {
     "data": {
      "text/html": [
       "<div>\n",
       "<style scoped>\n",
       "    .dataframe tbody tr th:only-of-type {\n",
       "        vertical-align: middle;\n",
       "    }\n",
       "\n",
       "    .dataframe tbody tr th {\n",
       "        vertical-align: top;\n",
       "    }\n",
       "\n",
       "    .dataframe thead th {\n",
       "        text-align: right;\n",
       "    }\n",
       "</style>\n",
       "<table border=\"1\" class=\"dataframe\">\n",
       "  <thead>\n",
       "    <tr style=\"text-align: right;\">\n",
       "      <th></th>\n",
       "      <th>a</th>\n",
       "      <th>b</th>\n",
       "      <th>c</th>\n",
       "      <th>cat1</th>\n",
       "      <th>cat2</th>\n",
       "    </tr>\n",
       "  </thead>\n",
       "  <tbody>\n",
       "    <tr>\n",
       "      <th>0</th>\n",
       "      <td>-0.217930</td>\n",
       "      <td>-1.987477</td>\n",
       "      <td>0.266556</td>\n",
       "      <td>1.0</td>\n",
       "      <td>1.0</td>\n",
       "    </tr>\n",
       "    <tr>\n",
       "      <th>1</th>\n",
       "      <td>2.265465</td>\n",
       "      <td>0.914885</td>\n",
       "      <td>-0.862443</td>\n",
       "      <td>1.0</td>\n",
       "      <td>0.0</td>\n",
       "    </tr>\n",
       "    <tr>\n",
       "      <th>2</th>\n",
       "      <td>1.616129</td>\n",
       "      <td>-1.295283</td>\n",
       "      <td>0.885437</td>\n",
       "      <td>1.0</td>\n",
       "      <td>0.0</td>\n",
       "    </tr>\n",
       "    <tr>\n",
       "      <th>3</th>\n",
       "      <td>0.432673</td>\n",
       "      <td>-0.483316</td>\n",
       "      <td>-0.787804</td>\n",
       "      <td>3.0</td>\n",
       "      <td>0.0</td>\n",
       "    </tr>\n",
       "    <tr>\n",
       "      <th>4</th>\n",
       "      <td>0.684649</td>\n",
       "      <td>-0.085879</td>\n",
       "      <td>0.532726</td>\n",
       "      <td>1.0</td>\n",
       "      <td>1.0</td>\n",
       "    </tr>\n",
       "    <tr>\n",
       "      <th>5</th>\n",
       "      <td>0.241696</td>\n",
       "      <td>0.782126</td>\n",
       "      <td>-0.447970</td>\n",
       "      <td>2.0</td>\n",
       "      <td>0.0</td>\n",
       "    </tr>\n",
       "    <tr>\n",
       "      <th>6</th>\n",
       "      <td>2.345735</td>\n",
       "      <td>1.169313</td>\n",
       "      <td>-0.448716</td>\n",
       "      <td>2.0</td>\n",
       "      <td>1.0</td>\n",
       "    </tr>\n",
       "    <tr>\n",
       "      <th>7</th>\n",
       "      <td>0.047316</td>\n",
       "      <td>1.527817</td>\n",
       "      <td>1.442229</td>\n",
       "      <td>2.0</td>\n",
       "      <td>1.0</td>\n",
       "    </tr>\n",
       "    <tr>\n",
       "      <th>8</th>\n",
       "      <td>1.143367</td>\n",
       "      <td>0.898275</td>\n",
       "      <td>1.245041</td>\n",
       "      <td>1.0</td>\n",
       "      <td>0.0</td>\n",
       "    </tr>\n",
       "    <tr>\n",
       "      <th>9</th>\n",
       "      <td>-0.025585</td>\n",
       "      <td>0.372686</td>\n",
       "      <td>-1.073423</td>\n",
       "      <td>3.0</td>\n",
       "      <td>0.0</td>\n",
       "    </tr>\n",
       "  </tbody>\n",
       "</table>\n",
       "</div>"
      ],
      "text/plain": [
       "          a         b         c  cat1  cat2\n",
       "0 -0.217930 -1.987477  0.266556   1.0   1.0\n",
       "1  2.265465  0.914885 -0.862443   1.0   0.0\n",
       "2  1.616129 -1.295283  0.885437   1.0   0.0\n",
       "3  0.432673 -0.483316 -0.787804   3.0   0.0\n",
       "4  0.684649 -0.085879  0.532726   1.0   1.0\n",
       "5  0.241696  0.782126 -0.447970   2.0   0.0\n",
       "6  2.345735  1.169313 -0.448716   2.0   1.0\n",
       "7  0.047316  1.527817  1.442229   2.0   1.0\n",
       "8  1.143367  0.898275  1.245041   1.0   0.0\n",
       "9 -0.025585  0.372686 -1.073423   3.0   0.0"
      ]
     },
     "execution_count": 5,
     "metadata": {},
     "output_type": "execute_result"
    }
   ],
   "source": [
    "df1['cat1'] = (np.random.rand(10) * 3).round(0)\n",
    "df1['cat2'] = (np.random.rand(10)).round(0)\n",
    "df1"
   ]
  },
  {
   "cell_type": "markdown",
   "id": "3332487e",
   "metadata": {},
   "source": [
    "### Sum and Mean"
   ]
  },
  {
   "cell_type": "code",
   "execution_count": 15,
   "id": "dcc19d20",
   "metadata": {},
   "outputs": [
    {
     "data": {
      "text/html": [
       "<div>\n",
       "<style scoped>\n",
       "    .dataframe tbody tr th:only-of-type {\n",
       "        vertical-align: middle;\n",
       "    }\n",
       "\n",
       "    .dataframe tbody tr th {\n",
       "        vertical-align: top;\n",
       "    }\n",
       "\n",
       "    .dataframe thead th {\n",
       "        text-align: right;\n",
       "    }\n",
       "</style>\n",
       "<table border=\"1\" class=\"dataframe\">\n",
       "  <thead>\n",
       "    <tr style=\"text-align: right;\">\n",
       "      <th></th>\n",
       "      <th>a</th>\n",
       "      <th>b</th>\n",
       "      <th>c</th>\n",
       "      <th>cat1</th>\n",
       "      <th>cat2</th>\n",
       "    </tr>\n",
       "  </thead>\n",
       "  <tbody>\n",
       "    <tr>\n",
       "      <th>0</th>\n",
       "      <td>-0.217930</td>\n",
       "      <td>-1.987477</td>\n",
       "      <td>0.266556</td>\n",
       "      <td>1.0</td>\n",
       "      <td>1.0</td>\n",
       "    </tr>\n",
       "    <tr>\n",
       "      <th>1</th>\n",
       "      <td>2.265465</td>\n",
       "      <td>0.914885</td>\n",
       "      <td>-0.862443</td>\n",
       "      <td>1.0</td>\n",
       "      <td>0.0</td>\n",
       "    </tr>\n",
       "    <tr>\n",
       "      <th>2</th>\n",
       "      <td>1.616129</td>\n",
       "      <td>-1.295283</td>\n",
       "      <td>0.885437</td>\n",
       "      <td>1.0</td>\n",
       "      <td>0.0</td>\n",
       "    </tr>\n",
       "    <tr>\n",
       "      <th>3</th>\n",
       "      <td>0.432673</td>\n",
       "      <td>-0.483316</td>\n",
       "      <td>-0.787804</td>\n",
       "      <td>3.0</td>\n",
       "      <td>0.0</td>\n",
       "    </tr>\n",
       "    <tr>\n",
       "      <th>4</th>\n",
       "      <td>0.684649</td>\n",
       "      <td>-0.085879</td>\n",
       "      <td>0.532726</td>\n",
       "      <td>1.0</td>\n",
       "      <td>1.0</td>\n",
       "    </tr>\n",
       "    <tr>\n",
       "      <th>5</th>\n",
       "      <td>0.241696</td>\n",
       "      <td>0.782126</td>\n",
       "      <td>-0.447970</td>\n",
       "      <td>2.0</td>\n",
       "      <td>0.0</td>\n",
       "    </tr>\n",
       "    <tr>\n",
       "      <th>6</th>\n",
       "      <td>NaN</td>\n",
       "      <td>1.169313</td>\n",
       "      <td>-0.448716</td>\n",
       "      <td>2.0</td>\n",
       "      <td>1.0</td>\n",
       "    </tr>\n",
       "    <tr>\n",
       "      <th>7</th>\n",
       "      <td>0.047316</td>\n",
       "      <td>1.527817</td>\n",
       "      <td>1.442229</td>\n",
       "      <td>2.0</td>\n",
       "      <td>1.0</td>\n",
       "    </tr>\n",
       "    <tr>\n",
       "      <th>8</th>\n",
       "      <td>1.143367</td>\n",
       "      <td>0.898275</td>\n",
       "      <td>1.245041</td>\n",
       "      <td>1.0</td>\n",
       "      <td>0.0</td>\n",
       "    </tr>\n",
       "    <tr>\n",
       "      <th>9</th>\n",
       "      <td>-0.025585</td>\n",
       "      <td>0.372686</td>\n",
       "      <td>-1.073423</td>\n",
       "      <td>3.0</td>\n",
       "      <td>0.0</td>\n",
       "    </tr>\n",
       "  </tbody>\n",
       "</table>\n",
       "</div>"
      ],
      "text/plain": [
       "          a         b         c  cat1  cat2\n",
       "0 -0.217930 -1.987477  0.266556   1.0   1.0\n",
       "1  2.265465  0.914885 -0.862443   1.0   0.0\n",
       "2  1.616129 -1.295283  0.885437   1.0   0.0\n",
       "3  0.432673 -0.483316 -0.787804   3.0   0.0\n",
       "4  0.684649 -0.085879  0.532726   1.0   1.0\n",
       "5  0.241696  0.782126 -0.447970   2.0   0.0\n",
       "6       NaN  1.169313 -0.448716   2.0   1.0\n",
       "7  0.047316  1.527817  1.442229   2.0   1.0\n",
       "8  1.143367  0.898275  1.245041   1.0   0.0\n",
       "9 -0.025585  0.372686 -1.073423   3.0   0.0"
      ]
     },
     "execution_count": 15,
     "metadata": {},
     "output_type": "execute_result"
    }
   ],
   "source": [
    "df1.loc[6,'a'] = np.nan\n",
    "df1"
   ]
  },
  {
   "cell_type": "code",
   "execution_count": 16,
   "id": "545473fd",
   "metadata": {},
   "outputs": [
    {
     "data": {
      "text/plain": [
       "a        6.187781\n",
       "b        1.813146\n",
       "c        0.751633\n",
       "cat1    17.000000\n",
       "cat2     4.000000\n",
       "dtype: float64"
      ]
     },
     "execution_count": 16,
     "metadata": {},
     "output_type": "execute_result"
    }
   ],
   "source": [
    "df1.sum()"
   ]
  },
  {
   "cell_type": "code",
   "execution_count": 17,
   "id": "21ced4a8",
   "metadata": {},
   "outputs": [
    {
     "data": {
      "text/plain": [
       "0    0.061150\n",
       "1    3.317907\n",
       "2    2.206283\n",
       "3    2.161553\n",
       "4    3.131497\n",
       "5    2.575851\n",
       "6    3.720597\n",
       "7    6.017361\n",
       "8    4.286682\n",
       "9    2.273679\n",
       "dtype: float64"
      ]
     },
     "execution_count": 17,
     "metadata": {},
     "output_type": "execute_result"
    }
   ],
   "source": [
    "df1.sum(axis=1)"
   ]
  },
  {
   "cell_type": "code",
   "execution_count": 18,
   "id": "1513b79d",
   "metadata": {},
   "outputs": [
    {
     "data": {
      "text/plain": [
       "a       0.687531\n",
       "b       0.181315\n",
       "c       0.075163\n",
       "cat1    1.700000\n",
       "cat2    0.400000\n",
       "dtype: float64"
      ]
     },
     "execution_count": 18,
     "metadata": {},
     "output_type": "execute_result"
    }
   ],
   "source": [
    "df1.mean(axis=0)"
   ]
  },
  {
   "cell_type": "markdown",
   "id": "ba3b6a90",
   "metadata": {},
   "source": [
    "### Max and max location"
   ]
  },
  {
   "cell_type": "code",
   "execution_count": 19,
   "id": "c3369b7a",
   "metadata": {},
   "outputs": [
    {
     "data": {
      "text/plain": [
       "a       2.265465\n",
       "b       1.527817\n",
       "c       1.442229\n",
       "cat1    3.000000\n",
       "cat2    1.000000\n",
       "dtype: float64"
      ]
     },
     "execution_count": 19,
     "metadata": {},
     "output_type": "execute_result"
    }
   ],
   "source": [
    "df1.max()"
   ]
  },
  {
   "cell_type": "code",
   "execution_count": 23,
   "id": "78b32212",
   "metadata": {},
   "outputs": [
    {
     "data": {
      "text/plain": [
       "a       1\n",
       "b       7\n",
       "c       7\n",
       "cat1    3\n",
       "cat2    0\n",
       "dtype: int64"
      ]
     },
     "execution_count": 23,
     "metadata": {},
     "output_type": "execute_result"
    }
   ],
   "source": [
    "df1.idxmax()"
   ]
  },
  {
   "cell_type": "markdown",
   "id": "96f510e4",
   "metadata": {},
   "source": [
    "### Descriptive analysis"
   ]
  },
  {
   "cell_type": "code",
   "execution_count": 24,
   "id": "b2b1563b",
   "metadata": {},
   "outputs": [
    {
     "data": {
      "text/plain": [
       "count    9.000000\n",
       "mean     0.687531\n",
       "std      0.833813\n",
       "min     -0.217930\n",
       "25%      0.047316\n",
       "50%      0.432673\n",
       "75%      1.143367\n",
       "max      2.265465\n",
       "Name: a, dtype: float64"
      ]
     },
     "execution_count": 24,
     "metadata": {},
     "output_type": "execute_result"
    }
   ],
   "source": [
    "df1['a'].describe()"
   ]
  },
  {
   "cell_type": "code",
   "execution_count": 26,
   "id": "eb8cc645",
   "metadata": {},
   "outputs": [
    {
     "data": {
      "text/html": [
       "<div>\n",
       "<style scoped>\n",
       "    .dataframe tbody tr th:only-of-type {\n",
       "        vertical-align: middle;\n",
       "    }\n",
       "\n",
       "    .dataframe tbody tr th {\n",
       "        vertical-align: top;\n",
       "    }\n",
       "\n",
       "    .dataframe thead th {\n",
       "        text-align: right;\n",
       "    }\n",
       "</style>\n",
       "<table border=\"1\" class=\"dataframe\">\n",
       "  <thead>\n",
       "    <tr style=\"text-align: right;\">\n",
       "      <th></th>\n",
       "      <th>a</th>\n",
       "      <th>b</th>\n",
       "      <th>c</th>\n",
       "      <th>cat1</th>\n",
       "      <th>cat2</th>\n",
       "    </tr>\n",
       "  </thead>\n",
       "  <tbody>\n",
       "    <tr>\n",
       "      <th>0</th>\n",
       "      <td>-0.217930</td>\n",
       "      <td>-1.987477</td>\n",
       "      <td>0.266556</td>\n",
       "      <td>1.0</td>\n",
       "      <td>1.0</td>\n",
       "    </tr>\n",
       "    <tr>\n",
       "      <th>1</th>\n",
       "      <td>2.265465</td>\n",
       "      <td>0.914885</td>\n",
       "      <td>-0.862443</td>\n",
       "      <td>1.0</td>\n",
       "      <td>0.0</td>\n",
       "    </tr>\n",
       "    <tr>\n",
       "      <th>2</th>\n",
       "      <td>1.616129</td>\n",
       "      <td>-1.295283</td>\n",
       "      <td>0.885437</td>\n",
       "      <td>1.0</td>\n",
       "      <td>0.0</td>\n",
       "    </tr>\n",
       "    <tr>\n",
       "      <th>3</th>\n",
       "      <td>0.432673</td>\n",
       "      <td>-0.483316</td>\n",
       "      <td>-0.787804</td>\n",
       "      <td>3.0</td>\n",
       "      <td>0.0</td>\n",
       "    </tr>\n",
       "    <tr>\n",
       "      <th>4</th>\n",
       "      <td>0.684649</td>\n",
       "      <td>-0.085879</td>\n",
       "      <td>0.532726</td>\n",
       "      <td>1.0</td>\n",
       "      <td>1.0</td>\n",
       "    </tr>\n",
       "    <tr>\n",
       "      <th>5</th>\n",
       "      <td>0.241696</td>\n",
       "      <td>0.782126</td>\n",
       "      <td>-0.447970</td>\n",
       "      <td>2.0</td>\n",
       "      <td>0.0</td>\n",
       "    </tr>\n",
       "    <tr>\n",
       "      <th>6</th>\n",
       "      <td>NaN</td>\n",
       "      <td>1.169313</td>\n",
       "      <td>-0.448716</td>\n",
       "      <td>2.0</td>\n",
       "      <td>1.0</td>\n",
       "    </tr>\n",
       "    <tr>\n",
       "      <th>7</th>\n",
       "      <td>0.047316</td>\n",
       "      <td>1.527817</td>\n",
       "      <td>1.442229</td>\n",
       "      <td>2.0</td>\n",
       "      <td>1.0</td>\n",
       "    </tr>\n",
       "    <tr>\n",
       "      <th>8</th>\n",
       "      <td>1.143367</td>\n",
       "      <td>0.898275</td>\n",
       "      <td>1.245041</td>\n",
       "      <td>1.0</td>\n",
       "      <td>0.0</td>\n",
       "    </tr>\n",
       "    <tr>\n",
       "      <th>9</th>\n",
       "      <td>-0.025585</td>\n",
       "      <td>0.372686</td>\n",
       "      <td>-1.073423</td>\n",
       "      <td>3.0</td>\n",
       "      <td>0.0</td>\n",
       "    </tr>\n",
       "  </tbody>\n",
       "</table>\n",
       "</div>"
      ],
      "text/plain": [
       "          a         b         c  cat1  cat2\n",
       "0 -0.217930 -1.987477  0.266556   1.0   1.0\n",
       "1  2.265465  0.914885 -0.862443   1.0   0.0\n",
       "2  1.616129 -1.295283  0.885437   1.0   0.0\n",
       "3  0.432673 -0.483316 -0.787804   3.0   0.0\n",
       "4  0.684649 -0.085879  0.532726   1.0   1.0\n",
       "5  0.241696  0.782126 -0.447970   2.0   0.0\n",
       "6       NaN  1.169313 -0.448716   2.0   1.0\n",
       "7  0.047316  1.527817  1.442229   2.0   1.0\n",
       "8  1.143367  0.898275  1.245041   1.0   0.0\n",
       "9 -0.025585  0.372686 -1.073423   3.0   0.0"
      ]
     },
     "execution_count": 26,
     "metadata": {},
     "output_type": "execute_result"
    }
   ],
   "source": [
    "df1"
   ]
  },
  {
   "cell_type": "code",
   "execution_count": 25,
   "id": "a9b4fe3e",
   "metadata": {},
   "outputs": [
    {
     "data": {
      "text/plain": [
       "1.0    5\n",
       "2.0    3\n",
       "3.0    2\n",
       "Name: cat1, dtype: int64"
      ]
     },
     "execution_count": 25,
     "metadata": {},
     "output_type": "execute_result"
    }
   ],
   "source": [
    "df1['cat1'].value_counts()"
   ]
  },
  {
   "cell_type": "markdown",
   "id": "76851020",
   "metadata": {},
   "source": [
    "## Pivot tables"
   ]
  },
  {
   "cell_type": "markdown",
   "id": "ff9b9800",
   "metadata": {},
   "source": [
    "Group by cat1 and calculate mean"
   ]
  },
  {
   "cell_type": "code",
   "execution_count": 29,
   "id": "ed32da23",
   "metadata": {},
   "outputs": [
    {
     "data": {
      "text/html": [
       "<div>\n",
       "<style scoped>\n",
       "    .dataframe tbody tr th:only-of-type {\n",
       "        vertical-align: middle;\n",
       "    }\n",
       "\n",
       "    .dataframe tbody tr th {\n",
       "        vertical-align: top;\n",
       "    }\n",
       "\n",
       "    .dataframe thead th {\n",
       "        text-align: right;\n",
       "    }\n",
       "</style>\n",
       "<table border=\"1\" class=\"dataframe\">\n",
       "  <thead>\n",
       "    <tr style=\"text-align: right;\">\n",
       "      <th></th>\n",
       "      <th>a</th>\n",
       "      <th>b</th>\n",
       "      <th>c</th>\n",
       "      <th>cat1</th>\n",
       "      <th>cat2</th>\n",
       "    </tr>\n",
       "  </thead>\n",
       "  <tbody>\n",
       "    <tr>\n",
       "      <th>0</th>\n",
       "      <td>-0.217930</td>\n",
       "      <td>-1.987477</td>\n",
       "      <td>0.266556</td>\n",
       "      <td>1.0</td>\n",
       "      <td>1.0</td>\n",
       "    </tr>\n",
       "    <tr>\n",
       "      <th>1</th>\n",
       "      <td>2.265465</td>\n",
       "      <td>0.914885</td>\n",
       "      <td>-0.862443</td>\n",
       "      <td>1.0</td>\n",
       "      <td>0.0</td>\n",
       "    </tr>\n",
       "    <tr>\n",
       "      <th>2</th>\n",
       "      <td>1.616129</td>\n",
       "      <td>-1.295283</td>\n",
       "      <td>0.885437</td>\n",
       "      <td>1.0</td>\n",
       "      <td>0.0</td>\n",
       "    </tr>\n",
       "    <tr>\n",
       "      <th>3</th>\n",
       "      <td>0.432673</td>\n",
       "      <td>-0.483316</td>\n",
       "      <td>-0.787804</td>\n",
       "      <td>3.0</td>\n",
       "      <td>0.0</td>\n",
       "    </tr>\n",
       "    <tr>\n",
       "      <th>4</th>\n",
       "      <td>0.684649</td>\n",
       "      <td>-0.085879</td>\n",
       "      <td>0.532726</td>\n",
       "      <td>1.0</td>\n",
       "      <td>1.0</td>\n",
       "    </tr>\n",
       "    <tr>\n",
       "      <th>5</th>\n",
       "      <td>0.241696</td>\n",
       "      <td>0.782126</td>\n",
       "      <td>-0.447970</td>\n",
       "      <td>2.0</td>\n",
       "      <td>0.0</td>\n",
       "    </tr>\n",
       "    <tr>\n",
       "      <th>6</th>\n",
       "      <td>NaN</td>\n",
       "      <td>1.169313</td>\n",
       "      <td>-0.448716</td>\n",
       "      <td>2.0</td>\n",
       "      <td>1.0</td>\n",
       "    </tr>\n",
       "    <tr>\n",
       "      <th>7</th>\n",
       "      <td>0.047316</td>\n",
       "      <td>1.527817</td>\n",
       "      <td>1.442229</td>\n",
       "      <td>2.0</td>\n",
       "      <td>1.0</td>\n",
       "    </tr>\n",
       "    <tr>\n",
       "      <th>8</th>\n",
       "      <td>1.143367</td>\n",
       "      <td>0.898275</td>\n",
       "      <td>1.245041</td>\n",
       "      <td>1.0</td>\n",
       "      <td>0.0</td>\n",
       "    </tr>\n",
       "    <tr>\n",
       "      <th>9</th>\n",
       "      <td>-0.025585</td>\n",
       "      <td>0.372686</td>\n",
       "      <td>-1.073423</td>\n",
       "      <td>3.0</td>\n",
       "      <td>0.0</td>\n",
       "    </tr>\n",
       "  </tbody>\n",
       "</table>\n",
       "</div>"
      ],
      "text/plain": [
       "          a         b         c  cat1  cat2\n",
       "0 -0.217930 -1.987477  0.266556   1.0   1.0\n",
       "1  2.265465  0.914885 -0.862443   1.0   0.0\n",
       "2  1.616129 -1.295283  0.885437   1.0   0.0\n",
       "3  0.432673 -0.483316 -0.787804   3.0   0.0\n",
       "4  0.684649 -0.085879  0.532726   1.0   1.0\n",
       "5  0.241696  0.782126 -0.447970   2.0   0.0\n",
       "6       NaN  1.169313 -0.448716   2.0   1.0\n",
       "7  0.047316  1.527817  1.442229   2.0   1.0\n",
       "8  1.143367  0.898275  1.245041   1.0   0.0\n",
       "9 -0.025585  0.372686 -1.073423   3.0   0.0"
      ]
     },
     "execution_count": 29,
     "metadata": {},
     "output_type": "execute_result"
    }
   ],
   "source": [
    "df1"
   ]
  },
  {
   "cell_type": "code",
   "execution_count": 27,
   "id": "22e60c64",
   "metadata": {},
   "outputs": [
    {
     "data": {
      "text/html": [
       "<div>\n",
       "<style scoped>\n",
       "    .dataframe tbody tr th:only-of-type {\n",
       "        vertical-align: middle;\n",
       "    }\n",
       "\n",
       "    .dataframe tbody tr th {\n",
       "        vertical-align: top;\n",
       "    }\n",
       "\n",
       "    .dataframe thead th {\n",
       "        text-align: right;\n",
       "    }\n",
       "</style>\n",
       "<table border=\"1\" class=\"dataframe\">\n",
       "  <thead>\n",
       "    <tr style=\"text-align: right;\">\n",
       "      <th></th>\n",
       "      <th>a</th>\n",
       "      <th>b</th>\n",
       "      <th>c</th>\n",
       "      <th>cat2</th>\n",
       "    </tr>\n",
       "    <tr>\n",
       "      <th>cat1</th>\n",
       "      <th></th>\n",
       "      <th></th>\n",
       "      <th></th>\n",
       "      <th></th>\n",
       "    </tr>\n",
       "  </thead>\n",
       "  <tbody>\n",
       "    <tr>\n",
       "      <th>1.0</th>\n",
       "      <td>1.098336</td>\n",
       "      <td>-0.311096</td>\n",
       "      <td>0.413463</td>\n",
       "      <td>0.400000</td>\n",
       "    </tr>\n",
       "    <tr>\n",
       "      <th>2.0</th>\n",
       "      <td>0.144506</td>\n",
       "      <td>1.159752</td>\n",
       "      <td>0.181847</td>\n",
       "      <td>0.666667</td>\n",
       "    </tr>\n",
       "    <tr>\n",
       "      <th>3.0</th>\n",
       "      <td>0.203544</td>\n",
       "      <td>-0.055315</td>\n",
       "      <td>-0.930613</td>\n",
       "      <td>0.000000</td>\n",
       "    </tr>\n",
       "  </tbody>\n",
       "</table>\n",
       "</div>"
      ],
      "text/plain": [
       "             a         b         c      cat2\n",
       "cat1                                        \n",
       "1.0   1.098336 -0.311096  0.413463  0.400000\n",
       "2.0   0.144506  1.159752  0.181847  0.666667\n",
       "3.0   0.203544 -0.055315 -0.930613  0.000000"
      ]
     },
     "execution_count": 27,
     "metadata": {},
     "output_type": "execute_result"
    }
   ],
   "source": [
    "pd.pivot_table(df1, index='cat1', aggfunc=np.mean)"
   ]
  },
  {
   "cell_type": "markdown",
   "id": "0dd4a779",
   "metadata": {},
   "source": [
    "### group by cat1 and cat2 calculate the sum of b"
   ]
  },
  {
   "cell_type": "code",
   "execution_count": 30,
   "id": "c5ddf2ac",
   "metadata": {},
   "outputs": [
    {
     "data": {
      "text/html": [
       "<div>\n",
       "<style scoped>\n",
       "    .dataframe tbody tr th:only-of-type {\n",
       "        vertical-align: middle;\n",
       "    }\n",
       "\n",
       "    .dataframe tbody tr th {\n",
       "        vertical-align: top;\n",
       "    }\n",
       "\n",
       "    .dataframe thead th {\n",
       "        text-align: right;\n",
       "    }\n",
       "</style>\n",
       "<table border=\"1\" class=\"dataframe\">\n",
       "  <thead>\n",
       "    <tr style=\"text-align: right;\">\n",
       "      <th>cat2</th>\n",
       "      <th>0.0</th>\n",
       "      <th>1.0</th>\n",
       "    </tr>\n",
       "    <tr>\n",
       "      <th>cat1</th>\n",
       "      <th></th>\n",
       "      <th></th>\n",
       "    </tr>\n",
       "  </thead>\n",
       "  <tbody>\n",
       "    <tr>\n",
       "      <th>1.0</th>\n",
       "      <td>0.517876</td>\n",
       "      <td>-2.073355</td>\n",
       "    </tr>\n",
       "    <tr>\n",
       "      <th>2.0</th>\n",
       "      <td>0.782126</td>\n",
       "      <td>2.697129</td>\n",
       "    </tr>\n",
       "    <tr>\n",
       "      <th>3.0</th>\n",
       "      <td>-0.110630</td>\n",
       "      <td>NaN</td>\n",
       "    </tr>\n",
       "  </tbody>\n",
       "</table>\n",
       "</div>"
      ],
      "text/plain": [
       "cat2       0.0       1.0\n",
       "cat1                    \n",
       "1.0   0.517876 -2.073355\n",
       "2.0   0.782126  2.697129\n",
       "3.0  -0.110630       NaN"
      ]
     },
     "execution_count": 30,
     "metadata": {},
     "output_type": "execute_result"
    }
   ],
   "source": [
    "pd.pivot_table(df1, index='cat1', columns='cat2', values='b', aggfunc=np.sum)"
   ]
  }
 ],
 "metadata": {
  "kernelspec": {
   "display_name": "Python 3 (ipykernel)",
   "language": "python",
   "name": "python3"
  },
  "language_info": {
   "codemirror_mode": {
    "name": "ipython",
    "version": 3
   },
   "file_extension": ".py",
   "mimetype": "text/x-python",
   "name": "python",
   "nbconvert_exporter": "python",
   "pygments_lexer": "ipython3",
   "version": "3.7.11"
  }
 },
 "nbformat": 4,
 "nbformat_minor": 5
}
