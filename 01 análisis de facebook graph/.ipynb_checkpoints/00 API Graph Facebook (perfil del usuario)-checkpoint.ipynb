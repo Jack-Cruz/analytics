{
 "cells": [
  {
   "cell_type": "markdown",
   "id": "87e35192",
   "metadata": {},
   "source": [
    "# Caso de uso: Análisis de likes de un usuario"
   ]
  },
  {
   "cell_type": "markdown",
   "id": "ccdea8e7",
   "metadata": {},
   "source": [
    "Se necesita instalar el facebook sdk"
   ]
  },
  {
   "cell_type": "code",
   "execution_count": null,
   "id": "5fb7f86e",
   "metadata": {},
   "outputs": [],
   "source": [
    "!pip3 install facebook-sdk"
   ]
  },
  {
   "cell_type": "markdown",
   "id": "aa6fad21",
   "metadata": {},
   "source": [
    "## API Graph de Facebook\n",
    "\n",
    "La herramienta es extremadamente útil durante el desarrollo de aplicaciones porque hereda todas las configuraciones de su aplicación, incluidos los permisos de inicio de sesión aprobados, las funciones y la configuración de los productos que haya agregado.\n",
    "\n",
    "Puedes probarlo en el siguiente enlace: [API Graph de Facebook](https://developers.facebook.com/tools/explorer/?classic=0)"
   ]
  },
  {
   "cell_type": "code",
   "execution_count": 1,
   "id": "f59f3487",
   "metadata": {},
   "outputs": [],
   "source": [
    "import json\n",
    "import facebook\n",
    "import requests\n",
    "import pandas as pd\n",
    "import numpy as np\n",
    "from mytoken import *"
   ]
  },
  {
   "cell_type": "markdown",
   "id": "4cff50d4",
   "metadata": {},
   "source": [
    "Acceder a facebook graph"
   ]
  },
  {
   "cell_type": "code",
   "execution_count": 2,
   "id": "4c771f0e",
   "metadata": {},
   "outputs": [
    {
     "data": {
      "text/plain": [
       "'EAAD6S2icqxYBAG4d3dZBQbHgyzh9M247p92OtmVvOV1ZBdwsgV4ZAy8DP2qLaNDXpfRucECbwgyZAiJbFLx2jS5eT22qCnSbWW8dMgZANeBKihYdhnQT0sdWdN44sL7xzdOGhF3GwClWK7zuT4PW1wSVuZAlCa2F35a3NZAq921cHZCdQzZCfGsQPfAanvOCyBtOlX0QNpPmDZBM0ZANcTmGOMd'"
      ]
     },
     "execution_count": 2,
     "metadata": {},
     "output_type": "execute_result"
    }
   ],
   "source": [
    "fb_token"
   ]
  },
  {
   "cell_type": "code",
   "execution_count": 3,
   "id": "c4a58d53",
   "metadata": {},
   "outputs": [],
   "source": [
    "graph = facebook.GraphAPI(access_token=fb_token)"
   ]
  },
  {
   "cell_type": "code",
   "execution_count": 4,
   "id": "f29b1d85",
   "metadata": {},
   "outputs": [
    {
     "data": {
      "text/plain": [
       "facebook.GraphAPI"
      ]
     },
     "execution_count": 4,
     "metadata": {},
     "output_type": "execute_result"
    }
   ],
   "source": [
    "type(graph)"
   ]
  },
  {
   "cell_type": "code",
   "execution_count": 5,
   "id": "16616ddb",
   "metadata": {},
   "outputs": [
    {
     "data": {
      "text/plain": [
       "{'email',\n",
       " 'pages_read_engagement',\n",
       " 'pages_show_list',\n",
       " 'public_profile',\n",
       " 'user_age_range',\n",
       " 'user_birthday',\n",
       " 'user_gender',\n",
       " 'user_posts'}"
      ]
     },
     "execution_count": 5,
     "metadata": {},
     "output_type": "execute_result"
    }
   ],
   "source": [
    "graph.get_permissions(me)"
   ]
  },
  {
   "cell_type": "markdown",
   "id": "7cf4c8d3",
   "metadata": {},
   "source": [
    "Acceder al perfil del usuario"
   ]
  },
  {
   "cell_type": "code",
   "execution_count": 6,
   "id": "79d0ee49",
   "metadata": {},
   "outputs": [],
   "source": [
    "perfil = graph.get_object(me, fields='id,\\\n",
    "email,\\\n",
    "first_name,\\\n",
    "last_name,\\\n",
    "name,\\\n",
    "birthday,\\\n",
    "age_range,\\\n",
    "gender')"
   ]
  },
  {
   "cell_type": "code",
   "execution_count": 7,
   "id": "f26a8055",
   "metadata": {},
   "outputs": [
    {
     "data": {
      "text/plain": [
       "dict"
      ]
     },
     "execution_count": 7,
     "metadata": {},
     "output_type": "execute_result"
    }
   ],
   "source": [
    "type(perfil)"
   ]
  },
  {
   "cell_type": "code",
   "execution_count": 8,
   "id": "be4440e3",
   "metadata": {},
   "outputs": [
    {
     "data": {
      "text/plain": [
       "{'id': '3079468219040537',\n",
       " 'email': 'yack20.20@gmail.com',\n",
       " 'first_name': 'Jack',\n",
       " 'last_name': 'Cruz Mamani',\n",
       " 'name': 'Jack Yefri Cruz Mamani',\n",
       " 'birthday': '09/03/2001',\n",
       " 'age_range': {'max': 20, 'min': 18},\n",
       " 'gender': 'male'}"
      ]
     },
     "execution_count": 8,
     "metadata": {},
     "output_type": "execute_result"
    }
   ],
   "source": [
    "perfil"
   ]
  },
  {
   "cell_type": "markdown",
   "id": "3c340e3d",
   "metadata": {},
   "source": [
    "Uso json.dumps para una mejor visualización"
   ]
  },
  {
   "cell_type": "code",
   "execution_count": 9,
   "id": "e20fc9ed",
   "metadata": {},
   "outputs": [
    {
     "name": "stdout",
     "output_type": "stream",
     "text": [
      "{\n",
      "     \"id\": \"3079468219040537\",\n",
      "     \"email\": \"yack20.20@gmail.com\",\n",
      "     \"first_name\": \"Jack\",\n",
      "     \"last_name\": \"Cruz Mamani\",\n",
      "     \"name\": \"Jack Yefri Cruz Mamani\",\n",
      "     \"birthday\": \"09/03/2001\",\n",
      "     \"age_range\": {\n",
      "          \"max\": 20,\n",
      "          \"min\": 18\n",
      "     },\n",
      "     \"gender\": \"male\"\n",
      "}\n"
     ]
    }
   ],
   "source": [
    "print(json.dumps(perfil, indent=5))"
   ]
  },
  {
   "cell_type": "markdown",
   "id": "eda7c173",
   "metadata": {},
   "source": [
    "Convertir a pandas.dataframe"
   ]
  },
  {
   "cell_type": "code",
   "execution_count": 10,
   "id": "9ddae834",
   "metadata": {},
   "outputs": [
    {
     "data": {
      "text/html": [
       "<div>\n",
       "<style scoped>\n",
       "    .dataframe tbody tr th:only-of-type {\n",
       "        vertical-align: middle;\n",
       "    }\n",
       "\n",
       "    .dataframe tbody tr th {\n",
       "        vertical-align: top;\n",
       "    }\n",
       "\n",
       "    .dataframe thead th {\n",
       "        text-align: right;\n",
       "    }\n",
       "</style>\n",
       "<table border=\"1\" class=\"dataframe\">\n",
       "  <thead>\n",
       "    <tr style=\"text-align: right;\">\n",
       "      <th></th>\n",
       "      <th>id</th>\n",
       "      <th>email</th>\n",
       "      <th>first_name</th>\n",
       "      <th>last_name</th>\n",
       "      <th>name</th>\n",
       "      <th>birthday</th>\n",
       "      <th>age_range</th>\n",
       "      <th>gender</th>\n",
       "    </tr>\n",
       "  </thead>\n",
       "  <tbody>\n",
       "    <tr>\n",
       "      <th>max</th>\n",
       "      <td>3079468219040537</td>\n",
       "      <td>yack20.20@gmail.com</td>\n",
       "      <td>Jack</td>\n",
       "      <td>Cruz Mamani</td>\n",
       "      <td>Jack Yefri Cruz Mamani</td>\n",
       "      <td>09/03/2001</td>\n",
       "      <td>20</td>\n",
       "      <td>male</td>\n",
       "    </tr>\n",
       "    <tr>\n",
       "      <th>min</th>\n",
       "      <td>3079468219040537</td>\n",
       "      <td>yack20.20@gmail.com</td>\n",
       "      <td>Jack</td>\n",
       "      <td>Cruz Mamani</td>\n",
       "      <td>Jack Yefri Cruz Mamani</td>\n",
       "      <td>09/03/2001</td>\n",
       "      <td>18</td>\n",
       "      <td>male</td>\n",
       "    </tr>\n",
       "  </tbody>\n",
       "</table>\n",
       "</div>"
      ],
      "text/plain": [
       "                   id                email first_name    last_name  \\\n",
       "max  3079468219040537  yack20.20@gmail.com       Jack  Cruz Mamani   \n",
       "min  3079468219040537  yack20.20@gmail.com       Jack  Cruz Mamani   \n",
       "\n",
       "                       name    birthday  age_range gender  \n",
       "max  Jack Yefri Cruz Mamani  09/03/2001         20   male  \n",
       "min  Jack Yefri Cruz Mamani  09/03/2001         18   male  "
      ]
     },
     "execution_count": 10,
     "metadata": {},
     "output_type": "execute_result"
    }
   ],
   "source": [
    "pd.DataFrame(perfil)"
   ]
  },
  {
   "cell_type": "code",
   "execution_count": 11,
   "id": "12672c47",
   "metadata": {},
   "outputs": [
    {
     "data": {
      "text/html": [
       "<div>\n",
       "<style scoped>\n",
       "    .dataframe tbody tr th:only-of-type {\n",
       "        vertical-align: middle;\n",
       "    }\n",
       "\n",
       "    .dataframe tbody tr th {\n",
       "        vertical-align: top;\n",
       "    }\n",
       "\n",
       "    .dataframe thead th {\n",
       "        text-align: right;\n",
       "    }\n",
       "</style>\n",
       "<table border=\"1\" class=\"dataframe\">\n",
       "  <thead>\n",
       "    <tr style=\"text-align: right;\">\n",
       "      <th></th>\n",
       "      <th>0</th>\n",
       "    </tr>\n",
       "  </thead>\n",
       "  <tbody>\n",
       "    <tr>\n",
       "      <th>id</th>\n",
       "      <td>3079468219040537</td>\n",
       "    </tr>\n",
       "    <tr>\n",
       "      <th>email</th>\n",
       "      <td>yack20.20@gmail.com</td>\n",
       "    </tr>\n",
       "    <tr>\n",
       "      <th>first_name</th>\n",
       "      <td>Jack</td>\n",
       "    </tr>\n",
       "    <tr>\n",
       "      <th>last_name</th>\n",
       "      <td>Cruz Mamani</td>\n",
       "    </tr>\n",
       "    <tr>\n",
       "      <th>name</th>\n",
       "      <td>Jack Yefri Cruz Mamani</td>\n",
       "    </tr>\n",
       "    <tr>\n",
       "      <th>birthday</th>\n",
       "      <td>09/03/2001</td>\n",
       "    </tr>\n",
       "    <tr>\n",
       "      <th>age_range</th>\n",
       "      <td>{'max': 20, 'min': 18}</td>\n",
       "    </tr>\n",
       "    <tr>\n",
       "      <th>gender</th>\n",
       "      <td>male</td>\n",
       "    </tr>\n",
       "  </tbody>\n",
       "</table>\n",
       "</div>"
      ],
      "text/plain": [
       "                                 0\n",
       "id                3079468219040537\n",
       "email          yack20.20@gmail.com\n",
       "first_name                    Jack\n",
       "last_name              Cruz Mamani\n",
       "name        Jack Yefri Cruz Mamani\n",
       "birthday                09/03/2001\n",
       "age_range   {'max': 20, 'min': 18}\n",
       "gender                        male"
      ]
     },
     "execution_count": 11,
     "metadata": {},
     "output_type": "execute_result"
    }
   ],
   "source": [
    "df1 = pd.DataFrame.from_dict(perfil, orient='index')    # df1=perfil\n",
    "df1"
   ]
  },
  {
   "cell_type": "code",
   "execution_count": 12,
   "id": "fd1bb820",
   "metadata": {},
   "outputs": [
    {
     "data": {
      "text/html": [
       "<div>\n",
       "<style scoped>\n",
       "    .dataframe tbody tr th:only-of-type {\n",
       "        vertical-align: middle;\n",
       "    }\n",
       "\n",
       "    .dataframe tbody tr th {\n",
       "        vertical-align: top;\n",
       "    }\n",
       "\n",
       "    .dataframe thead th {\n",
       "        text-align: right;\n",
       "    }\n",
       "</style>\n",
       "<table border=\"1\" class=\"dataframe\">\n",
       "  <thead>\n",
       "    <tr style=\"text-align: right;\">\n",
       "      <th></th>\n",
       "      <th>id</th>\n",
       "      <th>email</th>\n",
       "      <th>first_name</th>\n",
       "      <th>last_name</th>\n",
       "      <th>name</th>\n",
       "      <th>birthday</th>\n",
       "      <th>age_range</th>\n",
       "      <th>gender</th>\n",
       "    </tr>\n",
       "  </thead>\n",
       "  <tbody>\n",
       "    <tr>\n",
       "      <th>0</th>\n",
       "      <td>3079468219040537</td>\n",
       "      <td>yack20.20@gmail.com</td>\n",
       "      <td>Jack</td>\n",
       "      <td>Cruz Mamani</td>\n",
       "      <td>Jack Yefri Cruz Mamani</td>\n",
       "      <td>09/03/2001</td>\n",
       "      <td>{'max': 20, 'min': 18}</td>\n",
       "      <td>male</td>\n",
       "    </tr>\n",
       "  </tbody>\n",
       "</table>\n",
       "</div>"
      ],
      "text/plain": [
       "                 id                email first_name    last_name  \\\n",
       "0  3079468219040537  yack20.20@gmail.com       Jack  Cruz Mamani   \n",
       "\n",
       "                     name    birthday               age_range gender  \n",
       "0  Jack Yefri Cruz Mamani  09/03/2001  {'max': 20, 'min': 18}   male  "
      ]
     },
     "execution_count": 12,
     "metadata": {},
     "output_type": "execute_result"
    }
   ],
   "source": [
    "df1.T"
   ]
  }
 ],
 "metadata": {
  "kernelspec": {
   "display_name": "analytics",
   "language": "python",
   "name": "myenv"
  },
  "language_info": {
   "codemirror_mode": {
    "name": "ipython",
    "version": 3
   },
   "file_extension": ".py",
   "mimetype": "text/x-python",
   "name": "python",
   "nbconvert_exporter": "python",
   "pygments_lexer": "ipython3",
   "version": "3.7.11"
  }
 },
 "nbformat": 4,
 "nbformat_minor": 5
}
