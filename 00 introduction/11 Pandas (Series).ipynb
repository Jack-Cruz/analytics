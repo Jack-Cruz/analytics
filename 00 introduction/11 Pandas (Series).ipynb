{
 "cells": [
  {
   "cell_type": "markdown",
   "id": "c59a2e6c",
   "metadata": {},
   "source": [
    "# 03 - Pandas Data Frame \n",
    "\n",
    "by [Alejandro Correa Bahnsen](albahnsen.com/)\n",
    "\n",
    "version 0.1, Feb 2016\n",
    "\n",
    "## Part of the class [Practical Machine Learning](https://github.com/albahnsen/PracticalMachineLearningClass)\n",
    "\n",
    "\n",
    "\n",
    "This notebook is licensed under a [Creative Commons Attribution-ShareAlike 3.0 Unported License](http://creativecommons.org/licenses/by-sa/3.0/deed.en_US). Special thanks goes to [Donne Martin](http://donnemartin.com) and Wes McKinney's [Python for Data Analysis](http://www.amazon.com/Python-Data-Analysis-Wrangling-IPython/dp/1449319793) book."
   ]
  },
  {
   "cell_type": "code",
   "execution_count": 16,
   "id": "518ad07f",
   "metadata": {
    "scrolled": true
   },
   "outputs": [
    {
     "name": "stdout",
     "output_type": "stream",
     "text": [
      "anyio @ file:///D:/bld/anyio_1637703527080/work/dist\n",
      "argcomplete @ file:///home/conda/feedstock_root/build_artifacts/argcomplete_1619128689661/work\n",
      "argon2-cffi @ file:///D:/bld/argon2-cffi_1636021466039/work\n",
      "async-generator==1.10\n",
      "attrs @ file:///home/conda/feedstock_root/build_artifacts/attrs_1620387926260/work\n",
      "Babel @ file:///home/conda/feedstock_root/build_artifacts/babel_1619719576210/work\n",
      "backcall @ file:///home/conda/feedstock_root/build_artifacts/backcall_1592338393461/work\n",
      "backports.functools-lru-cache @ file:///home/conda/feedstock_root/build_artifacts/backports.functools_lru_cache_1618230623929/work\n",
      "bleach @ file:///home/conda/feedstock_root/build_artifacts/bleach_1629908509068/work\n",
      "brotlipy @ file:///D:/bld/brotlipy_1636012439160/work\n",
      "certifi==2021.10.8\n",
      "cffi @ file:///D:/bld/cffi_1636046306023/work\n",
      "charset-normalizer @ file:///home/conda/feedstock_root/build_artifacts/charset-normalizer_1638815705608/work\n",
      "colorama @ file:///home/conda/feedstock_root/build_artifacts/colorama_1602866480661/work\n",
      "cryptography @ file:///D:/bld/cryptography_1639699494546/work\n",
      "cycler==0.11.0\n",
      "debugpy @ file:///D:/bld/debugpy_1636043475787/work\n",
      "decorator @ file:///home/conda/feedstock_root/build_artifacts/decorator_1631346842025/work\n",
      "defusedxml @ file:///home/conda/feedstock_root/build_artifacts/defusedxml_1615232257335/work\n",
      "entrypoints @ file:///home/conda/feedstock_root/build_artifacts/entrypoints_1605121927639/work/dist/entrypoints-0.3-py2.py3-none-any.whl\n",
      "facebook-sdk==3.1.0\n",
      "fonttools==4.28.5\n",
      "idna @ file:///home/conda/feedstock_root/build_artifacts/idna_1609836280497/work\n",
      "importlib-metadata @ file:///D:/bld/importlib-metadata_1639976321829/work\n",
      "importlib-resources @ file:///home/conda/feedstock_root/build_artifacts/importlib_resources_1635615662634/work\n",
      "imutils==0.5.4\n",
      "ipykernel @ file:///C:/ci/ipykernel_1633527406033/work/dist/ipykernel-6.4.1-py3-none-any.whl\n",
      "ipython @ file:///D:/bld/ipython_1638470576392/work\n",
      "ipython-genutils==0.2.0\n",
      "jedi @ file:///D:/bld/jedi_1637175334802/work\n",
      "Jinja2 @ file:///home/conda/feedstock_root/build_artifacts/jinja2_1636510082894/work\n",
      "joblib==1.1.0\n",
      "json5 @ file:///home/conda/feedstock_root/build_artifacts/json5_1600692310011/work\n",
      "jsonschema @ file:///home/conda/feedstock_root/build_artifacts/jsonschema-meta_1640026479618/work\n",
      "jupyter-client @ file:///home/conda/feedstock_root/build_artifacts/jupyter_client_1637611911738/work\n",
      "jupyter-core @ file:///D:/bld/jupyter_core_1636814429283/work\n",
      "jupyter-server @ file:///home/conda/feedstock_root/build_artifacts/jupyter_server_1639084645710/work\n",
      "jupyterlab @ file:///home/conda/feedstock_root/build_artifacts/jupyterlab_1639150690547/work\n",
      "jupyterlab-pygments @ file:///home/conda/feedstock_root/build_artifacts/jupyterlab_pygments_1601375948261/work\n",
      "jupyterlab-server @ file:///home/conda/feedstock_root/build_artifacts/jupyterlab_server_1639404907821/work\n",
      "kiwisolver==1.3.2\n",
      "MarkupSafe @ file:///D:/bld/markupsafe_1635833748820/work\n",
      "matplotlib==3.5.1\n",
      "matplotlib-inline @ file:///home/conda/feedstock_root/build_artifacts/matplotlib-inline_1631080358261/work\n",
      "mediapipe==0.8.9\n",
      "mistune @ file:///D:/bld/mistune_1635844820103/work\n",
      "nbclassic @ file:///home/conda/feedstock_root/build_artifacts/nbclassic_1635436909771/work\n",
      "nbclient @ file:///home/conda/feedstock_root/build_artifacts/nbclient_1637327213451/work\n",
      "nbconvert @ file:///D:/bld/nbconvert_1636897379101/work\n",
      "nbformat @ file:///home/conda/feedstock_root/build_artifacts/nbformat_1617383142101/work\n",
      "nest-asyncio @ file:///home/conda/feedstock_root/build_artifacts/nest-asyncio_1638419302549/work\n",
      "notebook @ file:///home/conda/feedstock_root/build_artifacts/notebook_1637122013008/work\n",
      "numpy==1.21.5\n",
      "opencv-contrib-python==4.5.4.58\n",
      "packaging @ file:///home/conda/feedstock_root/build_artifacts/packaging_1637239678211/work\n",
      "pandas==1.3.5\n",
      "pandocfilters @ file:///home/conda/feedstock_root/build_artifacts/pandocfilters_1631603243851/work\n",
      "parso @ file:///home/conda/feedstock_root/build_artifacts/parso_1638334955874/work\n",
      "pickleshare @ file:///home/conda/feedstock_root/build_artifacts/pickleshare_1602536217715/work\n",
      "Pillow==8.4.0\n",
      "prometheus-client @ file:///home/conda/feedstock_root/build_artifacts/prometheus_client_1635538335951/work\n",
      "prompt-toolkit @ file:///home/conda/feedstock_root/build_artifacts/prompt-toolkit_1639065841292/work\n",
      "pycparser @ file:///home/conda/feedstock_root/build_artifacts/pycparser_1636257122734/work\n",
      "Pygments @ file:///home/conda/feedstock_root/build_artifacts/pygments_1629119114968/work\n",
      "pyOpenSSL @ file:///home/conda/feedstock_root/build_artifacts/pyopenssl_1633192417276/work\n",
      "pyparsing @ file:///home/conda/feedstock_root/build_artifacts/pyparsing_1636757021002/work\n",
      "pyrsistent @ file:///D:/bld/pyrsistent_1636052800196/work\n",
      "PySocks @ file:///D:/bld/pysocks_1635862618120/work\n",
      "python-dateutil @ file:///home/conda/feedstock_root/build_artifacts/python-dateutil_1626286286081/work\n",
      "pytz @ file:///home/conda/feedstock_root/build_artifacts/pytz_1633452062248/work\n",
      "pywin32==302\n",
      "pywinpty==0.5.7\n",
      "pyzmq @ file:///D:/bld/pyzmq_1635877471210/work\n",
      "requests @ file:///home/conda/feedstock_root/build_artifacts/requests_1637771257551/work\n",
      "scikit-learn==1.0.1\n",
      "scipy==1.7.3\n",
      "seaborn==0.11.2\n",
      "Send2Trash @ file:///home/conda/feedstock_root/build_artifacts/send2trash_1628511208346/work\n",
      "six @ file:///home/conda/feedstock_root/build_artifacts/six_1620240208055/work\n",
      "sniffio @ file:///D:/bld/sniffio_1635844851294/work"
     ]
    }
   ],
   "source": [
    "!pip freeze    # which modules you0ve installed"
   ]
  },
  {
   "cell_type": "code",
   "execution_count": 17,
   "id": "41a3e87f",
   "metadata": {},
   "outputs": [
    {
     "name": "stdout",
     "output_type": "stream",
     "text": [
      "\n",
      "terminado==0.9.4\n",
      "testpath @ file:///home/conda/feedstock_root/build_artifacts/testpath_1621261527237/work\n",
      "threadpoolctl==3.0.0\n",
      "tornado @ file:///D:/bld/tornado_1635819780833/work\n",
      "traitlets @ file:///home/conda/feedstock_root/build_artifacts/traitlets_1635260543454/work\n",
      "typing_extensions @ file:///home/conda/feedstock_root/build_artifacts/typing_extensions_1638334978229/work\n",
      "urllib3 @ file:///home/conda/feedstock_root/build_artifacts/urllib3_1632350318291/work\n",
      "wcwidth @ file:///home/conda/feedstock_root/build_artifacts/wcwidth_1600965781394/work\n",
      "webencodings==0.5.1\n",
      "websocket-client @ file:///home/conda/feedstock_root/build_artifacts/websocket-client_1638949723239/work\n",
      "win-inet-pton @ file:///D:/bld/win_inet_pton_1635832912576/work\n",
      "wincertstore==0.2\n",
      "zipp @ file:///home/conda/feedstock_root/build_artifacts/zipp_1633302054558/work\n",
      "Requirement already satisfied: pandas in c:\\users\\pc\\.conda\\envs\\especializacion_analytics\\lib\\site-packages (1.3.5)\n",
      "Requirement already satisfied: numpy>=1.17.3 in c:\\users\\pc\\.conda\\envs\\especializacion_analytics\\lib\\site-packages (from pandas) (1.21.5)\n",
      "Requirement already satisfied: pytz>=2017.3 in c:\\users\\pc\\.conda\\envs\\especializacion_analytics\\lib\\site-packages (from pandas) (2021.3)\n",
      "Requirement already satisfied: python-dateutil>=2.7.3 in c:\\users\\pc\\.conda\\envs\\especializacion_analytics\\lib\\site-packages (from pandas) (2.8.2)\n",
      "Requirement already satisfied: six>=1.5 in c:\\users\\pc\\.conda\\envs\\especializacion_analytics\\lib\\site-packages (from python-dateutil>=2.7.3->pandas) (1.16.0)\n"
     ]
    },
    {
     "name": "stderr",
     "output_type": "stream",
     "text": [
      "ERROR: You must give at least one requirement to install (see \"pip help install\")\n"
     ]
    }
   ],
   "source": [
    "# Instalar pandas\n",
    "!pip install pandas\n",
    "\n",
    "# actualizar (upgrade)\n",
    "!pip install --upgrade"
   ]
  },
  {
   "cell_type": "code",
   "execution_count": 18,
   "id": "5163b594",
   "metadata": {},
   "outputs": [],
   "source": [
    "import pandas as pd"
   ]
  },
  {
   "cell_type": "code",
   "execution_count": 19,
   "id": "25e61fee",
   "metadata": {},
   "outputs": [
    {
     "data": {
      "text/plain": [
       "'1.3.5'"
      ]
     },
     "execution_count": 19,
     "metadata": {},
     "output_type": "execute_result"
    }
   ],
   "source": [
    "pd.__version__"
   ]
  },
  {
   "cell_type": "code",
   "execution_count": 20,
   "id": "be9d94ef",
   "metadata": {},
   "outputs": [
    {
     "name": "stdout",
     "output_type": "stream",
     "text": [
      "0       1\n",
      "1       1\n",
      "2       2\n",
      "3      -3\n",
      "4      -5\n",
      "5      13\n",
      "6     1.2\n",
      "7    Hola\n",
      "dtype: object\n",
      "\n",
      "<class 'pandas.core.series.Series'>\n",
      "\n",
      "8\n"
     ]
    }
   ],
   "source": [
    "ser1 = pd.Series([1, 1, 2, -3, -5, 13, 1.2, 'Hola'])\n",
    "\n",
    "print(ser1, type(ser1), len(ser1), sep='\\n\\n')"
   ]
  },
  {
   "cell_type": "markdown",
   "id": "f80506ca",
   "metadata": {},
   "source": [
    "## Series\n",
    "\n",
    "A Series is a one-dimensional array-like object containing an array of data and an associated array of data labels.  The data can be any NumPy data type and the labels are the Series' index."
   ]
  },
  {
   "cell_type": "markdown",
   "id": "9587af94",
   "metadata": {},
   "source": [
    "### Create a serie"
   ]
  },
  {
   "cell_type": "code",
   "execution_count": 8,
   "id": "b338ba19",
   "metadata": {},
   "outputs": [
    {
     "name": "stdout",
     "output_type": "stream",
     "text": [
      "0       1\n",
      "1       1\n",
      "2       2\n",
      "3      -3\n",
      "4      -5\n",
      "5      13\n",
      "6     1.2\n",
      "7    Hola\n",
      "dtype: object\n"
     ]
    }
   ],
   "source": [
    "ser1 = pd.Series([1, 1, 2, -3, -5, 13, 1.2, 'Hola'])\n",
    "\n",
    "#ser1.astype(str)\n",
    "print(ser1)"
   ]
  },
  {
   "cell_type": "code",
   "execution_count": 9,
   "id": "e5cbaea9",
   "metadata": {},
   "outputs": [
    {
     "data": {
      "text/plain": [
       "[1, 1, 2, -3, -5, 13, 1.2, 'Hola']"
      ]
     },
     "execution_count": 9,
     "metadata": {},
     "output_type": "execute_result"
    }
   ],
   "source": [
    "list(ser1.values)"
   ]
  },
  {
   "cell_type": "markdown",
   "id": "c6f683f3",
   "metadata": {},
   "source": [
    "Index objects are immutable and hold the axis labels and metadata such as names and axis names."
   ]
  },
  {
   "cell_type": "code",
   "execution_count": 10,
   "id": "865f8644",
   "metadata": {},
   "outputs": [
    {
     "data": {
      "text/plain": [
       "a    1\n",
       "b    1\n",
       "c    2\n",
       "d   -3\n",
       "e    6\n",
       "dtype: int64"
      ]
     },
     "execution_count": 10,
     "metadata": {},
     "output_type": "execute_result"
    }
   ],
   "source": [
    "# Create a serie with a custom index\n",
    "\n",
    "ser2 = pd.Series([1, 1, 2, -3, 6], index=['a', 'b', 'c', 'd', 'e'])\n",
    "ser2"
   ]
  },
  {
   "cell_type": "code",
   "execution_count": 11,
   "id": "e1ff4f8f",
   "metadata": {},
   "outputs": [
    {
     "data": {
      "text/plain": [
       "{'foo': 100, 'bar': 200, 'baz': 300}"
      ]
     },
     "execution_count": 11,
     "metadata": {},
     "output_type": "execute_result"
    }
   ],
   "source": [
    "# A series is like a fixed-length, ordered dict\n",
    "# Create a series by passing in a dict\n",
    "\n",
    "dict1 = {'foo':100, 'bar':200, 'baz':300}\n",
    "dict1"
   ]
  },
  {
   "cell_type": "code",
   "execution_count": 12,
   "id": "fb5272e8",
   "metadata": {},
   "outputs": [
    {
     "data": {
      "text/plain": [
       "foo    100\n",
       "bar    200\n",
       "baz    300\n",
       "dtype: int64"
      ]
     },
     "execution_count": 12,
     "metadata": {},
     "output_type": "execute_result"
    }
   ],
   "source": [
    "ser3 = pd.Series(dict1)\n",
    "ser3"
   ]
  },
  {
   "cell_type": "markdown",
   "id": "08e959b0",
   "metadata": {},
   "source": [
    "### Get index/values of the Series"
   ]
  },
  {
   "cell_type": "markdown",
   "id": "2e7d733b",
   "metadata": {},
   "source": [
    "Get indexes of serie."
   ]
  },
  {
   "cell_type": "code",
   "execution_count": 13,
   "id": "adb5bffd",
   "metadata": {},
   "outputs": [
    {
     "name": "stdout",
     "output_type": "stream",
     "text": [
      "[0, 2, 4, 6]\n"
     ]
    }
   ],
   "source": [
    "indpar = [ indice for indice in list(ser1.index.values) if indice%2 == 0]\n",
    "print(indpar)"
   ]
  },
  {
   "cell_type": "markdown",
   "id": "ffcd1a9e",
   "metadata": {},
   "source": [
    "Get single value from serie."
   ]
  },
  {
   "cell_type": "code",
   "execution_count": 14,
   "id": "e1e0cd92",
   "metadata": {},
   "outputs": [
    {
     "data": {
      "text/plain": [
       "6"
      ]
     },
     "execution_count": 14,
     "metadata": {},
     "output_type": "execute_result"
    }
   ],
   "source": [
    "ser2[4]"
   ]
  },
  {
   "cell_type": "code",
   "execution_count": 15,
   "id": "c62d9f77",
   "metadata": {},
   "outputs": [
    {
     "data": {
      "text/plain": [
       "6"
      ]
     },
     "execution_count": 15,
     "metadata": {},
     "output_type": "execute_result"
    }
   ],
   "source": [
    "ser2['e']"
   ]
  },
  {
   "cell_type": "code",
   "execution_count": 16,
   "id": "705893e8",
   "metadata": {},
   "outputs": [
    {
     "data": {
      "text/plain": [
       "True"
      ]
     },
     "execution_count": 16,
     "metadata": {},
     "output_type": "execute_result"
    }
   ],
   "source": [
    "ser2[4] == ser2['e']"
   ]
  },
  {
   "cell_type": "markdown",
   "id": "2c7b08f7",
   "metadata": {},
   "source": [
    "Get multiple values from series."
   ]
  },
  {
   "cell_type": "code",
   "execution_count": 17,
   "id": "5cc9e176",
   "metadata": {},
   "outputs": [
    {
     "name": "stdout",
     "output_type": "stream",
     "text": [
      "0       1\n",
      "1       1\n",
      "2       2\n",
      "3      -3\n",
      "4      -5\n",
      "5      13\n",
      "6     1.2\n",
      "7    Hola\n",
      "dtype: object\n",
      "[0, 2, 4, 6]\n"
     ]
    }
   ],
   "source": [
    "print(ser1)\n",
    "print(indpar)"
   ]
  },
  {
   "cell_type": "code",
   "execution_count": 18,
   "id": "6116b638",
   "metadata": {},
   "outputs": [
    {
     "data": {
      "text/plain": [
       "0      1\n",
       "2      2\n",
       "4     -5\n",
       "6    1.2\n",
       "dtype: object"
      ]
     },
     "execution_count": 18,
     "metadata": {},
     "output_type": "execute_result"
    }
   ],
   "source": [
    "ser1[indpar]"
   ]
  },
  {
   "cell_type": "markdown",
   "id": "aa9cd723",
   "metadata": {},
   "source": [
    "Get a slice from a Series:"
   ]
  },
  {
   "cell_type": "code",
   "execution_count": 19,
   "id": "0afb96bd",
   "metadata": {},
   "outputs": [
    {
     "data": {
      "text/plain": [
       "1     1\n",
       "2     2\n",
       "3    -3\n",
       "dtype: object"
      ]
     },
     "execution_count": 19,
     "metadata": {},
     "output_type": "execute_result"
    }
   ],
   "source": [
    "ser1[1:4]"
   ]
  },
  {
   "cell_type": "markdown",
   "id": "b330b1c5",
   "metadata": {},
   "source": [
    "Get a slice from a Series with labels (note the end point is inclusive)."
   ]
  },
  {
   "cell_type": "code",
   "execution_count": 20,
   "id": "3d133567",
   "metadata": {},
   "outputs": [
    {
     "data": {
      "text/plain": [
       "a    1\n",
       "b    1\n",
       "c    2\n",
       "dtype: int64"
      ]
     },
     "execution_count": 20,
     "metadata": {},
     "output_type": "execute_result"
    }
   ],
   "source": [
    "ser2['a':'c']"
   ]
  },
  {
   "cell_type": "markdown",
   "id": "4e844c80",
   "metadata": {},
   "source": [
    "<div class=\"alert alert-info\">\n",
    "    <strong>Tip:</strong> Also you can assign values with slicing.\n",
    "</div>"
   ]
  },
  {
   "cell_type": "code",
   "execution_count": 21,
   "id": "06d2c595",
   "metadata": {},
   "outputs": [],
   "source": [
    "ser2['a':'b'] = 0"
   ]
  },
  {
   "cell_type": "markdown",
   "id": "9f74c710",
   "metadata": {},
   "source": [
    "Get a set of specific values from a Series by passiing in a list"
   ]
  },
  {
   "cell_type": "code",
   "execution_count": 22,
   "id": "07744fff",
   "metadata": {},
   "outputs": [
    {
     "data": {
      "text/plain": [
       "c    2\n",
       "a    0\n",
       "b    0\n",
       "dtype: int64"
      ]
     },
     "execution_count": 22,
     "metadata": {},
     "output_type": "execute_result"
    }
   ],
   "source": [
    "ser2[['c', 'a','b']]"
   ]
  },
  {
   "cell_type": "markdown",
   "id": "6fc8063b",
   "metadata": {},
   "source": [
    "¿What happen if the index is not in the Serie's index?"
   ]
  },
  {
   "cell_type": "code",
   "execution_count": 23,
   "id": "9b4e0e2a",
   "metadata": {},
   "outputs": [
    {
     "data": {
      "text/plain": [
       "c    2\n",
       "a    0\n",
       "dtype: int64"
      ]
     },
     "execution_count": 23,
     "metadata": {},
     "output_type": "execute_result"
    }
   ],
   "source": [
    "ser2[ [index for index in ['c', 'a', 'z'] if index in ser2.index.values] ]"
   ]
  },
  {
   "cell_type": "markdown",
   "id": "d1242ec6",
   "metadata": {},
   "source": [
    "Get values based on a filter (greater than 0)"
   ]
  },
  {
   "cell_type": "code",
   "execution_count": 24,
   "id": "81be0c5e",
   "metadata": {},
   "outputs": [
    {
     "data": {
      "text/plain": [
       "a    False\n",
       "b    False\n",
       "c     True\n",
       "d    False\n",
       "e     True\n",
       "dtype: bool"
      ]
     },
     "execution_count": 24,
     "metadata": {},
     "output_type": "execute_result"
    }
   ],
   "source": [
    "ser2 > 0"
   ]
  },
  {
   "cell_type": "code",
   "execution_count": 25,
   "id": "e0def6b6",
   "metadata": {},
   "outputs": [
    {
     "data": {
      "text/plain": [
       "c    2\n",
       "e    6\n",
       "dtype: int64"
      ]
     },
     "execution_count": 25,
     "metadata": {},
     "output_type": "execute_result"
    }
   ],
   "source": [
    "ser2[ser2 > 0]"
   ]
  },
  {
   "cell_type": "markdown",
   "id": "ff31d2ac",
   "metadata": {},
   "source": [
    "### Math operations"
   ]
  },
  {
   "cell_type": "markdown",
   "id": "e56c5eda",
   "metadata": {},
   "source": [
    "if we multyply a list we the list n times."
   ]
  },
  {
   "cell_type": "code",
   "execution_count": 26,
   "id": "a8b2e8bc",
   "metadata": {},
   "outputs": [
    {
     "name": "stdout",
     "output_type": "stream",
     "text": [
      "a: [1, 2, 3, 1, 2, 3, 1, 2, 3]\n",
      "type: <class 'list'>\n"
     ]
    }
   ],
   "source": [
    "a = [1, 2, 3]\n",
    "\n",
    "print('a:', a*3)\n",
    "print('type:', type(a))"
   ]
  },
  {
   "cell_type": "code",
   "execution_count": 27,
   "id": "669dad4a",
   "metadata": {},
   "outputs": [
    {
     "data": {
      "text/plain": [
       "a     0\n",
       "b     0\n",
       "c     4\n",
       "d    -6\n",
       "e    12\n",
       "dtype: int64"
      ]
     },
     "execution_count": 27,
     "metadata": {},
     "output_type": "execute_result"
    }
   ],
   "source": [
    "# Scalar multiply\n",
    "\n",
    "ser2 * 2"
   ]
  },
  {
   "cell_type": "code",
   "execution_count": 28,
   "id": "a50eecb6",
   "metadata": {},
   "outputs": [
    {
     "data": {
      "text/plain": [
       "pandas.core.series.Series"
      ]
     },
     "execution_count": 28,
     "metadata": {},
     "output_type": "execute_result"
    }
   ],
   "source": [
    "type(ser2)    # Structure"
   ]
  },
  {
   "cell_type": "code",
   "execution_count": 29,
   "id": "8248da5b",
   "metadata": {},
   "outputs": [
    {
     "data": {
      "text/plain": [
       "dtype('int64')"
      ]
     },
     "execution_count": 29,
     "metadata": {},
     "output_type": "execute_result"
    }
   ],
   "source": [
    "ser2.dtype    # Values inside"
   ]
  },
  {
   "cell_type": "code",
   "execution_count": 30,
   "id": "83c23849",
   "metadata": {},
   "outputs": [],
   "source": [
    "import numpy as np"
   ]
  },
  {
   "cell_type": "code",
   "execution_count": 31,
   "id": "614144d2",
   "metadata": {},
   "outputs": [
    {
     "data": {
      "text/plain": [
       "a      1.000000\n",
       "b      1.000000\n",
       "c      7.389056\n",
       "d      0.049787\n",
       "e    403.428793\n",
       "dtype: float64"
      ]
     },
     "execution_count": 31,
     "metadata": {},
     "output_type": "execute_result"
    }
   ],
   "source": [
    "# Apply a numpy math function:\n",
    "\n",
    "np.exp(ser2)    #e^x"
   ]
  },
  {
   "cell_type": "markdown",
   "id": "a29cc5a3",
   "metadata": {},
   "source": [
    "<div class=\"alert alert-warning\">\n",
    "    <strong>Warning:</strong> Cuidado con las operaciones con Nan.\n",
    "</div>"
   ]
  },
  {
   "cell_type": "code",
   "execution_count": 32,
   "id": "3024cbda",
   "metadata": {},
   "outputs": [
    {
     "data": {
      "text/plain": [
       "nan"
      ]
     },
     "execution_count": 32,
     "metadata": {},
     "output_type": "execute_result"
    }
   ],
   "source": [
    "20 + np.nan"
   ]
  },
  {
   "cell_type": "code",
   "execution_count": 33,
   "id": "eb51296a",
   "metadata": {},
   "outputs": [
    {
     "data": {
      "text/plain": [
       "foo    100\n",
       "bar    200\n",
       "baz    300\n",
       "dtype: int64"
      ]
     },
     "execution_count": 33,
     "metadata": {},
     "output_type": "execute_result"
    }
   ],
   "source": [
    "ser3"
   ]
  },
  {
   "cell_type": "code",
   "execution_count": 34,
   "id": "b940cfa0",
   "metadata": {},
   "outputs": [
    {
     "data": {
      "text/plain": [
       "bar    100\n",
       "foo     50\n",
       "xyz      1\n",
       "dtype: int64"
      ]
     },
     "execution_count": 34,
     "metadata": {},
     "output_type": "execute_result"
    }
   ],
   "source": [
    "ser4 = pd.Series({'bar':100, 'foo':50, 'xyz':1})\n",
    "ser4"
   ]
  },
  {
   "cell_type": "markdown",
   "id": "6c65c5fe",
   "metadata": {},
   "source": [
    "Adding Series objects results in the union of index pairs if the pairs are not the same, resulting in NaN for indices that do not overlap:"
   ]
  },
  {
   "cell_type": "code",
   "execution_count": 35,
   "id": "030659eb",
   "metadata": {
    "scrolled": true
   },
   "outputs": [
    {
     "data": {
      "text/plain": [
       "bar    300.0\n",
       "baz      NaN\n",
       "foo    150.0\n",
       "xyz      NaN\n",
       "dtype: float64"
      ]
     },
     "execution_count": 35,
     "metadata": {},
     "output_type": "execute_result"
    }
   ],
   "source": [
    "ser3 + ser4"
   ]
  },
  {
   "cell_type": "markdown",
   "id": "8efefa5a",
   "metadata": {},
   "source": [
    "Example with random values"
   ]
  },
  {
   "cell_type": "code",
   "execution_count": 36,
   "id": "50ce4552",
   "metadata": {},
   "outputs": [
    {
     "data": {
      "text/plain": [
       "a    1.764052\n",
       "b    0.400157\n",
       "c    0.978738\n",
       "d    2.240893\n",
       "e    1.867558\n",
       "dtype: float64"
      ]
     },
     "execution_count": 36,
     "metadata": {},
     "output_type": "execute_result"
    }
   ],
   "source": [
    "np.random.seed(0)\n",
    "ser5 = pd.Series( np.random.randn(5),\n",
    "                index=['a','b','c','d','e'])\n",
    "ser5"
   ]
  },
  {
   "cell_type": "code",
   "execution_count": 37,
   "id": "7afe5dae",
   "metadata": {},
   "outputs": [
    {
     "data": {
      "text/plain": [
       "a    1.624345\n",
       "c   -0.611756\n",
       "e   -0.528172\n",
       "f   -1.072969\n",
       "g    0.865408\n",
       "dtype: float64"
      ]
     },
     "execution_count": 37,
     "metadata": {},
     "output_type": "execute_result"
    }
   ],
   "source": [
    "np.random.seed(1)\n",
    "ser6 = pd.Series(np.random.randn(5),\n",
    "                index=['a','c','e','f','g'])\n",
    "ser6"
   ]
  },
  {
   "cell_type": "code",
   "execution_count": 38,
   "id": "554664ce",
   "metadata": {},
   "outputs": [
    {
     "data": {
      "text/plain": [
       "a    3.388398\n",
       "b         NaN\n",
       "c    0.366982\n",
       "d         NaN\n",
       "e    1.339386\n",
       "f         NaN\n",
       "g         NaN\n",
       "dtype: float64"
      ]
     },
     "execution_count": 38,
     "metadata": {},
     "output_type": "execute_result"
    }
   ],
   "source": [
    "ser5 + ser6"
   ]
  },
  {
   "cell_type": "markdown",
   "id": "5ac2e2ea",
   "metadata": {},
   "source": [
    "Set a fill value instead of NaN for indices that do not overlap."
   ]
  },
  {
   "cell_type": "code",
   "execution_count": 39,
   "id": "1419021b",
   "metadata": {},
   "outputs": [
    {
     "data": {
      "text/plain": [
       "a    3.388398\n",
       "b    0.400157\n",
       "c    0.366982\n",
       "d    2.240893\n",
       "e    1.339386\n",
       "f   -1.072969\n",
       "g    0.865408\n",
       "dtype: float64"
      ]
     },
     "execution_count": 39,
     "metadata": {},
     "output_type": "execute_result"
    }
   ],
   "source": [
    "ser5.add(ser6, fill_value=0)"
   ]
  },
  {
   "cell_type": "markdown",
   "id": "fbe16bb2",
   "metadata": {},
   "source": [
    "Extra:"
   ]
  },
  {
   "cell_type": "code",
   "execution_count": 40,
   "id": "668ad121",
   "metadata": {},
   "outputs": [
    {
     "data": {
      "text/plain": [
       "array([0.41919451, 0.6852195 , 0.20445225, 0.87811744, 0.02738759,\n",
       "       0.67046751, 0.4173048 , 0.55868983, 0.14038694])"
      ]
     },
     "execution_count": 40,
     "metadata": {},
     "output_type": "execute_result"
    }
   ],
   "source": [
    "np.random.rand(9)"
   ]
  },
  {
   "cell_type": "code",
   "execution_count": 60,
   "id": "7dfa0962",
   "metadata": {},
   "outputs": [
    {
     "data": {
      "text/plain": [
       "array([-2.3015387 ,  0.56434487, -0.56651023,  0.7299756 ,  0.37299379,\n",
       "        0.53381091, -0.0919733 ,  1.91382039,  0.33079713])"
      ]
     },
     "execution_count": 60,
     "metadata": {},
     "output_type": "execute_result"
    }
   ],
   "source": [
    "np.random.randn(9)"
   ]
  },
  {
   "cell_type": "markdown",
   "id": "0a34a0d6",
   "metadata": {},
   "source": [
    "<div class=\"alert alert-warning\">\n",
    "    <strong>Tip:</strong> The main difference between <code>rand</code> and <code>randn</code> is the first gives values from a uniform distribution from [0, 1>. The second (latter) gives values from standart normal distribution and accepts sigma and mu values. \n",
    "</div>"
   ]
  },
  {
   "cell_type": "markdown",
   "id": "b5dc011a",
   "metadata": {},
   "source": [
    "### Set value(s)/index(es)"
   ]
  },
  {
   "cell_type": "code",
   "execution_count": 42,
   "id": "12b25ed3",
   "metadata": {},
   "outputs": [
    {
     "data": {
      "text/plain": [
       "{'foo': 100, 'bar': 200, 'baz': 300}"
      ]
     },
     "execution_count": 42,
     "metadata": {},
     "output_type": "execute_result"
    }
   ],
   "source": [
    "dict1"
   ]
  },
  {
   "cell_type": "code",
   "execution_count": 43,
   "id": "092e50af",
   "metadata": {},
   "outputs": [
    {
     "data": {
      "text/plain": [
       "foo    100.0\n",
       "bar    200.0\n",
       "baz    300.0\n",
       "xyz      NaN\n",
       "dtype: float64"
      ]
     },
     "execution_count": 43,
     "metadata": {},
     "output_type": "execute_result"
    }
   ],
   "source": [
    "# Re-order a Series by passing in an index (index not found are NaN).\n",
    "\n",
    "index = ['foo', 'bar', 'baz', 'xyz']\n",
    "ser4 = pd.Series(dict1, index=index)\n",
    "ser4"
   ]
  },
  {
   "cell_type": "code",
   "execution_count": 44,
   "id": "42e25d13",
   "metadata": {},
   "outputs": [
    {
     "data": {
      "text/plain": [
       "foo    100.0\n",
       "bar    200.0\n",
       "baz    300.0\n",
       "xyz      NaN\n",
       "dtype: float64"
      ]
     },
     "execution_count": 44,
     "metadata": {},
     "output_type": "execute_result"
    }
   ],
   "source": [
    "# ¿What happen if there is extra item in a dict not contempled in index?\n",
    "# They obey the index list\n",
    "\n",
    "dict2 = {'foo':100, 'bar':200, 'baz':300, 'rop':400}\n",
    "\n",
    "aux = pd.Series(dict2, index=index)\n",
    "aux"
   ]
  },
  {
   "cell_type": "code",
   "execution_count": 45,
   "id": "51f0532b",
   "metadata": {},
   "outputs": [],
   "source": [
    "ser4.name = \"serie's name\"    # Name a Series\n",
    "ser4.index.name = \"label\"     # Name index column"
   ]
  },
  {
   "cell_type": "code",
   "execution_count": 46,
   "id": "e118ee63",
   "metadata": {},
   "outputs": [
    {
     "data": {
      "text/plain": [
       "label\n",
       "foo    100.0\n",
       "bar    200.0\n",
       "baz    300.0\n",
       "xyz      NaN\n",
       "Name: serie's name, dtype: float64"
      ]
     },
     "execution_count": 46,
     "metadata": {},
     "output_type": "execute_result"
    }
   ],
   "source": [
    "ser4"
   ]
  },
  {
   "cell_type": "code",
   "execution_count": 47,
   "id": "5c5c5216",
   "metadata": {},
   "outputs": [
    {
     "data": {
      "text/plain": [
       "label\n",
       "foo    100.0\n",
       "bar    200.0\n",
       "baz    300.0\n",
       "xyz      NaN\n",
       "Name: serie's name, dtype: float64"
      ]
     },
     "execution_count": 47,
     "metadata": {},
     "output_type": "execute_result"
    }
   ],
   "source": [
    "# Rename a Series index in place\n",
    "\n",
    "ser4.label = ['foo', 'br', 'bz', 'qx']\n",
    "ser4"
   ]
  },
  {
   "cell_type": "markdown",
   "id": "87fc312f",
   "metadata": {},
   "source": [
    "Set values with slice notation (numbers & string).\n",
    "Note string index, end point is inclusive."
   ]
  },
  {
   "cell_type": "code",
   "execution_count": 48,
   "id": "9a238b05",
   "metadata": {},
   "outputs": [
    {
     "data": {
      "text/plain": [
       "label\n",
       "foo    100.0\n",
       "bar    200.0\n",
       "baz    300.0\n",
       "xyz      NaN\n",
       "Name: serie's name, dtype: float64"
      ]
     },
     "execution_count": 48,
     "metadata": {},
     "output_type": "execute_result"
    }
   ],
   "source": [
    "ser4"
   ]
  },
  {
   "cell_type": "code",
   "execution_count": 49,
   "id": "afc1b213",
   "metadata": {},
   "outputs": [
    {
     "data": {
      "text/plain": [
       "label\n",
       "foo    1000.0\n",
       "bar    1000.0\n",
       "baz     300.0\n",
       "xyz       NaN\n",
       "Name: serie's name, dtype: float64"
      ]
     },
     "execution_count": 49,
     "metadata": {},
     "output_type": "execute_result"
    }
   ],
   "source": [
    "ser4[0:2] = 1000\n",
    "ser4"
   ]
  },
  {
   "cell_type": "code",
   "execution_count": 50,
   "id": "62257885",
   "metadata": {},
   "outputs": [
    {
     "data": {
      "text/plain": [
       "label\n",
       "foo    2000.0\n",
       "bar    2000.0\n",
       "baz    2000.0\n",
       "xyz       NaN\n",
       "Name: serie's name, dtype: float64"
      ]
     },
     "execution_count": 50,
     "metadata": {},
     "output_type": "execute_result"
    }
   ],
   "source": [
    "ser4['foo':'baz'] = 2000\n",
    "ser4"
   ]
  },
  {
   "cell_type": "markdown",
   "id": "a48cdb6a",
   "metadata": {},
   "source": [
    "### General operations on Series"
   ]
  },
  {
   "cell_type": "markdown",
   "id": "d77d986a",
   "metadata": {},
   "source": [
    "#### NaN (nulo)"
   ]
  },
  {
   "cell_type": "code",
   "execution_count": 51,
   "id": "9e8d7fa9",
   "metadata": {},
   "outputs": [
    {
     "data": {
      "text/plain": [
       "label\n",
       "foo    2000.0\n",
       "bar    2000.0\n",
       "baz    2000.0\n",
       "xyz       NaN\n",
       "Name: serie's name, dtype: float64"
      ]
     },
     "execution_count": 51,
     "metadata": {},
     "output_type": "execute_result"
    }
   ],
   "source": [
    "ser4"
   ]
  },
  {
   "cell_type": "code",
   "execution_count": 52,
   "id": "dc6e56b3",
   "metadata": {},
   "outputs": [
    {
     "data": {
      "text/plain": [
       "label\n",
       "foo    False\n",
       "bar    False\n",
       "baz    False\n",
       "xyz     True\n",
       "Name: serie's name, dtype: bool"
      ]
     },
     "execution_count": 52,
     "metadata": {},
     "output_type": "execute_result"
    }
   ],
   "source": [
    "# Check for NaN\n",
    "\n",
    "pd.isnull(ser4)"
   ]
  },
  {
   "cell_type": "code",
   "execution_count": 53,
   "id": "d797d709",
   "metadata": {},
   "outputs": [
    {
     "data": {
      "text/plain": [
       "label\n",
       "foo     True\n",
       "bar     True\n",
       "baz     True\n",
       "xyz    False\n",
       "Name: serie's name, dtype: bool"
      ]
     },
     "execution_count": 53,
     "metadata": {},
     "output_type": "execute_result"
    }
   ],
   "source": [
    "~ pd.isnull(ser4)"
   ]
  },
  {
   "cell_type": "code",
   "execution_count": 54,
   "id": "bbdd6078",
   "metadata": {},
   "outputs": [
    {
     "data": {
      "text/plain": [
       "label\n",
       "foo    2000.0\n",
       "bar    2000.0\n",
       "baz    2000.0\n",
       "Name: serie's name, dtype: float64"
      ]
     },
     "execution_count": 54,
     "metadata": {},
     "output_type": "execute_result"
    }
   ],
   "source": [
    "# Check for NaN with Pandas method\n",
    "\n",
    "ser4[~pd.isnull(ser4)]"
   ]
  },
  {
   "cell_type": "code",
   "execution_count": 55,
   "id": "e4e865df",
   "metadata": {},
   "outputs": [
    {
     "data": {
      "text/plain": [
       "1"
      ]
     },
     "execution_count": 55,
     "metadata": {},
     "output_type": "execute_result"
    }
   ],
   "source": [
    "# Check for NaN with Numpy method\n",
    "\n",
    "ser4.isnull().sum()"
   ]
  },
  {
   "cell_type": "code",
   "execution_count": 56,
   "id": "7b528406",
   "metadata": {},
   "outputs": [
    {
     "data": {
      "text/plain": [
       "label\n",
       "foo    False\n",
       "bar    False\n",
       "baz    False\n",
       "xyz     True\n",
       "Name: serie's name, dtype: bool"
      ]
     },
     "execution_count": 56,
     "metadata": {},
     "output_type": "execute_result"
    }
   ],
   "source": [
    "ser4.isnull()"
   ]
  },
  {
   "cell_type": "code",
   "execution_count": 57,
   "id": "36d87250",
   "metadata": {},
   "outputs": [
    {
     "data": {
      "text/plain": [
       "0.25"
      ]
     },
     "execution_count": 57,
     "metadata": {},
     "output_type": "execute_result"
    }
   ],
   "source": [
    "# ¿What this result mean?\n",
    "# El 25% del total de data es nulo\n",
    "\n",
    "ser4.isnull().mean()"
   ]
  },
  {
   "cell_type": "markdown",
   "id": "f38bfafd",
   "metadata": {},
   "source": [
    "#### Sorting"
   ]
  },
  {
   "cell_type": "markdown",
   "id": "2895bd7e",
   "metadata": {},
   "source": [
    "Sort a series by its index"
   ]
  },
  {
   "cell_type": "code",
   "execution_count": 63,
   "id": "f3e7bdd4",
   "metadata": {},
   "outputs": [
    {
     "data": {
      "text/plain": [
       "label\n",
       "foo    2000.0\n",
       "bar    2000.0\n",
       "baz    2000.0\n",
       "xyz       NaN\n",
       "Name: serie's name, dtype: float64"
      ]
     },
     "execution_count": 63,
     "metadata": {},
     "output_type": "execute_result"
    }
   ],
   "source": [
    "ser4"
   ]
  },
  {
   "cell_type": "code",
   "execution_count": 65,
   "id": "a04d36e3",
   "metadata": {},
   "outputs": [
    {
     "data": {
      "text/plain": [
       "label\n",
       "xyz       NaN\n",
       "foo    2000.0\n",
       "baz    2000.0\n",
       "bar    2000.0\n",
       "Name: serie's name, dtype: float64"
      ]
     },
     "execution_count": 65,
     "metadata": {},
     "output_type": "execute_result"
    }
   ],
   "source": [
    "ser4.sort_index(ascending=False)"
   ]
  },
  {
   "cell_type": "markdown",
   "id": "c49d439b",
   "metadata": {},
   "source": [
    "Sort a Series by its values:"
   ]
  },
  {
   "cell_type": "code",
   "execution_count": 69,
   "id": "48414cc7",
   "metadata": {},
   "outputs": [
    {
     "data": {
      "text/plain": [
       "label\n",
       "foo    2000.0\n",
       "bar    2000.0\n",
       "baz    2000.0\n",
       "xyz       NaN\n",
       "Name: serie's name, dtype: float64"
      ]
     },
     "execution_count": 69,
     "metadata": {},
     "output_type": "execute_result"
    }
   ],
   "source": [
    "ser4.sort_values(ascending=True)"
   ]
  },
  {
   "cell_type": "markdown",
   "id": "7aa889f4",
   "metadata": {},
   "source": [
    "<div class=\"alert alert-warning\">\n",
    "    <strong>Warning:</strong> When sorting a Series with some NaN values it will be left to the end.\n",
    "</div>"
   ]
  },
  {
   "cell_type": "markdown",
   "id": "5748c9e5",
   "metadata": {},
   "source": [
    "#### Ranking"
   ]
  },
  {
   "cell_type": "markdown",
   "id": "67df4acc",
   "metadata": {},
   "source": [
    "Ranking is similar to numpy.argsort except that ties are broken by assigning each group the mean rank:"
   ]
  },
  {
   "cell_type": "code",
   "execution_count": 8,
   "id": "483fa2b3",
   "metadata": {},
   "outputs": [
    {
     "data": {
      "text/plain": [
       "0    7\n",
       "1   -5\n",
       "2    7\n",
       "3    4\n",
       "4    2\n",
       "5    0\n",
       "6    4\n",
       "7    7\n",
       "dtype: int64"
      ]
     },
     "execution_count": 8,
     "metadata": {},
     "output_type": "execute_result"
    }
   ],
   "source": [
    "ser7 = pd.Series([7, -5, 7, 4, 2, 0, 4, 7])\n",
    "ser7"
   ]
  },
  {
   "cell_type": "code",
   "execution_count": 11,
   "id": "26e31a12",
   "metadata": {},
   "outputs": [
    {
     "data": {
      "text/plain": [
       "1   -5\n",
       "5    0\n",
       "4    2\n",
       "3    4\n",
       "6    4\n",
       "0    7\n",
       "2    7\n",
       "7    7\n",
       "dtype: int64"
      ]
     },
     "execution_count": 11,
     "metadata": {},
     "output_type": "execute_result"
    }
   ],
   "source": [
    "ser7.sort_values()"
   ]
  },
  {
   "cell_type": "code",
   "execution_count": 10,
   "id": "2feaf451",
   "metadata": {},
   "outputs": [
    {
     "data": {
      "text/plain": [
       "1    1.0\n",
       "5    2.0\n",
       "4    3.0\n",
       "3    4.5\n",
       "6    4.5\n",
       "0    7.0\n",
       "2    7.0\n",
       "7    7.0\n",
       "dtype: float64"
      ]
     },
     "execution_count": 10,
     "metadata": {},
     "output_type": "execute_result"
    }
   ],
   "source": [
    "ser7.rank().sort_values()"
   ]
  },
  {
   "cell_type": "markdown",
   "id": "980cd45b",
   "metadata": {},
   "source": [
    "Rank a Series according to when they appear in the data."
   ]
  },
  {
   "cell_type": "code",
   "execution_count": 13,
   "id": "2d619720",
   "metadata": {},
   "outputs": [
    {
     "data": {
      "text/plain": [
       "0    6.0\n",
       "1    1.0\n",
       "2    7.0\n",
       "3    4.0\n",
       "4    3.0\n",
       "5    2.0\n",
       "6    5.0\n",
       "7    8.0\n",
       "dtype: float64"
      ]
     },
     "execution_count": 13,
     "metadata": {},
     "output_type": "execute_result"
    }
   ],
   "source": [
    "ser7.rank(method='first')"
   ]
  },
  {
   "cell_type": "markdown",
   "id": "e8f9d001",
   "metadata": {},
   "source": [
    "Rank a Series in descending order, using the maximum rank for the group."
   ]
  },
  {
   "cell_type": "code",
   "execution_count": 14,
   "id": "af15c187",
   "metadata": {},
   "outputs": [
    {
     "data": {
      "text/plain": [
       "0    3.0\n",
       "1    8.0\n",
       "2    3.0\n",
       "3    5.0\n",
       "4    6.0\n",
       "5    7.0\n",
       "6    5.0\n",
       "7    3.0\n",
       "dtype: float64"
      ]
     },
     "execution_count": 14,
     "metadata": {},
     "output_type": "execute_result"
    }
   ],
   "source": [
    "ser7.rank(ascending=False, method='max')"
   ]
  },
  {
   "cell_type": "markdown",
   "id": "e3f452b5",
   "metadata": {},
   "source": [
    "#### Indexing with Duplicate Values\n",
    "\n",
    "Labels do not have to be unique in Pandas:"
   ]
  },
  {
   "cell_type": "code",
   "execution_count": 24,
   "id": "3b836d83",
   "metadata": {},
   "outputs": [
    {
     "data": {
      "text/plain": [
       "foo    0\n",
       "foo    1\n",
       "bar    2\n",
       "bar    3\n",
       "baz    4\n",
       "dtype: int64"
      ]
     },
     "execution_count": 24,
     "metadata": {},
     "output_type": "execute_result"
    }
   ],
   "source": [
    "ser2 = pd.Series(range(5), index=['foo', 'foo', 'bar', 'bar', 'baz'])\n",
    "ser2"
   ]
  },
  {
   "cell_type": "code",
   "execution_count": 25,
   "id": "6c1a99a6",
   "metadata": {},
   "outputs": [
    {
     "data": {
      "text/plain": [
       "False"
      ]
     },
     "execution_count": 25,
     "metadata": {},
     "output_type": "execute_result"
    }
   ],
   "source": [
    "ser2.index.is_unique"
   ]
  },
  {
   "cell_type": "markdown",
   "id": "9d7865c5",
   "metadata": {},
   "source": [
    "Select Series elements:"
   ]
  },
  {
   "cell_type": "code",
   "execution_count": 26,
   "id": "e71e161e",
   "metadata": {},
   "outputs": [
    {
     "data": {
      "text/plain": [
       "foo    0\n",
       "foo    1\n",
       "dtype: int64"
      ]
     },
     "execution_count": 26,
     "metadata": {},
     "output_type": "execute_result"
    }
   ],
   "source": [
    "ser2['foo']"
   ]
  }
 ],
 "metadata": {
  "kernelspec": {
   "display_name": "analytics",
   "language": "python",
   "name": "myenv"
  },
  "language_info": {
   "codemirror_mode": {
    "name": "ipython",
    "version": 3
   },
   "file_extension": ".py",
   "mimetype": "text/x-python",
   "name": "python",
   "nbconvert_exporter": "python",
   "pygments_lexer": "ipython3",
   "version": "3.7.11"
  }
 },
 "nbformat": 4,
 "nbformat_minor": 5
}
