{
 "cells": [
  {
   "cell_type": "markdown",
   "id": "ee086b0d",
   "metadata": {},
   "source": [
    "### Simple array sum: "
   ]
  },
  {
   "cell_type": "code",
   "execution_count": 18,
   "id": "78370bbe",
   "metadata": {},
   "outputs": [],
   "source": [
    "def simpleArraySum1(arr):\n",
    "    suma = 0\n",
    "    \n",
    "    for elemento in arr:\n",
    "        suma += elemento\n",
    "    \n",
    "    return suma"
   ]
  },
  {
   "cell_type": "code",
   "execution_count": 19,
   "id": "ceadceab",
   "metadata": {},
   "outputs": [],
   "source": [
    "def simpleArraySum2(arr):\n",
    "    return sum(arr)"
   ]
  },
  {
   "cell_type": "code",
   "execution_count": 13,
   "id": "366f2ff9",
   "metadata": {},
   "outputs": [
    {
     "data": {
      "text/plain": [
       "10"
      ]
     },
     "execution_count": 13,
     "metadata": {},
     "output_type": "execute_result"
    }
   ],
   "source": [
    "arreglo = [1, 2, 3, 4]\n",
    "simpleArraySum2(arreglo)"
   ]
  },
  {
   "cell_type": "markdown",
   "id": "e3ffa6c3",
   "metadata": {},
   "source": [
    "### Diagonal sum:"
   ]
  },
  {
   "cell_type": "code",
   "execution_count": 20,
   "id": "f223b50c",
   "metadata": {},
   "outputs": [],
   "source": [
    "def diagonalSum1(matrix):\n",
    "    sprincipal = 0\n",
    "    ssecondary = 0\n",
    "    \n",
    "    for i in range(len(matrix)):\n",
    "        for j in range(len(matrix)):\n",
    "            \n",
    "            if i == j:\n",
    "                sprincipal += matrix[i][j]\n",
    "                ssecondary += matrix[i][-j-1]\n",
    "    \n",
    "    return abs(sprincipal - ssecondary)"
   ]
  },
  {
   "cell_type": "code",
   "execution_count": 34,
   "id": "af0ca87e",
   "metadata": {},
   "outputs": [],
   "source": [
    "def diagonalSum2(matrix):\n",
    "    sprincipal = 0\n",
    "    ssecondary = 0\n",
    "    n = len(matrix)\n",
    "    \n",
    "    for i in range(n):\n",
    "        sprincipal += matrix[i][i]\n",
    "        ssecondary += matrix[i][n-1-i]\n",
    "    \n",
    "    return abs(sprincipal - ssecondary)"
   ]
  },
  {
   "cell_type": "code",
   "execution_count": 47,
   "id": "01d5795e",
   "metadata": {},
   "outputs": [],
   "source": [
    "def diagonalSum3(matrix):\n",
    "    n = len(matrix)\n",
    "    \n",
    "    sprincipal = [matrix[i][i] for i in range(n)]\n",
    "    ssecondary = [matrix[i][n-1-i] for i in range(n)]\n",
    "    \n",
    "    return abs(sum(sprincipal) - sum(ssecondary))"
   ]
  },
  {
   "cell_type": "code",
   "execution_count": 49,
   "id": "1cf49189",
   "metadata": {},
   "outputs": [
    {
     "data": {
      "text/plain": [
       "2"
      ]
     },
     "execution_count": 49,
     "metadata": {},
     "output_type": "execute_result"
    }
   ],
   "source": [
    "matrix = [[1, 2, 3], [4, 5, 6], [9, 8, 9]]\n",
    "diagonalSum3(matrix)"
   ]
  },
  {
   "cell_type": "markdown",
   "id": "22861eab",
   "metadata": {},
   "source": [
    "### Plus Minus:"
   ]
  },
  {
   "cell_type": "code",
   "execution_count": 8,
   "id": "82549aa1",
   "metadata": {},
   "outputs": [],
   "source": [
    "def solve(arr):\n",
    "    positive = 0\n",
    "    negative = 0\n",
    "    neutral = 0\n",
    "    \n",
    "    for e in arr:\n",
    "        if e > 0:\n",
    "            positive += 1\n",
    "        elif e < 0:\n",
    "            negative += 1\n",
    "        else:\n",
    "            neutral += 1\n",
    "    \n",
    "    print(f\"{ positive/len(arr) :.6f}\")\n",
    "    print(f\"{ negative/len(arr) :.6f}\")\n",
    "    print(f\"{ neutral/len(arr) :.6f}\")"
   ]
  },
  {
   "cell_type": "code",
   "execution_count": 9,
   "id": "ad828419",
   "metadata": {},
   "outputs": [
    {
     "name": "stdout",
     "output_type": "stream",
     "text": [
      "0.400000\n",
      "0.400000\n",
      "0.200000\n"
     ]
    }
   ],
   "source": [
    "arr = [1, 1, 0, -1, -1]\n",
    "solve(arr)"
   ]
  },
  {
   "cell_type": "markdown",
   "id": "b75d71fa",
   "metadata": {},
   "source": [
    "### Mini-Max Sum"
   ]
  },
  {
   "cell_type": "code",
   "execution_count": 10,
   "id": "124b499e",
   "metadata": {},
   "outputs": [],
   "source": [
    "def solve(arr):\n",
    "    mini = min(arr)\n",
    "    maxi = max(arr)\n",
    "    suma = sum(arr)\n",
    "    \n",
    "    print(suma-maxi, suma-mini)\n",
    "    "
   ]
  },
  {
   "cell_type": "code",
   "execution_count": 12,
   "id": "341b5e0e",
   "metadata": {},
   "outputs": [
    {
     "name": "stdout",
     "output_type": "stream",
     "text": [
      "16 24\n"
     ]
    }
   ],
   "source": [
    "arr = [1, 3, 5, 7, 9]\n",
    "solve(arr)"
   ]
  },
  {
   "cell_type": "markdown",
   "id": "e5750de0",
   "metadata": {},
   "source": [
    "### Extra Long Factorials"
   ]
  },
  {
   "cell_type": "code",
   "execution_count": 13,
   "id": "334cf32f",
   "metadata": {},
   "outputs": [],
   "source": [
    "def solve(n):\n",
    "    total = 1\n",
    "    for i in range(1, n+1):\n",
    "        total *= i\n",
    "    \n",
    "    return total"
   ]
  },
  {
   "cell_type": "code",
   "execution_count": 14,
   "id": "02188a81",
   "metadata": {},
   "outputs": [
    {
     "data": {
      "text/plain": [
       "265252859812191058636308480000000"
      ]
     },
     "execution_count": 14,
     "metadata": {},
     "output_type": "execute_result"
    }
   ],
   "source": [
    "solve(30)"
   ]
  }
 ],
 "metadata": {
  "kernelspec": {
   "display_name": "analytics",
   "language": "python",
   "name": "myenv"
  },
  "language_info": {
   "codemirror_mode": {
    "name": "ipython",
    "version": 3
   },
   "file_extension": ".py",
   "mimetype": "text/x-python",
   "name": "python",
   "nbconvert_exporter": "python",
   "pygments_lexer": "ipython3",
   "version": "3.7.11"
  }
 },
 "nbformat": 4,
 "nbformat_minor": 5
}
