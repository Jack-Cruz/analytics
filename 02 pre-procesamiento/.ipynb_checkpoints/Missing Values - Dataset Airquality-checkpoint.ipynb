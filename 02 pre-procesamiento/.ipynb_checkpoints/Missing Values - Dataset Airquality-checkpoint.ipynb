{
 "cells": [
  {
   "cell_type": "markdown",
   "id": "cf27c9ec",
   "metadata": {},
   "source": [
    "# AIRQUALITY DATASET"
   ]
  },
  {
   "cell_type": "markdown",
   "id": "786e656a",
   "metadata": {},
   "source": [
    "**Calidad del aire**\n",
    "\n",
    "El dataset presenta 6 columnas y 153 registros, las columnas son:\n",
    "- Ozone: ozono\n",
    "- Solar.R: rayos UV\n",
    "- Wind: viento\n",
    "- Temp: temperatura\n",
    "- Month: mes\n",
    "- Day: día"
   ]
  },
  {
   "cell_type": "markdown",
   "id": "e5b38476",
   "metadata": {},
   "source": [
    "## Análisis descriptivo"
   ]
  },
  {
   "cell_type": "code",
   "execution_count": 106,
   "id": "c1974e1f",
   "metadata": {},
   "outputs": [],
   "source": [
    "import pandas as pd\n",
    "import numpy as np\n",
    "\n",
    "%matplotlib inline"
   ]
  },
  {
   "cell_type": "code",
   "execution_count": 107,
   "id": "d8d54cce",
   "metadata": {},
   "outputs": [],
   "source": [
    "dfair = pd.read_csv('Data/airquality.csv')"
   ]
  },
  {
   "cell_type": "code",
   "execution_count": 108,
   "id": "4cf6ee1f",
   "metadata": {},
   "outputs": [
    {
     "name": "stdout",
     "output_type": "stream",
     "text": [
      "<class 'pandas.core.frame.DataFrame'>\n",
      "RangeIndex: 153 entries, 0 to 152\n",
      "Data columns (total 6 columns):\n",
      " #   Column   Non-Null Count  Dtype  \n",
      "---  ------   --------------  -----  \n",
      " 0   Ozone    116 non-null    float64\n",
      " 1   Solar.R  146 non-null    float64\n",
      " 2   Wind     153 non-null    float64\n",
      " 3   Temp     153 non-null    int64  \n",
      " 4   Month    153 non-null    int64  \n",
      " 5   Day      153 non-null    int64  \n",
      "dtypes: float64(3), int64(3)\n",
      "memory usage: 7.3 KB\n"
     ]
    }
   ],
   "source": [
    "dfair.info()"
   ]
  },
  {
   "cell_type": "code",
   "execution_count": 109,
   "id": "21218d66",
   "metadata": {},
   "outputs": [
    {
     "data": {
      "text/html": [
       "<div>\n",
       "<style scoped>\n",
       "    .dataframe tbody tr th:only-of-type {\n",
       "        vertical-align: middle;\n",
       "    }\n",
       "\n",
       "    .dataframe tbody tr th {\n",
       "        vertical-align: top;\n",
       "    }\n",
       "\n",
       "    .dataframe thead th {\n",
       "        text-align: right;\n",
       "    }\n",
       "</style>\n",
       "<table border=\"1\" class=\"dataframe\">\n",
       "  <thead>\n",
       "    <tr style=\"text-align: right;\">\n",
       "      <th></th>\n",
       "      <th>Ozone</th>\n",
       "      <th>Solar.R</th>\n",
       "      <th>Wind</th>\n",
       "      <th>Temp</th>\n",
       "      <th>Month</th>\n",
       "      <th>Day</th>\n",
       "    </tr>\n",
       "  </thead>\n",
       "  <tbody>\n",
       "    <tr>\n",
       "      <th>0</th>\n",
       "      <td>41.0</td>\n",
       "      <td>190.0</td>\n",
       "      <td>7.4</td>\n",
       "      <td>67</td>\n",
       "      <td>5</td>\n",
       "      <td>1</td>\n",
       "    </tr>\n",
       "    <tr>\n",
       "      <th>1</th>\n",
       "      <td>36.0</td>\n",
       "      <td>118.0</td>\n",
       "      <td>8.0</td>\n",
       "      <td>72</td>\n",
       "      <td>5</td>\n",
       "      <td>2</td>\n",
       "    </tr>\n",
       "    <tr>\n",
       "      <th>2</th>\n",
       "      <td>12.0</td>\n",
       "      <td>149.0</td>\n",
       "      <td>12.6</td>\n",
       "      <td>74</td>\n",
       "      <td>5</td>\n",
       "      <td>3</td>\n",
       "    </tr>\n",
       "    <tr>\n",
       "      <th>3</th>\n",
       "      <td>18.0</td>\n",
       "      <td>313.0</td>\n",
       "      <td>11.5</td>\n",
       "      <td>62</td>\n",
       "      <td>5</td>\n",
       "      <td>4</td>\n",
       "    </tr>\n",
       "    <tr>\n",
       "      <th>4</th>\n",
       "      <td>NaN</td>\n",
       "      <td>NaN</td>\n",
       "      <td>14.3</td>\n",
       "      <td>56</td>\n",
       "      <td>5</td>\n",
       "      <td>5</td>\n",
       "    </tr>\n",
       "  </tbody>\n",
       "</table>\n",
       "</div>"
      ],
      "text/plain": [
       "   Ozone  Solar.R  Wind  Temp  Month  Day\n",
       "0   41.0    190.0   7.4    67      5    1\n",
       "1   36.0    118.0   8.0    72      5    2\n",
       "2   12.0    149.0  12.6    74      5    3\n",
       "3   18.0    313.0  11.5    62      5    4\n",
       "4    NaN      NaN  14.3    56      5    5"
      ]
     },
     "execution_count": 109,
     "metadata": {},
     "output_type": "execute_result"
    }
   ],
   "source": [
    "dfair.head()"
   ]
  },
  {
   "cell_type": "code",
   "execution_count": 110,
   "id": "91322c7f",
   "metadata": {},
   "outputs": [
    {
     "data": {
      "text/plain": [
       "Ozone      37\n",
       "Solar.R     7\n",
       "Wind        0\n",
       "Temp        0\n",
       "Month       0\n",
       "Day         0\n",
       "dtype: int64"
      ]
     },
     "execution_count": 110,
     "metadata": {},
     "output_type": "execute_result"
    }
   ],
   "source": [
    "dfair.isnull().sum()"
   ]
  },
  {
   "cell_type": "code",
   "execution_count": 111,
   "id": "646a0435",
   "metadata": {},
   "outputs": [
    {
     "data": {
      "text/plain": [
       "Ozone      24.183007\n",
       "Solar.R     4.575163\n",
       "Wind        0.000000\n",
       "Temp        0.000000\n",
       "Month       0.000000\n",
       "Day         0.000000\n",
       "dtype: float64"
      ]
     },
     "execution_count": 111,
     "metadata": {},
     "output_type": "execute_result"
    }
   ],
   "source": [
    "dfair.isnull().mean()*100"
   ]
  },
  {
   "cell_type": "code",
   "execution_count": 112,
   "id": "6ec619c2",
   "metadata": {},
   "outputs": [
    {
     "data": {
      "text/html": [
       "<div>\n",
       "<style scoped>\n",
       "    .dataframe tbody tr th:only-of-type {\n",
       "        vertical-align: middle;\n",
       "    }\n",
       "\n",
       "    .dataframe tbody tr th {\n",
       "        vertical-align: top;\n",
       "    }\n",
       "\n",
       "    .dataframe thead th {\n",
       "        text-align: right;\n",
       "    }\n",
       "</style>\n",
       "<table border=\"1\" class=\"dataframe\">\n",
       "  <thead>\n",
       "    <tr style=\"text-align: right;\">\n",
       "      <th></th>\n",
       "      <th>Ozone</th>\n",
       "      <th>Solar.R</th>\n",
       "      <th>Wind</th>\n",
       "      <th>Temp</th>\n",
       "      <th>Month</th>\n",
       "      <th>Day</th>\n",
       "    </tr>\n",
       "  </thead>\n",
       "  <tbody>\n",
       "    <tr>\n",
       "      <th>count</th>\n",
       "      <td>116.000000</td>\n",
       "      <td>146.000000</td>\n",
       "      <td>153.000000</td>\n",
       "      <td>153.000000</td>\n",
       "      <td>153.000000</td>\n",
       "      <td>153.000000</td>\n",
       "    </tr>\n",
       "    <tr>\n",
       "      <th>mean</th>\n",
       "      <td>42.129310</td>\n",
       "      <td>185.931507</td>\n",
       "      <td>9.957516</td>\n",
       "      <td>77.882353</td>\n",
       "      <td>6.993464</td>\n",
       "      <td>15.803922</td>\n",
       "    </tr>\n",
       "    <tr>\n",
       "      <th>std</th>\n",
       "      <td>32.987885</td>\n",
       "      <td>90.058422</td>\n",
       "      <td>3.523001</td>\n",
       "      <td>9.465270</td>\n",
       "      <td>1.416522</td>\n",
       "      <td>8.864520</td>\n",
       "    </tr>\n",
       "    <tr>\n",
       "      <th>min</th>\n",
       "      <td>1.000000</td>\n",
       "      <td>7.000000</td>\n",
       "      <td>1.700000</td>\n",
       "      <td>56.000000</td>\n",
       "      <td>5.000000</td>\n",
       "      <td>1.000000</td>\n",
       "    </tr>\n",
       "    <tr>\n",
       "      <th>25%</th>\n",
       "      <td>18.000000</td>\n",
       "      <td>115.750000</td>\n",
       "      <td>7.400000</td>\n",
       "      <td>72.000000</td>\n",
       "      <td>6.000000</td>\n",
       "      <td>8.000000</td>\n",
       "    </tr>\n",
       "    <tr>\n",
       "      <th>50%</th>\n",
       "      <td>31.500000</td>\n",
       "      <td>205.000000</td>\n",
       "      <td>9.700000</td>\n",
       "      <td>79.000000</td>\n",
       "      <td>7.000000</td>\n",
       "      <td>16.000000</td>\n",
       "    </tr>\n",
       "    <tr>\n",
       "      <th>75%</th>\n",
       "      <td>63.250000</td>\n",
       "      <td>258.750000</td>\n",
       "      <td>11.500000</td>\n",
       "      <td>85.000000</td>\n",
       "      <td>8.000000</td>\n",
       "      <td>23.000000</td>\n",
       "    </tr>\n",
       "    <tr>\n",
       "      <th>max</th>\n",
       "      <td>168.000000</td>\n",
       "      <td>334.000000</td>\n",
       "      <td>20.700000</td>\n",
       "      <td>97.000000</td>\n",
       "      <td>9.000000</td>\n",
       "      <td>31.000000</td>\n",
       "    </tr>\n",
       "  </tbody>\n",
       "</table>\n",
       "</div>"
      ],
      "text/plain": [
       "            Ozone     Solar.R        Wind        Temp       Month         Day\n",
       "count  116.000000  146.000000  153.000000  153.000000  153.000000  153.000000\n",
       "mean    42.129310  185.931507    9.957516   77.882353    6.993464   15.803922\n",
       "std     32.987885   90.058422    3.523001    9.465270    1.416522    8.864520\n",
       "min      1.000000    7.000000    1.700000   56.000000    5.000000    1.000000\n",
       "25%     18.000000  115.750000    7.400000   72.000000    6.000000    8.000000\n",
       "50%     31.500000  205.000000    9.700000   79.000000    7.000000   16.000000\n",
       "75%     63.250000  258.750000   11.500000   85.000000    8.000000   23.000000\n",
       "max    168.000000  334.000000   20.700000   97.000000    9.000000   31.000000"
      ]
     },
     "execution_count": 112,
     "metadata": {},
     "output_type": "execute_result"
    }
   ],
   "source": [
    "dfair.describe()"
   ]
  },
  {
   "cell_type": "markdown",
   "id": "b9ace913",
   "metadata": {},
   "source": [
    "## Resumen inspección inicial\n",
    "\n",
    "El muestra el dataset de la calidad del aire desde el 1 de mayo hasta el 30 de septiembre del año 1976. Presenta 6 columnas y 153 registros, las columnas son:\n",
    "\n",
    "- Ozone: Ozono (decimal, desde 1 hasta 63)\n",
    "- Solar.R: Rayos UV (decimal, desde 7 hasta 334)\n",
    "- Wind: viento (decimal, desde 1.7 hasta 20.7)\n",
    "- Temp: temperatura (entero, desde 56 hasta 97)\n",
    "- Month: mes (entero, desde 5 hasta el 9)\n",
    "- Day: día (entero, desde 1 hasta el 31)\n",
    "\n",
    "Presenta datos nulos en 2 columnas:\n",
    "\n",
    "- Ozone: 37 (24%)\n",
    "- Solar.R: 7 (4%)"
   ]
  },
  {
   "cell_type": "markdown",
   "id": "0a7e3624",
   "metadata": {},
   "source": [
    "## Convertir el indice a fecha"
   ]
  },
  {
   "cell_type": "markdown",
   "id": "0591ac2d",
   "metadata": {},
   "source": [
    "Juntar el 'Year', 'Month', 'Day'."
   ]
  },
  {
   "cell_type": "code",
   "execution_count": 113,
   "id": "51954e32",
   "metadata": {},
   "outputs": [],
   "source": [
    "dfair['Year'] = '1976'\n",
    "\n",
    "dfair['Date'] = dfair['Year'] + '-' + dfair['Month'].astype(str) \\\n",
    "+ '-' + dfair['Day'].astype(str)\n",
    "\n",
    "#PEP8: 72 caracteres máximo vscode"
   ]
  },
  {
   "cell_type": "markdown",
   "id": "9effed18",
   "metadata": {},
   "source": [
    "Convertirlo a formato datetime y establecer el index"
   ]
  },
  {
   "cell_type": "code",
   "execution_count": 114,
   "id": "e8627968",
   "metadata": {},
   "outputs": [],
   "source": [
    "dfair['Date'] = pd.to_datetime(dfair['Date'], yearfirst=True)\n",
    "dfair.index = dfair['Date']"
   ]
  },
  {
   "cell_type": "code",
   "execution_count": 115,
   "id": "1490bd79",
   "metadata": {},
   "outputs": [
    {
     "name": "stdout",
     "output_type": "stream",
     "text": [
      "<class 'pandas.core.frame.DataFrame'>\n",
      "DatetimeIndex: 153 entries, 1976-05-01 to 1976-09-30\n",
      "Data columns (total 8 columns):\n",
      " #   Column   Non-Null Count  Dtype         \n",
      "---  ------   --------------  -----         \n",
      " 0   Ozone    116 non-null    float64       \n",
      " 1   Solar.R  146 non-null    float64       \n",
      " 2   Wind     153 non-null    float64       \n",
      " 3   Temp     153 non-null    int64         \n",
      " 4   Month    153 non-null    int64         \n",
      " 5   Day      153 non-null    int64         \n",
      " 6   Year     153 non-null    object        \n",
      " 7   Date     153 non-null    datetime64[ns]\n",
      "dtypes: datetime64[ns](1), float64(3), int64(3), object(1)\n",
      "memory usage: 10.8+ KB\n"
     ]
    }
   ],
   "source": [
    "dfair.info()"
   ]
  },
  {
   "cell_type": "markdown",
   "id": "33d937dc",
   "metadata": {},
   "source": [
    "Eliminar campos 'Year', 'Date', 'Month' y 'Day'."
   ]
  },
  {
   "cell_type": "code",
   "execution_count": 116,
   "id": "d7ed2483",
   "metadata": {},
   "outputs": [],
   "source": [
    "del dfair['Year']\n",
    "del dfair['Date']\n",
    "\n",
    "dfair.drop(['Month', 'Day'], axis=1, inplace=True)"
   ]
  },
  {
   "cell_type": "markdown",
   "id": "6048d7bb",
   "metadata": {},
   "source": [
    "## Agregar variable 'num_no_nulos'"
   ]
  },
  {
   "cell_type": "code",
   "execution_count": 117,
   "id": "ab3c74a6",
   "metadata": {},
   "outputs": [],
   "source": [
    "num_colums = len(dfair.columns)\n",
    "dfair['num_no_nulos'] = num_colums - dfair.isnull().sum(axis=1)"
   ]
  },
  {
   "cell_type": "code",
   "execution_count": 118,
   "id": "367265b2",
   "metadata": {},
   "outputs": [
    {
     "data": {
      "text/plain": [
       "2"
      ]
     },
     "execution_count": 118,
     "metadata": {},
     "output_type": "execute_result"
    }
   ],
   "source": [
    "dfair['num_no_nulos'].min()"
   ]
  },
  {
   "cell_type": "code",
   "execution_count": 119,
   "id": "5da24fa3",
   "metadata": {},
   "outputs": [],
   "source": [
    "del dfair['num_no_nulos']"
   ]
  },
  {
   "cell_type": "markdown",
   "id": "c1bd2b67",
   "metadata": {},
   "source": [
    "## Explorar el dataset con visualización (missingno)"
   ]
  },
  {
   "cell_type": "code",
   "execution_count": 120,
   "id": "d101f98a",
   "metadata": {},
   "outputs": [],
   "source": [
    "# !pip install missingno\n",
    "# !python -m pip install missingno"
   ]
  },
  {
   "cell_type": "code",
   "execution_count": 121,
   "id": "13b1c258",
   "metadata": {},
   "outputs": [],
   "source": [
    "import missingno as msno"
   ]
  },
  {
   "cell_type": "code",
   "execution_count": 122,
   "id": "3f8c4e52",
   "metadata": {},
   "outputs": [
    {
     "data": {
      "text/plain": [
       "<AxesSubplot:>"
      ]
     },
     "execution_count": 122,
     "metadata": {},
     "output_type": "execute_result"
    },
    {
     "data": {
      "image/png": "[encoded data removed]",
      "text/plain": [
       "<Figure size 1800x720 with 3 Axes>"
      ]
     },
     "metadata": {
      "needs_background": "light"
     },
     "output_type": "display_data"
    }
   ],
   "source": [
    "msno.bar(dfair)"
   ]
  },
  {
   "cell_type": "markdown",
   "id": "443f1161",
   "metadata": {},
   "source": [
    "Los registros impresos segùn el dataset"
   ]
  },
  {
   "cell_type": "code",
   "execution_count": 123,
   "id": "04ecfd58",
   "metadata": {},
   "outputs": [
    {
     "data": {
      "text/plain": [
       "<AxesSubplot:>"
      ]
     },
     "execution_count": 123,
     "metadata": {},
     "output_type": "execute_result"
    },
    {
     "data": {
      "image/png": "[encoded data removed]",
      "text/plain": [
       "<Figure size 360x360 with 2 Axes>"
      ]
     },
     "metadata": {
      "needs_background": "light"
     },
     "output_type": "display_data"
    }
   ],
   "source": [
    "msno.matrix(dfair, figsize=(5,5))"
   ]
  },
  {
   "cell_type": "code",
   "execution_count": 124,
   "id": "eebf1b29",
   "metadata": {},
   "outputs": [
    {
     "data": {
      "text/html": [
       "<div>\n",
       "<style scoped>\n",
       "    .dataframe tbody tr th:only-of-type {\n",
       "        vertical-align: middle;\n",
       "    }\n",
       "\n",
       "    .dataframe tbody tr th {\n",
       "        vertical-align: top;\n",
       "    }\n",
       "\n",
       "    .dataframe thead th {\n",
       "        text-align: right;\n",
       "    }\n",
       "</style>\n",
       "<table border=\"1\" class=\"dataframe\">\n",
       "  <thead>\n",
       "    <tr style=\"text-align: right;\">\n",
       "      <th></th>\n",
       "      <th>Ozone</th>\n",
       "      <th>Solar.R</th>\n",
       "      <th>Wind</th>\n",
       "      <th>Temp</th>\n",
       "    </tr>\n",
       "    <tr>\n",
       "      <th>Date</th>\n",
       "      <th></th>\n",
       "      <th></th>\n",
       "      <th></th>\n",
       "      <th></th>\n",
       "    </tr>\n",
       "  </thead>\n",
       "  <tbody>\n",
       "    <tr>\n",
       "      <th>1976-05-21</th>\n",
       "      <td>1.0</td>\n",
       "      <td>8.0</td>\n",
       "      <td>9.7</td>\n",
       "      <td>59</td>\n",
       "    </tr>\n",
       "    <tr>\n",
       "      <th>1976-05-23</th>\n",
       "      <td>4.0</td>\n",
       "      <td>25.0</td>\n",
       "      <td>9.7</td>\n",
       "      <td>61</td>\n",
       "    </tr>\n",
       "    <tr>\n",
       "      <th>1976-05-18</th>\n",
       "      <td>6.0</td>\n",
       "      <td>78.0</td>\n",
       "      <td>18.4</td>\n",
       "      <td>57</td>\n",
       "    </tr>\n",
       "    <tr>\n",
       "      <th>1976-09-24</th>\n",
       "      <td>7.0</td>\n",
       "      <td>49.0</td>\n",
       "      <td>10.3</td>\n",
       "      <td>69</td>\n",
       "    </tr>\n",
       "    <tr>\n",
       "      <th>1976-07-15</th>\n",
       "      <td>7.0</td>\n",
       "      <td>48.0</td>\n",
       "      <td>14.3</td>\n",
       "      <td>80</td>\n",
       "    </tr>\n",
       "    <tr>\n",
       "      <th>...</th>\n",
       "      <td>...</td>\n",
       "      <td>...</td>\n",
       "      <td>...</td>\n",
       "      <td>...</td>\n",
       "    </tr>\n",
       "    <tr>\n",
       "      <th>1976-08-11</th>\n",
       "      <td>NaN</td>\n",
       "      <td>137.0</td>\n",
       "      <td>11.5</td>\n",
       "      <td>86</td>\n",
       "    </tr>\n",
       "    <tr>\n",
       "      <th>1976-08-15</th>\n",
       "      <td>NaN</td>\n",
       "      <td>64.0</td>\n",
       "      <td>11.5</td>\n",
       "      <td>79</td>\n",
       "    </tr>\n",
       "    <tr>\n",
       "      <th>1976-08-23</th>\n",
       "      <td>NaN</td>\n",
       "      <td>255.0</td>\n",
       "      <td>12.6</td>\n",
       "      <td>75</td>\n",
       "    </tr>\n",
       "    <tr>\n",
       "      <th>1976-08-27</th>\n",
       "      <td>NaN</td>\n",
       "      <td>153.0</td>\n",
       "      <td>5.7</td>\n",
       "      <td>88</td>\n",
       "    </tr>\n",
       "    <tr>\n",
       "      <th>1976-09-27</th>\n",
       "      <td>NaN</td>\n",
       "      <td>145.0</td>\n",
       "      <td>13.2</td>\n",
       "      <td>77</td>\n",
       "    </tr>\n",
       "  </tbody>\n",
       "</table>\n",
       "<p>153 rows × 4 columns</p>\n",
       "</div>"
      ],
      "text/plain": [
       "            Ozone  Solar.R  Wind  Temp\n",
       "Date                                  \n",
       "1976-05-21    1.0      8.0   9.7    59\n",
       "1976-05-23    4.0     25.0   9.7    61\n",
       "1976-05-18    6.0     78.0  18.4    57\n",
       "1976-09-24    7.0     49.0  10.3    69\n",
       "1976-07-15    7.0     48.0  14.3    80\n",
       "...           ...      ...   ...   ...\n",
       "1976-08-11    NaN    137.0  11.5    86\n",
       "1976-08-15    NaN     64.0  11.5    79\n",
       "1976-08-23    NaN    255.0  12.6    75\n",
       "1976-08-27    NaN    153.0   5.7    88\n",
       "1976-09-27    NaN    145.0  13.2    77\n",
       "\n",
       "[153 rows x 4 columns]"
      ]
     },
     "execution_count": 124,
     "metadata": {},
     "output_type": "execute_result"
    }
   ],
   "source": [
    "dfair.sort_values(by='Ozone')"
   ]
  },
  {
   "cell_type": "code",
   "execution_count": 125,
   "id": "7c820544",
   "metadata": {},
   "outputs": [
    {
     "data": {
      "text/plain": [
       "<AxesSubplot:>"
      ]
     },
     "execution_count": 125,
     "metadata": {},
     "output_type": "execute_result"
    },
    {
     "data": {
      "image/png": "[encoded data removed]",
      "text/plain": [
       "<Figure size 360x360 with 2 Axes>"
      ]
     },
     "metadata": {
      "needs_background": "light"
     },
     "output_type": "display_data"
    }
   ],
   "source": [
    "dfaux = dfair.sort_values(by='Ozone')\n",
    "# dfaux = dfair.sort_values(by='Solar.R')\n",
    "\n",
    "msno.matrix(dfaux, figsize=(5,5))"
   ]
  },
  {
   "cell_type": "code",
   "execution_count": 126,
   "id": "38e9d440",
   "metadata": {},
   "outputs": [
    {
     "data": {
      "text/plain": [
       "<AxesSubplot:>"
      ]
     },
     "execution_count": 126,
     "metadata": {},
     "output_type": "execute_result"
    },
    {
     "data": {
      "image/png": "[encoded data removed]",
      "text/plain": [
       "<Figure size 1800x720 with 2 Axes>"
      ]
     },
     "metadata": {
      "needs_background": "light"
     },
     "output_type": "display_data"
    }
   ],
   "source": [
    "msno.matrix(dfair, freq='M')"
   ]
  },
  {
   "cell_type": "markdown",
   "id": "ade3017e",
   "metadata": {},
   "source": [
    "¿Qué inputación podemos aplicar?\n",
    "- Una regresión porque los valores pueden variar por la estacionalidad.\n",
    "- Imputación de promedio por estacionalidad\n",
    "- Buscar en google (Base de datos abiertos)\n",
    "\n",
    "Estacionalidad: Los datos varía de acuerdo a cada estación (mensual), temporadas de mayor demanda."
   ]
  },
  {
   "cell_type": "code",
   "execution_count": 127,
   "id": "ea67dbf8",
   "metadata": {},
   "outputs": [
    {
     "data": {
      "text/plain": [
       "<AxesSubplot:>"
      ]
     },
     "execution_count": 127,
     "metadata": {},
     "output_type": "execute_result"
    },
    {
     "data": {
      "image/png": "[encoded data removed]",
      "text/plain": [
       "<Figure size 1800x720 with 2 Axes>"
      ]
     },
     "metadata": {
      "needs_background": "light"
     },
     "output_type": "display_data"
    }
   ],
   "source": [
    "msno.matrix(dfair.loc['1976':'07-1976'], freq='M')"
   ]
  },
  {
   "cell_type": "markdown",
   "id": "b0e9736c",
   "metadata": {},
   "source": [
    "## Inputación de Ozono según estacionalidad"
   ]
  },
  {
   "cell_type": "code",
   "execution_count": 128,
   "id": "b0389a20",
   "metadata": {},
   "outputs": [
    {
     "data": {
      "text/plain": [
       "42.12931034482759"
      ]
     },
     "execution_count": 128,
     "metadata": {},
     "output_type": "execute_result"
    }
   ],
   "source": [
    "dfair['Ozone'].mean()"
   ]
  },
  {
   "cell_type": "markdown",
   "id": "64f2967f",
   "metadata": {},
   "source": [
    "Agregar una columna con el promedio de Ozone por temporada (mes)"
   ]
  },
  {
   "cell_type": "code",
   "execution_count": 129,
   "id": "31f1a376",
   "metadata": {},
   "outputs": [],
   "source": [
    "dfair_tmp = dfair.reset_index(drop=False)"
   ]
  },
  {
   "cell_type": "code",
   "execution_count": 130,
   "id": "e3b25d91",
   "metadata": {},
   "outputs": [],
   "source": [
    "dfair_tmp['month'] = dfair_tmp['Date'].dt.month"
   ]
  },
  {
   "cell_type": "code",
   "execution_count": 131,
   "id": "926ed5d0",
   "metadata": {},
   "outputs": [
    {
     "data": {
      "text/html": [
       "<div>\n",
       "<style scoped>\n",
       "    .dataframe tbody tr th:only-of-type {\n",
       "        vertical-align: middle;\n",
       "    }\n",
       "\n",
       "    .dataframe tbody tr th {\n",
       "        vertical-align: top;\n",
       "    }\n",
       "\n",
       "    .dataframe thead th {\n",
       "        text-align: right;\n",
       "    }\n",
       "</style>\n",
       "<table border=\"1\" class=\"dataframe\">\n",
       "  <thead>\n",
       "    <tr style=\"text-align: right;\">\n",
       "      <th></th>\n",
       "      <th>Date</th>\n",
       "      <th>Ozone</th>\n",
       "      <th>Solar.R</th>\n",
       "      <th>Wind</th>\n",
       "      <th>Temp</th>\n",
       "      <th>month</th>\n",
       "    </tr>\n",
       "  </thead>\n",
       "  <tbody>\n",
       "    <tr>\n",
       "      <th>0</th>\n",
       "      <td>1976-05-01</td>\n",
       "      <td>41.0</td>\n",
       "      <td>190.0</td>\n",
       "      <td>7.4</td>\n",
       "      <td>67</td>\n",
       "      <td>5</td>\n",
       "    </tr>\n",
       "    <tr>\n",
       "      <th>1</th>\n",
       "      <td>1976-05-02</td>\n",
       "      <td>36.0</td>\n",
       "      <td>118.0</td>\n",
       "      <td>8.0</td>\n",
       "      <td>72</td>\n",
       "      <td>5</td>\n",
       "    </tr>\n",
       "    <tr>\n",
       "      <th>2</th>\n",
       "      <td>1976-05-03</td>\n",
       "      <td>12.0</td>\n",
       "      <td>149.0</td>\n",
       "      <td>12.6</td>\n",
       "      <td>74</td>\n",
       "      <td>5</td>\n",
       "    </tr>\n",
       "    <tr>\n",
       "      <th>3</th>\n",
       "      <td>1976-05-04</td>\n",
       "      <td>18.0</td>\n",
       "      <td>313.0</td>\n",
       "      <td>11.5</td>\n",
       "      <td>62</td>\n",
       "      <td>5</td>\n",
       "    </tr>\n",
       "    <tr>\n",
       "      <th>4</th>\n",
       "      <td>1976-05-05</td>\n",
       "      <td>NaN</td>\n",
       "      <td>NaN</td>\n",
       "      <td>14.3</td>\n",
       "      <td>56</td>\n",
       "      <td>5</td>\n",
       "    </tr>\n",
       "  </tbody>\n",
       "</table>\n",
       "</div>"
      ],
      "text/plain": [
       "        Date  Ozone  Solar.R  Wind  Temp  month\n",
       "0 1976-05-01   41.0    190.0   7.4    67      5\n",
       "1 1976-05-02   36.0    118.0   8.0    72      5\n",
       "2 1976-05-03   12.0    149.0  12.6    74      5\n",
       "3 1976-05-04   18.0    313.0  11.5    62      5\n",
       "4 1976-05-05    NaN      NaN  14.3    56      5"
      ]
     },
     "execution_count": 131,
     "metadata": {},
     "output_type": "execute_result"
    }
   ],
   "source": [
    "dfair_tmp.head()"
   ]
  },
  {
   "cell_type": "code",
   "execution_count": 132,
   "id": "8296bd30",
   "metadata": {},
   "outputs": [],
   "source": [
    "dfozonemonth = dfair_tmp.groupby('month').agg({'Ozone':'mean'})"
   ]
  },
  {
   "cell_type": "code",
   "execution_count": 133,
   "id": "bef850f4",
   "metadata": {},
   "outputs": [],
   "source": [
    "dfair_tmp = dfair_tmp.join(dfozonemonth, on='month', rsuffix='month')"
   ]
  },
  {
   "cell_type": "code",
   "execution_count": 134,
   "id": "6e990824",
   "metadata": {},
   "outputs": [
    {
     "data": {
      "text/html": [
       "<div>\n",
       "<style scoped>\n",
       "    .dataframe tbody tr th:only-of-type {\n",
       "        vertical-align: middle;\n",
       "    }\n",
       "\n",
       "    .dataframe tbody tr th {\n",
       "        vertical-align: top;\n",
       "    }\n",
       "\n",
       "    .dataframe thead th {\n",
       "        text-align: right;\n",
       "    }\n",
       "</style>\n",
       "<table border=\"1\" class=\"dataframe\">\n",
       "  <thead>\n",
       "    <tr style=\"text-align: right;\">\n",
       "      <th></th>\n",
       "      <th>Date</th>\n",
       "      <th>Ozone</th>\n",
       "      <th>Solar.R</th>\n",
       "      <th>Wind</th>\n",
       "      <th>Temp</th>\n",
       "      <th>month</th>\n",
       "      <th>Ozonemonth</th>\n",
       "    </tr>\n",
       "  </thead>\n",
       "  <tbody>\n",
       "    <tr>\n",
       "      <th>0</th>\n",
       "      <td>1976-05-01</td>\n",
       "      <td>41.0</td>\n",
       "      <td>190.0</td>\n",
       "      <td>7.4</td>\n",
       "      <td>67</td>\n",
       "      <td>5</td>\n",
       "      <td>23.615385</td>\n",
       "    </tr>\n",
       "    <tr>\n",
       "      <th>1</th>\n",
       "      <td>1976-05-02</td>\n",
       "      <td>36.0</td>\n",
       "      <td>118.0</td>\n",
       "      <td>8.0</td>\n",
       "      <td>72</td>\n",
       "      <td>5</td>\n",
       "      <td>23.615385</td>\n",
       "    </tr>\n",
       "    <tr>\n",
       "      <th>2</th>\n",
       "      <td>1976-05-03</td>\n",
       "      <td>12.0</td>\n",
       "      <td>149.0</td>\n",
       "      <td>12.6</td>\n",
       "      <td>74</td>\n",
       "      <td>5</td>\n",
       "      <td>23.615385</td>\n",
       "    </tr>\n",
       "    <tr>\n",
       "      <th>3</th>\n",
       "      <td>1976-05-04</td>\n",
       "      <td>18.0</td>\n",
       "      <td>313.0</td>\n",
       "      <td>11.5</td>\n",
       "      <td>62</td>\n",
       "      <td>5</td>\n",
       "      <td>23.615385</td>\n",
       "    </tr>\n",
       "    <tr>\n",
       "      <th>4</th>\n",
       "      <td>1976-05-05</td>\n",
       "      <td>NaN</td>\n",
       "      <td>NaN</td>\n",
       "      <td>14.3</td>\n",
       "      <td>56</td>\n",
       "      <td>5</td>\n",
       "      <td>23.615385</td>\n",
       "    </tr>\n",
       "  </tbody>\n",
       "</table>\n",
       "</div>"
      ],
      "text/plain": [
       "        Date  Ozone  Solar.R  Wind  Temp  month  Ozonemonth\n",
       "0 1976-05-01   41.0    190.0   7.4    67      5   23.615385\n",
       "1 1976-05-02   36.0    118.0   8.0    72      5   23.615385\n",
       "2 1976-05-03   12.0    149.0  12.6    74      5   23.615385\n",
       "3 1976-05-04   18.0    313.0  11.5    62      5   23.615385\n",
       "4 1976-05-05    NaN      NaN  14.3    56      5   23.615385"
      ]
     },
     "execution_count": 134,
     "metadata": {},
     "output_type": "execute_result"
    }
   ],
   "source": [
    "dfair_tmp.head()"
   ]
  },
  {
   "cell_type": "markdown",
   "id": "22ca6f77",
   "metadata": {},
   "source": [
    "Imputacion de NaN en la variable 'ozono' por la media de la estacionalidad."
   ]
  },
  {
   "cell_type": "code",
   "execution_count": 135,
   "id": "e3d5d7b7",
   "metadata": {},
   "outputs": [
    {
     "data": {
      "text/html": [
       "<div>\n",
       "<style scoped>\n",
       "    .dataframe tbody tr th:only-of-type {\n",
       "        vertical-align: middle;\n",
       "    }\n",
       "\n",
       "    .dataframe tbody tr th {\n",
       "        vertical-align: top;\n",
       "    }\n",
       "\n",
       "    .dataframe thead th {\n",
       "        text-align: right;\n",
       "    }\n",
       "</style>\n",
       "<table border=\"1\" class=\"dataframe\">\n",
       "  <thead>\n",
       "    <tr style=\"text-align: right;\">\n",
       "      <th></th>\n",
       "      <th>Date</th>\n",
       "      <th>Ozone</th>\n",
       "      <th>Solar.R</th>\n",
       "      <th>Wind</th>\n",
       "      <th>Temp</th>\n",
       "      <th>month</th>\n",
       "      <th>Ozonemonth</th>\n",
       "    </tr>\n",
       "  </thead>\n",
       "  <tbody>\n",
       "    <tr>\n",
       "      <th>0</th>\n",
       "      <td>1976-05-01</td>\n",
       "      <td>41.000000</td>\n",
       "      <td>190.0</td>\n",
       "      <td>7.4</td>\n",
       "      <td>67</td>\n",
       "      <td>5</td>\n",
       "      <td>23.615385</td>\n",
       "    </tr>\n",
       "    <tr>\n",
       "      <th>1</th>\n",
       "      <td>1976-05-02</td>\n",
       "      <td>36.000000</td>\n",
       "      <td>118.0</td>\n",
       "      <td>8.0</td>\n",
       "      <td>72</td>\n",
       "      <td>5</td>\n",
       "      <td>23.615385</td>\n",
       "    </tr>\n",
       "    <tr>\n",
       "      <th>2</th>\n",
       "      <td>1976-05-03</td>\n",
       "      <td>12.000000</td>\n",
       "      <td>149.0</td>\n",
       "      <td>12.6</td>\n",
       "      <td>74</td>\n",
       "      <td>5</td>\n",
       "      <td>23.615385</td>\n",
       "    </tr>\n",
       "    <tr>\n",
       "      <th>3</th>\n",
       "      <td>1976-05-04</td>\n",
       "      <td>18.000000</td>\n",
       "      <td>313.0</td>\n",
       "      <td>11.5</td>\n",
       "      <td>62</td>\n",
       "      <td>5</td>\n",
       "      <td>23.615385</td>\n",
       "    </tr>\n",
       "    <tr>\n",
       "      <th>4</th>\n",
       "      <td>1976-05-05</td>\n",
       "      <td>23.615385</td>\n",
       "      <td>NaN</td>\n",
       "      <td>14.3</td>\n",
       "      <td>56</td>\n",
       "      <td>5</td>\n",
       "      <td>23.615385</td>\n",
       "    </tr>\n",
       "  </tbody>\n",
       "</table>\n",
       "</div>"
      ],
      "text/plain": [
       "        Date      Ozone  Solar.R  Wind  Temp  month  Ozonemonth\n",
       "0 1976-05-01  41.000000    190.0   7.4    67      5   23.615385\n",
       "1 1976-05-02  36.000000    118.0   8.0    72      5   23.615385\n",
       "2 1976-05-03  12.000000    149.0  12.6    74      5   23.615385\n",
       "3 1976-05-04  18.000000    313.0  11.5    62      5   23.615385\n",
       "4 1976-05-05  23.615385      NaN  14.3    56      5   23.615385"
      ]
     },
     "execution_count": 135,
     "metadata": {},
     "output_type": "execute_result"
    }
   ],
   "source": [
    "dfair_tmp['Ozone'] = np.where(pd.isna(dfair_tmp['Ozone']), dfair_tmp['Ozonemonth'], dfair_tmp['Ozone'])\n",
    "dfair_tmp.head()"
   ]
  },
  {
   "cell_type": "code",
   "execution_count": 139,
   "id": "43c7882a",
   "metadata": {},
   "outputs": [],
   "source": [
    "dfair_tmp['Ozone'].index = dfair_tmp['Date']"
   ]
  },
  {
   "cell_type": "code",
   "execution_count": 142,
   "id": "47aa7022",
   "metadata": {},
   "outputs": [],
   "source": [
    "dfair['Ozone'] = dfair_tmp['Ozone']"
   ]
  },
  {
   "cell_type": "code",
   "execution_count": 144,
   "id": "433498e7",
   "metadata": {},
   "outputs": [
    {
     "name": "stdout",
     "output_type": "stream",
     "text": [
      "<class 'pandas.core.frame.DataFrame'>\n",
      "DatetimeIndex: 153 entries, 1976-05-01 to 1976-09-30\n",
      "Data columns (total 4 columns):\n",
      " #   Column   Non-Null Count  Dtype  \n",
      "---  ------   --------------  -----  \n",
      " 0   Ozone    153 non-null    float64\n",
      " 1   Solar.R  146 non-null    float64\n",
      " 2   Wind     153 non-null    float64\n",
      " 3   Temp     153 non-null    int64  \n",
      "dtypes: float64(3), int64(1)\n",
      "memory usage: 10.0 KB\n"
     ]
    }
   ],
   "source": [
    "dfair.info()"
   ]
  },
  {
   "cell_type": "code",
   "execution_count": 146,
   "id": "556de2a2",
   "metadata": {},
   "outputs": [
    {
     "data": {
      "text/html": [
       "<div>\n",
       "<style scoped>\n",
       "    .dataframe tbody tr th:only-of-type {\n",
       "        vertical-align: middle;\n",
       "    }\n",
       "\n",
       "    .dataframe tbody tr th {\n",
       "        vertical-align: top;\n",
       "    }\n",
       "\n",
       "    .dataframe thead th {\n",
       "        text-align: right;\n",
       "    }\n",
       "</style>\n",
       "<table border=\"1\" class=\"dataframe\">\n",
       "  <thead>\n",
       "    <tr style=\"text-align: right;\">\n",
       "      <th></th>\n",
       "      <th>Ozone</th>\n",
       "      <th>Solar.R</th>\n",
       "      <th>Wind</th>\n",
       "      <th>Temp</th>\n",
       "    </tr>\n",
       "  </thead>\n",
       "  <tbody>\n",
       "    <tr>\n",
       "      <th>count</th>\n",
       "      <td>153.000000</td>\n",
       "      <td>146.000000</td>\n",
       "      <td>153.000000</td>\n",
       "      <td>153.000000</td>\n",
       "    </tr>\n",
       "    <tr>\n",
       "      <th>mean</th>\n",
       "      <td>40.851262</td>\n",
       "      <td>185.931507</td>\n",
       "      <td>9.957516</td>\n",
       "      <td>77.882353</td>\n",
       "    </tr>\n",
       "    <tr>\n",
       "      <th>std</th>\n",
       "      <td>29.595147</td>\n",
       "      <td>90.058422</td>\n",
       "      <td>3.523001</td>\n",
       "      <td>9.465270</td>\n",
       "    </tr>\n",
       "    <tr>\n",
       "      <th>min</th>\n",
       "      <td>1.000000</td>\n",
       "      <td>7.000000</td>\n",
       "      <td>1.700000</td>\n",
       "      <td>56.000000</td>\n",
       "    </tr>\n",
       "    <tr>\n",
       "      <th>25%</th>\n",
       "      <td>21.000000</td>\n",
       "      <td>115.750000</td>\n",
       "      <td>7.400000</td>\n",
       "      <td>72.000000</td>\n",
       "    </tr>\n",
       "    <tr>\n",
       "      <th>50%</th>\n",
       "      <td>29.444444</td>\n",
       "      <td>205.000000</td>\n",
       "      <td>9.700000</td>\n",
       "      <td>79.000000</td>\n",
       "    </tr>\n",
       "    <tr>\n",
       "      <th>75%</th>\n",
       "      <td>59.115385</td>\n",
       "      <td>258.750000</td>\n",
       "      <td>11.500000</td>\n",
       "      <td>85.000000</td>\n",
       "    </tr>\n",
       "    <tr>\n",
       "      <th>max</th>\n",
       "      <td>168.000000</td>\n",
       "      <td>334.000000</td>\n",
       "      <td>20.700000</td>\n",
       "      <td>97.000000</td>\n",
       "    </tr>\n",
       "  </tbody>\n",
       "</table>\n",
       "</div>"
      ],
      "text/plain": [
       "            Ozone     Solar.R        Wind        Temp\n",
       "count  153.000000  146.000000  153.000000  153.000000\n",
       "mean    40.851262  185.931507    9.957516   77.882353\n",
       "std     29.595147   90.058422    3.523001    9.465270\n",
       "min      1.000000    7.000000    1.700000   56.000000\n",
       "25%     21.000000  115.750000    7.400000   72.000000\n",
       "50%     29.444444  205.000000    9.700000   79.000000\n",
       "75%     59.115385  258.750000   11.500000   85.000000\n",
       "max    168.000000  334.000000   20.700000   97.000000"
      ]
     },
     "execution_count": 146,
     "metadata": {},
     "output_type": "execute_result"
    }
   ],
   "source": [
    "dfair.describe()"
   ]
  },
  {
   "cell_type": "markdown",
   "id": "6614c2e4",
   "metadata": {},
   "source": [
    "## Resumen análisis\n",
    "\n",
    "El muestra el dataset de la calidad del aire desde el 1 de mayo hasta el 30 de septiembre del año 1976. Presenta 5 columnas y 153 registros, las columnas son:\n",
    "\n",
    "- **index**: Fecha (Date)\n",
    "- Ozono (decimal, desde 1 hasta 168)\n",
    "- Solar.R: Rayos UV (decimal, desde 7 hasta 334)\n",
    "- Wind: viento (decimal, desde 1.7 hasta 20.7)\n",
    "- Temp: temperatura (entero, desde 56 hasta 97)\n",
    "\n",
    "Presenta datos nulos en 1 columna(s):\n",
    "\n",
    "- Solar.R: 7 (4%)\n",
    "\n",
    "Se realizó las modificaciones al dataset:\n",
    "\n",
    "- Establecer la fecha como indice\n",
    "- Imputado de datos de la variable Ozono por estacionalidad (mes)\n",
    "\n",
    "Análisis y preguntas para el negocio:\n",
    "\n",
    "- En el mes de junio hay mayor cantidad de datos perdidos.\n",
    "- La cantidad de Ozone aumentò excesivamente en Junio."
   ]
  }
 ],
 "metadata": {
  "kernelspec": {
   "display_name": "analytics",
   "language": "python",
   "name": "myenv"
  },
  "language_info": {
   "codemirror_mode": {
    "name": "ipython",
    "version": 3
   },
   "file_extension": ".py",
   "mimetype": "text/x-python",
   "name": "python",
   "nbconvert_exporter": "python",
   "pygments_lexer": "ipython3",
   "version": "3.7.11"
  }
 },
 "nbformat": 4,
 "nbformat_minor": 5
}
