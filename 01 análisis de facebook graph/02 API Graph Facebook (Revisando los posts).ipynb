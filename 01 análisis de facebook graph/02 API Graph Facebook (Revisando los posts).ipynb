{
 "cells": [
  {
   "cell_type": "code",
   "execution_count": 1,
   "id": "4cd75b2e",
   "metadata": {},
   "outputs": [],
   "source": [
    "import json\n",
    "import facebook\n",
    "import requests\n",
    "import pandas as pd\n",
    "import numpy as np\n",
    "from mytoken import *"
   ]
  },
  {
   "cell_type": "markdown",
   "id": "bce6fc2d",
   "metadata": {},
   "source": [
    "Para acceder a facebook API Graph [API Graph de Facebook](https://developers.facebook.com/tools/explorer/?classic=0)"
   ]
  },
  {
   "cell_type": "code",
   "execution_count": 2,
   "id": "55b4ff53",
   "metadata": {},
   "outputs": [],
   "source": [
    "graph = facebook.GraphAPI(access_token=fb_token)"
   ]
  },
  {
   "cell_type": "code",
   "execution_count": 3,
   "id": "92636dd3",
   "metadata": {},
   "outputs": [
    {
     "data": {
      "text/plain": [
       "{'public_profile', 'user_posts'}"
      ]
     },
     "execution_count": 3,
     "metadata": {},
     "output_type": "execute_result"
    }
   ],
   "source": [
    "graph.get_permissions('me')"
   ]
  },
  {
   "cell_type": "markdown",
   "id": "da9a1991",
   "metadata": {},
   "source": [
    "# Tagged places in posts"
   ]
  },
  {
   "cell_type": "code",
   "execution_count": 7,
   "id": "97ef1b44",
   "metadata": {},
   "outputs": [],
   "source": [
    "posts = graph.get_connections(\"me\", \"posts\", fields='id, create_time, place')"
   ]
  },
  {
   "cell_type": "code",
   "execution_count": 8,
   "id": "890f023c",
   "metadata": {
    "collapsed": true
   },
   "outputs": [
    {
     "data": {
      "text/plain": [
       "{'data': [{'id': '3098477393806286_3098549150465777',\n",
       "   'place': {'name': 'Rio Seco - Cieneguilla',\n",
       "    'location': {'city': 'Cieneguilla',\n",
       "     'country': 'Peru',\n",
       "     'latitude': -12.069861200184,\n",
       "     'longitude': -76.756938825154,\n",
       "     'street': 'Cieneguilla',\n",
       "     'zip': '15593'},\n",
       "    'id': '762042293839221'}},\n",
       "  {'id': '3098477393806286_3085582468429112'},\n",
       "  {'id': '3098477393806286_3034397183547641'},\n",
       "  {'id': '3098477393806286_2942639219390105'},\n",
       "  {'id': '3098477393806286_2870141149973246'},\n",
       "  {'id': '3098477393806286_2820320424955319'},\n",
       "  {'id': '3098477393806286_2806520073002021'},\n",
       "  {'id': '3098477393806286_2681718802148816'},\n",
       "  {'id': '3098477393806286_2646041762383187'},\n",
       "  {'id': '3098477393806286_2607536146233749'},\n",
       "  {'id': '3098477393806286_2601702970150400'},\n",
       "  {'id': '3098477393806286_2588871718100192'},\n",
       "  {'id': '3098477393806286_2553817238272307'},\n",
       "  {'id': '3098477393806286_2545415172445847'},\n",
       "  {'id': '3098477393806286_2335751856745514'},\n",
       "  {'id': '3098477393806286_2332927677027932'},\n",
       "  {'id': '3098477393806286_2332210343766332'},\n",
       "  {'id': '3098477393806286_2213362512317783'},\n",
       "  {'id': '3098477393806286_2208609856126382'},\n",
       "  {'id': '3098477393806286_2206654466321921'},\n",
       "  {'id': '3098477393806286_2203611986626169'},\n",
       "  {'id': '3098477393806286_2201840160136685'},\n",
       "  {'id': '3098477393806286_2166896340297734'},\n",
       "  {'id': '3098477393806286_2166690900318278'},\n",
       "  {'id': '3098477393806286_2166689786985056'}],\n",
       " 'paging': {'previous': 'https://graph.facebook.com/v12.0/3098477393806286/posts?access_token=EAAI4C0CMyoABAIafQYpEexKEbFJ41BQZBlnu2ZBJS1VKTlwZA9PhCHk3s1PGl6Xm9ClI61Q4rRUXPsRlfSZBoZAzhjeRkFKxmgpJL9KbM0D2hUrsDAag8xydU19xoBvRdSJJdJKIz7107BZBPZA8OJOxeQ1qT7jBDXrv9UJOtBulvs5ZBZBba2bBJav8aYuWEMBS44Ayse7MfDgt8PPKRK2bxaftepcoag2TJeYh5k7M2iv28qgAGQ7LV&fields=id%2C+create_time%2C+place&__previous=1&since=1642438131&until&__paging_token=enc_AdCQNdoaSJteTZCwbWBIzUTaNlg1FIA55eZBPEnhyn1SSBpLHhYCnSVxlkxiE70jSHtlpGFYrI2OC2D1zm13JLtPias7S1iCWFxCoV0gZAvlvfTIftP6Yxu7J2tFmxZBb6R9TnxdfIkvZALyXpyMRawqypa9k',\n",
       "  'next': 'https://graph.facebook.com/v12.0/3098477393806286/posts?access_token=EAAI4C0CMyoABAIafQYpEexKEbFJ41BQZBlnu2ZBJS1VKTlwZA9PhCHk3s1PGl6Xm9ClI61Q4rRUXPsRlfSZBoZAzhjeRkFKxmgpJL9KbM0D2hUrsDAag8xydU19xoBvRdSJJdJKIz7107BZBPZA8OJOxeQ1qT7jBDXrv9UJOtBulvs5ZBZBba2bBJav8aYuWEMBS44Ayse7MfDgt8PPKRK2bxaftepcoag2TJeYh5k7M2iv28qgAGQ7LV&fields=id%2C+create_time%2C+place&until=1541353407&since&__paging_token=enc_AdAucJsawRoY39SSycEatZAWQZCfZCepD1ZB1BayU6SlKbbEA0HoAJHSTtOqpD3WpZBZCSuxGrKNNDdjTATMrlXtH8ZA6kVWuqMAivddH0orb4IP9ZC0eH1PdA4PtkyTbBfzHAc8Nb118EWZBmCfl4EmI6BAnw08D&__previous'}}"
      ]
     },
     "execution_count": 8,
     "metadata": {},
     "output_type": "execute_result"
    }
   ],
   "source": [
    "posts"
   ]
  },
  {
   "cell_type": "markdown",
   "id": "1ba02e79",
   "metadata": {},
   "source": [
    "<div class=\"alert alert-warning\">\n",
    "    <strong>Warning:</strong> Si obtenemos posts cuando no tengo permisos, obtengo un arreglo vacio.\n",
    "</div>"
   ]
  },
  {
   "cell_type": "code",
   "execution_count": 9,
   "id": "64005c7a",
   "metadata": {},
   "outputs": [
    {
     "data": {
      "text/plain": [
       "25"
      ]
     },
     "execution_count": 9,
     "metadata": {},
     "output_type": "execute_result"
    }
   ],
   "source": [
    "len(posts['data'])"
   ]
  },
  {
   "cell_type": "code",
   "execution_count": 10,
   "id": "818a4d7e",
   "metadata": {},
   "outputs": [
    {
     "data": {
      "text/plain": [
       "[{'id': '3098477393806286_2166689293651772'},\n",
       " {'id': '3098477393806286_2166687116985323'},\n",
       " {'id': '3098477393806286_2162707674049934'},\n",
       " {'id': '3098477393806286_2129023824084986'},\n",
       " {'id': '3098477393806286_2101144726872896'}]"
      ]
     },
     "execution_count": 10,
     "metadata": {},
     "output_type": "execute_result"
    }
   ],
   "source": [
    "posts = requests.get(posts['paging']['next']).json()\n",
    "posts['data'][:5]"
   ]
  },
  {
   "cell_type": "code",
   "execution_count": 11,
   "id": "7e379e29",
   "metadata": {},
   "outputs": [],
   "source": [
    "def Getposts(id='me', perimetro='posts', fields=['id', 'created_time', 'place']):\n",
    "    lst = []\n",
    "    posts = graph.get_connections(id, perimetro, fields=','.join(fields))\n",
    "    \n",
    "    while True:\n",
    "        try:\n",
    "            for post in posts['data']:\n",
    "                if 'place' in post.keys():\n",
    "                    lst.append(post)\n",
    "            \n",
    "            posts = request.get(posts['paging']['next']).json()\n",
    "        except:\n",
    "            break\n",
    "    \n",
    "    return lst"
   ]
  },
  {
   "cell_type": "code",
   "execution_count": 13,
   "id": "74566fa6",
   "metadata": {},
   "outputs": [
    {
     "name": "stdout",
     "output_type": "stream",
     "text": [
      "Se han extraido 1 etiquetas\n",
      "Un ejemplo de un registro de posts: \n",
      "\n",
      "{\n",
      "    \"id\": \"3098477393806286_3098549150465777\",\n",
      "    \"created_time\": \"2022-01-17T16:48:51+0000\",\n",
      "    \"place\": {\n",
      "        \"name\": \"Rio Seco - Cieneguilla\",\n",
      "        \"location\": {\n",
      "            \"city\": \"Cieneguilla\",\n",
      "            \"country\": \"Peru\",\n",
      "            \"latitude\": -12.069861200184,\n",
      "            \"longitude\": -76.756938825154,\n",
      "            \"street\": \"Cieneguilla\",\n",
      "            \"zip\": \"15593\"\n",
      "        },\n",
      "        \"id\": \"762042293839221\"\n",
      "    }\n",
      "}\n"
     ]
    }
   ],
   "source": [
    "posts = Getposts()\n",
    "\n",
    "print(\"Se han extraido {0} etiquetas\".format( len(posts) ))\n",
    "if len(posts) > 0:\n",
    "    print(\"Un ejemplo de un registro de posts: \\n\")\n",
    "    print(json.dumps(posts[0], indent=4))"
   ]
  },
  {
   "cell_type": "markdown",
   "id": "64b85790",
   "metadata": {},
   "source": [
    "Obtener la latitud y longitud del dataset"
   ]
  },
  {
   "cell_type": "code",
   "execution_count": 14,
   "id": "29364d09",
   "metadata": {},
   "outputs": [
    {
     "data": {
      "text/html": [
       "<div>\n",
       "<style scoped>\n",
       "    .dataframe tbody tr th:only-of-type {\n",
       "        vertical-align: middle;\n",
       "    }\n",
       "\n",
       "    .dataframe tbody tr th {\n",
       "        vertical-align: top;\n",
       "    }\n",
       "\n",
       "    .dataframe thead th {\n",
       "        text-align: right;\n",
       "    }\n",
       "</style>\n",
       "<table border=\"1\" class=\"dataframe\">\n",
       "  <thead>\n",
       "    <tr style=\"text-align: right;\">\n",
       "      <th></th>\n",
       "      <th>id</th>\n",
       "      <th>created_time</th>\n",
       "      <th>place</th>\n",
       "    </tr>\n",
       "  </thead>\n",
       "  <tbody>\n",
       "    <tr>\n",
       "      <th>0</th>\n",
       "      <td>3098477393806286_3098549150465777</td>\n",
       "      <td>2022-01-17T16:48:51+0000</td>\n",
       "      <td>{'name': 'Rio Seco - Cieneguilla', 'location':...</td>\n",
       "    </tr>\n",
       "  </tbody>\n",
       "</table>\n",
       "</div>"
      ],
      "text/plain": [
       "                                  id              created_time  \\\n",
       "0  3098477393806286_3098549150465777  2022-01-17T16:48:51+0000   \n",
       "\n",
       "                                               place  \n",
       "0  {'name': 'Rio Seco - Cieneguilla', 'location':...  "
      ]
     },
     "execution_count": 14,
     "metadata": {},
     "output_type": "execute_result"
    }
   ],
   "source": [
    "dfposts = pd.DataFrame(posts)[['id', 'created_time', 'place']]\n",
    "dfposts"
   ]
  },
  {
   "cell_type": "code",
   "execution_count": 21,
   "id": "5bb805e9",
   "metadata": {},
   "outputs": [
    {
     "name": "stdout",
     "output_type": "stream",
     "text": [
      "{\n",
      "    \"name\": \"Rio Seco - Cieneguilla\",\n",
      "    \"location\": {\n",
      "        \"city\": \"Cieneguilla\",\n",
      "        \"country\": \"Peru\",\n",
      "        \"latitude\": -12.069861200184,\n",
      "        \"longitude\": -76.756938825154,\n",
      "        \"street\": \"Cieneguilla\",\n",
      "        \"zip\": \"15593\"\n",
      "    },\n",
      "    \"id\": \"762042293839221\"\n",
      "}\n"
     ]
    }
   ],
   "source": [
    "func = lambda x: print(json.dumps(x, indent=4))\n",
    "\n",
    "func(dfposts['place'].iloc[0])  #index location"
   ]
  },
  {
   "cell_type": "code",
   "execution_count": 23,
   "id": "812a415b",
   "metadata": {},
   "outputs": [
    {
     "data": {
      "text/plain": [
       "-12.069861200184"
      ]
     },
     "execution_count": 23,
     "metadata": {},
     "output_type": "execute_result"
    }
   ],
   "source": [
    "dfposts['place'].iloc[0]['location']['latitude']"
   ]
  },
  {
   "cell_type": "code",
   "execution_count": 24,
   "id": "6fc2bc2f",
   "metadata": {},
   "outputs": [
    {
     "data": {
      "text/plain": [
       "0   -12.069861\n",
       "Name: place, dtype: float64"
      ]
     },
     "execution_count": 24,
     "metadata": {},
     "output_type": "execute_result"
    }
   ],
   "source": [
    "dfposts['place'].apply(lambda p: p['location']['latitude'] if 'location' in p.keys() else None)"
   ]
  },
  {
   "cell_type": "markdown",
   "id": "755e3b19",
   "metadata": {},
   "source": [
    "Crear 3 nuevas columnas llamadas 'longitud', 'latitud' y 'name_place' basados en el campo 'place'."
   ]
  },
  {
   "cell_type": "code",
   "execution_count": 26,
   "id": "b196859d",
   "metadata": {},
   "outputs": [],
   "source": [
    "dfposts['latitud'] = dfposts['place'].apply(lambda p: \n",
    "                                            p['location']['latitude']\n",
    "                                           if 'location' in p else None)\n",
    "dfposts['longitud'] = dfposts['place'].apply(lambda p: \n",
    "                                            p['location']['longitude']\n",
    "                                           if 'location' in p else None)\n",
    "dfposts['name_place'] = dfposts['place'].apply(lambda p: p['name'])"
   ]
  },
  {
   "cell_type": "code",
   "execution_count": 27,
   "id": "af505c23",
   "metadata": {},
   "outputs": [
    {
     "data": {
      "text/html": [
       "<div>\n",
       "<style scoped>\n",
       "    .dataframe tbody tr th:only-of-type {\n",
       "        vertical-align: middle;\n",
       "    }\n",
       "\n",
       "    .dataframe tbody tr th {\n",
       "        vertical-align: top;\n",
       "    }\n",
       "\n",
       "    .dataframe thead th {\n",
       "        text-align: right;\n",
       "    }\n",
       "</style>\n",
       "<table border=\"1\" class=\"dataframe\">\n",
       "  <thead>\n",
       "    <tr style=\"text-align: right;\">\n",
       "      <th></th>\n",
       "      <th>id</th>\n",
       "      <th>created_time</th>\n",
       "      <th>place</th>\n",
       "      <th>latitud</th>\n",
       "      <th>longitud</th>\n",
       "      <th>name_place</th>\n",
       "    </tr>\n",
       "  </thead>\n",
       "  <tbody>\n",
       "    <tr>\n",
       "      <th>0</th>\n",
       "      <td>3098477393806286_3098549150465777</td>\n",
       "      <td>2022-01-17T16:48:51+0000</td>\n",
       "      <td>{'name': 'Rio Seco - Cieneguilla', 'location':...</td>\n",
       "      <td>-12.069861</td>\n",
       "      <td>-76.756939</td>\n",
       "      <td>Rio Seco - Cieneguilla</td>\n",
       "    </tr>\n",
       "  </tbody>\n",
       "</table>\n",
       "</div>"
      ],
      "text/plain": [
       "                                  id              created_time  \\\n",
       "0  3098477393806286_3098549150465777  2022-01-17T16:48:51+0000   \n",
       "\n",
       "                                               place    latitud   longitud  \\\n",
       "0  {'name': 'Rio Seco - Cieneguilla', 'location':... -12.069861 -76.756939   \n",
       "\n",
       "               name_place  \n",
       "0  Rio Seco - Cieneguilla  "
      ]
     },
     "execution_count": 27,
     "metadata": {},
     "output_type": "execute_result"
    }
   ],
   "source": [
    "dfposts"
   ]
  },
  {
   "cell_type": "code",
   "execution_count": 28,
   "id": "8dc1dc82",
   "metadata": {},
   "outputs": [
    {
     "name": "stdout",
     "output_type": "stream",
     "text": [
      "<class 'pandas.core.frame.DataFrame'>\n",
      "RangeIndex: 1 entries, 0 to 0\n",
      "Data columns (total 6 columns):\n",
      " #   Column        Non-Null Count  Dtype  \n",
      "---  ------        --------------  -----  \n",
      " 0   id            1 non-null      object \n",
      " 1   created_time  1 non-null      object \n",
      " 2   place         1 non-null      object \n",
      " 3   latitud       1 non-null      float64\n",
      " 4   longitud      1 non-null      float64\n",
      " 5   name_place    1 non-null      object \n",
      "dtypes: float64(2), object(4)\n",
      "memory usage: 176.0+ bytes\n"
     ]
    }
   ],
   "source": [
    "dfposts.info()"
   ]
  },
  {
   "cell_type": "markdown",
   "id": "dfde5d03",
   "metadata": {},
   "source": [
    "Elinaremos aquellos de latitud nullo."
   ]
  },
  {
   "cell_type": "code",
   "execution_count": 29,
   "id": "98c917c7",
   "metadata": {},
   "outputs": [],
   "source": [
    "dfposts = dfposts.loc[~dfposts['latitud'].isnull()]"
   ]
  },
  {
   "cell_type": "markdown",
   "id": "b4e1d431",
   "metadata": {},
   "source": [
    "Necesitamos instalar los siguientes componentes:\n",
    "- !pip install shapely\n",
    "- !pip install geopandas\n",
    "- !pip install descartes"
   ]
  },
  {
   "cell_type": "markdown",
   "id": "1a30c19a",
   "metadata": {},
   "source": [
    "Imprimir el gráfico, 'mapbox' puede generar ciudad, mapas de calor, lo importante es saber ¿Donde se estan encontrando la mayor cantidad de personas?"
   ]
  },
  {
   "cell_type": "markdown",
   "id": "384a9d36",
   "metadata": {},
   "source": [
    "instalar el paquete 'geopandas' para visualización de lugares"
   ]
  },
  {
   "cell_type": "code",
   "execution_count": null,
   "id": "afe23a62",
   "metadata": {},
   "outputs": [],
   "source": [
    "!conda install -c conda-forge geopandas"
   ]
  },
  {
   "cell_type": "code",
   "execution_count": null,
   "id": "16a56234",
   "metadata": {},
   "outputs": [],
   "source": [
    "!conda list"
   ]
  },
  {
   "cell_type": "code",
   "execution_count": null,
   "id": "a0c18e47",
   "metadata": {},
   "outputs": [],
   "source": [
    "!conda install -c conda-forge rtree=0.9.3"
   ]
  },
  {
   "cell_type": "code",
   "execution_count": null,
   "id": "6b42da6d",
   "metadata": {},
   "outputs": [],
   "source": [
    "!conda uninstall pyproj\n",
    "!conda install -c conda-forge pyproj "
   ]
  },
  {
   "cell_type": "code",
   "execution_count": 31,
   "id": "79cd0927",
   "metadata": {},
   "outputs": [],
   "source": [
    "from shapely.geometry import Point\n",
    "import geopandas as gpd\n",
    "from geopandas import GeoDataFrame"
   ]
  },
  {
   "cell_type": "code",
   "execution_count": 32,
   "id": "2ee54ad9",
   "metadata": {},
   "outputs": [
    {
     "data": {
      "text/plain": [
       "<AxesSubplot:>"
      ]
     },
     "execution_count": 32,
     "metadata": {},
     "output_type": "execute_result"
    },
    {
     "data": {
      "image/png": "[encoded data removed]",
      "text/plain": [
       "<Figure size 720x576 with 1 Axes>"
      ]
     },
     "metadata": {
      "needs_background": "light"
     },
     "output_type": "display_data"
    }
   ],
   "source": [
    "df = dfposts[['longitud', 'latitud']]\n",
    "\n",
    "geometry = [ Point(xy) for xy in zip(df['longitud'], df['latitud'])]\n",
    "gdf = GeoDataFrame(df, geometry = geometry)\n",
    "\n",
    "#This is a single map that goes with geopandas\n",
    "world = gpd.read_file(gpd.datasets.get_path('naturalearth_lowres'))\n",
    "gdf.plot( ax=world.plot(figsize=(10, 8)), marker='o', color='red', markersize=15)"
   ]
  }
 ],
 "metadata": {
  "kernelspec": {
   "display_name": "analytics",
   "language": "python",
   "name": "myenv"
  },
  "language_info": {
   "codemirror_mode": {
    "name": "ipython",
    "version": 3
   },
   "file_extension": ".py",
   "mimetype": "text/x-python",
   "name": "python",
   "nbconvert_exporter": "python",
   "pygments_lexer": "ipython3",
   "version": "3.7.11"
  }
 },
 "nbformat": 4,
 "nbformat_minor": 5
}
