{
 "cells": [
  {
   "cell_type": "markdown",
   "id": "a3087a7c",
   "metadata": {},
   "source": [
    "# II. Operaciones y funciones nativas\n",
    "Sobre todos los tipos de objetos de Python se pueden aplicar operaciones. El tipo de operaciones varia dependiendo de cada tipo."
   ]
  },
  {
   "cell_type": "markdown",
   "id": "b4272905",
   "metadata": {},
   "source": [
    "## Operadores booleanos\n",
    "\n",
    "- x **or** y: Obdece a la regla lógica or.\n",
    "- x **and** y: obedece a la regla lógica and.\n",
    "- **not** x: Niega la proposición x, Si es F retorna V, pero si es V retorna F."
   ]
  },
  {
   "cell_type": "code",
   "execution_count": 1,
   "id": "b0dfb11b",
   "metadata": {},
   "outputs": [
    {
     "data": {
      "text/plain": [
       "True"
      ]
     },
     "execution_count": 1,
     "metadata": {},
     "output_type": "execute_result"
    }
   ],
   "source": [
    "x = False\n",
    "y = True\n",
    "x or y"
   ]
  },
  {
   "cell_type": "code",
   "execution_count": 2,
   "id": "e8bc6045",
   "metadata": {},
   "outputs": [
    {
     "data": {
      "text/plain": [
       "False"
      ]
     },
     "execution_count": 2,
     "metadata": {},
     "output_type": "execute_result"
    }
   ],
   "source": [
    "x = False\n",
    "y = True\n",
    "x and y"
   ]
  },
  {
   "cell_type": "code",
   "execution_count": 3,
   "id": "94ff1d06",
   "metadata": {},
   "outputs": [
    {
     "data": {
      "text/plain": [
       "True"
      ]
     },
     "execution_count": 3,
     "metadata": {},
     "output_type": "execute_result"
    }
   ],
   "source": [
    "x = False\n",
    "not x"
   ]
  },
  {
   "cell_type": "markdown",
   "id": "05eb557e",
   "metadata": {},
   "source": [
    "## Operadores de comparación\n",
    "\n",
    "- < : Estrictamente menor que\n",
    "- <= : Menor o igual que\n",
    "- \\>\t: Estrictamente mayor que\n",
    "- \\>= :\tMayor o igual que\n",
    "- == : Igual\n",
    "- != : No es igual\n",
    "- is : Identidad del objeto (==)\n",
    "- is not : Negación de la identidad del objeto"
   ]
  },
  {
   "cell_type": "code",
   "execution_count": 24,
   "id": "40f4206c",
   "metadata": {},
   "outputs": [],
   "source": [
    "# Asignación\n",
    "\n",
    "x = 4"
   ]
  },
  {
   "cell_type": "code",
   "execution_count": 5,
   "id": "d3020be3",
   "metadata": {},
   "outputs": [
    {
     "data": {
      "text/plain": [
       "True"
      ]
     },
     "execution_count": 5,
     "metadata": {},
     "output_type": "execute_result"
    }
   ],
   "source": [
    "x < 10"
   ]
  },
  {
   "cell_type": "code",
   "execution_count": 6,
   "id": "d597ba0f",
   "metadata": {},
   "outputs": [
    {
     "data": {
      "text/plain": [
       "False"
      ]
     },
     "execution_count": 6,
     "metadata": {},
     "output_type": "execute_result"
    }
   ],
   "source": [
    "x == 10"
   ]
  },
  {
   "cell_type": "code",
   "execution_count": 7,
   "id": "50267c80",
   "metadata": {},
   "outputs": [
    {
     "data": {
      "text/plain": [
       "True"
      ]
     },
     "execution_count": 7,
     "metadata": {},
     "output_type": "execute_result"
    }
   ],
   "source": [
    "x != 10"
   ]
  },
  {
   "cell_type": "code",
   "execution_count": 11,
   "id": "e29b2577",
   "metadata": {},
   "outputs": [
    {
     "data": {
      "text/plain": [
       "True"
      ]
     },
     "execution_count": 11,
     "metadata": {},
     "output_type": "execute_result"
    }
   ],
   "source": [
    "x is 4"
   ]
  },
  {
   "cell_type": "code",
   "execution_count": 13,
   "id": "ee869951",
   "metadata": {},
   "outputs": [
    {
     "data": {
      "text/plain": [
       "False"
      ]
     },
     "execution_count": 13,
     "metadata": {},
     "output_type": "execute_result"
    }
   ],
   "source": [
    "x is not 4"
   ]
  },
  {
   "cell_type": "markdown",
   "id": "f36d11e9",
   "metadata": {},
   "source": [
    "## Operadores para objetos del tipo numéricos\n",
    "\n",
    "- x + y: Suma de x e y\n",
    "- x - y: Diferencia de x e y\n",
    "- x * y: Multipliación de x e y\n",
    "- x / y: División de x e y\n",
    "- x // y: Numero entero inferior más próximo de división entre x e y\n",
    "- x % y: Módulo de x e y\n",
    "- -x: Negación del valor de x\n",
    "- +x: El valor de x no es alterado\n",
    "- x \\*\\* y: El valor de x a la potencia de y"
   ]
  },
  {
   "cell_type": "code",
   "execution_count": 27,
   "id": "dae1b092",
   "metadata": {},
   "outputs": [],
   "source": [
    "s = [1, 2, 3, 4]; t = [5, 6, 7, 8]"
   ]
  },
  {
   "cell_type": "code",
   "execution_count": 28,
   "id": "b8001f41",
   "metadata": {},
   "outputs": [
    {
     "data": {
      "text/plain": [
       "True"
      ]
     },
     "execution_count": 28,
     "metadata": {},
     "output_type": "execute_result"
    }
   ],
   "source": [
    "1 in s"
   ]
  },
  {
   "cell_type": "code",
   "execution_count": 29,
   "id": "b51f57e4",
   "metadata": {},
   "outputs": [
    {
     "data": {
      "text/plain": [
       "False"
      ]
     },
     "execution_count": 29,
     "metadata": {},
     "output_type": "execute_result"
    }
   ],
   "source": [
    "5 in s"
   ]
  },
  {
   "cell_type": "code",
   "execution_count": 30,
   "id": "af37b4bb",
   "metadata": {},
   "outputs": [
    {
     "data": {
      "text/plain": [
       "[1, 2, 3, 4, 5, 6, 7, 8]"
      ]
     },
     "execution_count": 30,
     "metadata": {},
     "output_type": "execute_result"
    }
   ],
   "source": [
    "s + t"
   ]
  },
  {
   "cell_type": "code",
   "execution_count": 31,
   "id": "2048870c",
   "metadata": {},
   "outputs": [
    {
     "data": {
      "text/plain": [
       "[1, 2, 3, 4, 1, 2, 3, 4, 1, 2, 3, 4]"
      ]
     },
     "execution_count": 31,
     "metadata": {},
     "output_type": "execute_result"
    }
   ],
   "source": [
    "s * 3"
   ]
  },
  {
   "cell_type": "code",
   "execution_count": 36,
   "id": "a3f687ab",
   "metadata": {},
   "outputs": [
    {
     "data": {
      "text/plain": [
       "[3, 6, 6, 8]"
      ]
     },
     "execution_count": 36,
     "metadata": {},
     "output_type": "execute_result"
    }
   ],
   "source": [
    "[e*3 if e < 3 else e*2 for e in s]"
   ]
  },
  {
   "cell_type": "code",
   "execution_count": 43,
   "id": "18bcd83c",
   "metadata": {},
   "outputs": [
    {
     "ename": "SyntaxError",
     "evalue": "invalid syntax (Temp/ipykernel_2708/1752562359.py, line 1)",
     "output_type": "error",
     "traceback": [
      "\u001b[1;36m  File \u001b[1;32m\"C:\\Users\\PC\\AppData\\Local\\Temp/ipykernel_2708/1752562359.py\"\u001b[1;36m, line \u001b[1;32m1\u001b[0m\n\u001b[1;33m    [e*3 for e in s if e < 3 else e*2]\u001b[0m\n\u001b[1;37m                                ^\u001b[0m\n\u001b[1;31mSyntaxError\u001b[0m\u001b[1;31m:\u001b[0m invalid syntax\n"
     ]
    }
   ],
   "source": [
    "[e*3 for e in s if e < 3 else e*2]"
   ]
  },
  {
   "cell_type": "code",
   "execution_count": 44,
   "id": "40ff2f01",
   "metadata": {},
   "outputs": [
    {
     "data": {
      "text/plain": [
       "[3, 6]"
      ]
     },
     "execution_count": 44,
     "metadata": {},
     "output_type": "execute_result"
    }
   ],
   "source": [
    "[e*3 for e in s if e < 3]"
   ]
  },
  {
   "cell_type": "code",
   "execution_count": 46,
   "id": "fffb2b1e",
   "metadata": {},
   "outputs": [
    {
     "data": {
      "text/plain": [
       "4"
      ]
     },
     "execution_count": 46,
     "metadata": {},
     "output_type": "execute_result"
    }
   ],
   "source": [
    "len(s)"
   ]
  },
  {
   "cell_type": "code",
   "execution_count": 47,
   "id": "4f8ff8c4",
   "metadata": {},
   "outputs": [
    {
     "data": {
      "text/plain": [
       "1"
      ]
     },
     "execution_count": 47,
     "metadata": {},
     "output_type": "execute_result"
    }
   ],
   "source": [
    "min(s)"
   ]
  },
  {
   "cell_type": "code",
   "execution_count": 48,
   "id": "5709e98b",
   "metadata": {},
   "outputs": [
    {
     "data": {
      "text/plain": [
       "4"
      ]
     },
     "execution_count": 48,
     "metadata": {},
     "output_type": "execute_result"
    }
   ],
   "source": [
    "max(s)"
   ]
  },
  {
   "cell_type": "markdown",
   "id": "5afcfa83",
   "metadata": {},
   "source": [
    "## Funciones nativas de Python\n",
    "\n",
    "Python 3.6 cuenta con 68 funciones incluidas por defecto. Estas funciones son muy variadas y facilitan el análisis numérico y la evaluación de expresiones. A continuación se listan alfabéticamente.\n",
    "\n",
    "<img src=\"images/python_builtin_functions.png\" width=800>"
   ]
  },
  {
   "cell_type": "code",
   "execution_count": 49,
   "id": "86393572",
   "metadata": {},
   "outputs": [
    {
     "name": "stdout",
     "output_type": "stream",
     "text": [
      "-4\n"
     ]
    }
   ],
   "source": [
    "x = -4\n",
    "print(x)"
   ]
  },
  {
   "cell_type": "code",
   "execution_count": 50,
   "id": "48b433db",
   "metadata": {},
   "outputs": [
    {
     "name": "stdout",
     "output_type": "stream",
     "text": [
      "4\n"
     ]
    }
   ],
   "source": [
    "y = abs(x)\n",
    "print(y)"
   ]
  },
  {
   "cell_type": "code",
   "execution_count": 51,
   "id": "858c450b",
   "metadata": {},
   "outputs": [
    {
     "data": {
      "text/plain": [
       "True"
      ]
     },
     "execution_count": 51,
     "metadata": {},
     "output_type": "execute_result"
    }
   ],
   "source": [
    "isinstance(x, int)"
   ]
  },
  {
   "cell_type": "code",
   "execution_count": 52,
   "id": "7a894bbb",
   "metadata": {},
   "outputs": [
    {
     "data": {
      "text/plain": [
       "False"
      ]
     },
     "execution_count": 52,
     "metadata": {},
     "output_type": "execute_result"
    }
   ],
   "source": [
    "isinstance(x, float)"
   ]
  },
  {
   "cell_type": "code",
   "execution_count": 54,
   "id": "de02429c",
   "metadata": {},
   "outputs": [
    {
     "name": "stdout",
     "output_type": "stream",
     "text": [
      "4.654321\n"
     ]
    }
   ],
   "source": [
    "x = 4.654321\n",
    "print(x)"
   ]
  },
  {
   "cell_type": "code",
   "execution_count": 55,
   "id": "98837050",
   "metadata": {},
   "outputs": [
    {
     "data": {
      "text/plain": [
       "5"
      ]
     },
     "execution_count": 55,
     "metadata": {},
     "output_type": "execute_result"
    }
   ],
   "source": [
    "round(x)"
   ]
  },
  {
   "cell_type": "code",
   "execution_count": 58,
   "id": "2a34a949",
   "metadata": {},
   "outputs": [
    {
     "data": {
      "text/plain": [
       "4.65"
      ]
     },
     "execution_count": 58,
     "metadata": {},
     "output_type": "execute_result"
    }
   ],
   "source": [
    "round(x, 2)"
   ]
  }
 ],
 "metadata": {
  "kernelspec": {
   "display_name": "analytics",
   "language": "python",
   "name": "myenv"
  },
  "language_info": {
   "codemirror_mode": {
    "name": "ipython",
    "version": 3
   },
   "file_extension": ".py",
   "mimetype": "text/x-python",
   "name": "python",
   "nbconvert_exporter": "python",
   "pygments_lexer": "ipython3",
   "version": "3.7.11"
  }
 },
 "nbformat": 4,
 "nbformat_minor": 5
}
