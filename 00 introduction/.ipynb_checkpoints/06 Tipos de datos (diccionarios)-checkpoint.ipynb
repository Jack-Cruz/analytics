{
 "cells": [
  {
   "cell_type": "markdown",
   "id": "3871bcc1",
   "metadata": {},
   "source": [
    "## 9. Diccionarios\n",
    "\n",
    "Otro tipo de dato útil incluído en Python es el diccionario. Los diccionarios se encuentran a veces en otros lenguajes como \"memorias asociativas\" o \"arreglos asociativos\". A diferencia de las secuencias, que se indexan mediante un rango numérico, los diccionarios se indexan con claves, que pueden ser cualquier tipo inmutable; las cadenas y números siempre pueden ser claves.\n",
    "\n",
    "Las tuplas pueden usarse como claves si solamente contienen cadenas, números o tuplas; si una tupla contiene cualquier objeto mutable directa o indirectamente, no puede usarse como clave. No se pueden usar listas como claves, ya que las listas pueden modificarse.\n",
    "\n",
    "Lo mejor es pensar en un diccionario como un conjunto no ordenado de pares clave: valor, con el requisito de que las claves sean únicas (dentro de un diccionario en particular).\n",
    "\n",
    "Los diccionarios se pueden crear usando la función dict() o los símbolos {}."
   ]
  },
  {
   "cell_type": "markdown",
   "id": "e8582760",
   "metadata": {},
   "source": [
    "### Definir un objeto tipo diccionario"
   ]
  },
  {
   "cell_type": "code",
   "execution_count": 2,
   "id": "0ef1e6de",
   "metadata": {},
   "outputs": [
    {
     "name": "stdout",
     "output_type": "stream",
     "text": [
      "{} <class 'dict'> 0\n"
     ]
    }
   ],
   "source": [
    "x = dict()\n",
    "print(x, type(x), len(x))"
   ]
  },
  {
   "cell_type": "code",
   "execution_count": 4,
   "id": "50810edd",
   "metadata": {},
   "outputs": [
    {
     "name": "stdout",
     "output_type": "stream",
     "text": [
      "{'Perú': 2, 'Brazil': 5, 'Colombia': 5, 'Argentina': 3, 'Uruguay': 5, 'Chile': 0} <class 'dict'> 6\n"
     ]
    }
   ],
   "source": [
    "# Crear un diccionario que contiene la cantidad de goles realizados por los \n",
    "# paises de sudamérica en la fase de grupos del Mundial de Rusia 2018\n",
    "\n",
    "goles = {'Perú':2,\n",
    "        'Brazil':5,\n",
    "        'Colombia':5,\n",
    "        'Argentina':3,\n",
    "        'Uruguay':5,\n",
    "        'Chile':0}\n",
    "\n",
    "print(goles, type(goles), len(goles))"
   ]
  },
  {
   "cell_type": "code",
   "execution_count": 16,
   "id": "4d8cd441",
   "metadata": {},
   "outputs": [
    {
     "data": {
      "text/plain": [
       "{'Perú': 2,\n",
       " 'Brazil': 5,\n",
       " 'Colombia': 5,\n",
       " 'Argentina': 3,\n",
       " 'Uruguay': 5,\n",
       " 'Chile': 0}"
      ]
     },
     "execution_count": 16,
     "metadata": {},
     "output_type": "execute_result"
    }
   ],
   "source": [
    "goles"
   ]
  },
  {
   "cell_type": "code",
   "execution_count": 15,
   "id": "2a1e0f89",
   "metadata": {},
   "outputs": [
    {
     "name": "stdout",
     "output_type": "stream",
     "text": [
      "dict_keys(['Perú', 'Brazil', 'Colombia', 'Argentina', 'Uruguay', 'Chile']) <class 'dict_keys'> 6\n"
     ]
    }
   ],
   "source": [
    "keys = goles.keys()\n",
    "print(keys, type(keys), len(keys))"
   ]
  },
  {
   "cell_type": "code",
   "execution_count": 9,
   "id": "745c7e59",
   "metadata": {},
   "outputs": [
    {
     "data": {
      "text/plain": [
       "['Perú', 'Brazil', 'Colombia', 'Argentina', 'Uruguay', 'Chile']"
      ]
     },
     "execution_count": 9,
     "metadata": {},
     "output_type": "execute_result"
    }
   ],
   "source": [
    "# Recuperar las claves de la variable goles\n",
    "\n",
    "paises = list(goles.keys())\n",
    "paises"
   ]
  },
  {
   "cell_type": "code",
   "execution_count": 10,
   "id": "1a9c412e",
   "metadata": {},
   "outputs": [
    {
     "data": {
      "text/plain": [
       "'Perú'"
      ]
     },
     "execution_count": 10,
     "metadata": {},
     "output_type": "execute_result"
    }
   ],
   "source": [
    "paises[0]"
   ]
  },
  {
   "cell_type": "code",
   "execution_count": 14,
   "id": "3b6b3069",
   "metadata": {},
   "outputs": [
    {
     "name": "stdout",
     "output_type": "stream",
     "text": [
      "dict_values([2, 5, 5, 3, 5, 0]) <class 'dict_values'> 6\n"
     ]
    }
   ],
   "source": [
    "values = goles.values()\n",
    "print(values, type(values), len(values))"
   ]
  },
  {
   "cell_type": "code",
   "execution_count": 11,
   "id": "2fb466d0",
   "metadata": {},
   "outputs": [
    {
     "data": {
      "text/plain": [
       "[2, 5, 5, 3, 5, 0]"
      ]
     },
     "execution_count": 11,
     "metadata": {},
     "output_type": "execute_result"
    }
   ],
   "source": [
    "# Recuperar los valores de la variable goles\n",
    "\n",
    "list(goles.values())"
   ]
  },
  {
   "cell_type": "code",
   "execution_count": 17,
   "id": "00b1a1fe",
   "metadata": {},
   "outputs": [
    {
     "data": {
      "text/plain": [
       "{'Perú': 2,\n",
       " 'Brazil': 5,\n",
       " 'Colombia': 5,\n",
       " 'Argentina': 3,\n",
       " 'Uruguay': 5,\n",
       " 'Chile': 0}"
      ]
     },
     "execution_count": 17,
     "metadata": {},
     "output_type": "execute_result"
    }
   ],
   "source": [
    "goles"
   ]
  },
  {
   "cell_type": "code",
   "execution_count": 19,
   "id": "6e9f7f54",
   "metadata": {},
   "outputs": [
    {
     "data": {
      "text/plain": [
       "2"
      ]
     },
     "execution_count": 19,
     "metadata": {},
     "output_type": "execute_result"
    }
   ],
   "source": [
    "# Recuperar la cantidad de goles de un país usando la clave\n",
    "\n",
    "goles['Perú']"
   ]
  },
  {
   "cell_type": "code",
   "execution_count": 20,
   "id": "ee882cae",
   "metadata": {},
   "outputs": [
    {
     "name": "stdout",
     "output_type": "stream",
     "text": [
      "{'Perú': 2, 'Brazil': 5, 'Colombia': 5, 'Argentina': 3, 'Uruguay': 5, 'Chile': 0, 'México': 3}\n"
     ]
    }
   ],
   "source": [
    "# Agregar un nuevo elemento al diccionario\n",
    "\n",
    "goles['México'] = 3\n",
    "print(goles)"
   ]
  },
  {
   "cell_type": "code",
   "execution_count": 22,
   "id": "38a36a4e",
   "metadata": {},
   "outputs": [],
   "source": [
    "goles['México'] = [3, 4, 5]"
   ]
  },
  {
   "cell_type": "code",
   "execution_count": 23,
   "id": "9ce554ea",
   "metadata": {},
   "outputs": [
    {
     "data": {
      "text/plain": [
       "{'Perú': 2,\n",
       " 'Brazil': 5,\n",
       " 'Colombia': 5,\n",
       " 'Argentina': 3,\n",
       " 'Uruguay': 5,\n",
       " 'Chile': 0,\n",
       " 'México': [3, 4, 5]}"
      ]
     },
     "execution_count": 23,
     "metadata": {},
     "output_type": "execute_result"
    }
   ],
   "source": [
    "goles"
   ]
  },
  {
   "cell_type": "code",
   "execution_count": 25,
   "id": "a55e699f",
   "metadata": {},
   "outputs": [
    {
     "data": {
      "text/plain": [
       "[3, 4, 5]"
      ]
     },
     "execution_count": 25,
     "metadata": {},
     "output_type": "execute_result"
    }
   ],
   "source": [
    "goles['México']"
   ]
  },
  {
   "cell_type": "code",
   "execution_count": 26,
   "id": "c06913c4",
   "metadata": {},
   "outputs": [
    {
     "name": "stdout",
     "output_type": "stream",
     "text": [
      "Perú 2\n",
      "Brazil 5\n",
      "Colombia 5\n",
      "Argentina 3\n",
      "Uruguay 5\n",
      "Chile 0\n",
      "México [3, 4, 5]\n"
     ]
    }
   ],
   "source": [
    "for clave in list(goles.keys()):\n",
    "    print (clave, goles[clave])"
   ]
  },
  {
   "cell_type": "code",
   "execution_count": 28,
   "id": "f8f345d0",
   "metadata": {},
   "outputs": [
    {
     "name": "stdout",
     "output_type": "stream",
     "text": [
      "Perú\n",
      "Brazil\n",
      "Colombia\n",
      "Argentina\n",
      "Uruguay\n",
      "Chile\n",
      "México\n"
     ]
    }
   ],
   "source": [
    "# Imprimir cada par de las claves del diccionario\n",
    "\n",
    "for i in goles:\n",
    "    print(i)"
   ]
  },
  {
   "cell_type": "code",
   "execution_count": 29,
   "id": "9966a787",
   "metadata": {},
   "outputs": [
    {
     "data": {
      "text/plain": [
       "[('Perú', 2),\n",
       " ('Brazil', 5),\n",
       " ('Colombia', 5),\n",
       " ('Argentina', 3),\n",
       " ('Uruguay', 5),\n",
       " ('Chile', 0),\n",
       " ('México', [3, 4, 5])]"
      ]
     },
     "execution_count": 29,
     "metadata": {},
     "output_type": "execute_result"
    }
   ],
   "source": [
    "list(goles.items())"
   ]
  },
  {
   "cell_type": "code",
   "execution_count": 30,
   "id": "c9fb72e5",
   "metadata": {},
   "outputs": [
    {
     "name": "stdout",
     "output_type": "stream",
     "text": [
      "Perú : 2\n",
      "Brazil : 5\n",
      "Colombia : 5\n",
      "Argentina : 3\n",
      "Uruguay : 5\n",
      "Chile : 0\n",
      "México : [3, 4, 5]\n"
     ]
    }
   ],
   "source": [
    "# Imprimir cada par de clave y valor\n",
    "\n",
    "for key, value in goles.items():\n",
    "    print(key, \":\", value)"
   ]
  }
 ],
 "metadata": {
  "kernelspec": {
   "display_name": "analytics",
   "language": "python",
   "name": "myenv"
  },
  "language_info": {
   "codemirror_mode": {
    "name": "ipython",
    "version": 3
   },
   "file_extension": ".py",
   "mimetype": "text/x-python",
   "name": "python",
   "nbconvert_exporter": "python",
   "pygments_lexer": "ipython3",
   "version": "3.7.11"
  }
 },
 "nbformat": 4,
 "nbformat_minor": 5
}
