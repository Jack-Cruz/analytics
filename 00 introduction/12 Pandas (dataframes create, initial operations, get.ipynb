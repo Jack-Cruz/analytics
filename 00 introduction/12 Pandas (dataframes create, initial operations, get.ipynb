{
 "cells": [
  {
   "cell_type": "markdown",
   "id": "619731c8",
   "metadata": {},
   "source": [
    "# DataFrame\n",
    "\n",
    "A DataFrame is a tabular data structure containing an ordered collection of columns.  Each column can have a different type.  DataFrames have both row and column indices and is analogous to a dict of Series.  Row and column operations are treated roughly symmetrically.  Columns returned when indexing a DataFrame are views of the underlying data, not a copy.  To obtain a copy, use the Series' copy method."
   ]
  },
  {
   "cell_type": "code",
   "execution_count": 3,
   "id": "767277b2",
   "metadata": {},
   "outputs": [],
   "source": [
    "import pandas as pd"
   ]
  },
  {
   "cell_type": "markdown",
   "id": "8b543d07",
   "metadata": {},
   "source": [
    "## Create a Dataframe (df)"
   ]
  },
  {
   "cell_type": "markdown",
   "id": "0a2efa34",
   "metadata": {},
   "source": [
    "### 1) Create a dataframe from a dictionary."
   ]
  },
  {
   "cell_type": "code",
   "execution_count": 4,
   "id": "efd87fe0",
   "metadata": {},
   "outputs": [
    {
     "data": {
      "text/html": [
       "<div>\n",
       "<style scoped>\n",
       "    .dataframe tbody tr th:only-of-type {\n",
       "        vertical-align: middle;\n",
       "    }\n",
       "\n",
       "    .dataframe tbody tr th {\n",
       "        vertical-align: top;\n",
       "    }\n",
       "\n",
       "    .dataframe thead th {\n",
       "        text-align: right;\n",
       "    }\n",
       "</style>\n",
       "<table border=\"1\" class=\"dataframe\">\n",
       "  <thead>\n",
       "    <tr style=\"text-align: right;\">\n",
       "      <th></th>\n",
       "      <th>state</th>\n",
       "      <th>year</th>\n",
       "      <th>pop</th>\n",
       "    </tr>\n",
       "  </thead>\n",
       "  <tbody>\n",
       "    <tr>\n",
       "      <th>0</th>\n",
       "      <td>VA</td>\n",
       "      <td>2012</td>\n",
       "      <td>5.0</td>\n",
       "    </tr>\n",
       "    <tr>\n",
       "      <th>1</th>\n",
       "      <td>VA</td>\n",
       "      <td>2013</td>\n",
       "      <td>5.1</td>\n",
       "    </tr>\n",
       "    <tr>\n",
       "      <th>2</th>\n",
       "      <td>VA</td>\n",
       "      <td>2014</td>\n",
       "      <td>5.2</td>\n",
       "    </tr>\n",
       "    <tr>\n",
       "      <th>3</th>\n",
       "      <td>MD</td>\n",
       "      <td>2014</td>\n",
       "      <td>4.0</td>\n",
       "    </tr>\n",
       "    <tr>\n",
       "      <th>4</th>\n",
       "      <td>MD</td>\n",
       "      <td>2015</td>\n",
       "      <td>4.1</td>\n",
       "    </tr>\n",
       "  </tbody>\n",
       "</table>\n",
       "</div>"
      ],
      "text/plain": [
       "  state  year  pop\n",
       "0    VA  2012  5.0\n",
       "1    VA  2013  5.1\n",
       "2    VA  2014  5.2\n",
       "3    MD  2014  4.0\n",
       "4    MD  2015  4.1"
      ]
     },
     "execution_count": 4,
     "metadata": {},
     "output_type": "execute_result"
    }
   ],
   "source": [
    "data1 = {'state' : ['VA', 'VA', 'VA', 'MD', 'MD'],\n",
    "         'year' : [2012, 2013, 2014, 2014, 2015],\n",
    "         'pop' : [5.0, 5.1, 5.2, 4.0, 4.1] }\n",
    "\n",
    "df1 = pd.DataFrame(data1)\n",
    "df1"
   ]
  },
  {
   "cell_type": "markdown",
   "id": "1a8086b7",
   "metadata": {},
   "source": [
    "Create a dataframe specifying a sequence of columns."
   ]
  },
  {
   "cell_type": "code",
   "execution_count": 5,
   "id": "a6d393ba",
   "metadata": {},
   "outputs": [
    {
     "data": {
      "text/html": [
       "<div>\n",
       "<style scoped>\n",
       "    .dataframe tbody tr th:only-of-type {\n",
       "        vertical-align: middle;\n",
       "    }\n",
       "\n",
       "    .dataframe tbody tr th {\n",
       "        vertical-align: top;\n",
       "    }\n",
       "\n",
       "    .dataframe thead th {\n",
       "        text-align: right;\n",
       "    }\n",
       "</style>\n",
       "<table border=\"1\" class=\"dataframe\">\n",
       "  <thead>\n",
       "    <tr style=\"text-align: right;\">\n",
       "      <th></th>\n",
       "      <th>year</th>\n",
       "      <th>state</th>\n",
       "    </tr>\n",
       "  </thead>\n",
       "  <tbody>\n",
       "    <tr>\n",
       "      <th>0</th>\n",
       "      <td>2012</td>\n",
       "      <td>VA</td>\n",
       "    </tr>\n",
       "    <tr>\n",
       "      <th>1</th>\n",
       "      <td>2013</td>\n",
       "      <td>VA</td>\n",
       "    </tr>\n",
       "    <tr>\n",
       "      <th>2</th>\n",
       "      <td>2014</td>\n",
       "      <td>VA</td>\n",
       "    </tr>\n",
       "    <tr>\n",
       "      <th>3</th>\n",
       "      <td>2014</td>\n",
       "      <td>MD</td>\n",
       "    </tr>\n",
       "    <tr>\n",
       "      <th>4</th>\n",
       "      <td>2015</td>\n",
       "      <td>MD</td>\n",
       "    </tr>\n",
       "  </tbody>\n",
       "</table>\n",
       "</div>"
      ],
      "text/plain": [
       "   year state\n",
       "0  2012    VA\n",
       "1  2013    VA\n",
       "2  2014    VA\n",
       "3  2014    MD\n",
       "4  2015    MD"
      ]
     },
     "execution_count": 5,
     "metadata": {},
     "output_type": "execute_result"
    }
   ],
   "source": [
    "df2 = pd.DataFrame(data1, columns=['year', 'state'])\n",
    "df2"
   ]
  },
  {
   "cell_type": "markdown",
   "id": "4738a1d1",
   "metadata": {},
   "source": [
    "Like Series, columns that are not present in the the data are NaN."
   ]
  },
  {
   "cell_type": "code",
   "execution_count": 6,
   "id": "d35c866e",
   "metadata": {},
   "outputs": [
    {
     "data": {
      "text/html": [
       "<div>\n",
       "<style scoped>\n",
       "    .dataframe tbody tr th:only-of-type {\n",
       "        vertical-align: middle;\n",
       "    }\n",
       "\n",
       "    .dataframe tbody tr th {\n",
       "        vertical-align: top;\n",
       "    }\n",
       "\n",
       "    .dataframe thead th {\n",
       "        text-align: right;\n",
       "    }\n",
       "</style>\n",
       "<table border=\"1\" class=\"dataframe\">\n",
       "  <thead>\n",
       "    <tr style=\"text-align: right;\">\n",
       "      <th></th>\n",
       "      <th>year</th>\n",
       "      <th>state</th>\n",
       "      <th>pop</th>\n",
       "      <th>unempl</th>\n",
       "    </tr>\n",
       "  </thead>\n",
       "  <tbody>\n",
       "    <tr>\n",
       "      <th>0</th>\n",
       "      <td>2012</td>\n",
       "      <td>VA</td>\n",
       "      <td>5.0</td>\n",
       "      <td>NaN</td>\n",
       "    </tr>\n",
       "    <tr>\n",
       "      <th>1</th>\n",
       "      <td>2013</td>\n",
       "      <td>VA</td>\n",
       "      <td>5.1</td>\n",
       "      <td>NaN</td>\n",
       "    </tr>\n",
       "    <tr>\n",
       "      <th>2</th>\n",
       "      <td>2014</td>\n",
       "      <td>VA</td>\n",
       "      <td>5.2</td>\n",
       "      <td>NaN</td>\n",
       "    </tr>\n",
       "    <tr>\n",
       "      <th>3</th>\n",
       "      <td>2014</td>\n",
       "      <td>MD</td>\n",
       "      <td>4.0</td>\n",
       "      <td>NaN</td>\n",
       "    </tr>\n",
       "    <tr>\n",
       "      <th>4</th>\n",
       "      <td>2015</td>\n",
       "      <td>MD</td>\n",
       "      <td>4.1</td>\n",
       "      <td>NaN</td>\n",
       "    </tr>\n",
       "  </tbody>\n",
       "</table>\n",
       "</div>"
      ],
      "text/plain": [
       "   year state  pop unempl\n",
       "0  2012    VA  5.0    NaN\n",
       "1  2013    VA  5.1    NaN\n",
       "2  2014    VA  5.2    NaN\n",
       "3  2014    MD  4.0    NaN\n",
       "4  2015    MD  4.1    NaN"
      ]
     },
     "execution_count": 6,
     "metadata": {},
     "output_type": "execute_result"
    }
   ],
   "source": [
    "df3 = pd.DataFrame(data1, columns=['year', 'state', 'pop', 'unempl']) \n",
    "df3"
   ]
  },
  {
   "cell_type": "markdown",
   "id": "7b4e5487",
   "metadata": {},
   "source": [
    "### 2) Create a DataFrame from a nested dict of dictionarys\n",
    "\n",
    "The keys in the inner dicts are unioned and sorted to form the index in the result, unless an explicit index is specified."
   ]
  },
  {
   "cell_type": "code",
   "execution_count": 7,
   "id": "2e0ee174",
   "metadata": {},
   "outputs": [
    {
     "data": {
      "text/html": [
       "<div>\n",
       "<style scoped>\n",
       "    .dataframe tbody tr th:only-of-type {\n",
       "        vertical-align: middle;\n",
       "    }\n",
       "\n",
       "    .dataframe tbody tr th {\n",
       "        vertical-align: top;\n",
       "    }\n",
       "\n",
       "    .dataframe thead th {\n",
       "        text-align: right;\n",
       "    }\n",
       "</style>\n",
       "<table border=\"1\" class=\"dataframe\">\n",
       "  <thead>\n",
       "    <tr style=\"text-align: right;\">\n",
       "      <th></th>\n",
       "      <th>VA</th>\n",
       "      <th>MD</th>\n",
       "    </tr>\n",
       "  </thead>\n",
       "  <tbody>\n",
       "    <tr>\n",
       "      <th>2013</th>\n",
       "      <td>5.1</td>\n",
       "      <td>NaN</td>\n",
       "    </tr>\n",
       "    <tr>\n",
       "      <th>2014</th>\n",
       "      <td>5.2</td>\n",
       "      <td>4.0</td>\n",
       "    </tr>\n",
       "    <tr>\n",
       "      <th>2015</th>\n",
       "      <td>NaN</td>\n",
       "      <td>4.1</td>\n",
       "    </tr>\n",
       "  </tbody>\n",
       "</table>\n",
       "</div>"
      ],
      "text/plain": [
       "       VA   MD\n",
       "2013  5.1  NaN\n",
       "2014  5.2  4.0\n",
       "2015  NaN  4.1"
      ]
     },
     "execution_count": 7,
     "metadata": {},
     "output_type": "execute_result"
    }
   ],
   "source": [
    "ndd = {'VA' : {2013 : 5.1, 2014 : 5.2},    #ndd = nested dictionary of dictionary\n",
    "       'MD' : {2014 : 4.0, 2015 : 4.1}}\n",
    "\n",
    "df4 = pd.DataFrame(ndd)\n",
    "df4"
   ]
  },
  {
   "cell_type": "markdown",
   "id": "5651a357",
   "metadata": {},
   "source": [
    "### 3) Create a dataframe from dictionary of Series"
   ]
  },
  {
   "cell_type": "code",
   "execution_count": 8,
   "id": "bf7b1e1a",
   "metadata": {},
   "outputs": [
    {
     "data": {
      "text/plain": [
       "2014    5.2\n",
       "2015    NaN\n",
       "Name: VA, dtype: float64"
      ]
     },
     "execution_count": 8,
     "metadata": {},
     "output_type": "execute_result"
    }
   ],
   "source": [
    "df4['VA'][1:]"
   ]
  },
  {
   "cell_type": "code",
   "execution_count": 9,
   "id": "324f1610",
   "metadata": {},
   "outputs": [
    {
     "data": {
      "text/html": [
       "<div>\n",
       "<style scoped>\n",
       "    .dataframe tbody tr th:only-of-type {\n",
       "        vertical-align: middle;\n",
       "    }\n",
       "\n",
       "    .dataframe tbody tr th {\n",
       "        vertical-align: top;\n",
       "    }\n",
       "\n",
       "    .dataframe thead th {\n",
       "        text-align: right;\n",
       "    }\n",
       "</style>\n",
       "<table border=\"1\" class=\"dataframe\">\n",
       "  <thead>\n",
       "    <tr style=\"text-align: right;\">\n",
       "      <th></th>\n",
       "      <th>VA</th>\n",
       "      <th>MD</th>\n",
       "    </tr>\n",
       "  </thead>\n",
       "  <tbody>\n",
       "    <tr>\n",
       "      <th>2014</th>\n",
       "      <td>5.2</td>\n",
       "      <td>4.0</td>\n",
       "    </tr>\n",
       "    <tr>\n",
       "      <th>2015</th>\n",
       "      <td>NaN</td>\n",
       "      <td>4.1</td>\n",
       "    </tr>\n",
       "  </tbody>\n",
       "</table>\n",
       "</div>"
      ],
      "text/plain": [
       "       VA   MD\n",
       "2014  5.2  4.0\n",
       "2015  NaN  4.1"
      ]
     },
     "execution_count": 9,
     "metadata": {},
     "output_type": "execute_result"
    }
   ],
   "source": [
    "data2 = {'VA' : df4['VA'][1:],\n",
    "        'MD' : df4['MD'][1:]}\n",
    "\n",
    "df5 = pd.DataFrame(data2)\n",
    "df5"
   ]
  },
  {
   "cell_type": "markdown",
   "id": "ff1f46d4",
   "metadata": {},
   "source": [
    "## Initial Operations"
   ]
  },
  {
   "cell_type": "markdown",
   "id": "a75cfeba",
   "metadata": {},
   "source": [
    "### Get information"
   ]
  },
  {
   "cell_type": "code",
   "execution_count": 10,
   "id": "90dc1be9",
   "metadata": {},
   "outputs": [
    {
     "name": "stdout",
     "output_type": "stream",
     "text": [
      "<class 'pandas.core.frame.DataFrame'>\n",
      "RangeIndex: 5 entries, 0 to 4\n",
      "Data columns (total 4 columns):\n",
      " #   Column  Non-Null Count  Dtype  \n",
      "---  ------  --------------  -----  \n",
      " 0   year    5 non-null      int64  \n",
      " 1   state   5 non-null      object \n",
      " 2   pop     5 non-null      float64\n",
      " 3   unempl  0 non-null      object \n",
      "dtypes: float64(1), int64(1), object(2)\n",
      "memory usage: 288.0+ bytes\n"
     ]
    }
   ],
   "source": [
    "df3.info()"
   ]
  },
  {
   "cell_type": "markdown",
   "id": "0a60d995",
   "metadata": {},
   "source": [
    "Transpose the DataFrame (similar to numpy):"
   ]
  },
  {
   "cell_type": "code",
   "execution_count": 11,
   "id": "8ac204c1",
   "metadata": {},
   "outputs": [
    {
     "name": "stdout",
     "output_type": "stream",
     "text": [
      "<class 'pandas.core.frame.DataFrame'>\n",
      "Index: 4 entries, year to unempl\n",
      "Data columns (total 5 columns):\n",
      " #   Column  Non-Null Count  Dtype \n",
      "---  ------  --------------  ----- \n",
      " 0   0       3 non-null      object\n",
      " 1   1       3 non-null      object\n",
      " 2   2       3 non-null      object\n",
      " 3   3       3 non-null      object\n",
      " 4   4       3 non-null      object\n",
      "dtypes: object(5)\n",
      "memory usage: 364.0+ bytes\n"
     ]
    }
   ],
   "source": [
    "df3.T.info()"
   ]
  },
  {
   "cell_type": "markdown",
   "id": "3ae4d301",
   "metadata": {},
   "source": [
    "### Set index, column names"
   ]
  },
  {
   "cell_type": "code",
   "execution_count": 12,
   "id": "d79b3abe",
   "metadata": {},
   "outputs": [
    {
     "data": {
      "text/html": [
       "<div>\n",
       "<style scoped>\n",
       "    .dataframe tbody tr th:only-of-type {\n",
       "        vertical-align: middle;\n",
       "    }\n",
       "\n",
       "    .dataframe tbody tr th {\n",
       "        vertical-align: top;\n",
       "    }\n",
       "\n",
       "    .dataframe thead th {\n",
       "        text-align: right;\n",
       "    }\n",
       "</style>\n",
       "<table border=\"1\" class=\"dataframe\">\n",
       "  <thead>\n",
       "    <tr style=\"text-align: right;\">\n",
       "      <th></th>\n",
       "      <th>VA</th>\n",
       "      <th>MD</th>\n",
       "    </tr>\n",
       "    <tr>\n",
       "      <th>year</th>\n",
       "      <th></th>\n",
       "      <th></th>\n",
       "    </tr>\n",
       "  </thead>\n",
       "  <tbody>\n",
       "    <tr>\n",
       "      <th>2014</th>\n",
       "      <td>5.2</td>\n",
       "      <td>4.0</td>\n",
       "    </tr>\n",
       "    <tr>\n",
       "      <th>2015</th>\n",
       "      <td>NaN</td>\n",
       "      <td>4.1</td>\n",
       "    </tr>\n",
       "  </tbody>\n",
       "</table>\n",
       "</div>"
      ],
      "text/plain": [
       "       VA   MD\n",
       "year          \n",
       "2014  5.2  4.0\n",
       "2015  NaN  4.1"
      ]
     },
     "execution_count": 12,
     "metadata": {},
     "output_type": "execute_result"
    }
   ],
   "source": [
    "df5.index.name = 'year'\n",
    "df5"
   ]
  },
  {
   "cell_type": "code",
   "execution_count": 13,
   "id": "68f65b76",
   "metadata": {},
   "outputs": [
    {
     "data": {
      "text/html": [
       "<div>\n",
       "<style scoped>\n",
       "    .dataframe tbody tr th:only-of-type {\n",
       "        vertical-align: middle;\n",
       "    }\n",
       "\n",
       "    .dataframe tbody tr th {\n",
       "        vertical-align: top;\n",
       "    }\n",
       "\n",
       "    .dataframe thead th {\n",
       "        text-align: right;\n",
       "    }\n",
       "</style>\n",
       "<table border=\"1\" class=\"dataframe\">\n",
       "  <thead>\n",
       "    <tr style=\"text-align: right;\">\n",
       "      <th>state</th>\n",
       "      <th>VA</th>\n",
       "      <th>MD</th>\n",
       "    </tr>\n",
       "    <tr>\n",
       "      <th>year</th>\n",
       "      <th></th>\n",
       "      <th></th>\n",
       "    </tr>\n",
       "  </thead>\n",
       "  <tbody>\n",
       "    <tr>\n",
       "      <th>2014</th>\n",
       "      <td>5.2</td>\n",
       "      <td>4.0</td>\n",
       "    </tr>\n",
       "    <tr>\n",
       "      <th>2015</th>\n",
       "      <td>NaN</td>\n",
       "      <td>4.1</td>\n",
       "    </tr>\n",
       "  </tbody>\n",
       "</table>\n",
       "</div>"
      ],
      "text/plain": [
       "state   VA   MD\n",
       "year           \n",
       "2014   5.2  4.0\n",
       "2015   NaN  4.1"
      ]
     },
     "execution_count": 13,
     "metadata": {},
     "output_type": "execute_result"
    }
   ],
   "source": [
    "df5.columns.name = 'state'\n",
    "df5"
   ]
  },
  {
   "cell_type": "markdown",
   "id": "dfb546aa",
   "metadata": {},
   "source": [
    "### Set column's type"
   ]
  },
  {
   "cell_type": "markdown",
   "id": "f09c1eb5",
   "metadata": {},
   "source": [
    "<div class=\"alert alert-info\">\n",
    "    <strong>Tip:</strong> It is important to set the correct datatype in columns as it will allow you make specific operations in the future.\n",
    "</div>"
   ]
  },
  {
   "cell_type": "code",
   "execution_count": 14,
   "id": "d85a55d9",
   "metadata": {},
   "outputs": [
    {
     "data": {
      "text/plain": [
       "0    2012\n",
       "1    2013\n",
       "2    2014\n",
       "3    2014\n",
       "4    2015\n",
       "Name: year, dtype: object"
      ]
     },
     "execution_count": 14,
     "metadata": {},
     "output_type": "execute_result"
    }
   ],
   "source": [
    "df3['year'] = df3['year'].astype(str)\n",
    "df3['year']"
   ]
  },
  {
   "cell_type": "markdown",
   "id": "3bc0f09c",
   "metadata": {},
   "source": [
    "### Create inidividual column"
   ]
  },
  {
   "cell_type": "markdown",
   "id": "b131adfb",
   "metadata": {},
   "source": [
    "Assign a new column that doesn't exist to create a new column:"
   ]
  },
  {
   "cell_type": "code",
   "execution_count": 15,
   "id": "9b93c700",
   "metadata": {},
   "outputs": [
    {
     "data": {
      "text/html": [
       "<div>\n",
       "<style scoped>\n",
       "    .dataframe tbody tr th:only-of-type {\n",
       "        vertical-align: middle;\n",
       "    }\n",
       "\n",
       "    .dataframe tbody tr th {\n",
       "        vertical-align: top;\n",
       "    }\n",
       "\n",
       "    .dataframe thead th {\n",
       "        text-align: right;\n",
       "    }\n",
       "</style>\n",
       "<table border=\"1\" class=\"dataframe\">\n",
       "  <thead>\n",
       "    <tr style=\"text-align: right;\">\n",
       "      <th></th>\n",
       "      <th>year</th>\n",
       "      <th>state</th>\n",
       "      <th>pop</th>\n",
       "      <th>unempl</th>\n",
       "      <th>new_year</th>\n",
       "    </tr>\n",
       "  </thead>\n",
       "  <tbody>\n",
       "    <tr>\n",
       "      <th>0</th>\n",
       "      <td>2012</td>\n",
       "      <td>VA</td>\n",
       "      <td>5.0</td>\n",
       "      <td>NaN</td>\n",
       "      <td>2012</td>\n",
       "    </tr>\n",
       "    <tr>\n",
       "      <th>1</th>\n",
       "      <td>2013</td>\n",
       "      <td>VA</td>\n",
       "      <td>5.1</td>\n",
       "      <td>NaN</td>\n",
       "      <td>2013</td>\n",
       "    </tr>\n",
       "    <tr>\n",
       "      <th>2</th>\n",
       "      <td>2014</td>\n",
       "      <td>VA</td>\n",
       "      <td>5.2</td>\n",
       "      <td>NaN</td>\n",
       "      <td>2014</td>\n",
       "    </tr>\n",
       "    <tr>\n",
       "      <th>3</th>\n",
       "      <td>2014</td>\n",
       "      <td>MD</td>\n",
       "      <td>4.0</td>\n",
       "      <td>NaN</td>\n",
       "      <td>2014</td>\n",
       "    </tr>\n",
       "    <tr>\n",
       "      <th>4</th>\n",
       "      <td>2015</td>\n",
       "      <td>MD</td>\n",
       "      <td>4.1</td>\n",
       "      <td>NaN</td>\n",
       "      <td>2015</td>\n",
       "    </tr>\n",
       "  </tbody>\n",
       "</table>\n",
       "</div>"
      ],
      "text/plain": [
       "   year state  pop unempl new_year\n",
       "0  2012    VA  5.0    NaN     2012\n",
       "1  2013    VA  5.1    NaN     2013\n",
       "2  2014    VA  5.2    NaN     2014\n",
       "3  2014    MD  4.0    NaN     2014\n",
       "4  2015    MD  4.1    NaN     2015"
      ]
     },
     "execution_count": 15,
     "metadata": {},
     "output_type": "execute_result"
    }
   ],
   "source": [
    "df3['new_year'] = df3['year']\n",
    "df3"
   ]
  },
  {
   "cell_type": "markdown",
   "id": "c9c25190",
   "metadata": {},
   "source": [
    "## Getting index/values"
   ]
  },
  {
   "cell_type": "markdown",
   "id": "bd4eea55",
   "metadata": {},
   "source": [
    "### Get column(s)"
   ]
  },
  {
   "cell_type": "markdown",
   "id": "f50ceac7",
   "metadata": {},
   "source": [
    "Retrieve a column by key, returning a Series."
   ]
  },
  {
   "cell_type": "code",
   "execution_count": 16,
   "id": "2a2a3365",
   "metadata": {},
   "outputs": [
    {
     "data": {
      "text/plain": [
       "0    2012\n",
       "1    2013\n",
       "2    2014\n",
       "3    2014\n",
       "4    2015\n",
       "Name: year, dtype: object"
      ]
     },
     "execution_count": 16,
     "metadata": {},
     "output_type": "execute_result"
    }
   ],
   "source": [
    "df3['year']"
   ]
  },
  {
   "cell_type": "markdown",
   "id": "12646619",
   "metadata": {},
   "source": [
    "Retrieve a column by attribute"
   ]
  },
  {
   "cell_type": "code",
   "execution_count": 17,
   "id": "b7070e45",
   "metadata": {},
   "outputs": [
    {
     "data": {
      "text/plain": [
       "0    2012\n",
       "1    2013\n",
       "2    2014\n",
       "3    2014\n",
       "4    2015\n",
       "Name: year, dtype: object"
      ]
     },
     "execution_count": 17,
     "metadata": {},
     "output_type": "execute_result"
    }
   ],
   "source": [
    "df3.year"
   ]
  },
  {
   "cell_type": "markdown",
   "id": "0d15ea2c",
   "metadata": {},
   "source": [
    "<strong>Question:</strong> ¿What type of structure is the last result?<br>\n",
    "<strong>Ans:</strong> Series"
   ]
  },
  {
   "cell_type": "code",
   "execution_count": 18,
   "id": "b70c71d8",
   "metadata": {},
   "outputs": [
    {
     "data": {
      "text/plain": [
       "pandas.core.series.Series"
      ]
     },
     "execution_count": 18,
     "metadata": {},
     "output_type": "execute_result"
    }
   ],
   "source": [
    "type(df3['year'])"
   ]
  },
  {
   "cell_type": "code",
   "execution_count": 19,
   "id": "1c3f8f71",
   "metadata": {},
   "outputs": [
    {
     "data": {
      "text/html": [
       "<div>\n",
       "<style scoped>\n",
       "    .dataframe tbody tr th:only-of-type {\n",
       "        vertical-align: middle;\n",
       "    }\n",
       "\n",
       "    .dataframe tbody tr th {\n",
       "        vertical-align: top;\n",
       "    }\n",
       "\n",
       "    .dataframe thead th {\n",
       "        text-align: right;\n",
       "    }\n",
       "</style>\n",
       "<table border=\"1\" class=\"dataframe\">\n",
       "  <thead>\n",
       "    <tr style=\"text-align: right;\">\n",
       "      <th></th>\n",
       "      <th>year</th>\n",
       "    </tr>\n",
       "  </thead>\n",
       "  <tbody>\n",
       "    <tr>\n",
       "      <th>0</th>\n",
       "      <td>2012</td>\n",
       "    </tr>\n",
       "    <tr>\n",
       "      <th>1</th>\n",
       "      <td>2013</td>\n",
       "    </tr>\n",
       "    <tr>\n",
       "      <th>2</th>\n",
       "      <td>2014</td>\n",
       "    </tr>\n",
       "    <tr>\n",
       "      <th>3</th>\n",
       "      <td>2014</td>\n",
       "    </tr>\n",
       "    <tr>\n",
       "      <th>4</th>\n",
       "      <td>2015</td>\n",
       "    </tr>\n",
       "  </tbody>\n",
       "</table>\n",
       "</div>"
      ],
      "text/plain": [
       "   year\n",
       "0  2012\n",
       "1  2013\n",
       "2  2014\n",
       "3  2014\n",
       "4  2015"
      ]
     },
     "execution_count": 19,
     "metadata": {},
     "output_type": "execute_result"
    }
   ],
   "source": [
    "pd.DataFrame(df3['year'])"
   ]
  },
  {
   "cell_type": "markdown",
   "id": "2e948d09",
   "metadata": {},
   "source": [
    "Get multiples columns"
   ]
  },
  {
   "cell_type": "code",
   "execution_count": 20,
   "id": "048fba93",
   "metadata": {},
   "outputs": [
    {
     "data": {
      "text/html": [
       "<div>\n",
       "<style scoped>\n",
       "    .dataframe tbody tr th:only-of-type {\n",
       "        vertical-align: middle;\n",
       "    }\n",
       "\n",
       "    .dataframe tbody tr th {\n",
       "        vertical-align: top;\n",
       "    }\n",
       "\n",
       "    .dataframe thead th {\n",
       "        text-align: right;\n",
       "    }\n",
       "</style>\n",
       "<table border=\"1\" class=\"dataframe\">\n",
       "  <thead>\n",
       "    <tr style=\"text-align: right;\">\n",
       "      <th></th>\n",
       "      <th>year</th>\n",
       "      <th>state</th>\n",
       "    </tr>\n",
       "  </thead>\n",
       "  <tbody>\n",
       "    <tr>\n",
       "      <th>0</th>\n",
       "      <td>2012</td>\n",
       "      <td>VA</td>\n",
       "    </tr>\n",
       "    <tr>\n",
       "      <th>1</th>\n",
       "      <td>2013</td>\n",
       "      <td>VA</td>\n",
       "    </tr>\n",
       "    <tr>\n",
       "      <th>2</th>\n",
       "      <td>2014</td>\n",
       "      <td>VA</td>\n",
       "    </tr>\n",
       "    <tr>\n",
       "      <th>3</th>\n",
       "      <td>2014</td>\n",
       "      <td>MD</td>\n",
       "    </tr>\n",
       "    <tr>\n",
       "      <th>4</th>\n",
       "      <td>2015</td>\n",
       "      <td>MD</td>\n",
       "    </tr>\n",
       "  </tbody>\n",
       "</table>\n",
       "</div>"
      ],
      "text/plain": [
       "   year state\n",
       "0  2012    VA\n",
       "1  2013    VA\n",
       "2  2014    VA\n",
       "3  2014    MD\n",
       "4  2015    MD"
      ]
     },
     "execution_count": 20,
     "metadata": {},
     "output_type": "execute_result"
    }
   ],
   "source": [
    "df3[['year', 'state']]"
   ]
  },
  {
   "cell_type": "markdown",
   "id": "0767a688",
   "metadata": {},
   "source": [
    "### Get row(s)"
   ]
  },
  {
   "cell_type": "markdown",
   "id": "db3f417f",
   "metadata": {},
   "source": [
    "Retrieve data with loc."
   ]
  },
  {
   "cell_type": "code",
   "execution_count": 30,
   "id": "8e9fe626",
   "metadata": {},
   "outputs": [
    {
     "data": {
      "text/plain": [
       "year        2014\n",
       "pop          5.2\n",
       "unempl       NaN\n",
       "new_year    2014\n",
       "Name: 2, dtype: object"
      ]
     },
     "execution_count": 30,
     "metadata": {},
     "output_type": "execute_result"
    }
   ],
   "source": [
    "df3.loc[2]"
   ]
  },
  {
   "cell_type": "code",
   "execution_count": 32,
   "id": "2827f88b",
   "metadata": {},
   "outputs": [
    {
     "data": {
      "text/plain": [
       "'2014'"
      ]
     },
     "execution_count": 32,
     "metadata": {},
     "output_type": "execute_result"
    }
   ],
   "source": [
    "df3.loc[2, 'year']"
   ]
  },
  {
   "cell_type": "markdown",
   "id": "35437399",
   "metadata": {},
   "source": [
    "Retrieve a row by position"
   ]
  },
  {
   "cell_type": "code",
   "execution_count": 31,
   "id": "fb12058b",
   "metadata": {},
   "outputs": [
    {
     "data": {
      "text/plain": [
       "year        2012\n",
       "pop          5.0\n",
       "unempl       NaN\n",
       "new_year    2012\n",
       "Name: 0, dtype: object"
      ]
     },
     "execution_count": 31,
     "metadata": {},
     "output_type": "execute_result"
    }
   ],
   "source": [
    "df3.iloc[0]    #iloc = index location"
   ]
  },
  {
   "cell_type": "code",
   "execution_count": 22,
   "id": "66e5b9c1",
   "metadata": {},
   "outputs": [
    {
     "data": {
      "text/plain": [
       "pandas.core.series.Series"
      ]
     },
     "execution_count": 22,
     "metadata": {},
     "output_type": "execute_result"
    }
   ],
   "source": [
    "type(df3.iloc[0])"
   ]
  },
  {
   "cell_type": "markdown",
   "id": "f6400563",
   "metadata": {},
   "source": [
    "Retrieve multiple rows with slice."
   ]
  },
  {
   "cell_type": "code",
   "execution_count": 37,
   "id": "e8a65bc0",
   "metadata": {},
   "outputs": [
    {
     "data": {
      "text/html": [
       "<div>\n",
       "<style scoped>\n",
       "    .dataframe tbody tr th:only-of-type {\n",
       "        vertical-align: middle;\n",
       "    }\n",
       "\n",
       "    .dataframe tbody tr th {\n",
       "        vertical-align: top;\n",
       "    }\n",
       "\n",
       "    .dataframe thead th {\n",
       "        text-align: right;\n",
       "    }\n",
       "</style>\n",
       "<table border=\"1\" class=\"dataframe\">\n",
       "  <thead>\n",
       "    <tr style=\"text-align: right;\">\n",
       "      <th></th>\n",
       "      <th>year</th>\n",
       "      <th>pop</th>\n",
       "      <th>unempl</th>\n",
       "      <th>new_year</th>\n",
       "    </tr>\n",
       "  </thead>\n",
       "  <tbody>\n",
       "    <tr>\n",
       "      <th>2</th>\n",
       "      <td>2014</td>\n",
       "      <td>5.2</td>\n",
       "      <td>NaN</td>\n",
       "      <td>2014</td>\n",
       "    </tr>\n",
       "  </tbody>\n",
       "</table>\n",
       "</div>"
      ],
      "text/plain": [
       "   year  pop unempl new_year\n",
       "2  2014  5.2    NaN     2014"
      ]
     },
     "execution_count": 37,
     "metadata": {},
     "output_type": "execute_result"
    }
   ],
   "source": [
    "df3.iloc[2:3]"
   ]
  },
  {
   "cell_type": "markdown",
   "id": "4e1827b9",
   "metadata": {},
   "source": [
    "<div class=\"alert alert-info\">\n",
    "    <strong>Tip:</strong> The main diference with <code>loc</code> and <code>iloc</code>:\n",
    "    <ul>\n",
    "        <li>\n",
    "            Loc is for index name(number or string), iloc is for index (number).</li>\n",
    "        <li>\n",
    "            The last element in slicing with loc is incluse, in iloc is exclusive.\n",
    "        </li>\n",
    "        <li>\n",
    "            If using index with numbers, iloc and loc are similar.</li>\n",
    "    </ul>\n",
    "</div>"
   ]
  },
  {
   "cell_type": "markdown",
   "id": "b98fedac",
   "metadata": {},
   "source": [
    "Select a slice of rows from a specific column of a DataFrame:"
   ]
  },
  {
   "cell_type": "code",
   "execution_count": 39,
   "id": "1c8dd9be",
   "metadata": {},
   "outputs": [
    {
     "data": {
      "text/plain": [
       "0    5.0\n",
       "1    5.1\n",
       "2    5.2\n",
       "Name: pop, dtype: float64"
      ]
     },
     "execution_count": 39,
     "metadata": {},
     "output_type": "execute_result"
    }
   ],
   "source": [
    "df3.loc[0:2, 'pop']"
   ]
  },
  {
   "cell_type": "markdown",
   "id": "23d61f66",
   "metadata": {},
   "source": [
    "### Get data as 2D array"
   ]
  },
  {
   "cell_type": "markdown",
   "id": "62a945bd",
   "metadata": {},
   "source": [
    "Return the data contained in a DataFrame as a 2D ndarray:"
   ]
  },
  {
   "cell_type": "code",
   "execution_count": 24,
   "id": "05c8d5a0",
   "metadata": {},
   "outputs": [
    {
     "data": {
      "text/plain": [
       "array([[5.2, 4. ],\n",
       "       [nan, 4.1]])"
      ]
     },
     "execution_count": 24,
     "metadata": {},
     "output_type": "execute_result"
    }
   ],
   "source": [
    "df5.values"
   ]
  },
  {
   "cell_type": "markdown",
   "id": "d8701f06",
   "metadata": {},
   "source": [
    "If the columns are different dtypes, the 2D ndarray's dtype will accomodate all of the columns:"
   ]
  },
  {
   "cell_type": "code",
   "execution_count": 25,
   "id": "63f2193f",
   "metadata": {},
   "outputs": [
    {
     "data": {
      "text/plain": [
       "array([['2012', 'VA', 5.0, nan, '2012'],\n",
       "       ['2013', 'VA', 5.1, nan, '2013'],\n",
       "       ['2014', 'VA', 5.2, nan, '2014'],\n",
       "       ['2014', 'MD', 4.0, nan, '2014'],\n",
       "       ['2015', 'MD', 4.1, nan, '2015']], dtype=object)"
      ]
     },
     "execution_count": 25,
     "metadata": {},
     "output_type": "execute_result"
    }
   ],
   "source": [
    "df3.values"
   ]
  },
  {
   "cell_type": "markdown",
   "id": "0b6a4116",
   "metadata": {},
   "source": [
    "## Deleting index/values"
   ]
  },
  {
   "cell_type": "markdown",
   "id": "5b12c359",
   "metadata": {},
   "source": [
    "### Deleting column(s)"
   ]
  },
  {
   "cell_type": "code",
   "execution_count": 26,
   "id": "9e728582",
   "metadata": {},
   "outputs": [],
   "source": [
    "if 'state' in df3.columns:\n",
    "    del df3['state']\n",
    "else:\n",
    "    print(\"Column doesn't exist\")"
   ]
  }
 ],
 "metadata": {
  "kernelspec": {
   "display_name": "analytics",
   "language": "python",
   "name": "myenv"
  },
  "language_info": {
   "codemirror_mode": {
    "name": "ipython",
    "version": 3
   },
   "file_extension": ".py",
   "mimetype": "text/x-python",
   "name": "python",
   "nbconvert_exporter": "python",
   "pygments_lexer": "ipython3",
   "version": "3.7.11"
  }
 },
 "nbformat": 4,
 "nbformat_minor": 5
}
