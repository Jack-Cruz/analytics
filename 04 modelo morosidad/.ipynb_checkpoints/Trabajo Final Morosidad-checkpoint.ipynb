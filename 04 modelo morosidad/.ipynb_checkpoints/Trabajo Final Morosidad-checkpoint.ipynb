{
 "cells": [
  {
   "cell_type": "code",
   "execution_count": 1,
   "id": "0e18b7b7",
   "metadata": {},
   "outputs": [],
   "source": [
    "import pandas as pd\n",
    "import numpy as np\n",
    "import missingno as msno\n",
    "import seaborn as sns\n",
    "import matplotlib.pyplot as plt"
   ]
  },
  {
   "cell_type": "markdown",
   "id": "492fb83a",
   "metadata": {},
   "source": [
    "## Data Description\n",
    "\n",
    "El dataset fue obtenido del archivo CSV *morosidad_train_test.csv* y se almaceno en la variable *dfmorosidad*, este presenta 14 columnas y 1194 filas (registros). La descripción de las columnas son:\n",
    "\n",
    "- idPrestamo: Identificador del préstamo \n",
    "- Target: Indica si cayó en mora (1) o cumplió con los pagos (0)\n",
    "- monthy_debt_capacity: Capacidad de endeudamiento mensual\n",
    "- var_employment_time_in_months: Cuantos meses seguidos lleva trabajando en su trabajo actual\n",
    "- approved_amount: monto solicitado\n",
    "- approved_term: cuotas solicitadas\n",
    "- approved_interest_amount: interés total que pagará\n",
    "- var_net_income: salario\n",
    "- person_gender: sexo del solicitante\n",
    "- credit_history_marital_status: Estado civil\n",
    "- var_max_sbs_qual_12m: peor estado que haya estado categorizado en la SBS en los últimos 12 meses\n",
    "- person_degree_type_desc: Nivel de educación\n",
    "- default_request_term: Escogió el número de cuotas que se le ofreció (1)\n",
    "- default_request_amount: Escogió el monto de dinero que se le ofreció (1)\n",
    "\n",
    "En un estado inicial, la variable *var_employment_time_in_months* presenta 139 datos perdidos."
   ]
  },
  {
   "cell_type": "code",
   "execution_count": 2,
   "id": "3b07d9b7",
   "metadata": {},
   "outputs": [],
   "source": [
    "dfmorosidad = pd.DataFrame(pd.read_csv('./morosidad_train_test.csv'))"
   ]
  },
  {
   "cell_type": "code",
   "execution_count": 3,
   "id": "285597ba",
   "metadata": {},
   "outputs": [
    {
     "data": {
      "text/html": [
       "<div>\n",
       "<style scoped>\n",
       "    .dataframe tbody tr th:only-of-type {\n",
       "        vertical-align: middle;\n",
       "    }\n",
       "\n",
       "    .dataframe tbody tr th {\n",
       "        vertical-align: top;\n",
       "    }\n",
       "\n",
       "    .dataframe thead th {\n",
       "        text-align: right;\n",
       "    }\n",
       "</style>\n",
       "<table border=\"1\" class=\"dataframe\">\n",
       "  <thead>\n",
       "    <tr style=\"text-align: right;\">\n",
       "      <th></th>\n",
       "      <th>idPrestamo</th>\n",
       "      <th>target</th>\n",
       "      <th>monthly_debt_capacity</th>\n",
       "      <th>var_employment_time_in_months</th>\n",
       "      <th>approved_amount</th>\n",
       "      <th>approved_term</th>\n",
       "      <th>approved_interest_amount</th>\n",
       "      <th>var_net_income</th>\n",
       "      <th>person_gender</th>\n",
       "      <th>credit_history_marital_status</th>\n",
       "      <th>var_max_sbs_qual_12m</th>\n",
       "      <th>person_degree_type_desc</th>\n",
       "      <th>default_request_term</th>\n",
       "      <th>default_request_amount</th>\n",
       "    </tr>\n",
       "  </thead>\n",
       "  <tbody>\n",
       "    <tr>\n",
       "      <th>0</th>\n",
       "      <td>LIBDISP9832897855</td>\n",
       "      <td>1</td>\n",
       "      <td>252.39</td>\n",
       "      <td>9.0</td>\n",
       "      <td>1,200</td>\n",
       "      <td>6</td>\n",
       "      <td>289.11</td>\n",
       "      <td>1140.125</td>\n",
       "      <td>MALE</td>\n",
       "      <td>C</td>\n",
       "      <td>NORMAL</td>\n",
       "      <td>Secundaria</td>\n",
       "      <td>1</td>\n",
       "      <td>0</td>\n",
       "    </tr>\n",
       "    <tr>\n",
       "      <th>1</th>\n",
       "      <td>LIBDISP9021501745</td>\n",
       "      <td>1</td>\n",
       "      <td>244.57</td>\n",
       "      <td>50.0</td>\n",
       "      <td>2,200</td>\n",
       "      <td>12</td>\n",
       "      <td>696.15</td>\n",
       "      <td>1061.375</td>\n",
       "      <td>FEMALE</td>\n",
       "      <td>S</td>\n",
       "      <td>NORMAL</td>\n",
       "      <td>Secundaria</td>\n",
       "      <td>0</td>\n",
       "      <td>0</td>\n",
       "    </tr>\n",
       "  </tbody>\n",
       "</table>\n",
       "</div>"
      ],
      "text/plain": [
       "          idPrestamo  target monthly_debt_capacity  \\\n",
       "0  LIBDISP9832897855       1                252.39   \n",
       "1  LIBDISP9021501745       1                244.57   \n",
       "\n",
       "   var_employment_time_in_months approved_amount  approved_term  \\\n",
       "0                            9.0           1,200              6   \n",
       "1                           50.0           2,200             12   \n",
       "\n",
       "  approved_interest_amount  var_net_income person_gender  \\\n",
       "0                   289.11        1140.125          MALE   \n",
       "1                   696.15        1061.375        FEMALE   \n",
       "\n",
       "  credit_history_marital_status var_max_sbs_qual_12m person_degree_type_desc  \\\n",
       "0                             C               NORMAL              Secundaria   \n",
       "1                             S               NORMAL              Secundaria   \n",
       "\n",
       "   default_request_term  default_request_amount  \n",
       "0                     1                       0  \n",
       "1                     0                       0  "
      ]
     },
     "execution_count": 3,
     "metadata": {},
     "output_type": "execute_result"
    }
   ],
   "source": [
    "dfmorosidad.head(2)"
   ]
  },
  {
   "cell_type": "code",
   "execution_count": 4,
   "id": "fccb93fb",
   "metadata": {},
   "outputs": [
    {
     "name": "stdout",
     "output_type": "stream",
     "text": [
      "<class 'pandas.core.frame.DataFrame'>\n",
      "RangeIndex: 1194 entries, 0 to 1193\n",
      "Data columns (total 14 columns):\n",
      " #   Column                         Non-Null Count  Dtype  \n",
      "---  ------                         --------------  -----  \n",
      " 0   idPrestamo                     1194 non-null   object \n",
      " 1   target                         1194 non-null   int64  \n",
      " 2   monthly_debt_capacity          1194 non-null   object \n",
      " 3   var_employment_time_in_months  1055 non-null   float64\n",
      " 4   approved_amount                1194 non-null   object \n",
      " 5   approved_term                  1194 non-null   int64  \n",
      " 6   approved_interest_amount       1194 non-null   object \n",
      " 7   var_net_income                 1194 non-null   float64\n",
      " 8   person_gender                  1194 non-null   object \n",
      " 9   credit_history_marital_status  1194 non-null   object \n",
      " 10  var_max_sbs_qual_12m           1194 non-null   object \n",
      " 11  person_degree_type_desc        1194 non-null   object \n",
      " 12  default_request_term           1194 non-null   int64  \n",
      " 13  default_request_amount         1194 non-null   int64  \n",
      "dtypes: float64(2), int64(4), object(8)\n",
      "memory usage: 130.7+ KB\n"
     ]
    }
   ],
   "source": [
    "dfmorosidad.info()"
   ]
  },
  {
   "cell_type": "markdown",
   "id": "cccb880a",
   "metadata": {},
   "source": [
    "## Data Exploration"
   ]
  },
  {
   "cell_type": "markdown",
   "id": "d8cda65a",
   "metadata": {},
   "source": [
    "### Integer Variable's type"
   ]
  },
  {
   "cell_type": "markdown",
   "id": "14a3a4ed",
   "metadata": {},
   "source": [
    "Los tipos de dato de las variables *monthly_debt_capacity*, *approved_amount*, *approved_interest_amount* estan en formato *object*. Creamos una función que detecta los caracteres en una variable."
   ]
  },
  {
   "cell_type": "code",
   "execution_count": 5,
   "id": "1607e33c",
   "metadata": {},
   "outputs": [],
   "source": [
    "def contains_char_comma(df, variables, characters=[',']):\n",
    "    \n",
    "    dfchar = pd.DataFrame(columns=characters, index=variables)\n",
    "    \n",
    "    for character in characters:\n",
    "        lst = []\n",
    "        for variable in variables:\n",
    "            column =  df[variable].str.contains(character)\n",
    "            total = column.sum().astype(int)\n",
    "            lst.append(total)\n",
    "        \n",
    "        dfchar[character] = pd.Series(lst).values\n",
    "        \n",
    "    return dfchar"
   ]
  },
  {
   "cell_type": "code",
   "execution_count": 6,
   "id": "c8aa6614",
   "metadata": {},
   "outputs": [
    {
     "data": {
      "text/html": [
       "<div>\n",
       "<style scoped>\n",
       "    .dataframe tbody tr th:only-of-type {\n",
       "        vertical-align: middle;\n",
       "    }\n",
       "\n",
       "    .dataframe tbody tr th {\n",
       "        vertical-align: top;\n",
       "    }\n",
       "\n",
       "    .dataframe thead th {\n",
       "        text-align: right;\n",
       "    }\n",
       "</style>\n",
       "<table border=\"1\" class=\"dataframe\">\n",
       "  <thead>\n",
       "    <tr style=\"text-align: right;\">\n",
       "      <th></th>\n",
       "      <th>,</th>\n",
       "    </tr>\n",
       "  </thead>\n",
       "  <tbody>\n",
       "    <tr>\n",
       "      <th>monthly_debt_capacity</th>\n",
       "      <td>120</td>\n",
       "    </tr>\n",
       "    <tr>\n",
       "      <th>approved_amount</th>\n",
       "      <td>1120</td>\n",
       "    </tr>\n",
       "    <tr>\n",
       "      <th>approved_interest_amount</th>\n",
       "      <td>136</td>\n",
       "    </tr>\n",
       "  </tbody>\n",
       "</table>\n",
       "</div>"
      ],
      "text/plain": [
       "                             ,\n",
       "monthly_debt_capacity      120\n",
       "approved_amount           1120\n",
       "approved_interest_amount   136"
      ]
     },
     "execution_count": 6,
     "metadata": {},
     "output_type": "execute_result"
    }
   ],
   "source": [
    "variables = ['monthly_debt_capacity', 'approved_amount', 'approved_interest_amount']\n",
    "contains_char_comma(dfmorosidad, variables)"
   ]
  },
  {
   "cell_type": "markdown",
   "id": "ee0f8265",
   "metadata": {},
   "source": [
    "Luego, buscaremos en qué posición se encuentra el caracter ',' (decimal o unidad de millar)."
   ]
  },
  {
   "cell_type": "code",
   "execution_count": 7,
   "id": "3a76305a",
   "metadata": {},
   "outputs": [],
   "source": [
    "def contains_coma_sample(df, columns, character=','):\n",
    "    for column in columns:\n",
    "        print(\"-\", column, end=\"\\t: \")\n",
    "        serie = df[column].str.contains(character)\n",
    "        serie = df[serie][column]\n",
    "        serie = serie.sample(1)\n",
    "        print(serie.values)"
   ]
  },
  {
   "cell_type": "code",
   "execution_count": 8,
   "id": "66c83500",
   "metadata": {},
   "outputs": [
    {
     "name": "stdout",
     "output_type": "stream",
     "text": [
      "- monthly_debt_capacity\t: ['1,112.49']\n",
      "- approved_amount\t: ['2,200']\n",
      "- approved_interest_amount\t: ['2,131.81']\n"
     ]
    }
   ],
   "source": [
    "contains_coma_sample(dfmorosidad, variables)"
   ]
  },
  {
   "cell_type": "markdown",
   "id": "567ac295",
   "metadata": {},
   "source": [
    "Podemos notar que en los 3 casos la coma ',' representa la unidad de millar, por ello, lo quitaremos y trasnformaremos a tipo flotante."
   ]
  },
  {
   "cell_type": "code",
   "execution_count": 9,
   "id": "8d8852e3",
   "metadata": {},
   "outputs": [],
   "source": [
    "def transform_coma(df, columns, character=','):\n",
    "    for column in columns:\n",
    "        df[column] = df[column].str.replace(',', '')\n",
    "        df[column] = df[column].astype(float)\n",
    "    return df"
   ]
  },
  {
   "cell_type": "code",
   "execution_count": 10,
   "id": "794af6ea",
   "metadata": {},
   "outputs": [],
   "source": [
    "dfmorosidad = transform_coma(dfmorosidad, variables)"
   ]
  },
  {
   "cell_type": "code",
   "execution_count": 11,
   "id": "11a82ce2",
   "metadata": {},
   "outputs": [
    {
     "name": "stdout",
     "output_type": "stream",
     "text": [
      "<class 'pandas.core.frame.DataFrame'>\n",
      "RangeIndex: 1194 entries, 0 to 1193\n",
      "Data columns (total 14 columns):\n",
      " #   Column                         Non-Null Count  Dtype  \n",
      "---  ------                         --------------  -----  \n",
      " 0   idPrestamo                     1194 non-null   object \n",
      " 1   target                         1194 non-null   int64  \n",
      " 2   monthly_debt_capacity          1194 non-null   float64\n",
      " 3   var_employment_time_in_months  1055 non-null   float64\n",
      " 4   approved_amount                1194 non-null   float64\n",
      " 5   approved_term                  1194 non-null   int64  \n",
      " 6   approved_interest_amount       1194 non-null   float64\n",
      " 7   var_net_income                 1194 non-null   float64\n",
      " 8   person_gender                  1194 non-null   object \n",
      " 9   credit_history_marital_status  1194 non-null   object \n",
      " 10  var_max_sbs_qual_12m           1194 non-null   object \n",
      " 11  person_degree_type_desc        1194 non-null   object \n",
      " 12  default_request_term           1194 non-null   int64  \n",
      " 13  default_request_amount         1194 non-null   int64  \n",
      "dtypes: float64(5), int64(4), object(5)\n",
      "memory usage: 130.7+ KB\n"
     ]
    }
   ],
   "source": [
    "dfmorosidad.info()"
   ]
  },
  {
   "cell_type": "markdown",
   "id": "01aa9418",
   "metadata": {},
   "source": [
    "### NaN values\n",
    "\n",
    "Luego, analizamos los mínimos y máximos de las variables. Podemos observar dos casos que requiere atención:\n",
    "- La variable *var_employment_time_in_months* posee mìnimo -1, asumimos que significa no existe el dato y lo remplazamos con NaN.\n",
    "- La variable *var_net_income* posee mínimo 0, asumimos que es un error y lo remplazamos con NaN. \n",
    "- La variable *default_request_amount* posee siempre el valor 0, lo quitaremos del análisis pues asumimos que el cliente nunca acepta el monto que se ofrece."
   ]
  },
  {
   "cell_type": "code",
   "execution_count": 12,
   "id": "d7857336",
   "metadata": {},
   "outputs": [
    {
     "data": {
      "text/html": [
       "<div>\n",
       "<style scoped>\n",
       "    .dataframe tbody tr th:only-of-type {\n",
       "        vertical-align: middle;\n",
       "    }\n",
       "\n",
       "    .dataframe tbody tr th {\n",
       "        vertical-align: top;\n",
       "    }\n",
       "\n",
       "    .dataframe thead th {\n",
       "        text-align: right;\n",
       "    }\n",
       "</style>\n",
       "<table border=\"1\" class=\"dataframe\">\n",
       "  <thead>\n",
       "    <tr style=\"text-align: right;\">\n",
       "      <th></th>\n",
       "      <th>target</th>\n",
       "      <th>monthly_debt_capacity</th>\n",
       "      <th>var_employment_time_in_months</th>\n",
       "      <th>approved_amount</th>\n",
       "      <th>approved_term</th>\n",
       "      <th>approved_interest_amount</th>\n",
       "      <th>var_net_income</th>\n",
       "      <th>default_request_term</th>\n",
       "      <th>default_request_amount</th>\n",
       "    </tr>\n",
       "  </thead>\n",
       "  <tbody>\n",
       "    <tr>\n",
       "      <th>count</th>\n",
       "      <td>1194.000000</td>\n",
       "      <td>1194.000000</td>\n",
       "      <td>1055.000000</td>\n",
       "      <td>1194.000000</td>\n",
       "      <td>1194.000000</td>\n",
       "      <td>1194.000000</td>\n",
       "      <td>1194.000000</td>\n",
       "      <td>1194.000000</td>\n",
       "      <td>1194.0</td>\n",
       "    </tr>\n",
       "    <tr>\n",
       "      <th>mean</th>\n",
       "      <td>0.294807</td>\n",
       "      <td>596.292119</td>\n",
       "      <td>34.236019</td>\n",
       "      <td>2181.825796</td>\n",
       "      <td>6.481575</td>\n",
       "      <td>415.200854</td>\n",
       "      <td>2726.751860</td>\n",
       "      <td>0.507538</td>\n",
       "      <td>0.0</td>\n",
       "    </tr>\n",
       "    <tr>\n",
       "      <th>std</th>\n",
       "      <td>0.456147</td>\n",
       "      <td>476.308950</td>\n",
       "      <td>27.120370</td>\n",
       "      <td>1575.524133</td>\n",
       "      <td>3.020757</td>\n",
       "      <td>418.867230</td>\n",
       "      <td>1869.715874</td>\n",
       "      <td>0.500153</td>\n",
       "      <td>0.0</td>\n",
       "    </tr>\n",
       "    <tr>\n",
       "      <th>min</th>\n",
       "      <td>0.000000</td>\n",
       "      <td>110.820000</td>\n",
       "      <td>-1.000000</td>\n",
       "      <td>500.000000</td>\n",
       "      <td>1.000000</td>\n",
       "      <td>22.820000</td>\n",
       "      <td>0.000000</td>\n",
       "      <td>0.000000</td>\n",
       "      <td>0.0</td>\n",
       "    </tr>\n",
       "    <tr>\n",
       "      <th>25%</th>\n",
       "      <td>0.000000</td>\n",
       "      <td>362.155000</td>\n",
       "      <td>11.000000</td>\n",
       "      <td>1100.000000</td>\n",
       "      <td>6.000000</td>\n",
       "      <td>152.320000</td>\n",
       "      <td>1780.082500</td>\n",
       "      <td>0.000000</td>\n",
       "      <td>0.0</td>\n",
       "    </tr>\n",
       "    <tr>\n",
       "      <th>50%</th>\n",
       "      <td>0.000000</td>\n",
       "      <td>491.585000</td>\n",
       "      <td>25.000000</td>\n",
       "      <td>1500.000000</td>\n",
       "      <td>6.000000</td>\n",
       "      <td>281.390000</td>\n",
       "      <td>2385.176667</td>\n",
       "      <td>1.000000</td>\n",
       "      <td>0.0</td>\n",
       "    </tr>\n",
       "    <tr>\n",
       "      <th>75%</th>\n",
       "      <td>1.000000</td>\n",
       "      <td>672.155000</td>\n",
       "      <td>62.000000</td>\n",
       "      <td>2500.000000</td>\n",
       "      <td>6.000000</td>\n",
       "      <td>429.990000</td>\n",
       "      <td>3087.641667</td>\n",
       "      <td>1.000000</td>\n",
       "      <td>0.0</td>\n",
       "    </tr>\n",
       "    <tr>\n",
       "      <th>max</th>\n",
       "      <td>1.000000</td>\n",
       "      <td>7243.200000</td>\n",
       "      <td>87.000000</td>\n",
       "      <td>12200.000000</td>\n",
       "      <td>12.000000</td>\n",
       "      <td>2311.120000</td>\n",
       "      <td>28587.000000</td>\n",
       "      <td>1.000000</td>\n",
       "      <td>0.0</td>\n",
       "    </tr>\n",
       "  </tbody>\n",
       "</table>\n",
       "</div>"
      ],
      "text/plain": [
       "            target  monthly_debt_capacity  var_employment_time_in_months  \\\n",
       "count  1194.000000            1194.000000                    1055.000000   \n",
       "mean      0.294807             596.292119                      34.236019   \n",
       "std       0.456147             476.308950                      27.120370   \n",
       "min       0.000000             110.820000                      -1.000000   \n",
       "25%       0.000000             362.155000                      11.000000   \n",
       "50%       0.000000             491.585000                      25.000000   \n",
       "75%       1.000000             672.155000                      62.000000   \n",
       "max       1.000000            7243.200000                      87.000000   \n",
       "\n",
       "       approved_amount  approved_term  approved_interest_amount  \\\n",
       "count      1194.000000    1194.000000               1194.000000   \n",
       "mean       2181.825796       6.481575                415.200854   \n",
       "std        1575.524133       3.020757                418.867230   \n",
       "min         500.000000       1.000000                 22.820000   \n",
       "25%        1100.000000       6.000000                152.320000   \n",
       "50%        1500.000000       6.000000                281.390000   \n",
       "75%        2500.000000       6.000000                429.990000   \n",
       "max       12200.000000      12.000000               2311.120000   \n",
       "\n",
       "       var_net_income  default_request_term  default_request_amount  \n",
       "count     1194.000000           1194.000000                  1194.0  \n",
       "mean      2726.751860              0.507538                     0.0  \n",
       "std       1869.715874              0.500153                     0.0  \n",
       "min          0.000000              0.000000                     0.0  \n",
       "25%       1780.082500              0.000000                     0.0  \n",
       "50%       2385.176667              1.000000                     0.0  \n",
       "75%       3087.641667              1.000000                     0.0  \n",
       "max      28587.000000              1.000000                     0.0  "
      ]
     },
     "execution_count": 12,
     "metadata": {},
     "output_type": "execute_result"
    }
   ],
   "source": [
    "dfmorosidad.describe()"
   ]
  },
  {
   "cell_type": "code",
   "execution_count": 13,
   "id": "3217aa9b",
   "metadata": {},
   "outputs": [],
   "source": [
    "dfmorosidad['var_employment_time_in_months'] = np.where(dfmorosidad['var_employment_time_in_months'] == -1,\n",
    "                                                        np.nan,\n",
    "                                                        dfmorosidad['var_employment_time_in_months'])"
   ]
  },
  {
   "cell_type": "code",
   "execution_count": 14,
   "id": "606a5cd0",
   "metadata": {},
   "outputs": [],
   "source": [
    "dfmorosidad['var_net_income'] = np.where(dfmorosidad['var_net_income'] == 0,\n",
    "                                         np.nan,\n",
    "                                         dfmorosidad['var_net_income'])"
   ]
  },
  {
   "cell_type": "code",
   "execution_count": 15,
   "id": "d14dbd63",
   "metadata": {},
   "outputs": [],
   "source": [
    "del dfmorosidad['default_request_amount']"
   ]
  },
  {
   "cell_type": "markdown",
   "id": "f4ba580a",
   "metadata": {},
   "source": [
    "Analizamos la cantidad de nulos en cada variable y por cada cliente. En las variables tenemos:\n",
    "- 142 var_employment_time_in_months (11.89%)\n",
    "- 37 var_net_income (3.09%)\n",
    "\n",
    "Del total de 1194 clientes:\n",
    "- 1017 clientes poseen 13 variables completas\n",
    "- 176 clientes poseen 12 variables completas\n",
    "- 2 clientes poseen 11 variables completas"
   ]
  },
  {
   "cell_type": "code",
   "execution_count": 16,
   "id": "4067ea03",
   "metadata": {},
   "outputs": [
    {
     "data": {
      "text/plain": [
       "idPrestamo                       0.000000\n",
       "target                           0.000000\n",
       "monthly_debt_capacity            0.000000\n",
       "var_employment_time_in_months    0.118928\n",
       "approved_amount                  0.000000\n",
       "approved_term                    0.000000\n",
       "approved_interest_amount         0.000000\n",
       "var_net_income                   0.030988\n",
       "person_gender                    0.000000\n",
       "credit_history_marital_status    0.000000\n",
       "var_max_sbs_qual_12m             0.000000\n",
       "person_degree_type_desc          0.000000\n",
       "default_request_term             0.000000\n",
       "dtype: float64"
      ]
     },
     "execution_count": 16,
     "metadata": {},
     "output_type": "execute_result"
    }
   ],
   "source": [
    "#dfmorosidad.isna().sum()\n",
    "dfmorosidad.isna().mean()"
   ]
  },
  {
   "cell_type": "code",
   "execution_count": 17,
   "id": "a4c5bf12",
   "metadata": {},
   "outputs": [
    {
     "data": {
      "text/plain": [
       "13    1017\n",
       "12     175\n",
       "11       2\n",
       "dtype: int64"
      ]
     },
     "execution_count": 17,
     "metadata": {},
     "output_type": "execute_result"
    }
   ],
   "source": [
    "serie1 = dfmorosidad.notna().sum(axis=1)\n",
    "serie1 = serie1.value_counts()\n",
    "#serie1 = serie1 / serie1.sum()\n",
    "#serie1 = serie1*100\n",
    "serie1"
   ]
  },
  {
   "cell_type": "markdown",
   "id": "3106b4c8",
   "metadata": {},
   "source": [
    "Analizamos la correlación de NaNs forma visual, y concluimos que no poseen relación directamente,"
   ]
  },
  {
   "cell_type": "code",
   "execution_count": 18,
   "id": "0d86dae2",
   "metadata": {},
   "outputs": [
    {
     "data": {
      "text/plain": [
       "<AxesSubplot:>"
      ]
     },
     "execution_count": 18,
     "metadata": {},
     "output_type": "execute_result"
    },
    {
     "data": {
      "image/png": "[encoded data removed]",
      "text/plain": [
       "<Figure size 1440x864 with 2 Axes>"
      ]
     },
     "metadata": {
      "needs_background": "light"
     },
     "output_type": "display_data"
    }
   ],
   "source": [
    "msno.heatmap(dfmorosidad)"
   ]
  },
  {
   "cell_type": "markdown",
   "id": "3f49d1ed",
   "metadata": {},
   "source": [
    "Ahora la correlación de las variables, donde concluimos que:\n",
    "- *var_employment_time_in_months* no posee una alta correlación con las variables restantes\n",
    "- *var_net_income* posee una alta correlación con *monthly_debt_capacity* "
   ]
  },
  {
   "cell_type": "code",
   "execution_count": 19,
   "id": "e17bccbc",
   "metadata": {},
   "outputs": [
    {
     "data": {
      "text/plain": [
       "<AxesSubplot:>"
      ]
     },
     "execution_count": 19,
     "metadata": {},
     "output_type": "execute_result"
    },
    {
     "data": {
      "image/png": "[encoded data removed]",
      "text/plain": [
       "<Figure size 432x288 with 2 Axes>"
      ]
     },
     "metadata": {
      "needs_background": "light"
     },
     "output_type": "display_data"
    }
   ],
   "source": [
    "corr = dfmorosidad.corr()\n",
    "sns.heatmap(corr, xticklabels=corr.columns, yticklabels=corr.columns)"
   ]
  },
  {
   "cell_type": "markdown",
   "id": "c7315106",
   "metadata": {},
   "source": [
    "Por ahora borramos todas las variables con NaN de valor."
   ]
  },
  {
   "cell_type": "code",
   "execution_count": 20,
   "id": "980bf93c",
   "metadata": {},
   "outputs": [],
   "source": [
    "dfmorosidad.dropna(inplace=True)"
   ]
  },
  {
   "cell_type": "code",
   "execution_count": 21,
   "id": "8e5bcc6b",
   "metadata": {},
   "outputs": [
    {
     "name": "stdout",
     "output_type": "stream",
     "text": [
      "<class 'pandas.core.frame.DataFrame'>\n",
      "Int64Index: 1017 entries, 0 to 1193\n",
      "Data columns (total 13 columns):\n",
      " #   Column                         Non-Null Count  Dtype  \n",
      "---  ------                         --------------  -----  \n",
      " 0   idPrestamo                     1017 non-null   object \n",
      " 1   target                         1017 non-null   int64  \n",
      " 2   monthly_debt_capacity          1017 non-null   float64\n",
      " 3   var_employment_time_in_months  1017 non-null   float64\n",
      " 4   approved_amount                1017 non-null   float64\n",
      " 5   approved_term                  1017 non-null   int64  \n",
      " 6   approved_interest_amount       1017 non-null   float64\n",
      " 7   var_net_income                 1017 non-null   float64\n",
      " 8   person_gender                  1017 non-null   object \n",
      " 9   credit_history_marital_status  1017 non-null   object \n",
      " 10  var_max_sbs_qual_12m           1017 non-null   object \n",
      " 11  person_degree_type_desc        1017 non-null   object \n",
      " 12  default_request_term           1017 non-null   int64  \n",
      "dtypes: float64(5), int64(3), object(5)\n",
      "memory usage: 111.2+ KB\n"
     ]
    }
   ],
   "source": [
    "dfmorosidad.info()"
   ]
  },
  {
   "cell_type": "markdown",
   "id": "0591a5d4",
   "metadata": {},
   "source": [
    "## Outliers\n",
    "\n",
    "Buscamos los outliers de cada variable numérica."
   ]
  },
  {
   "cell_type": "code",
   "execution_count": 22,
   "id": "0a770c0c",
   "metadata": {},
   "outputs": [
    {
     "data": {
      "text/plain": [
       "<AxesSubplot:>"
      ]
     },
     "execution_count": 22,
     "metadata": {},
     "output_type": "execute_result"
    },
    {
     "data": {
      "image/png": "[encoded data removed]",
      "text/plain": [
       "<Figure size 720x432 with 1 Axes>"
      ]
     },
     "metadata": {
      "needs_background": "light"
     },
     "output_type": "display_data"
    }
   ],
   "source": [
    "fig, ax = plt.subplots(figsize=(10, 6))\n",
    "sns.boxplot(data=dfmorosidad, orient=\"h\")"
   ]
  },
  {
   "cell_type": "markdown",
   "id": "0aa68d1a",
   "metadata": {},
   "source": [
    "Aplicamos el *turkey method* para eliminar los outliers de la variable *var_net_income*, *approved_amount*, *monthly_debt_capacity*"
   ]
  },
  {
   "cell_type": "code",
   "execution_count": 23,
   "id": "f7109917",
   "metadata": {},
   "outputs": [],
   "source": [
    "def turkey_method(df, variable):\n",
    "    q1 = df[variable].quantile(0.25)\n",
    "    q3 = df[variable].quantile(0.75)\n",
    "    \n",
    "    iqr = q3 -q1\n",
    "    outerfence = 3*iqr\n",
    "    \n",
    "    outerfence_below = q1 - outerfence\n",
    "    outerfence_above = q3 + outerfence\n",
    "    outliers_prob = []\n",
    "    \n",
    "    for index, x in df[variable].iteritems():\n",
    "        if x <= outerfence_below or x >= outerfence_above:\n",
    "            outliers_prob.append(index)\n",
    "    \n",
    "    return outliers_prob"
   ]
  },
  {
   "cell_type": "code",
   "execution_count": 24,
   "id": "0b55258b",
   "metadata": {},
   "outputs": [
    {
     "data": {
      "text/plain": [
       "[120,\n",
       " 220,\n",
       " 222,\n",
       " 241,\n",
       " 250,\n",
       " 261,\n",
       " 274,\n",
       " 328,\n",
       " 420,\n",
       " 422,\n",
       " 503,\n",
       " 646,\n",
       " 666,\n",
       " 669,\n",
       " 767,\n",
       " 784,\n",
       " 793,\n",
       " 810,\n",
       " 836,\n",
       " 856,\n",
       " 890,\n",
       " 916,\n",
       " 976,\n",
       " 999,\n",
       " 1031,\n",
       " 1053,\n",
       " 1063,\n",
       " 1120]"
      ]
     },
     "execution_count": 24,
     "metadata": {},
     "output_type": "execute_result"
    }
   ],
   "source": [
    "outliers_income = turkey_method(dfmorosidad, 'var_net_income')\n",
    "outliers_income"
   ]
  },
  {
   "cell_type": "code",
   "execution_count": 25,
   "id": "d0a3cd24",
   "metadata": {},
   "outputs": [
    {
     "data": {
      "text/plain": [
       "[112, 115, 194, 247, 287, 767, 856, 951, 972, 976, 1031, 1053, 1083, 1169]"
      ]
     },
     "execution_count": 25,
     "metadata": {},
     "output_type": "execute_result"
    }
   ],
   "source": [
    "outliers_appamount = turkey_method(dfmorosidad, 'approved_amount')\n",
    "outliers_appamount"
   ]
  },
  {
   "cell_type": "code",
   "execution_count": 26,
   "id": "2e463108",
   "metadata": {},
   "outputs": [
    {
     "data": {
      "text/plain": [
       "[21,\n",
       " 77,\n",
       " 112,\n",
       " 194,\n",
       " 220,\n",
       " 222,\n",
       " 235,\n",
       " 241,\n",
       " 247,\n",
       " 250,\n",
       " 261,\n",
       " 274,\n",
       " 422,\n",
       " 424,\n",
       " 535,\n",
       " 646,\n",
       " 666,\n",
       " 767,\n",
       " 784,\n",
       " 810,\n",
       " 856,\n",
       " 890,\n",
       " 916,\n",
       " 954,\n",
       " 976,\n",
       " 999,\n",
       " 1031,\n",
       " 1037,\n",
       " 1053,\n",
       " 1072]"
      ]
     },
     "execution_count": 26,
     "metadata": {},
     "output_type": "execute_result"
    }
   ],
   "source": [
    "outliers_debcapacity = turkey_method(dfmorosidad, 'monthly_debt_capacity')\n",
    "outliers_debcapacity"
   ]
  },
  {
   "cell_type": "code",
   "execution_count": 27,
   "id": "fad1ac5f",
   "metadata": {},
   "outputs": [
    {
     "data": {
      "text/plain": [
       "array([  21,   77,  112,  115,  120,  194,  220,  222,  235,  241,  247,\n",
       "        250,  261,  274,  287,  328,  420,  422,  424,  503,  535,  646,\n",
       "        666,  669,  767,  784,  793,  810,  836,  856,  890,  916,  951,\n",
       "        954,  972,  976,  999, 1031, 1037, 1053, 1063, 1072, 1083, 1120,\n",
       "       1169])"
      ]
     },
     "execution_count": 27,
     "metadata": {},
     "output_type": "execute_result"
    }
   ],
   "source": [
    "outliers_total = np.unique(outliers_income + outliers_appamount + outliers_debcapacity)\n",
    "outliers_total"
   ]
  },
  {
   "cell_type": "code",
   "execution_count": 28,
   "id": "96249074",
   "metadata": {},
   "outputs": [],
   "source": [
    "dfmorosidad = dfmorosidad.drop(index=outliers_total)"
   ]
  },
  {
   "cell_type": "markdown",
   "id": "d6f322bc",
   "metadata": {},
   "source": [
    "###  Plots base on categories"
   ]
  },
  {
   "cell_type": "markdown",
   "id": "1eaf9d01",
   "metadata": {},
   "source": [
    "Vamos a verificar cuantas personas cayeron en mora."
   ]
  },
  {
   "cell_type": "code",
   "execution_count": 29,
   "id": "005d47e2",
   "metadata": {},
   "outputs": [
    {
     "data": {
      "text/plain": [
       "<AxesSubplot:xlabel='target', ylabel='count'>"
      ]
     },
     "execution_count": 29,
     "metadata": {},
     "output_type": "execute_result"
    },
    {
     "data": {
      "image/png": "[encoded data removed]",
      "text/plain": [
       "<Figure size 432x288 with 1 Axes>"
      ]
     },
     "metadata": {},
     "output_type": "display_data"
    }
   ],
   "source": [
    "sns.set_style('whitegrid')\n",
    "sns.countplot(x='target', data=dfmorosidad, palette='RdBu_r')"
   ]
  },
  {
   "cell_type": "code",
   "execution_count": 30,
   "id": "b2a76bc7",
   "metadata": {},
   "outputs": [
    {
     "data": {
      "text/html": [
       "<div>\n",
       "<style scoped>\n",
       "    .dataframe tbody tr th:only-of-type {\n",
       "        vertical-align: middle;\n",
       "    }\n",
       "\n",
       "    .dataframe tbody tr th {\n",
       "        vertical-align: top;\n",
       "    }\n",
       "\n",
       "    .dataframe thead th {\n",
       "        text-align: right;\n",
       "    }\n",
       "</style>\n",
       "<table border=\"1\" class=\"dataframe\">\n",
       "  <thead>\n",
       "    <tr style=\"text-align: right;\">\n",
       "      <th></th>\n",
       "      <th>idPrestamo</th>\n",
       "    </tr>\n",
       "    <tr>\n",
       "      <th>target</th>\n",
       "      <th></th>\n",
       "    </tr>\n",
       "  </thead>\n",
       "  <tbody>\n",
       "    <tr>\n",
       "      <th>0</th>\n",
       "      <td>692</td>\n",
       "    </tr>\n",
       "    <tr>\n",
       "      <th>1</th>\n",
       "      <td>280</td>\n",
       "    </tr>\n",
       "  </tbody>\n",
       "</table>\n",
       "</div>"
      ],
      "text/plain": [
       "        idPrestamo\n",
       "target            \n",
       "0              692\n",
       "1              280"
      ]
     },
     "execution_count": 30,
     "metadata": {},
     "output_type": "execute_result"
    }
   ],
   "source": [
    "dfmorosidad.groupby('target').agg({'idPrestamo':'count'})"
   ]
  },
  {
   "cell_type": "markdown",
   "id": "c24ec3fb",
   "metadata": {},
   "source": [
    "Observemos la distribución basado en el género."
   ]
  },
  {
   "cell_type": "code",
   "execution_count": 31,
   "id": "02b39599",
   "metadata": {},
   "outputs": [
    {
     "data": {
      "text/plain": [
       "<AxesSubplot:xlabel='target', ylabel='count'>"
      ]
     },
     "execution_count": 31,
     "metadata": {},
     "output_type": "execute_result"
    },
    {
     "data": {
      "image/png": "[encoded data removed]",
      "text/plain": [
       "<Figure size 432x288 with 1 Axes>"
      ]
     },
     "metadata": {},
     "output_type": "display_data"
    }
   ],
   "source": [
    "sns.countplot(x='target', hue='person_gender', data=dfmorosidad, palette='RdBu_r')"
   ]
  },
  {
   "cell_type": "code",
   "execution_count": 32,
   "id": "1a41fa13",
   "metadata": {},
   "outputs": [
    {
     "data": {
      "text/html": [
       "<div>\n",
       "<style scoped>\n",
       "    .dataframe tbody tr th:only-of-type {\n",
       "        vertical-align: middle;\n",
       "    }\n",
       "\n",
       "    .dataframe tbody tr th {\n",
       "        vertical-align: top;\n",
       "    }\n",
       "\n",
       "    .dataframe thead th {\n",
       "        text-align: right;\n",
       "    }\n",
       "</style>\n",
       "<table border=\"1\" class=\"dataframe\">\n",
       "  <thead>\n",
       "    <tr style=\"text-align: right;\">\n",
       "      <th></th>\n",
       "      <th>target</th>\n",
       "    </tr>\n",
       "    <tr>\n",
       "      <th>person_gender</th>\n",
       "      <th></th>\n",
       "    </tr>\n",
       "  </thead>\n",
       "  <tbody>\n",
       "    <tr>\n",
       "      <th>FEMALE</th>\n",
       "      <td>79</td>\n",
       "    </tr>\n",
       "    <tr>\n",
       "      <th>MALE</th>\n",
       "      <td>201</td>\n",
       "    </tr>\n",
       "  </tbody>\n",
       "</table>\n",
       "</div>"
      ],
      "text/plain": [
       "               target\n",
       "person_gender        \n",
       "FEMALE             79\n",
       "MALE              201"
      ]
     },
     "execution_count": 32,
     "metadata": {},
     "output_type": "execute_result"
    }
   ],
   "source": [
    "dfmorosidad.groupby('person_gender').agg({'target':'sum'})"
   ]
  },
  {
   "cell_type": "markdown",
   "id": "3ca157c2",
   "metadata": {},
   "source": [
    "Ahora, busquemos la distribución basado el estado civil del cliente."
   ]
  },
  {
   "cell_type": "code",
   "execution_count": 33,
   "id": "dc501f5b",
   "metadata": {},
   "outputs": [
    {
     "data": {
      "text/plain": [
       "<AxesSubplot:xlabel='target', ylabel='count'>"
      ]
     },
     "execution_count": 33,
     "metadata": {},
     "output_type": "execute_result"
    },
    {
     "data": {
      "image/png": "[encoded data removed]",
      "text/plain": [
       "<Figure size 432x288 with 1 Axes>"
      ]
     },
     "metadata": {},
     "output_type": "display_data"
    }
   ],
   "source": [
    "sns.countplot(x='target', hue='credit_history_marital_status', data=dfmorosidad, palette='PuRd_r')"
   ]
  },
  {
   "cell_type": "code",
   "execution_count": 34,
   "id": "8e4c6621",
   "metadata": {},
   "outputs": [
    {
     "data": {
      "text/plain": [
       "<AxesSubplot:xlabel='target', ylabel='count'>"
      ]
     },
     "execution_count": 34,
     "metadata": {},
     "output_type": "execute_result"
    },
    {
     "data": {
      "image/png": "[encoded data removed]",
      "text/plain": [
       "<Figure size 432x288 with 1 Axes>"
      ]
     },
     "metadata": {},
     "output_type": "display_data"
    }
   ],
   "source": [
    "sns.countplot(x='target', hue='var_max_sbs_qual_12m', data=dfmorosidad)"
   ]
  },
  {
   "cell_type": "code",
   "execution_count": 35,
   "id": "701bbc24",
   "metadata": {},
   "outputs": [
    {
     "data": {
      "text/plain": [
       "<AxesSubplot:xlabel='target', ylabel='count'>"
      ]
     },
     "execution_count": 35,
     "metadata": {},
     "output_type": "execute_result"
    },
    {
     "data": {
      "image/png": "[encoded data removed]",
      "text/plain": [
       "<Figure size 432x288 with 1 Axes>"
      ]
     },
     "metadata": {},
     "output_type": "display_data"
    }
   ],
   "source": [
    "sns.countplot(x='target', hue='person_degree_type_desc', data=dfmorosidad)"
   ]
  },
  {
   "cell_type": "markdown",
   "id": "3c418038",
   "metadata": {},
   "source": [
    "## Data Preparation"
   ]
  },
  {
   "cell_type": "markdown",
   "id": "66e7de52",
   "metadata": {},
   "source": [
    "### Converting Categorical Features"
   ]
  },
  {
   "cell_type": "markdown",
   "id": "1425ce67",
   "metadata": {},
   "source": [
    "Ahora vamos a convertir los valores objeto a dummies con el one_hot_encoding"
   ]
  },
  {
   "cell_type": "code",
   "execution_count": 36,
   "id": "32bd2de4",
   "metadata": {},
   "outputs": [
    {
     "name": "stdout",
     "output_type": "stream",
     "text": [
      "<class 'pandas.core.frame.DataFrame'>\n",
      "Int64Index: 972 entries, 0 to 1193\n",
      "Data columns (total 13 columns):\n",
      " #   Column                         Non-Null Count  Dtype  \n",
      "---  ------                         --------------  -----  \n",
      " 0   idPrestamo                     972 non-null    object \n",
      " 1   target                         972 non-null    int64  \n",
      " 2   monthly_debt_capacity          972 non-null    float64\n",
      " 3   var_employment_time_in_months  972 non-null    float64\n",
      " 4   approved_amount                972 non-null    float64\n",
      " 5   approved_term                  972 non-null    int64  \n",
      " 6   approved_interest_amount       972 non-null    float64\n",
      " 7   var_net_income                 972 non-null    float64\n",
      " 8   person_gender                  972 non-null    object \n",
      " 9   credit_history_marital_status  972 non-null    object \n",
      " 10  var_max_sbs_qual_12m           972 non-null    object \n",
      " 11  person_degree_type_desc        972 non-null    object \n",
      " 12  default_request_term           972 non-null    int64  \n",
      "dtypes: float64(5), int64(3), object(5)\n",
      "memory usage: 138.6+ KB\n"
     ]
    }
   ],
   "source": [
    "dfmorosidad.info()"
   ]
  },
  {
   "cell_type": "markdown",
   "id": "d5b13083",
   "metadata": {},
   "source": [
    "Iniciaremos con la variable *person_gender*, nos quedaremos con la vaible *MALE*, donde 1 significa es hombre y 0 no lo es, es decir, es mujer."
   ]
  },
  {
   "cell_type": "code",
   "execution_count": 37,
   "id": "ad25ddc5",
   "metadata": {},
   "outputs": [
    {
     "data": {
      "text/html": [
       "<div>\n",
       "<style scoped>\n",
       "    .dataframe tbody tr th:only-of-type {\n",
       "        vertical-align: middle;\n",
       "    }\n",
       "\n",
       "    .dataframe tbody tr th {\n",
       "        vertical-align: top;\n",
       "    }\n",
       "\n",
       "    .dataframe thead th {\n",
       "        text-align: right;\n",
       "    }\n",
       "</style>\n",
       "<table border=\"1\" class=\"dataframe\">\n",
       "  <thead>\n",
       "    <tr style=\"text-align: right;\">\n",
       "      <th></th>\n",
       "      <th>MALE</th>\n",
       "    </tr>\n",
       "  </thead>\n",
       "  <tbody>\n",
       "    <tr>\n",
       "      <th>0</th>\n",
       "      <td>1</td>\n",
       "    </tr>\n",
       "    <tr>\n",
       "      <th>1</th>\n",
       "      <td>0</td>\n",
       "    </tr>\n",
       "    <tr>\n",
       "      <th>2</th>\n",
       "      <td>0</td>\n",
       "    </tr>\n",
       "    <tr>\n",
       "      <th>3</th>\n",
       "      <td>1</td>\n",
       "    </tr>\n",
       "    <tr>\n",
       "      <th>4</th>\n",
       "      <td>0</td>\n",
       "    </tr>\n",
       "    <tr>\n",
       "      <th>...</th>\n",
       "      <td>...</td>\n",
       "    </tr>\n",
       "    <tr>\n",
       "      <th>1189</th>\n",
       "      <td>1</td>\n",
       "    </tr>\n",
       "    <tr>\n",
       "      <th>1190</th>\n",
       "      <td>0</td>\n",
       "    </tr>\n",
       "    <tr>\n",
       "      <th>1191</th>\n",
       "      <td>1</td>\n",
       "    </tr>\n",
       "    <tr>\n",
       "      <th>1192</th>\n",
       "      <td>1</td>\n",
       "    </tr>\n",
       "    <tr>\n",
       "      <th>1193</th>\n",
       "      <td>1</td>\n",
       "    </tr>\n",
       "  </tbody>\n",
       "</table>\n",
       "<p>972 rows × 1 columns</p>\n",
       "</div>"
      ],
      "text/plain": [
       "      MALE\n",
       "0        1\n",
       "1        0\n",
       "2        0\n",
       "3        1\n",
       "4        0\n",
       "...    ...\n",
       "1189     1\n",
       "1190     0\n",
       "1191     1\n",
       "1192     1\n",
       "1193     1\n",
       "\n",
       "[972 rows x 1 columns]"
      ]
     },
     "execution_count": 37,
     "metadata": {},
     "output_type": "execute_result"
    }
   ],
   "source": [
    "gender = pd.get_dummies(dfmorosidad['person_gender'], drop_first=True)\n",
    "gender"
   ]
  },
  {
   "cell_type": "code",
   "execution_count": 38,
   "id": "92a268fd",
   "metadata": {},
   "outputs": [],
   "source": [
    "dfmorosidad = pd.concat([dfmorosidad, gender], axis=1)\n",
    "del dfmorosidad['person_gender']"
   ]
  },
  {
   "cell_type": "markdown",
   "id": "71484041",
   "metadata": {},
   "source": [
    "Luego, la variable *credit_history_marital_status*, vemos su distribución, y realizamos el proceso similar a *person_gender* sin embargo, .no eliminamos ninguna columna"
   ]
  },
  {
   "cell_type": "code",
   "execution_count": 39,
   "id": "033b3847",
   "metadata": {},
   "outputs": [
    {
     "data": {
      "text/html": [
       "<div>\n",
       "<style scoped>\n",
       "    .dataframe tbody tr th:only-of-type {\n",
       "        vertical-align: middle;\n",
       "    }\n",
       "\n",
       "    .dataframe tbody tr th {\n",
       "        vertical-align: top;\n",
       "    }\n",
       "\n",
       "    .dataframe thead th {\n",
       "        text-align: right;\n",
       "    }\n",
       "</style>\n",
       "<table border=\"1\" class=\"dataframe\">\n",
       "  <thead>\n",
       "    <tr style=\"text-align: right;\">\n",
       "      <th></th>\n",
       "      <th>idPrestamo</th>\n",
       "    </tr>\n",
       "    <tr>\n",
       "      <th>credit_history_marital_status</th>\n",
       "      <th></th>\n",
       "    </tr>\n",
       "  </thead>\n",
       "  <tbody>\n",
       "    <tr>\n",
       "      <th>C</th>\n",
       "      <td>143</td>\n",
       "    </tr>\n",
       "    <tr>\n",
       "      <th>D</th>\n",
       "      <td>7</td>\n",
       "    </tr>\n",
       "    <tr>\n",
       "      <th>S</th>\n",
       "      <td>822</td>\n",
       "    </tr>\n",
       "  </tbody>\n",
       "</table>\n",
       "</div>"
      ],
      "text/plain": [
       "                               idPrestamo\n",
       "credit_history_marital_status            \n",
       "C                                     143\n",
       "D                                       7\n",
       "S                                     822"
      ]
     },
     "execution_count": 39,
     "metadata": {},
     "output_type": "execute_result"
    }
   ],
   "source": [
    "dfmorosidad.groupby('credit_history_marital_status').agg({'idPrestamo': 'count'})"
   ]
  },
  {
   "cell_type": "code",
   "execution_count": 40,
   "id": "460c9af9",
   "metadata": {},
   "outputs": [
    {
     "data": {
      "text/html": [
       "<div>\n",
       "<style scoped>\n",
       "    .dataframe tbody tr th:only-of-type {\n",
       "        vertical-align: middle;\n",
       "    }\n",
       "\n",
       "    .dataframe tbody tr th {\n",
       "        vertical-align: top;\n",
       "    }\n",
       "\n",
       "    .dataframe thead th {\n",
       "        text-align: right;\n",
       "    }\n",
       "</style>\n",
       "<table border=\"1\" class=\"dataframe\">\n",
       "  <thead>\n",
       "    <tr style=\"text-align: right;\">\n",
       "      <th></th>\n",
       "      <th>matitalstatus__C</th>\n",
       "      <th>matitalstatus__D</th>\n",
       "      <th>matitalstatus__S</th>\n",
       "    </tr>\n",
       "  </thead>\n",
       "  <tbody>\n",
       "    <tr>\n",
       "      <th>0</th>\n",
       "      <td>1</td>\n",
       "      <td>0</td>\n",
       "      <td>0</td>\n",
       "    </tr>\n",
       "    <tr>\n",
       "      <th>1</th>\n",
       "      <td>0</td>\n",
       "      <td>0</td>\n",
       "      <td>1</td>\n",
       "    </tr>\n",
       "    <tr>\n",
       "      <th>2</th>\n",
       "      <td>0</td>\n",
       "      <td>0</td>\n",
       "      <td>1</td>\n",
       "    </tr>\n",
       "    <tr>\n",
       "      <th>3</th>\n",
       "      <td>0</td>\n",
       "      <td>0</td>\n",
       "      <td>1</td>\n",
       "    </tr>\n",
       "    <tr>\n",
       "      <th>4</th>\n",
       "      <td>0</td>\n",
       "      <td>0</td>\n",
       "      <td>1</td>\n",
       "    </tr>\n",
       "    <tr>\n",
       "      <th>...</th>\n",
       "      <td>...</td>\n",
       "      <td>...</td>\n",
       "      <td>...</td>\n",
       "    </tr>\n",
       "    <tr>\n",
       "      <th>1189</th>\n",
       "      <td>0</td>\n",
       "      <td>0</td>\n",
       "      <td>1</td>\n",
       "    </tr>\n",
       "    <tr>\n",
       "      <th>1190</th>\n",
       "      <td>0</td>\n",
       "      <td>0</td>\n",
       "      <td>1</td>\n",
       "    </tr>\n",
       "    <tr>\n",
       "      <th>1191</th>\n",
       "      <td>0</td>\n",
       "      <td>0</td>\n",
       "      <td>1</td>\n",
       "    </tr>\n",
       "    <tr>\n",
       "      <th>1192</th>\n",
       "      <td>0</td>\n",
       "      <td>0</td>\n",
       "      <td>1</td>\n",
       "    </tr>\n",
       "    <tr>\n",
       "      <th>1193</th>\n",
       "      <td>0</td>\n",
       "      <td>0</td>\n",
       "      <td>1</td>\n",
       "    </tr>\n",
       "  </tbody>\n",
       "</table>\n",
       "<p>972 rows × 3 columns</p>\n",
       "</div>"
      ],
      "text/plain": [
       "      matitalstatus__C  matitalstatus__D  matitalstatus__S\n",
       "0                    1                 0                 0\n",
       "1                    0                 0                 1\n",
       "2                    0                 0                 1\n",
       "3                    0                 0                 1\n",
       "4                    0                 0                 1\n",
       "...                ...               ...               ...\n",
       "1189                 0                 0                 1\n",
       "1190                 0                 0                 1\n",
       "1191                 0                 0                 1\n",
       "1192                 0                 0                 1\n",
       "1193                 0                 0                 1\n",
       "\n",
       "[972 rows x 3 columns]"
      ]
     },
     "execution_count": 40,
     "metadata": {},
     "output_type": "execute_result"
    }
   ],
   "source": [
    "maritalstatus = pd.get_dummies(dfmorosidad['credit_history_marital_status'], prefix=\"matitalstatus_\")\n",
    "maritalstatus"
   ]
  },
  {
   "cell_type": "code",
   "execution_count": 41,
   "id": "84e600a3",
   "metadata": {},
   "outputs": [],
   "source": [
    "dfmorosidad = pd.concat([dfmorosidad, maritalstatus], axis=1)\n",
    "del dfmorosidad['credit_history_marital_status']"
   ]
  },
  {
   "cell_type": "markdown",
   "id": "a6f91d8f",
   "metadata": {},
   "source": [
    "También para la variable *var_max_sbs_qual_12m*, vemos su distribución."
   ]
  },
  {
   "cell_type": "code",
   "execution_count": 42,
   "id": "c059c697",
   "metadata": {},
   "outputs": [
    {
     "data": {
      "text/html": [
       "<div>\n",
       "<style scoped>\n",
       "    .dataframe tbody tr th:only-of-type {\n",
       "        vertical-align: middle;\n",
       "    }\n",
       "\n",
       "    .dataframe tbody tr th {\n",
       "        vertical-align: top;\n",
       "    }\n",
       "\n",
       "    .dataframe thead th {\n",
       "        text-align: right;\n",
       "    }\n",
       "</style>\n",
       "<table border=\"1\" class=\"dataframe\">\n",
       "  <thead>\n",
       "    <tr style=\"text-align: right;\">\n",
       "      <th></th>\n",
       "      <th>idPrestamo</th>\n",
       "    </tr>\n",
       "    <tr>\n",
       "      <th>var_max_sbs_qual_12m</th>\n",
       "      <th></th>\n",
       "    </tr>\n",
       "  </thead>\n",
       "  <tbody>\n",
       "    <tr>\n",
       "      <th>CPP</th>\n",
       "      <td>114</td>\n",
       "    </tr>\n",
       "    <tr>\n",
       "      <th>DEFICIENTE</th>\n",
       "      <td>14</td>\n",
       "    </tr>\n",
       "    <tr>\n",
       "      <th>DUDOSO</th>\n",
       "      <td>1</td>\n",
       "    </tr>\n",
       "    <tr>\n",
       "      <th>NORMAL</th>\n",
       "      <td>843</td>\n",
       "    </tr>\n",
       "  </tbody>\n",
       "</table>\n",
       "</div>"
      ],
      "text/plain": [
       "                      idPrestamo\n",
       "var_max_sbs_qual_12m            \n",
       "CPP                          114\n",
       "DEFICIENTE                    14\n",
       "DUDOSO                         1\n",
       "NORMAL                       843"
      ]
     },
     "execution_count": 42,
     "metadata": {},
     "output_type": "execute_result"
    }
   ],
   "source": [
    "dfmorosidad.groupby('var_max_sbs_qual_12m').agg({'idPrestamo': 'count'})"
   ]
  },
  {
   "cell_type": "markdown",
   "id": "33e52455",
   "metadata": {},
   "source": [
    "Dado que esta categoría es nominal, remplazaremos los valores según el [brochure de la central de riesgo](https://www.consumidor.gob.pe/documents/127561/1460393/CentralDeRiesgos.pdf/3314584b-9d2b-fb8a-ee77-54cc310518ec#:~:text=Categoria%20Normal%20(%200%20)%20Categoria%20con,la%20clasificaci%C3%B3n%20depender%C3%A1%20de%20la)"
   ]
  },
  {
   "cell_type": "code",
   "execution_count": 43,
   "id": "23a3fe6d",
   "metadata": {},
   "outputs": [],
   "source": [
    "def set_sbs(sbs):\n",
    "    if sbs == \"NORMAL\":\n",
    "        return 0\n",
    "    elif sbs == \"CPP\":\n",
    "        return 1\n",
    "    elif sbs == \"DEFICIENTE\":\n",
    "        return 2\n",
    "    else:\n",
    "        return 3"
   ]
  },
  {
   "cell_type": "code",
   "execution_count": 44,
   "id": "d8997893",
   "metadata": {},
   "outputs": [
    {
     "data": {
      "text/plain": [
       "0       0\n",
       "1       0\n",
       "2       0\n",
       "3       0\n",
       "4       0\n",
       "       ..\n",
       "1189    0\n",
       "1190    0\n",
       "1191    0\n",
       "1192    1\n",
       "1193    0\n",
       "Name: var_max_sbs_qual_12m, Length: 972, dtype: int32"
      ]
     },
     "execution_count": 44,
     "metadata": {},
     "output_type": "execute_result"
    }
   ],
   "source": [
    "dfmorosidad[\"var_max_sbs_qual_12m\"] = dfmorosidad[\"var_max_sbs_qual_12m\"].apply(set_sbs)\n",
    "dfmorosidad[\"var_max_sbs_qual_12m\"].astype(int)"
   ]
  },
  {
   "cell_type": "code",
   "execution_count": 45,
   "id": "172bf931",
   "metadata": {},
   "outputs": [
    {
     "data": {
      "text/html": [
       "<div>\n",
       "<style scoped>\n",
       "    .dataframe tbody tr th:only-of-type {\n",
       "        vertical-align: middle;\n",
       "    }\n",
       "\n",
       "    .dataframe tbody tr th {\n",
       "        vertical-align: top;\n",
       "    }\n",
       "\n",
       "    .dataframe thead th {\n",
       "        text-align: right;\n",
       "    }\n",
       "</style>\n",
       "<table border=\"1\" class=\"dataframe\">\n",
       "  <thead>\n",
       "    <tr style=\"text-align: right;\">\n",
       "      <th></th>\n",
       "      <th>idPrestamo</th>\n",
       "    </tr>\n",
       "    <tr>\n",
       "      <th>var_max_sbs_qual_12m</th>\n",
       "      <th></th>\n",
       "    </tr>\n",
       "  </thead>\n",
       "  <tbody>\n",
       "    <tr>\n",
       "      <th>0</th>\n",
       "      <td>843</td>\n",
       "    </tr>\n",
       "    <tr>\n",
       "      <th>1</th>\n",
       "      <td>114</td>\n",
       "    </tr>\n",
       "    <tr>\n",
       "      <th>2</th>\n",
       "      <td>14</td>\n",
       "    </tr>\n",
       "    <tr>\n",
       "      <th>3</th>\n",
       "      <td>1</td>\n",
       "    </tr>\n",
       "  </tbody>\n",
       "</table>\n",
       "</div>"
      ],
      "text/plain": [
       "                      idPrestamo\n",
       "var_max_sbs_qual_12m            \n",
       "0                            843\n",
       "1                            114\n",
       "2                             14\n",
       "3                              1"
      ]
     },
     "execution_count": 45,
     "metadata": {},
     "output_type": "execute_result"
    }
   ],
   "source": [
    "dfmorosidad.groupby('var_max_sbs_qual_12m').agg({'idPrestamo': 'count'})"
   ]
  },
  {
   "cell_type": "markdown",
   "id": "441a7f8b",
   "metadata": {},
   "source": [
    "Finalmente, para la variable categórica nominal *person_degree_type_desc* lo remplazaremos según el nivel de estudio."
   ]
  },
  {
   "cell_type": "code",
   "execution_count": 46,
   "id": "ac3de481",
   "metadata": {},
   "outputs": [
    {
     "data": {
      "text/html": [
       "<div>\n",
       "<style scoped>\n",
       "    .dataframe tbody tr th:only-of-type {\n",
       "        vertical-align: middle;\n",
       "    }\n",
       "\n",
       "    .dataframe tbody tr th {\n",
       "        vertical-align: top;\n",
       "    }\n",
       "\n",
       "    .dataframe thead th {\n",
       "        text-align: right;\n",
       "    }\n",
       "</style>\n",
       "<table border=\"1\" class=\"dataframe\">\n",
       "  <thead>\n",
       "    <tr style=\"text-align: right;\">\n",
       "      <th></th>\n",
       "      <th>idPrestamo</th>\n",
       "    </tr>\n",
       "    <tr>\n",
       "      <th>person_degree_type_desc</th>\n",
       "      <th></th>\n",
       "    </tr>\n",
       "  </thead>\n",
       "  <tbody>\n",
       "    <tr>\n",
       "      <th>Carrera TÃ©cnica</th>\n",
       "      <td>361</td>\n",
       "    </tr>\n",
       "    <tr>\n",
       "      <th>Postgrado</th>\n",
       "      <td>26</td>\n",
       "    </tr>\n",
       "    <tr>\n",
       "      <th>Primaria</th>\n",
       "      <td>1</td>\n",
       "    </tr>\n",
       "    <tr>\n",
       "      <th>Secundaria</th>\n",
       "      <td>123</td>\n",
       "    </tr>\n",
       "    <tr>\n",
       "      <th>Universitaria</th>\n",
       "      <td>461</td>\n",
       "    </tr>\n",
       "  </tbody>\n",
       "</table>\n",
       "</div>"
      ],
      "text/plain": [
       "                         idPrestamo\n",
       "person_degree_type_desc            \n",
       "Carrera TÃ©cnica                361\n",
       "Postgrado                        26\n",
       "Primaria                          1\n",
       "Secundaria                      123\n",
       "Universitaria                   461"
      ]
     },
     "execution_count": 46,
     "metadata": {},
     "output_type": "execute_result"
    }
   ],
   "source": [
    "dfmorosidad.groupby('person_degree_type_desc').agg({'idPrestamo': 'count'})"
   ]
  },
  {
   "cell_type": "code",
   "execution_count": 47,
   "id": "25349f8e",
   "metadata": {},
   "outputs": [],
   "source": [
    "def set_estudio(estudio):\n",
    "    if estudio == \"Primaria\":\n",
    "        return 0\n",
    "    elif estudio == \"Secundaria\":\n",
    "        return 1\n",
    "    elif estudio == \"Carrera TÃ©cnica\":\n",
    "        return 2\n",
    "    elif estudio == \"Universitaria\":\n",
    "        return 3\n",
    "    else:\n",
    "        return 4"
   ]
  },
  {
   "cell_type": "code",
   "execution_count": 48,
   "id": "ef74816c",
   "metadata": {},
   "outputs": [
    {
     "data": {
      "text/plain": [
       "0       1\n",
       "1       1\n",
       "2       1\n",
       "3       3\n",
       "4       3\n",
       "       ..\n",
       "1189    2\n",
       "1190    2\n",
       "1191    1\n",
       "1192    2\n",
       "1193    2\n",
       "Name: person_degree_type_desc, Length: 972, dtype: int32"
      ]
     },
     "execution_count": 48,
     "metadata": {},
     "output_type": "execute_result"
    }
   ],
   "source": [
    "dfmorosidad[\"person_degree_type_desc\"] = dfmorosidad[\"person_degree_type_desc\"].apply(set_estudio)\n",
    "dfmorosidad[\"person_degree_type_desc\"].astype(int)"
   ]
  },
  {
   "cell_type": "code",
   "execution_count": 49,
   "id": "23fd1df0",
   "metadata": {},
   "outputs": [
    {
     "data": {
      "text/html": [
       "<div>\n",
       "<style scoped>\n",
       "    .dataframe tbody tr th:only-of-type {\n",
       "        vertical-align: middle;\n",
       "    }\n",
       "\n",
       "    .dataframe tbody tr th {\n",
       "        vertical-align: top;\n",
       "    }\n",
       "\n",
       "    .dataframe thead th {\n",
       "        text-align: right;\n",
       "    }\n",
       "</style>\n",
       "<table border=\"1\" class=\"dataframe\">\n",
       "  <thead>\n",
       "    <tr style=\"text-align: right;\">\n",
       "      <th></th>\n",
       "      <th>idPrestamo</th>\n",
       "    </tr>\n",
       "    <tr>\n",
       "      <th>person_degree_type_desc</th>\n",
       "      <th></th>\n",
       "    </tr>\n",
       "  </thead>\n",
       "  <tbody>\n",
       "    <tr>\n",
       "      <th>0</th>\n",
       "      <td>1</td>\n",
       "    </tr>\n",
       "    <tr>\n",
       "      <th>1</th>\n",
       "      <td>123</td>\n",
       "    </tr>\n",
       "    <tr>\n",
       "      <th>2</th>\n",
       "      <td>361</td>\n",
       "    </tr>\n",
       "    <tr>\n",
       "      <th>3</th>\n",
       "      <td>461</td>\n",
       "    </tr>\n",
       "    <tr>\n",
       "      <th>4</th>\n",
       "      <td>26</td>\n",
       "    </tr>\n",
       "  </tbody>\n",
       "</table>\n",
       "</div>"
      ],
      "text/plain": [
       "                         idPrestamo\n",
       "person_degree_type_desc            \n",
       "0                                 1\n",
       "1                               123\n",
       "2                               361\n",
       "3                               461\n",
       "4                                26"
      ]
     },
     "execution_count": 49,
     "metadata": {},
     "output_type": "execute_result"
    }
   ],
   "source": [
    "dfmorosidad.groupby('person_degree_type_desc').agg({'idPrestamo': 'count'})"
   ]
  },
  {
   "cell_type": "markdown",
   "id": "f5da1e44",
   "metadata": {},
   "source": [
    "Antes de dividir la data, eliminamos la variable *idPrestamo*."
   ]
  },
  {
   "cell_type": "code",
   "execution_count": 50,
   "id": "a1dfc0c6",
   "metadata": {},
   "outputs": [],
   "source": [
    "del dfmorosidad['idPrestamo']"
   ]
  },
  {
   "cell_type": "markdown",
   "id": "cc5353a1",
   "metadata": {},
   "source": [
    "### Train Test Split"
   ]
  },
  {
   "cell_type": "code",
   "execution_count": 51,
   "id": "cb67d3d6",
   "metadata": {},
   "outputs": [],
   "source": [
    "from sklearn.model_selection import train_test_split"
   ]
  },
  {
   "cell_type": "code",
   "execution_count": 52,
   "id": "e2ba47ea",
   "metadata": {},
   "outputs": [
    {
     "data": {
      "text/plain": [
       "['monthly_debt_capacity',\n",
       " 'var_employment_time_in_months',\n",
       " 'approved_amount',\n",
       " 'approved_term',\n",
       " 'approved_interest_amount',\n",
       " 'var_net_income',\n",
       " 'var_max_sbs_qual_12m',\n",
       " 'person_degree_type_desc',\n",
       " 'default_request_term',\n",
       " 'MALE',\n",
       " 'matitalstatus__C',\n",
       " 'matitalstatus__D',\n",
       " 'matitalstatus__S']"
      ]
     },
     "execution_count": 52,
     "metadata": {},
     "output_type": "execute_result"
    }
   ],
   "source": [
    "predictors = [var for var in dfmorosidad if var != 'target']\n",
    "predictors"
   ]
  },
  {
   "cell_type": "code",
   "execution_count": 53,
   "id": "fad978ce",
   "metadata": {},
   "outputs": [],
   "source": [
    "X_train, X_test, Y_train, Y_test = train_test_split(dfmorosidad.drop('target', axis=1),\n",
    "                                                   dfmorosidad['target'], test_size=0.20,\n",
    "                                                   stratify=dfmorosidad['target'],\n",
    "                                                   random_state=100)"
   ]
  },
  {
   "cell_type": "markdown",
   "id": "cb9f5a29",
   "metadata": {},
   "source": [
    "Comprobamos que la distribución de 0's y 1's en la variable *target* funciona."
   ]
  },
  {
   "cell_type": "code",
   "execution_count": 54,
   "id": "72f122a6",
   "metadata": {},
   "outputs": [
    {
     "data": {
      "text/plain": [
       "0.2882882882882883"
      ]
     },
     "execution_count": 54,
     "metadata": {},
     "output_type": "execute_result"
    }
   ],
   "source": [
    "Y_train.mean()"
   ]
  },
  {
   "cell_type": "code",
   "execution_count": 55,
   "id": "39314066",
   "metadata": {},
   "outputs": [
    {
     "data": {
      "text/plain": [
       "0.28717948717948716"
      ]
     },
     "execution_count": 55,
     "metadata": {},
     "output_type": "execute_result"
    }
   ],
   "source": [
    "Y_test.mean()"
   ]
  },
  {
   "cell_type": "markdown",
   "id": "2b3f7ed8",
   "metadata": {},
   "source": [
    "## Training and evaluating the ML model"
   ]
  },
  {
   "cell_type": "code",
   "execution_count": 56,
   "id": "d0c98466",
   "metadata": {},
   "outputs": [],
   "source": [
    "from sklearn.linear_model import LogisticRegression"
   ]
  },
  {
   "cell_type": "code",
   "execution_count": 57,
   "id": "60fb9339",
   "metadata": {},
   "outputs": [
    {
     "data": {
      "text/plain": [
       "LogisticRegression(penalty='l1', solver='liblinear')"
      ]
     },
     "execution_count": 57,
     "metadata": {},
     "output_type": "execute_result"
    }
   ],
   "source": [
    "logmodel_l1 = LogisticRegression(penalty=\"l1\", solver=\"liblinear\")\n",
    "logmodel_l1.fit(X_train, Y_train)"
   ]
  },
  {
   "cell_type": "code",
   "execution_count": 58,
   "id": "d31c09e2",
   "metadata": {},
   "outputs": [
    {
     "data": {
      "text/plain": [
       "array([ 4.00909207e-04, -2.95356625e-03,  3.19633823e-04,  3.59741512e-02,\n",
       "        6.10871083e-04, -5.41655395e-04, -3.19769194e-01, -4.40669040e-01,\n",
       "        0.00000000e+00,  4.53710478e-01,  0.00000000e+00,  0.00000000e+00,\n",
       "        0.00000000e+00])"
      ]
     },
     "execution_count": 58,
     "metadata": {},
     "output_type": "execute_result"
    }
   ],
   "source": [
    "logmodel_l1.coef_[0]"
   ]
  },
  {
   "cell_type": "markdown",
   "id": "0ad339bc",
   "metadata": {},
   "source": [
    "Luego podemos analizar que variables son las más importantes para nuestro modelo"
   ]
  },
  {
   "cell_type": "code",
   "execution_count": 59,
   "id": "66df5992",
   "metadata": {},
   "outputs": [
    {
     "data": {
      "text/plain": [
       "[('monthly_debt_capacity', 0.0004009092066763792),\n",
       " ('var_employment_time_in_months', -0.0029535662474143884),\n",
       " ('approved_amount', 0.00031963382282564453),\n",
       " ('approved_term', 0.03597415118134083),\n",
       " ('approved_interest_amount', 0.0006108710827581416),\n",
       " ('var_net_income', -0.0005416553945627243),\n",
       " ('var_max_sbs_qual_12m', -0.31976919449388136),\n",
       " ('person_degree_type_desc', -0.4406690399985085),\n",
       " ('default_request_term', 0.0),\n",
       " ('MALE', 0.4537104775185337),\n",
       " ('matitalstatus__C', 0.0),\n",
       " ('matitalstatus__D', 0.0),\n",
       " ('matitalstatus__S', 0.0)]"
      ]
     },
     "execution_count": 59,
     "metadata": {},
     "output_type": "execute_result"
    }
   ],
   "source": [
    "list( zip(predictors, logmodel_l1.coef_[0]))"
   ]
  },
  {
   "cell_type": "markdown",
   "id": "d4ce2b43",
   "metadata": {},
   "source": [
    "Esto, lo podemos mostrar de una manera gráfica."
   ]
  },
  {
   "cell_type": "code",
   "execution_count": 60,
   "id": "d369f0c9",
   "metadata": {},
   "outputs": [],
   "source": [
    "import matplotlib"
   ]
  },
  {
   "cell_type": "code",
   "execution_count": 61,
   "id": "3e31c21b",
   "metadata": {},
   "outputs": [
    {
     "data": {
      "text/plain": [
       "Text(0.5, 1.0, 'Coefficient Regression')"
      ]
     },
     "execution_count": 61,
     "metadata": {},
     "output_type": "execute_result"
    },
    {
     "data": {
      "image/png": "[encoded data removed]",
      "text/plain": [
       "<Figure size 576x720 with 1 Axes>"
      ]
     },
     "metadata": {},
     "output_type": "display_data"
    }
   ],
   "source": [
    "coef = pd.Series(logmodel_l1.coef_[0], index=predictors)\n",
    "\n",
    "coef_plot = pd.concat([coef.sort_values()])\n",
    "\n",
    "matplotlib.rcParams['figure.figsize'] = (8.0, 10.0)\n",
    "coef_plot.plot(kind=\"barh\")\n",
    "plt.title(\"Coefficient Regression\")"
   ]
  },
  {
   "cell_type": "markdown",
   "id": "60679487",
   "metadata": {},
   "source": [
    "Podemos observar qué variables tiene mayor relevancia para el modelo, en este caso *MALE*, *approved_term* tienen una relación positiva, esto quiere decir a medida que incrementa dichas variables, también incrementa la posibilidad de que sea moroso. Por otro lado, la relación que muestra *var_max_sbs_qual_12m*, *person_degree_type_desc* es negativa, es decir, a medida que incrementa estas variables, la posibilidad de que la variable 'target' sea 1 es menor."
   ]
  },
  {
   "cell_type": "markdown",
   "id": "9469ac0f",
   "metadata": {},
   "source": [
    "Ahora predecimos con la data de test y analizamos su score."
   ]
  },
  {
   "cell_type": "code",
   "execution_count": 62,
   "id": "eb53f99a",
   "metadata": {},
   "outputs": [
    {
     "data": {
      "text/plain": [
       "array([0, 0, 0, 0, 0, 0, 0, 0, 0, 0, 0, 0, 1, 0, 1, 0, 0, 1, 0, 0, 0, 0,\n",
       "       0, 0, 0, 0, 0, 1, 0, 1, 0, 0, 0, 0, 0, 1, 0, 0, 0, 0, 0, 0, 0, 0,\n",
       "       0, 0, 0, 0, 0, 0, 0, 0, 0, 0, 0, 0, 0, 0, 0, 0, 0, 0, 0, 0, 0, 0,\n",
       "       0, 0, 0, 0, 0, 0, 0, 0, 0, 0, 0, 0, 0, 1, 0, 0, 0, 0, 0, 0, 0, 0,\n",
       "       0, 0, 0, 0, 0, 0, 0, 0, 0, 1, 0, 0, 0, 0, 0, 0, 1, 0, 0, 0, 0, 0,\n",
       "       0, 0, 0, 0, 0, 0, 1, 0, 0, 0, 0, 0, 0, 0, 0, 0, 0, 0, 1, 0, 0, 0,\n",
       "       0, 1, 1, 0, 0, 0, 0, 0, 1, 0, 0, 0, 0, 1, 0, 0, 0, 0, 0, 0, 0, 0,\n",
       "       0, 0, 0, 0, 1, 1, 0, 1, 0, 0, 0, 0, 0, 0, 0, 1, 0, 1, 0, 0, 0, 0,\n",
       "       0, 0, 1, 0, 0, 0, 0, 0, 0, 0, 1, 0, 0, 0, 0, 0, 0, 0, 0],\n",
       "      dtype=int64)"
      ]
     },
     "execution_count": 62,
     "metadata": {},
     "output_type": "execute_result"
    }
   ],
   "source": [
    "predictions = logmodel_l1.predict(X_test[predictors])\n",
    "predictions"
   ]
  },
  {
   "cell_type": "markdown",
   "id": "00ebe0d6",
   "metadata": {},
   "source": [
    "Además podemos ver la probabilidad de ser 0 o ser 1."
   ]
  },
  {
   "cell_type": "code",
   "execution_count": 63,
   "id": "30fbdf3c",
   "metadata": {},
   "outputs": [
    {
     "data": {
      "text/plain": [
       "array([[0.64012579, 0.35987421],\n",
       "       [0.52914513, 0.47085487],\n",
       "       [0.6739994 , 0.3260006 ],\n",
       "       [0.79593856, 0.20406144],\n",
       "       [0.69296898, 0.30703102],\n",
       "       [0.85490928, 0.14509072],\n",
       "       [0.8725223 , 0.1274777 ],\n",
       "       [0.61553605, 0.38446395],\n",
       "       [0.73807712, 0.26192288],\n",
       "       [0.87122281, 0.12877719],\n",
       "       [0.80786096, 0.19213904],\n",
       "       [0.650783  , 0.349217  ],\n",
       "       [0.37872919, 0.62127081],\n",
       "       [0.64440333, 0.35559667],\n",
       "       [0.4535203 , 0.5464797 ],\n",
       "       [0.6935693 , 0.3064307 ],\n",
       "       [0.74285592, 0.25714408],\n",
       "       [0.48830487, 0.51169513],\n",
       "       [0.59671262, 0.40328738],\n",
       "       [0.65533561, 0.34466439],\n",
       "       [0.55213778, 0.44786222],\n",
       "       [0.61478302, 0.38521698],\n",
       "       [0.92352038, 0.07647962],\n",
       "       [0.83023682, 0.16976318],\n",
       "       [0.8134772 , 0.1865228 ],\n",
       "       [0.73203329, 0.26796671],\n",
       "       [0.8307075 , 0.1692925 ],\n",
       "       [0.46411923, 0.53588077],\n",
       "       [0.92974972, 0.07025028],\n",
       "       [0.27373593, 0.72626407],\n",
       "       [0.7600727 , 0.2399273 ],\n",
       "       [0.65138065, 0.34861935],\n",
       "       [0.57710172, 0.42289828],\n",
       "       [0.89047596, 0.10952404],\n",
       "       [0.80912736, 0.19087264],\n",
       "       [0.35539497, 0.64460503],\n",
       "       [0.56977375, 0.43022625],\n",
       "       [0.59974189, 0.40025811],\n",
       "       [0.84593405, 0.15406595],\n",
       "       [0.74996395, 0.25003605],\n",
       "       [0.53918125, 0.46081875],\n",
       "       [0.79757701, 0.20242299],\n",
       "       [0.64560625, 0.35439375],\n",
       "       [0.61281707, 0.38718293],\n",
       "       [0.80987844, 0.19012156],\n",
       "       [0.82267936, 0.17732064],\n",
       "       [0.54903398, 0.45096602],\n",
       "       [0.75943829, 0.24056171],\n",
       "       [0.88119319, 0.11880681],\n",
       "       [0.71883721, 0.28116279],\n",
       "       [0.80539645, 0.19460355],\n",
       "       [0.53689778, 0.46310222],\n",
       "       [0.71687758, 0.28312242],\n",
       "       [0.57836699, 0.42163301],\n",
       "       [0.81723669, 0.18276331],\n",
       "       [0.66063131, 0.33936869],\n",
       "       [0.65671489, 0.34328511],\n",
       "       [0.90822574, 0.09177426],\n",
       "       [0.84941314, 0.15058686],\n",
       "       [0.66831158, 0.33168842],\n",
       "       [0.65451424, 0.34548576],\n",
       "       [0.79866334, 0.20133666],\n",
       "       [0.66750488, 0.33249512],\n",
       "       [0.57817019, 0.42182981],\n",
       "       [0.62169299, 0.37830701],\n",
       "       [0.76855421, 0.23144579],\n",
       "       [0.79097421, 0.20902579],\n",
       "       [0.7429039 , 0.2570961 ],\n",
       "       [0.63734785, 0.36265215],\n",
       "       [0.74912891, 0.25087109],\n",
       "       [0.76731887, 0.23268113],\n",
       "       [0.78628626, 0.21371374],\n",
       "       [0.76978197, 0.23021803],\n",
       "       [0.65769268, 0.34230732],\n",
       "       [0.80915432, 0.19084568],\n",
       "       [0.66682679, 0.33317321],\n",
       "       [0.75635274, 0.24364726],\n",
       "       [0.89231481, 0.10768519],\n",
       "       [0.58813549, 0.41186451],\n",
       "       [0.36991543, 0.63008457],\n",
       "       [0.75339785, 0.24660215],\n",
       "       [0.82979976, 0.17020024],\n",
       "       [0.92207026, 0.07792974],\n",
       "       [0.65564116, 0.34435884],\n",
       "       [0.82900616, 0.17099384],\n",
       "       [0.71219909, 0.28780091],\n",
       "       [0.74484229, 0.25515771],\n",
       "       [0.87507511, 0.12492489],\n",
       "       [0.7725639 , 0.2274361 ],\n",
       "       [0.74535975, 0.25464025],\n",
       "       [0.8106025 , 0.1893975 ],\n",
       "       [0.58975353, 0.41024647],\n",
       "       [0.83411097, 0.16588903],\n",
       "       [0.93099257, 0.06900743],\n",
       "       [0.81840302, 0.18159698],\n",
       "       [0.69683018, 0.30316982],\n",
       "       [0.90494759, 0.09505241],\n",
       "       [0.17906956, 0.82093044],\n",
       "       [0.62728836, 0.37271164],\n",
       "       [0.59444421, 0.40555579],\n",
       "       [0.7593485 , 0.2406515 ],\n",
       "       [0.80871147, 0.19128853],\n",
       "       [0.60166654, 0.39833346],\n",
       "       [0.81242877, 0.18757123],\n",
       "       [0.48689933, 0.51310067],\n",
       "       [0.68821627, 0.31178373],\n",
       "       [0.81942672, 0.18057328],\n",
       "       [0.84617894, 0.15382106],\n",
       "       [0.79918182, 0.20081818],\n",
       "       [0.93894963, 0.06105037],\n",
       "       [0.73576981, 0.26423019],\n",
       "       [0.61883145, 0.38116855],\n",
       "       [0.79212243, 0.20787757],\n",
       "       [0.64321273, 0.35678727],\n",
       "       [0.53323862, 0.46676138],\n",
       "       [0.77900651, 0.22099349],\n",
       "       [0.32843454, 0.67156546],\n",
       "       [0.73560643, 0.26439357],\n",
       "       [0.84757687, 0.15242313],\n",
       "       [0.89316387, 0.10683613],\n",
       "       [0.58913002, 0.41086998],\n",
       "       [0.84514817, 0.15485183],\n",
       "       [0.72392486, 0.27607514],\n",
       "       [0.80575276, 0.19424724],\n",
       "       [0.80205017, 0.19794983],\n",
       "       [0.88694234, 0.11305766],\n",
       "       [0.74394522, 0.25605478],\n",
       "       [0.85084595, 0.14915405],\n",
       "       [0.35828002, 0.64171998],\n",
       "       [0.74668493, 0.25331507],\n",
       "       [0.80412521, 0.19587479],\n",
       "       [0.55074263, 0.44925737],\n",
       "       [0.71065372, 0.28934628],\n",
       "       [0.45620981, 0.54379019],\n",
       "       [0.2309465 , 0.7690535 ],\n",
       "       [0.67904211, 0.32095789],\n",
       "       [0.77999937, 0.22000063],\n",
       "       [0.84242211, 0.15757789],\n",
       "       [0.72327329, 0.27672671],\n",
       "       [0.75790036, 0.24209964],\n",
       "       [0.38707601, 0.61292399],\n",
       "       [0.74432936, 0.25567064],\n",
       "       [0.72179843, 0.27820157],\n",
       "       [0.82552898, 0.17447102],\n",
       "       [0.80499037, 0.19500963],\n",
       "       [0.21348855, 0.78651145],\n",
       "       [0.92012675, 0.07987325],\n",
       "       [0.7390916 , 0.2609084 ],\n",
       "       [0.70162516, 0.29837484],\n",
       "       [0.78305631, 0.21694369],\n",
       "       [0.75626512, 0.24373488],\n",
       "       [0.77740484, 0.22259516],\n",
       "       [0.87120493, 0.12879507],\n",
       "       [0.63307402, 0.36692598],\n",
       "       [0.74626852, 0.25373148],\n",
       "       [0.67316236, 0.32683764],\n",
       "       [0.76125567, 0.23874433],\n",
       "       [0.90516235, 0.09483765],\n",
       "       [0.41220777, 0.58779223],\n",
       "       [0.37308817, 0.62691183],\n",
       "       [0.70441337, 0.29558663],\n",
       "       [0.25668125, 0.74331875],\n",
       "       [0.6743785 , 0.3256215 ],\n",
       "       [0.72684826, 0.27315174],\n",
       "       [0.59759265, 0.40240735],\n",
       "       [0.80996981, 0.19003019],\n",
       "       [0.76801096, 0.23198904],\n",
       "       [0.86463947, 0.13536053],\n",
       "       [0.51982298, 0.48017702],\n",
       "       [0.29242104, 0.70757896],\n",
       "       [0.84694586, 0.15305414],\n",
       "       [0.48724633, 0.51275367],\n",
       "       [0.82127133, 0.17872867],\n",
       "       [0.89964426, 0.10035574],\n",
       "       [0.86466575, 0.13533425],\n",
       "       [0.53537022, 0.46462978],\n",
       "       [0.60705699, 0.39294301],\n",
       "       [0.7605126 , 0.2394874 ],\n",
       "       [0.42468121, 0.57531879],\n",
       "       [0.79929652, 0.20070348],\n",
       "       [0.87701549, 0.12298451],\n",
       "       [0.83863436, 0.16136564],\n",
       "       [0.83710146, 0.16289854],\n",
       "       [0.9479425 , 0.0520575 ],\n",
       "       [0.77638105, 0.22361895],\n",
       "       [0.86440433, 0.13559567],\n",
       "       [0.49630183, 0.50369817],\n",
       "       [0.62110603, 0.37889397],\n",
       "       [0.58954541, 0.41045459],\n",
       "       [0.88115124, 0.11884876],\n",
       "       [0.88363347, 0.11636653],\n",
       "       [0.68674197, 0.31325803],\n",
       "       [0.75433062, 0.24566938],\n",
       "       [0.59865187, 0.40134813],\n",
       "       [0.61058049, 0.38941951]])"
      ]
     },
     "execution_count": 63,
     "metadata": {},
     "output_type": "execute_result"
    }
   ],
   "source": [
    "prediction_prob = logmodel_l1.predict_proba(X_test[predictors])\n",
    "prediction_prob"
   ]
  },
  {
   "cell_type": "markdown",
   "id": "f078662d",
   "metadata": {},
   "source": [
    "Verificamos nuestra precisión usando confusion_matrix y clasification_report"
   ]
  },
  {
   "cell_type": "code",
   "execution_count": 64,
   "id": "d123a86e",
   "metadata": {},
   "outputs": [],
   "source": [
    "from sklearn.metrics import classification_report, confusion_matrix"
   ]
  },
  {
   "cell_type": "code",
   "execution_count": 65,
   "id": "f4ba9083",
   "metadata": {},
   "outputs": [
    {
     "name": "stdout",
     "output_type": "stream",
     "text": [
      "              precision    recall  f1-score   support\n",
      "\n",
      "           0       0.75      0.94      0.83       139\n",
      "           1       0.59      0.23      0.33        56\n",
      "\n",
      "    accuracy                           0.73       195\n",
      "   macro avg       0.67      0.58      0.58       195\n",
      "weighted avg       0.71      0.73      0.69       195\n",
      "\n"
     ]
    }
   ],
   "source": [
    "print(classification_report(Y_test, predictions))"
   ]
  },
  {
   "cell_type": "markdown",
   "id": "286311ac",
   "metadata": {},
   "source": [
    "## Testeamos con más algoritmos de clasificación"
   ]
  },
  {
   "cell_type": "code",
   "execution_count": 66,
   "id": "f98066e8",
   "metadata": {},
   "outputs": [],
   "source": [
    "from sklearn.tree import DecisionTreeClassifier\n",
    "from sklearn.ensemble import RandomForestClassifier, AdaBoostClassifier, BaggingClassifier, ExtraTreesClassifier\n",
    "from sklearn.linear_model import LogisticRegression\n",
    "from sklearn.svm import SVC\n",
    "from sklearn.naive_bayes import MultinomialNB, GaussianNB\n",
    "\n",
    "from sklearn.model_selection import train_test_split, KFold, cross_val_score, GridSearchCV"
   ]
  },
  {
   "cell_type": "code",
   "execution_count": 67,
   "id": "1e1e01eb",
   "metadata": {},
   "outputs": [],
   "source": [
    "mod1_rf = RandomForestClassifier()\n",
    "mod2_et = ExtraTreesClassifier()\n",
    "mod3_gc = BaggingClassifier()\n",
    "mod4_ab = AdaBoostClassifier()\n",
    "mod5_dt = DecisionTreeClassifier()\n",
    "mod6_lr = LogisticRegression()\n",
    "mod7_svm = SVC()\n",
    "mod8_mnb = MultinomialNB()\n",
    "mod9_gnb = GaussianNB()"
   ]
  },
  {
   "cell_type": "code",
   "execution_count": 68,
   "id": "1c0f3100",
   "metadata": {},
   "outputs": [],
   "source": [
    "alg = ['RandomForestClassifier', 'ExtraTreesClassifier', 'BaggingClassifier', \n",
    "      'AdaBoostClassifier', 'DecisionTreeClassifier', 'LogisticRegression',\n",
    "      'SVC', 'MultinomialNB', 'GaussianNB']\n",
    "scores_mean = []\n",
    "scores_std = []\n",
    "models = [mod1_rf, mod2_et, mod3_gc, mod4_ab, mod5_dt, mod6_lr, mod7_svm, mod8_mnb, mod9_gnb]\n",
    "\n",
    "for model in models:\n",
    "    scores = cross_val_score(model, X_train, Y_train, scoring=\"accuracy\", cv=10, n_jobs=-1)\n",
    "    mean_scores = scores.mean()\n",
    "    std_scores = scores.std()\n",
    "    scores_mean.append(mean_scores)\n",
    "    scores_std.append(std_scores)"
   ]
  },
  {
   "cell_type": "markdown",
   "id": "ed03f3e5",
   "metadata": {},
   "source": [
    "Lo convertimos a un dataframe para apreciar los resultados finales"
   ]
  },
  {
   "cell_type": "code",
   "execution_count": 69,
   "id": "8fe8f963",
   "metadata": {},
   "outputs": [
    {
     "data": {
      "text/html": [
       "<div>\n",
       "<style scoped>\n",
       "    .dataframe tbody tr th:only-of-type {\n",
       "        vertical-align: middle;\n",
       "    }\n",
       "\n",
       "    .dataframe tbody tr th {\n",
       "        vertical-align: top;\n",
       "    }\n",
       "\n",
       "    .dataframe thead th {\n",
       "        text-align: right;\n",
       "    }\n",
       "</style>\n",
       "<table border=\"1\" class=\"dataframe\">\n",
       "  <thead>\n",
       "    <tr style=\"text-align: right;\">\n",
       "      <th></th>\n",
       "      <th>score</th>\n",
       "      <th>std</th>\n",
       "    </tr>\n",
       "  </thead>\n",
       "  <tbody>\n",
       "    <tr>\n",
       "      <th>AdaBoostClassifier</th>\n",
       "      <td>0.740060</td>\n",
       "      <td>0.040202</td>\n",
       "    </tr>\n",
       "    <tr>\n",
       "      <th>LogisticRegression</th>\n",
       "      <td>0.733616</td>\n",
       "      <td>0.040040</td>\n",
       "    </tr>\n",
       "    <tr>\n",
       "      <th>RandomForestClassifier</th>\n",
       "      <td>0.732351</td>\n",
       "      <td>0.036493</td>\n",
       "    </tr>\n",
       "    <tr>\n",
       "      <th>SVC</th>\n",
       "      <td>0.720729</td>\n",
       "      <td>0.029477</td>\n",
       "    </tr>\n",
       "    <tr>\n",
       "      <th>GaussianNB</th>\n",
       "      <td>0.702697</td>\n",
       "      <td>0.049181</td>\n",
       "    </tr>\n",
       "    <tr>\n",
       "      <th>BaggingClassifier</th>\n",
       "      <td>0.701465</td>\n",
       "      <td>0.042038</td>\n",
       "    </tr>\n",
       "    <tr>\n",
       "      <th>ExtraTreesClassifier</th>\n",
       "      <td>0.698768</td>\n",
       "      <td>0.026203</td>\n",
       "    </tr>\n",
       "    <tr>\n",
       "      <th>MultinomialNB</th>\n",
       "      <td>0.669331</td>\n",
       "      <td>0.034660</td>\n",
       "    </tr>\n",
       "    <tr>\n",
       "      <th>DecisionTreeClassifier</th>\n",
       "      <td>0.628155</td>\n",
       "      <td>0.039507</td>\n",
       "    </tr>\n",
       "  </tbody>\n",
       "</table>\n",
       "</div>"
      ],
      "text/plain": [
       "                           score       std\n",
       "AdaBoostClassifier      0.740060  0.040202\n",
       "LogisticRegression      0.733616  0.040040\n",
       "RandomForestClassifier  0.732351  0.036493\n",
       "SVC                     0.720729  0.029477\n",
       "GaussianNB              0.702697  0.049181\n",
       "BaggingClassifier       0.701465  0.042038\n",
       "ExtraTreesClassifier    0.698768  0.026203\n",
       "MultinomialNB           0.669331  0.034660\n",
       "DecisionTreeClassifier  0.628155  0.039507"
      ]
     },
     "execution_count": 69,
     "metadata": {},
     "output_type": "execute_result"
    }
   ],
   "source": [
    "resultados = pd.DataFrame(scores_mean, index=alg, columns=['score']).sort_values(by='score', ascending=False)\n",
    "resultados['std'] = scores_std\n",
    "resultados"
   ]
  }
 ],
 "metadata": {
  "kernelspec": {
   "display_name": "analytics",
   "language": "python",
   "name": "myenv"
  },
  "language_info": {
   "codemirror_mode": {
    "name": "ipython",
    "version": 3
   },
   "file_extension": ".py",
   "mimetype": "text/x-python",
   "name": "python",
   "nbconvert_exporter": "python",
   "pygments_lexer": "ipython3",
   "version": "3.7.11"
  }
 },
 "nbformat": 4,
 "nbformat_minor": 5
}
