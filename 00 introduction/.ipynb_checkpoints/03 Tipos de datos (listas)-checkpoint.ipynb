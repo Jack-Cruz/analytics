{
 "cells": [
  {
   "cell_type": "markdown",
   "id": "ea35f288",
   "metadata": {},
   "source": [
    "## 5. Listas\n",
    "\n",
    "Una lista es una secuencia ordenada de valores. Son mutables, es decir, puede redefinirse el número de elementos y cambiar sus valores. Se pueden crear usando la función list() o los símbolos [ ].\n",
    "\n",
    "Las listas son el tipo de variables más usadas en Python, dada su facilidad y flexibilidad para almacenar diferentes tipos de valores."
   ]
  },
  {
   "cell_type": "markdown",
   "id": "ec285b7e",
   "metadata": {},
   "source": [
    "### Definir un objeto tipo lista"
   ]
  },
  {
   "cell_type": "code",
   "execution_count": 1,
   "id": "c253a581",
   "metadata": {},
   "outputs": [
    {
     "name": "stdout",
     "output_type": "stream",
     "text": [
      "[] <class 'list'> 0\n"
     ]
    }
   ],
   "source": [
    "# Crear una lista vacia\n",
    "\n",
    "x = list()\n",
    "print(x, type(x), len(x))"
   ]
  },
  {
   "cell_type": "code",
   "execution_count": 2,
   "id": "352e0739",
   "metadata": {},
   "outputs": [
    {
     "name": "stdout",
     "output_type": "stream",
     "text": [
      "[] <class 'list'> 0\n"
     ]
    }
   ],
   "source": [
    "x = []\n",
    "print(x, type(x), len(x))"
   ]
  },
  {
   "cell_type": "code",
   "execution_count": 3,
   "id": "6c8621d8",
   "metadata": {},
   "outputs": [
    {
     "name": "stdout",
     "output_type": "stream",
     "text": [
      "[1, 2, 3] <class 'list'> 3\n"
     ]
    }
   ],
   "source": [
    "# Crear una lista que contiene un par de valores enteros\n",
    "\n",
    "x = list([1, 2, 3])\n",
    "print(x, type(x), len(x))"
   ]
  },
  {
   "cell_type": "code",
   "execution_count": 4,
   "id": "ea63a3e9",
   "metadata": {},
   "outputs": [
    {
     "name": "stdout",
     "output_type": "stream",
     "text": [
      "[1, 2.0, '3', 4.0] <class 'list'> 4\n"
     ]
    }
   ],
   "source": [
    "# Crear una lista que mezcla enteros, punto flotante y string\n",
    "\n",
    "x = list([1, 2., '3', 4.])\n",
    "print(x, type(x), len(x))"
   ]
  },
  {
   "cell_type": "code",
   "execution_count": 5,
   "id": "0210c682",
   "metadata": {},
   "outputs": [
    {
     "data": {
      "text/plain": [
       "str"
      ]
     },
     "execution_count": 5,
     "metadata": {},
     "output_type": "execute_result"
    }
   ],
   "source": [
    "type(x[2])"
   ]
  },
  {
   "cell_type": "code",
   "execution_count": 6,
   "id": "f0bee60e",
   "metadata": {},
   "outputs": [
    {
     "data": {
      "text/plain": [
       "float"
      ]
     },
     "execution_count": 6,
     "metadata": {},
     "output_type": "execute_result"
    }
   ],
   "source": [
    "type(x[1])"
   ]
  },
  {
   "cell_type": "code",
   "execution_count": 7,
   "id": "8217aaa7",
   "metadata": {},
   "outputs": [
    {
     "name": "stdout",
     "output_type": "stream",
     "text": [
      "[1, 2.0, '3', 4.0] <class 'list'> 4\n"
     ]
    }
   ],
   "source": [
    "# Crear una lista usando símbolos []\n",
    "\n",
    "x = [1, 2., '3', 4.]\n",
    "print(x, type(x), len(x))"
   ]
  },
  {
   "cell_type": "markdown",
   "id": "82e17225",
   "metadata": {},
   "source": [
    "### Acceder a un elemento y cambiar su valor"
   ]
  },
  {
   "cell_type": "code",
   "execution_count": 8,
   "id": "4c1372d1",
   "metadata": {},
   "outputs": [
    {
     "data": {
      "text/plain": [
       "1"
      ]
     },
     "execution_count": 8,
     "metadata": {},
     "output_type": "execute_result"
    }
   ],
   "source": [
    "# Acceder al primer elemento de la lista\n",
    "\n",
    "x[0]"
   ]
  },
  {
   "cell_type": "code",
   "execution_count": 9,
   "id": "42e843dc",
   "metadata": {},
   "outputs": [
    {
     "data": {
      "text/plain": [
       "['Machine Learning con Python', 2.0, '3', 4.0]"
      ]
     },
     "execution_count": 9,
     "metadata": {},
     "output_type": "execute_result"
    }
   ],
   "source": [
    "# Cambiar el elemento de 0\n",
    "\n",
    "x[0] = 'Machine Learning con Python'\n",
    "x"
   ]
  },
  {
   "cell_type": "code",
   "execution_count": 10,
   "id": "6cc5da44",
   "metadata": {},
   "outputs": [
    {
     "data": {
      "text/plain": [
       "4.0"
      ]
     },
     "execution_count": 10,
     "metadata": {},
     "output_type": "execute_result"
    }
   ],
   "source": [
    "x[3]"
   ]
  },
  {
   "cell_type": "code",
   "execution_count": 11,
   "id": "950bc534",
   "metadata": {},
   "outputs": [
    {
     "data": {
      "text/plain": [
       "4.0"
      ]
     },
     "execution_count": 11,
     "metadata": {},
     "output_type": "execute_result"
    }
   ],
   "source": [
    "# Acceder al último elemento de la lista\n",
    "\n",
    "x[-1]"
   ]
  },
  {
   "cell_type": "markdown",
   "id": "48c6f452",
   "metadata": {},
   "source": [
    "### Acceder a un slice de la lista"
   ]
  },
  {
   "cell_type": "code",
   "execution_count": 12,
   "id": "9cec918c",
   "metadata": {},
   "outputs": [
    {
     "name": "stdout",
     "output_type": "stream",
     "text": [
      "['Machine Learning con Python', 2.0, '3', 4.0]\n",
      "['Machine Learning con Python', 2.0]\n"
     ]
    }
   ],
   "source": [
    "# Acceder a un slice desde el primer elemento hasta el segundo elemento.\n",
    "# Usamos los indices 0 y 2.\n",
    "\n",
    "print(x)\n",
    "print(x[0:2])"
   ]
  },
  {
   "cell_type": "code",
   "execution_count": 13,
   "id": "b9af2a24",
   "metadata": {},
   "outputs": [
    {
     "name": "stdout",
     "output_type": "stream",
     "text": [
      "['Machine Learning con Python', 2.0]\n"
     ]
    }
   ],
   "source": [
    "print(x[:2])"
   ]
  },
  {
   "cell_type": "code",
   "execution_count": 14,
   "id": "8b3aad9b",
   "metadata": {},
   "outputs": [
    {
     "name": "stdout",
     "output_type": "stream",
     "text": [
      "['Machine Learning con Python', 2.0, '3', 4.0]\n",
      "['3', 4.0]\n"
     ]
    }
   ],
   "source": [
    "# Acceder a un slice desde el tercer elemento hasta el último elemento.\n",
    "# Usamos los indices 2 y 4\n",
    "\n",
    "print(x)\n",
    "print(x[2:4])\n"
   ]
  },
  {
   "cell_type": "code",
   "execution_count": 15,
   "id": "c451f145",
   "metadata": {},
   "outputs": [
    {
     "name": "stdout",
     "output_type": "stream",
     "text": [
      "['3', 4.0]\n"
     ]
    }
   ],
   "source": [
    "print(x[2:])"
   ]
  },
  {
   "cell_type": "code",
   "execution_count": 16,
   "id": "72c12a73",
   "metadata": {},
   "outputs": [
    {
     "name": "stdout",
     "output_type": "stream",
     "text": [
      "['Machine Learning con Python', 2.0, '3', 4.0]\n",
      "['3', 4.0]\n"
     ]
    }
   ],
   "source": [
    "# Acceder a los últimos dos elementos de la lista.\n",
    "# Usamos los índices -2 y 4\n",
    "\n",
    "print(x)\n",
    "print(x[-2:4])"
   ]
  },
  {
   "cell_type": "code",
   "execution_count": 17,
   "id": "41d6d263",
   "metadata": {},
   "outputs": [
    {
     "name": "stdout",
     "output_type": "stream",
     "text": [
      "['3', 4.0]\n"
     ]
    }
   ],
   "source": [
    "print(x[-2:])"
   ]
  },
  {
   "cell_type": "markdown",
   "id": "444a63d5",
   "metadata": {},
   "source": [
    "### Agregar elementos a la lista"
   ]
  },
  {
   "cell_type": "code",
   "execution_count": 18,
   "id": "0272146c",
   "metadata": {},
   "outputs": [
    {
     "data": {
      "text/plain": [
       "['Machine Learning con Python', 2.0, '3', 4.0]"
      ]
     },
     "execution_count": 18,
     "metadata": {},
     "output_type": "execute_result"
    }
   ],
   "source": [
    "x"
   ]
  },
  {
   "cell_type": "code",
   "execution_count": 19,
   "id": "2a03fb23",
   "metadata": {},
   "outputs": [
    {
     "data": {
      "text/plain": [
       "['Machine Learning con Python', 2.0, '3', 4.0, 5, '6']"
      ]
     },
     "execution_count": 19,
     "metadata": {},
     "output_type": "execute_result"
    }
   ],
   "source": [
    "# Usar el operador suma '+'\n",
    "\n",
    "x + [5, '6']"
   ]
  },
  {
   "cell_type": "code",
   "execution_count": 20,
   "id": "ca587a26",
   "metadata": {},
   "outputs": [
    {
     "name": "stdout",
     "output_type": "stream",
     "text": [
      "['Machine Learning con Python', 2.0, '3', 4.0, 5, '6']\n"
     ]
    }
   ],
   "source": [
    "y = x + [5,'6']\n",
    "print(y)"
   ]
  },
  {
   "cell_type": "code",
   "execution_count": 21,
   "id": "7a823b0e",
   "metadata": {},
   "outputs": [
    {
     "data": {
      "text/plain": [
       "['Machine Learning con Python', 2.0, '3', 4.0, 7.0]"
      ]
     },
     "execution_count": 21,
     "metadata": {},
     "output_type": "execute_result"
    }
   ],
   "source": [
    "# El método append agrega un elemento al final de la lista.\n",
    "# En caso el elemento sea una lista, esta se agrega al final\n",
    "\n",
    "x.append(7.)\n",
    "x"
   ]
  },
  {
   "cell_type": "code",
   "execution_count": 22,
   "id": "72913e74",
   "metadata": {},
   "outputs": [
    {
     "data": {
      "text/plain": [
       "['Machine Learning con Python', 2.0, '3', 4.0, 7.0, [8, '9']]"
      ]
     },
     "execution_count": 22,
     "metadata": {},
     "output_type": "execute_result"
    }
   ],
   "source": [
    "x.append([8, '9'])\n",
    "x"
   ]
  },
  {
   "cell_type": "code",
   "execution_count": 23,
   "id": "d02e3ef8",
   "metadata": {},
   "outputs": [
    {
     "data": {
      "text/plain": [
       "['Machine Learning con Python', 2.0, '3', 4.0, 7.0, [8, '9'], 10]"
      ]
     },
     "execution_count": 23,
     "metadata": {},
     "output_type": "execute_result"
    }
   ],
   "source": [
    "# El método extend agrega una estructura iterable al final de la lista.\n",
    "# Cada elemento se agrega por separado\n",
    "\n",
    "x.extend([10])\n",
    "x"
   ]
  },
  {
   "cell_type": "code",
   "execution_count": 24,
   "id": "fab0fa72",
   "metadata": {},
   "outputs": [
    {
     "data": {
      "text/plain": [
       "['Machine Learning con Python', 2.0, '3', 4.0, 7.0, [8, '9'], 10, 11]"
      ]
     },
     "execution_count": 24,
     "metadata": {},
     "output_type": "execute_result"
    }
   ],
   "source": [
    "x.extend({11})\n",
    "x"
   ]
  },
  {
   "cell_type": "code",
   "execution_count": 25,
   "id": "a1a6fe41",
   "metadata": {},
   "outputs": [
    {
     "data": {
      "text/plain": [
       "['Machine Learning con Python', 2.0, '3', 4.0, 7.0, [8, '9'], 10, 11, 'llave']"
      ]
     },
     "execution_count": 25,
     "metadata": {},
     "output_type": "execute_result"
    }
   ],
   "source": [
    "x.extend({'llave': 'valor'})\n",
    "x"
   ]
  },
  {
   "cell_type": "code",
   "execution_count": 26,
   "id": "2ce28cc7",
   "metadata": {},
   "outputs": [
    {
     "data": {
      "text/plain": [
       "['Machine Learning con Python',\n",
       " 2.0,\n",
       " '3',\n",
       " 4.0,\n",
       " 7.0,\n",
       " [8, '9'],\n",
       " 10,\n",
       " 11,\n",
       " 'llave',\n",
       " 10,\n",
       " '11',\n",
       " ['6', 7, 8.0]]"
      ]
     },
     "execution_count": 26,
     "metadata": {},
     "output_type": "execute_result"
    }
   ],
   "source": [
    "x.extend([10, '11', ['6', 7, 8.0]])\n",
    "x"
   ]
  },
  {
   "cell_type": "markdown",
   "id": "839224b8",
   "metadata": {},
   "source": [
    "### Buscar elementos en una lista"
   ]
  },
  {
   "cell_type": "code",
   "execution_count": 27,
   "id": "8480cdd5",
   "metadata": {},
   "outputs": [
    {
     "data": {
      "text/plain": [
       "['Machine Learning con Python',\n",
       " 2.0,\n",
       " '3',\n",
       " 4.0,\n",
       " 7.0,\n",
       " [8, '9'],\n",
       " 10,\n",
       " 11,\n",
       " 'llave',\n",
       " 10,\n",
       " '11',\n",
       " ['6', 7, 8.0]]"
      ]
     },
     "execution_count": 27,
     "metadata": {},
     "output_type": "execute_result"
    }
   ],
   "source": [
    "x"
   ]
  },
  {
   "cell_type": "code",
   "execution_count": 28,
   "id": "2fc51821",
   "metadata": {},
   "outputs": [
    {
     "data": {
      "text/plain": [
       "0"
      ]
     },
     "execution_count": 28,
     "metadata": {},
     "output_type": "execute_result"
    }
   ],
   "source": [
    "# Usar e método count() para contar ocurrecias de algún elemento\n",
    "\n",
    "x.count('10')"
   ]
  },
  {
   "cell_type": "code",
   "execution_count": 29,
   "id": "48c392fb",
   "metadata": {},
   "outputs": [
    {
     "data": {
      "text/plain": [
       "2"
      ]
     },
     "execution_count": 29,
     "metadata": {},
     "output_type": "execute_result"
    }
   ],
   "source": [
    "x.count(10)"
   ]
  },
  {
   "cell_type": "code",
   "execution_count": 30,
   "id": "fb184e9f",
   "metadata": {},
   "outputs": [
    {
     "data": {
      "text/plain": [
       "1"
      ]
     },
     "execution_count": 30,
     "metadata": {},
     "output_type": "execute_result"
    }
   ],
   "source": [
    "x.count(7.0)"
   ]
  },
  {
   "cell_type": "code",
   "execution_count": 31,
   "id": "2bcb7284",
   "metadata": {},
   "outputs": [
    {
     "data": {
      "text/plain": [
       "1"
      ]
     },
     "execution_count": 31,
     "metadata": {},
     "output_type": "execute_result"
    }
   ],
   "source": [
    "x.count(7)"
   ]
  },
  {
   "cell_type": "code",
   "execution_count": 32,
   "id": "02d0ce3e",
   "metadata": {},
   "outputs": [
    {
     "data": {
      "text/plain": [
       "0"
      ]
     },
     "execution_count": 32,
     "metadata": {},
     "output_type": "execute_result"
    }
   ],
   "source": [
    "x.count(1)"
   ]
  },
  {
   "cell_type": "code",
   "execution_count": 33,
   "id": "ff92d55a",
   "metadata": {},
   "outputs": [
    {
     "data": {
      "text/plain": [
       "0"
      ]
     },
     "execution_count": 33,
     "metadata": {},
     "output_type": "execute_result"
    }
   ],
   "source": [
    "x.count(1.0)"
   ]
  },
  {
   "cell_type": "code",
   "execution_count": 34,
   "id": "27a9e111",
   "metadata": {},
   "outputs": [
    {
     "data": {
      "text/plain": [
       "['Machine Learning con Python',\n",
       " 2.0,\n",
       " '3',\n",
       " 4.0,\n",
       " 7.0,\n",
       " [8, '9'],\n",
       " 10,\n",
       " 11,\n",
       " 'llave',\n",
       " 10,\n",
       " '11',\n",
       " ['6', 7, 8.0]]"
      ]
     },
     "execution_count": 34,
     "metadata": {},
     "output_type": "execute_result"
    }
   ],
   "source": [
    "x"
   ]
  },
  {
   "cell_type": "code",
   "execution_count": 35,
   "id": "0ded07fc",
   "metadata": {},
   "outputs": [
    {
     "data": {
      "text/plain": [
       "False"
      ]
     },
     "execution_count": 35,
     "metadata": {},
     "output_type": "execute_result"
    }
   ],
   "source": [
    "# Usar la función in para determinar si un elemento existe o no en la lista\n",
    "\n",
    "'6' in x"
   ]
  },
  {
   "cell_type": "code",
   "execution_count": 36,
   "id": "7e2f613b",
   "metadata": {},
   "outputs": [
    {
     "data": {
      "text/plain": [
       "True"
      ]
     },
     "execution_count": 36,
     "metadata": {},
     "output_type": "execute_result"
    }
   ],
   "source": [
    "['6', 7, 8.0] in x"
   ]
  },
  {
   "cell_type": "code",
   "execution_count": 37,
   "id": "5fcb3675",
   "metadata": {},
   "outputs": [
    {
     "data": {
      "text/plain": [
       "['Machine Learning con Python',\n",
       " 2.0,\n",
       " '3',\n",
       " 4.0,\n",
       " 7.0,\n",
       " [8, '9'],\n",
       " 10,\n",
       " 11,\n",
       " 'llave',\n",
       " 10,\n",
       " '11',\n",
       " ['6', 7, 8.0]]"
      ]
     },
     "execution_count": 37,
     "metadata": {},
     "output_type": "execute_result"
    }
   ],
   "source": [
    "x"
   ]
  },
  {
   "cell_type": "code",
   "execution_count": 38,
   "id": "d2932fe7",
   "metadata": {},
   "outputs": [
    {
     "name": "stdout",
     "output_type": "stream",
     "text": [
      "2\n"
     ]
    }
   ],
   "source": [
    "# Determinar el índice en el cuál se encuentra el elemento\n",
    "\n",
    "print(x.index('3'))"
   ]
  },
  {
   "cell_type": "code",
   "execution_count": 39,
   "id": "4ea8c136",
   "metadata": {},
   "outputs": [
    {
     "ename": "ValueError",
     "evalue": "'6' is not in list",
     "output_type": "error",
     "traceback": [
      "\u001b[1;31m---------------------------------------------------------------------------\u001b[0m",
      "\u001b[1;31mValueError\u001b[0m                                Traceback (most recent call last)",
      "\u001b[1;32m~\\AppData\\Local\\Temp/ipykernel_9944/3980511454.py\u001b[0m in \u001b[0;36m<module>\u001b[1;34m\u001b[0m\n\u001b[1;32m----> 1\u001b[1;33m \u001b[0mprint\u001b[0m\u001b[1;33m(\u001b[0m\u001b[0mx\u001b[0m\u001b[1;33m.\u001b[0m\u001b[0mindex\u001b[0m\u001b[1;33m(\u001b[0m\u001b[1;34m'6'\u001b[0m\u001b[1;33m)\u001b[0m\u001b[1;33m)\u001b[0m\u001b[1;33m\u001b[0m\u001b[1;33m\u001b[0m\u001b[0m\n\u001b[0m",
      "\u001b[1;31mValueError\u001b[0m: '6' is not in list"
     ]
    }
   ],
   "source": [
    "print(x.index('6'))"
   ]
  },
  {
   "cell_type": "code",
   "execution_count": 40,
   "id": "84eb1fb7",
   "metadata": {},
   "outputs": [
    {
     "name": "stdout",
     "output_type": "stream",
     "text": [
      "elemento no encontrado\n"
     ]
    }
   ],
   "source": [
    "#  ¿Qué sucede si buscamos un elemento que no se encuentra en la lista?\n",
    "\n",
    "if '6' in x:\n",
    "    print(x.index('6'))\n",
    "else:\n",
    "    print('elemento no encontrado')"
   ]
  },
  {
   "cell_type": "code",
   "execution_count": 41,
   "id": "8632c82d",
   "metadata": {},
   "outputs": [
    {
     "name": "stdout",
     "output_type": "stream",
     "text": [
      "Help on built-in function index:\n",
      "\n",
      "index(value, start=0, stop=9223372036854775807, /) method of builtins.list instance\n",
      "    Return first index of value.\n",
      "    \n",
      "    Raises ValueError if the value is not present.\n",
      "\n"
     ]
    }
   ],
   "source": [
    "help(x.index)"
   ]
  },
  {
   "cell_type": "code",
   "execution_count": 42,
   "id": "baef9308",
   "metadata": {},
   "outputs": [
    {
     "data": {
      "text/plain": [
       "['Machine Learning con Python',\n",
       " 2.0,\n",
       " '3',\n",
       " 4.0,\n",
       " 7.0,\n",
       " [8, '9'],\n",
       " 10,\n",
       " 11,\n",
       " 'llave',\n",
       " 10,\n",
       " '11',\n",
       " ['6', 7, 8.0]]"
      ]
     },
     "execution_count": 42,
     "metadata": {},
     "output_type": "execute_result"
    }
   ],
   "source": [
    "x"
   ]
  },
  {
   "cell_type": "markdown",
   "id": "184b6403",
   "metadata": {},
   "source": [
    "### Eliminar elementos de una lista"
   ]
  },
  {
   "cell_type": "code",
   "execution_count": 43,
   "id": "b7886baa",
   "metadata": {},
   "outputs": [
    {
     "data": {
      "text/plain": [
       "[2.0, '3', 4.0, 7.0, [8, '9'], 10, 11, 'llave', 10, '11', ['6', 7, 8.0]]"
      ]
     },
     "execution_count": 43,
     "metadata": {},
     "output_type": "execute_result"
    }
   ],
   "source": [
    "# Eliminar elementos usando el índice\n",
    "\n",
    "del x[0]\n",
    "x"
   ]
  },
  {
   "cell_type": "code",
   "execution_count": 44,
   "id": "8a44450e",
   "metadata": {},
   "outputs": [
    {
     "data": {
      "text/plain": [
       "[2.0, '3', 4.0, 7.0, [8, '9'], 11, 'llave', 10, '11', ['6', 7, 8.0]]"
      ]
     },
     "execution_count": 44,
     "metadata": {},
     "output_type": "execute_result"
    }
   ],
   "source": [
    "# Eliminar usando el método remove(). Este elimina la primera ocurrencia del elemento.\n",
    "\n",
    "x.remove(10)\n",
    "x"
   ]
  },
  {
   "cell_type": "code",
   "execution_count": 45,
   "id": "b6d18e8d",
   "metadata": {},
   "outputs": [
    {
     "ename": "ValueError",
     "evalue": "list.remove(x): x not in list",
     "output_type": "error",
     "traceback": [
      "\u001b[1;31m---------------------------------------------------------------------------\u001b[0m",
      "\u001b[1;31mValueError\u001b[0m                                Traceback (most recent call last)",
      "\u001b[1;32m~\\AppData\\Local\\Temp/ipykernel_9944/670510358.py\u001b[0m in \u001b[0;36m<module>\u001b[1;34m\u001b[0m\n\u001b[0;32m      1\u001b[0m \u001b[1;31m# ¿Qué sucede si eliminamos elemento que no existe en la lista?\u001b[0m\u001b[1;33m\u001b[0m\u001b[1;33m\u001b[0m\u001b[1;33m\u001b[0m\u001b[0m\n\u001b[0;32m      2\u001b[0m \u001b[1;33m\u001b[0m\u001b[0m\n\u001b[1;32m----> 3\u001b[1;33m \u001b[0mx\u001b[0m\u001b[1;33m.\u001b[0m\u001b[0mremove\u001b[0m\u001b[1;33m(\u001b[0m\u001b[1;33m[\u001b[0m\u001b[1;36m30\u001b[0m\u001b[1;33m]\u001b[0m\u001b[1;33m)\u001b[0m\u001b[1;33m\u001b[0m\u001b[1;33m\u001b[0m\u001b[0m\n\u001b[0m",
      "\u001b[1;31mValueError\u001b[0m: list.remove(x): x not in list"
     ]
    }
   ],
   "source": [
    "# ¿Qué sucede si eliminamos elemento que no existe en la lista?\n",
    "\n",
    "x.remove([30])"
   ]
  },
  {
   "cell_type": "code",
   "execution_count": 46,
   "id": "0ad2d14c",
   "metadata": {},
   "outputs": [
    {
     "name": "stdout",
     "output_type": "stream",
     "text": [
      "elemento no encontrado\n"
     ]
    }
   ],
   "source": [
    "if [39] in x:\n",
    "    x.remove([30])\n",
    "else:\n",
    "    print('elemento no encontrado')"
   ]
  },
  {
   "cell_type": "code",
   "execution_count": 47,
   "id": "0c526ac0",
   "metadata": {},
   "outputs": [
    {
     "ename": "IndexError",
     "evalue": "list assignment index out of range",
     "output_type": "error",
     "traceback": [
      "\u001b[1;31m---------------------------------------------------------------------------\u001b[0m",
      "\u001b[1;31mIndexError\u001b[0m                                Traceback (most recent call last)",
      "\u001b[1;32m~\\AppData\\Local\\Temp/ipykernel_9944/1669623738.py\u001b[0m in \u001b[0;36m<module>\u001b[1;34m\u001b[0m\n\u001b[1;32m----> 1\u001b[1;33m \u001b[1;32mdel\u001b[0m \u001b[0mx\u001b[0m\u001b[1;33m[\u001b[0m\u001b[1;36m40\u001b[0m\u001b[1;33m]\u001b[0m\u001b[1;33m\u001b[0m\u001b[1;33m\u001b[0m\u001b[0m\n\u001b[0m",
      "\u001b[1;31mIndexError\u001b[0m: list assignment index out of range"
     ]
    }
   ],
   "source": [
    "del x[40]"
   ]
  },
  {
   "cell_type": "code",
   "execution_count": 48,
   "id": "103be5eb",
   "metadata": {},
   "outputs": [
    {
     "name": "stdout",
     "output_type": "stream",
     "text": [
      "Indice fuera de rango\n"
     ]
    }
   ],
   "source": [
    "if 40 < len(x):\n",
    "    del x[40]\n",
    "else:\n",
    "    print('Indice fuera de rango')"
   ]
  },
  {
   "cell_type": "code",
   "execution_count": 49,
   "id": "2bb8c7c9",
   "metadata": {},
   "outputs": [
    {
     "data": {
      "text/plain": [
       "[2.0, '3', 4.0, 7.0, [8, '9'], 11, 'llave', 10, '11', ['6', 7, 8.0]]"
      ]
     },
     "execution_count": 49,
     "metadata": {},
     "output_type": "execute_result"
    }
   ],
   "source": [
    "x"
   ]
  },
  {
   "cell_type": "code",
   "execution_count": 50,
   "id": "c5c2be68",
   "metadata": {},
   "outputs": [
    {
     "name": "stdout",
     "output_type": "stream",
     "text": [
      "['6', 7, 8.0]\n",
      "[2.0, '3', 4.0, 7.0, [8, '9'], 11, 'llave', 10, '11']\n"
     ]
    }
   ],
   "source": [
    "# Elimina elementos usando el método pop()\n",
    "# Este método extrae una copia del último elemento de la lista y lo remueve\n",
    "\n",
    "y = x.pop()\n",
    "\n",
    "print(y)\n",
    "print(x)"
   ]
  },
  {
   "cell_type": "code",
   "execution_count": 51,
   "id": "67679412",
   "metadata": {},
   "outputs": [
    {
     "name": "stdout",
     "output_type": "stream",
     "text": [
      "2.0\n",
      "['3', 4.0, 7.0, [8, '9'], 11, 'llave', 10, '11']\n"
     ]
    }
   ],
   "source": [
    "y = x.pop(0)\n",
    "\n",
    "print(y)\n",
    "print(x)"
   ]
  },
  {
   "cell_type": "code",
   "execution_count": 52,
   "id": "6ced0fde",
   "metadata": {
    "collapsed": true
   },
   "outputs": [
    {
     "name": "stdout",
     "output_type": "stream",
     "text": [
      "Help on list object:\n",
      "\n",
      "class list(object)\n",
      " |  list(iterable=(), /)\n",
      " |  \n",
      " |  Built-in mutable sequence.\n",
      " |  \n",
      " |  If no argument is given, the constructor creates a new empty list.\n",
      " |  The argument must be an iterable if specified.\n",
      " |  \n",
      " |  Methods defined here:\n",
      " |  \n",
      " |  __add__(self, value, /)\n",
      " |      Return self+value.\n",
      " |  \n",
      " |  __contains__(self, key, /)\n",
      " |      Return key in self.\n",
      " |  \n",
      " |  __delitem__(self, key, /)\n",
      " |      Delete self[key].\n",
      " |  \n",
      " |  __eq__(self, value, /)\n",
      " |      Return self==value.\n",
      " |  \n",
      " |  __ge__(self, value, /)\n",
      " |      Return self>=value.\n",
      " |  \n",
      " |  __getattribute__(self, name, /)\n",
      " |      Return getattr(self, name).\n",
      " |  \n",
      " |  __getitem__(...)\n",
      " |      x.__getitem__(y) <==> x[y]\n",
      " |  \n",
      " |  __gt__(self, value, /)\n",
      " |      Return self>value.\n",
      " |  \n",
      " |  __iadd__(self, value, /)\n",
      " |      Implement self+=value.\n",
      " |  \n",
      " |  __imul__(self, value, /)\n",
      " |      Implement self*=value.\n",
      " |  \n",
      " |  __init__(self, /, *args, **kwargs)\n",
      " |      Initialize self.  See help(type(self)) for accurate signature.\n",
      " |  \n",
      " |  __iter__(self, /)\n",
      " |      Implement iter(self).\n",
      " |  \n",
      " |  __le__(self, value, /)\n",
      " |      Return self<=value.\n",
      " |  \n",
      " |  __len__(self, /)\n",
      " |      Return len(self).\n",
      " |  \n",
      " |  __lt__(self, value, /)\n",
      " |      Return self<value.\n",
      " |  \n",
      " |  __mul__(self, value, /)\n",
      " |      Return self*value.\n",
      " |  \n",
      " |  __ne__(self, value, /)\n",
      " |      Return self!=value.\n",
      " |  \n",
      " |  __repr__(self, /)\n",
      " |      Return repr(self).\n",
      " |  \n",
      " |  __reversed__(self, /)\n",
      " |      Return a reverse iterator over the list.\n",
      " |  \n",
      " |  __rmul__(self, value, /)\n",
      " |      Return value*self.\n",
      " |  \n",
      " |  __setitem__(self, key, value, /)\n",
      " |      Set self[key] to value.\n",
      " |  \n",
      " |  __sizeof__(self, /)\n",
      " |      Return the size of the list in memory, in bytes.\n",
      " |  \n",
      " |  append(self, object, /)\n",
      " |      Append object to the end of the list.\n",
      " |  \n",
      " |  clear(self, /)\n",
      " |      Remove all items from list.\n",
      " |  \n",
      " |  copy(self, /)\n",
      " |      Return a shallow copy of the list.\n",
      " |  \n",
      " |  count(self, value, /)\n",
      " |      Return number of occurrences of value.\n",
      " |  \n",
      " |  extend(self, iterable, /)\n",
      " |      Extend list by appending elements from the iterable.\n",
      " |  \n",
      " |  index(self, value, start=0, stop=9223372036854775807, /)\n",
      " |      Return first index of value.\n",
      " |      \n",
      " |      Raises ValueError if the value is not present.\n",
      " |  \n",
      " |  insert(self, index, object, /)\n",
      " |      Insert object before index.\n",
      " |  \n",
      " |  pop(self, index=-1, /)\n",
      " |      Remove and return item at index (default last).\n",
      " |      \n",
      " |      Raises IndexError if list is empty or index is out of range.\n",
      " |  \n",
      " |  remove(self, value, /)\n",
      " |      Remove first occurrence of value.\n",
      " |      \n",
      " |      Raises ValueError if the value is not present.\n",
      " |  \n",
      " |  reverse(self, /)\n",
      " |      Reverse *IN PLACE*.\n",
      " |  \n",
      " |  sort(self, /, *, key=None, reverse=False)\n",
      " |      Stable sort *IN PLACE*.\n",
      " |  \n",
      " |  ----------------------------------------------------------------------\n",
      " |  Static methods defined here:\n",
      " |  \n",
      " |  __new__(*args, **kwargs) from builtins.type\n",
      " |      Create and return a new object.  See help(type) for accurate signature.\n",
      " |  \n",
      " |  ----------------------------------------------------------------------\n",
      " |  Data and other attributes defined here:\n",
      " |  \n",
      " |  __hash__ = None\n",
      "\n"
     ]
    }
   ],
   "source": [
    "help(x)"
   ]
  },
  {
   "cell_type": "markdown",
   "id": "a9e8f695",
   "metadata": {},
   "source": [
    "### List Comprehensions\n",
    "Las comprensiones son constructos que permiten que las secuencias se construyan a partir de otras secuencias.\n",
    "\n",
    "\n",
    "<img src=\"images/listComprehensions.gif\" width=\"700\">"
   ]
  },
  {
   "cell_type": "code",
   "execution_count": 54,
   "id": "1fb93ab4",
   "metadata": {},
   "outputs": [
    {
     "data": {
      "text/plain": [
       "[1, 2, 3, 4]"
      ]
     },
     "execution_count": 54,
     "metadata": {},
     "output_type": "execute_result"
    }
   ],
   "source": [
    "# Definir una lista\n",
    "\n",
    "x = [1, 2, 3, 4]\n",
    "x"
   ]
  },
  {
   "cell_type": "code",
   "execution_count": 55,
   "id": "af4a19f5",
   "metadata": {},
   "outputs": [
    {
     "name": "stdout",
     "output_type": "stream",
     "text": [
      "[1, 4, 9, 16]\n"
     ]
    }
   ],
   "source": [
    "cuadrado = []\n",
    "\n",
    "for elemento in x:\n",
    "    cuadrado.append(elemento**2)\n",
    "\n",
    "print(cuadrado)"
   ]
  },
  {
   "cell_type": "code",
   "execution_count": 56,
   "id": "f4e86328",
   "metadata": {},
   "outputs": [
    {
     "name": "stdout",
     "output_type": "stream",
     "text": [
      "[1, 4]\n"
     ]
    }
   ],
   "source": [
    "cuadrado = []\n",
    "\n",
    "for elemento in x:\n",
    "    if elemento < 3:\n",
    "        cuadrado.append(elemento**2)\n",
    "\n",
    "print(cuadrado)"
   ]
  },
  {
   "cell_type": "code",
   "execution_count": 57,
   "id": "453311e5",
   "metadata": {},
   "outputs": [
    {
     "name": "stdout",
     "output_type": "stream",
     "text": [
      "[1, 4, 9, 16]\n"
     ]
    }
   ],
   "source": [
    "# ¿Qué hacemos si queremos elevar al cuadrado a todos los elementos de la lista definida?\n",
    "\n",
    "x2 = [e**2 for e in x]\n",
    "print(x2)"
   ]
  },
  {
   "cell_type": "code",
   "execution_count": 58,
   "id": "a9a5c795",
   "metadata": {},
   "outputs": [
    {
     "name": "stdout",
     "output_type": "stream",
     "text": [
      "[1, 4]\n"
     ]
    }
   ],
   "source": [
    "x2 = [e**2 for e in x if e < 3]\n",
    "print(x2)"
   ]
  },
  {
   "cell_type": "code",
   "execution_count": 59,
   "id": "52452f63",
   "metadata": {},
   "outputs": [
    {
     "data": {
      "text/plain": [
       "[1, 2, 3, 4, 'Machine Learning con Python']"
      ]
     },
     "execution_count": 59,
     "metadata": {},
     "output_type": "execute_result"
    }
   ],
   "source": [
    "# Agregamos un elemento más a la lista\n",
    "\n",
    "x.append(\"Machine Learning con Python\")\n",
    "x"
   ]
  },
  {
   "cell_type": "code",
   "execution_count": 61,
   "id": "31f812e2",
   "metadata": {},
   "outputs": [
    {
     "ename": "TypeError",
     "evalue": "unsupported operand type(s) for ** or pow(): 'str' and 'int'",
     "output_type": "error",
     "traceback": [
      "\u001b[1;31m---------------------------------------------------------------------------\u001b[0m",
      "\u001b[1;31mTypeError\u001b[0m                                 Traceback (most recent call last)",
      "\u001b[1;32m~\\AppData\\Local\\Temp/ipykernel_9944/132987348.py\u001b[0m in \u001b[0;36m<module>\u001b[1;34m\u001b[0m\n\u001b[0;32m      1\u001b[0m \u001b[1;31m# Ahora, ... ¿Qué hacemos si queremos elevar al cuadrado a todos los elementos enteros de la lista definida?\u001b[0m\u001b[1;33m\u001b[0m\u001b[1;33m\u001b[0m\u001b[1;33m\u001b[0m\u001b[0m\n\u001b[0;32m      2\u001b[0m \u001b[1;33m\u001b[0m\u001b[0m\n\u001b[1;32m----> 3\u001b[1;33m \u001b[0mx2\u001b[0m \u001b[1;33m=\u001b[0m \u001b[1;33m[\u001b[0m\u001b[0me\u001b[0m\u001b[1;33m**\u001b[0m\u001b[1;36m2\u001b[0m \u001b[1;32mfor\u001b[0m \u001b[0me\u001b[0m \u001b[1;32min\u001b[0m \u001b[0mx\u001b[0m\u001b[1;33m]\u001b[0m\u001b[1;33m\u001b[0m\u001b[1;33m\u001b[0m\u001b[0m\n\u001b[0m\u001b[0;32m      4\u001b[0m \u001b[0mprint\u001b[0m\u001b[1;33m(\u001b[0m\u001b[0mx2\u001b[0m\u001b[1;33m)\u001b[0m\u001b[1;33m\u001b[0m\u001b[1;33m\u001b[0m\u001b[0m\n",
      "\u001b[1;32m~\\AppData\\Local\\Temp/ipykernel_9944/132987348.py\u001b[0m in \u001b[0;36m<listcomp>\u001b[1;34m(.0)\u001b[0m\n\u001b[0;32m      1\u001b[0m \u001b[1;31m# Ahora, ... ¿Qué hacemos si queremos elevar al cuadrado a todos los elementos enteros de la lista definida?\u001b[0m\u001b[1;33m\u001b[0m\u001b[1;33m\u001b[0m\u001b[1;33m\u001b[0m\u001b[0m\n\u001b[0;32m      2\u001b[0m \u001b[1;33m\u001b[0m\u001b[0m\n\u001b[1;32m----> 3\u001b[1;33m \u001b[0mx2\u001b[0m \u001b[1;33m=\u001b[0m \u001b[1;33m[\u001b[0m\u001b[0me\u001b[0m\u001b[1;33m**\u001b[0m\u001b[1;36m2\u001b[0m \u001b[1;32mfor\u001b[0m \u001b[0me\u001b[0m \u001b[1;32min\u001b[0m \u001b[0mx\u001b[0m\u001b[1;33m]\u001b[0m\u001b[1;33m\u001b[0m\u001b[1;33m\u001b[0m\u001b[0m\n\u001b[0m\u001b[0;32m      4\u001b[0m \u001b[0mprint\u001b[0m\u001b[1;33m(\u001b[0m\u001b[0mx2\u001b[0m\u001b[1;33m)\u001b[0m\u001b[1;33m\u001b[0m\u001b[1;33m\u001b[0m\u001b[0m\n",
      "\u001b[1;31mTypeError\u001b[0m: unsupported operand type(s) for ** or pow(): 'str' and 'int'"
     ]
    }
   ],
   "source": [
    "# Ahora, ... ¿Qué hacemos si queremos elevar al cuadrado a todos los elementos enteros de la lista definida?\n",
    "\n",
    "x2 = [e**2 for e in x]\n",
    "print(x2)"
   ]
  },
  {
   "cell_type": "code",
   "execution_count": 63,
   "id": "001abd6a",
   "metadata": {},
   "outputs": [
    {
     "name": "stdout",
     "output_type": "stream",
     "text": [
      "[1, 4, 9, 16]\n"
     ]
    }
   ],
   "source": [
    "x2 = [e**2 for e in x if type(e) == int]\n",
    "print(x2)"
   ]
  },
  {
   "cell_type": "code",
   "execution_count": 64,
   "id": "df60f705",
   "metadata": {},
   "outputs": [
    {
     "data": {
      "text/plain": [
       "[1, 2, 3, 4, 'Machine Learning con Python']"
      ]
     },
     "execution_count": 64,
     "metadata": {},
     "output_type": "execute_result"
    }
   ],
   "source": [
    "x"
   ]
  },
  {
   "cell_type": "code",
   "execution_count": 7,
   "id": "9759ad6c",
   "metadata": {},
   "outputs": [
    {
     "name": "stdout",
     "output_type": "stream",
     "text": [
      "[1, 2, 3, 4, 5, 6, 7, 8, 9, 10]\n"
     ]
    }
   ],
   "source": [
    "# Método sort de la lista\n",
    "\n",
    "lista = [2, 1, 4, 3, 7, 6, 5, 10, 9, 8]\n",
    "lista.sort()\n",
    "print(lista)"
   ]
  },
  {
   "cell_type": "code",
   "execution_count": 8,
   "id": "d1ee3fa0",
   "metadata": {},
   "outputs": [
    {
     "name": "stdout",
     "output_type": "stream",
     "text": [
      "['Jack', 'Física', 'Química', 'Hist', 'Lengua']\n"
     ]
    }
   ],
   "source": [
    "datos = [\"Jack\", \"Física\", \"Química\", \"Hist\", \"Lengua\"]\n",
    "print(datos)"
   ]
  },
  {
   "cell_type": "code",
   "execution_count": 9,
   "id": "5692b1b0",
   "metadata": {},
   "outputs": [
    {
     "name": "stdout",
     "output_type": "stream",
     "text": [
      "['Física', 'Hist', 'Jack', 'Lengua', 'Química']\n"
     ]
    }
   ],
   "source": [
    "datos.sort()\n",
    "print(datos)"
   ]
  },
  {
   "cell_type": "code",
   "execution_count": 10,
   "id": "f02ad90e",
   "metadata": {},
   "outputs": [
    {
     "name": "stdout",
     "output_type": "stream",
     "text": [
      "['Química', 'Lengua', 'Jack', 'Hist', 'Física']\n"
     ]
    }
   ],
   "source": [
    "datos.sort(reverse = True)\n",
    "print(datos)"
   ]
  }
 ],
 "metadata": {
  "kernelspec": {
   "display_name": "analytics",
   "language": "python",
   "name": "myenv"
  },
  "language_info": {
   "codemirror_mode": {
    "name": "ipython",
    "version": 3
   },
   "file_extension": ".py",
   "mimetype": "text/x-python",
   "name": "python",
   "nbconvert_exporter": "python",
   "pygments_lexer": "ipython3",
   "version": "3.7.11"
  }
 },
 "nbformat": 4,
 "nbformat_minor": 5
}
