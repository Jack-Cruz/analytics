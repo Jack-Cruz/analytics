{
 "cells": [
  {
   "cell_type": "markdown",
   "id": "0c17db59",
   "metadata": {},
   "source": [
    "### Validaremos la instalación de los paquetes de Anaconda\n",
    "\n",
    "Podemos verificar si los paquetes o librerías estan instalados:\n",
    "\n",
    "* [Python](http://www.python.org): Usaremos 3.7\n",
    "* [Numpy](http://www.numpy.org): Extensión numérica para cálculos de algebra lineal y con matrices multidimensionales\n",
    "* [Scipy](http://www.scipy.org): Programación científica\n",
    "* [Matplotlib](http://www.matplotlib.sf.net): Gráficas y ploteos\n",
    "* [IPython](http://ipython.org): Manejar interfaz de notebook\n",
    "* [Pandas](http://pandas.pydata.org/): Análisis de datos\n",
    "* [Seaborn](stanford.edu/~mwaskom/software/seaborn/): gráficos con estilo.\n",
    "* [scikit-learn](http://scikit-learn.org): Machine learning"
   ]
  },
  {
   "cell_type": "markdown",
   "id": "1c4bc360",
   "metadata": {},
   "source": [
    "<div class=\"alert alert-info\">\n",
    "    <strong>Tip:</strong> Si usas el símbolo <code>!</code> antes de la instrucción, este simulará que lo realiza en la terminal.\n",
    "</div>"
   ]
  },
  {
   "cell_type": "markdown",
   "id": "3aee7e2a",
   "metadata": {},
   "source": [
    "<div class=\"alert alert-info\">\n",
    "    <strong>Tip:</strong> Para ejecutar la celda:\n",
    "    <ul>\n",
    "        <li><strong>ctr + enter:</strong> Ejecuta la celda y el focus en la misma celda.</li>\n",
    "        <li><strong>ctr + shift:</strong> Ejecuta la celda y el focus en la siguiente celda.</li>\n",
    "    </ul>\n",
    "</div>"
   ]
  },
  {
   "cell_type": "code",
   "execution_count": 1,
   "id": "416a639c",
   "metadata": {
    "collapsed": true
   },
   "outputs": [
    {
     "name": "stdout",
     "output_type": "stream",
     "text": [
      "Requirement already satisfied: scikit-learn in c:\\users\\pc\\.conda\\envs\\especializacion_analytics\\lib\\site-packages (1.0.1)\n",
      "Requirement already satisfied: scipy>=1.1.0 in c:\\users\\pc\\.conda\\envs\\especializacion_analytics\\lib\\site-packages (from scikit-learn) (1.7.3)\n",
      "Requirement already satisfied: joblib>=0.11 in c:\\users\\pc\\.conda\\envs\\especializacion_analytics\\lib\\site-packages (from scikit-learn) (1.1.0)\n",
      "Requirement already satisfied: numpy>=1.14.6 in c:\\users\\pc\\.conda\\envs\\especializacion_analytics\\lib\\site-packages (from scikit-learn) (1.21.5)\n",
      "Requirement already satisfied: threadpoolctl>=2.0.0 in c:\\users\\pc\\.conda\\envs\\especializacion_analytics\\lib\\site-packages (from scikit-learn) (3.0.0)\n"
     ]
    }
   ],
   "source": [
    "# Permite instalar un parquete, pero si ya esta instalado, no instala.\n",
    "\n",
    "!pip install scikit-learn"
   ]
  },
  {
   "cell_type": "markdown",
   "id": "e59b2609",
   "metadata": {},
   "source": [
    "<div class=\"alert alert-warning\">\n",
    "    <strong>Warning:</strong> Si sale error en el comando <code>pip install [package]</code>, puede ser porque esta cruzando la instrucción <code>pip</code> de conda y del path. Una alternativa es que escribas <code>python -m pip install [package]</code> que ejecutar el <code>pip</code> del environment actual\n",
    "</div>"
   ]
  },
  {
   "cell_type": "code",
   "execution_count": 19,
   "id": "03416341",
   "metadata": {},
   "outputs": [
    {
     "name": "stdout",
     "output_type": "stream",
     "text": [
      "Versión de Python: 3.7.11 (default, Jul 27 2021, 09:42:29) [MSC v.1916 64 bit (AMD64)]\n",
      "IPython: 7.30.1\n",
      "Numpy: 1.21.5\n",
      "Numpy: 1.7.3\n",
      "Numpy: 3.5.1\n",
      "Numpy: 1.3.5\n",
      "Numpy: 1.0.1\n",
      "Numpy: 0.11.2\n"
     ]
    }
   ],
   "source": [
    "# Versiones de los paquetes\n",
    "\n",
    "import sys\n",
    "print('Versión de Python:', sys.version)\n",
    "\n",
    "import IPython\n",
    "print('IPython:', IPython.__version__)\n",
    "\n",
    "import numpy as np\n",
    "print('Numpy:', np.__version__)\n",
    "\n",
    "import scipy\n",
    "print('Numpy:', scipy.__version__)\n",
    "\n",
    "import matplotlib as plt\n",
    "print('Numpy:', plt.__version__)\n",
    "\n",
    "import pandas as pd\n",
    "print('Numpy:', pd.__version__)\n",
    "\n",
    "import sklearn\n",
    "print('Numpy:', sklearn.__version__)\n",
    "\n",
    "import seaborn\n",
    "print('Numpy:', seaborn.__version__)"
   ]
  },
  {
   "cell_type": "markdown",
   "id": "36882323",
   "metadata": {},
   "source": [
    "<div class=\"alert alert-info\">\n",
    "  <strong>Tip:</strong> Si se desea instalar una versión específica de un paquete, ejectuar <code>pip install -U [package]==[version]</code>, por ejemplo: <code>pip install -U pandas==1.4.1</code>.\n",
    "</div>"
   ]
  }
 ],
 "metadata": {
  "kernelspec": {
   "display_name": "analytics",
   "language": "python",
   "name": "myenv"
  },
  "language_info": {
   "codemirror_mode": {
    "name": "ipython",
    "version": 3
   },
   "file_extension": ".py",
   "mimetype": "text/x-python",
   "name": "python",
   "nbconvert_exporter": "python",
   "pygments_lexer": "ipython3",
   "version": "3.7.11"
  }
 },
 "nbformat": 4,
 "nbformat_minor": 5
}
