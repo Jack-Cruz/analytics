{
 "cells": [
  {
   "cell_type": "markdown",
   "metadata": {},
   "source": [
    "# Outliers"
   ]
  },
  {
   "cell_type": "markdown",
   "metadata": {},
   "source": [
    "Detectar __Outliers__ son una parte importante y crucial al momento de realizar __Data Analytics__. \n",
    "\n",
    "Según Wikipedia:\n",
    "\n",
    "\"En estadística, un __outliers__ es una observación que esta bastante alejada del resto de observaciones\".\n",
    "\n",
    "A partir de esto aparecen dos preguntas que tenemos que responder:\n",
    "\n",
    "- ¿Cómo detectamos los outliers?\n",
    "- ¿Qué hacemos cuando ya los encontramos?"
   ]
  },
  {
   "cell_type": "markdown",
   "metadata": {},
   "source": [
    "### ¿Por qué detectar los outliers?\n",
    "\n",
    "<img src=\"Images/impact_noise.jpeg\" alt=\"New app\" title=\"New app\" width=800px height=500px/>"
   ]
  },
  {
   "cell_type": "markdown",
   "metadata": {},
   "source": [
    "### ¿Son los Outliers lo mismo que el ruido?"
   ]
  },
  {
   "cell_type": "markdown",
   "metadata": {},
   "source": [
    "\n",
    "<img src=\"Images/noise_outlier.png\" alt=\"New app\" title=\"New app\" width=800px height=500px/>"
   ]
  },
  {
   "cell_type": "markdown",
   "metadata": {},
   "source": [
    "### ¿Qué podemos hacer con los outliers?\n",
    "\n",
    "- __Trimming__: Esta técnica excluye los valores outliers del análisis (univariado y multivariado). \n",
    "\n",
    "- __Capping__: Se define un límite y se reduce al outliers a ese límite (univariado).\n",
    "\n",
    "- __Outliers to missing value__: Se convierten los valores outliers en valores perdidos y son tratados como valores perdidos (multivariado: todo en datapoint como nan).\n",
    "\n",
    "- __Discretization__: Se realizan grupos o categorías, los cuales pueden incluir a los outliers\n",
    "\n",
    "Agrupar en buckets.\n",
    "Ejemplo: edad de 80 años, el sueldo de jeff bezos\n",
    "\n",
    "- Estos outliers se encuentran en los modelos detección de outliers.\n",
    "- La discretización genera un modelo robusto, pero se pierde el poder predictivo."
   ]
  },
  {
   "cell_type": "markdown",
   "metadata": {},
   "source": [
    "## Trabajando con outliers"
   ]
  },
  {
   "cell_type": "code",
   "execution_count": 1,
   "metadata": {},
   "outputs": [
    {
     "name": "stderr",
     "output_type": "stream",
     "text": [
      "C:\\Users\\PC\\.conda\\envs\\Especializacion_analytics\\lib\\site-packages\\sklearn\\utils\\deprecation.py:87: FutureWarning: Function load_boston is deprecated; `load_boston` is deprecated in 1.0 and will be removed in 1.2.\n",
      "\n",
      "    The Boston housing prices dataset has an ethical problem. You can refer to\n",
      "    the documentation of this function for further details.\n",
      "\n",
      "    The scikit-learn maintainers therefore strongly discourage the use of this\n",
      "    dataset unless the purpose of the code is to study and educate about\n",
      "    ethical issues in data science and machine learning.\n",
      "\n",
      "    In this special case, you can fetch the dataset from the original\n",
      "    source::\n",
      "\n",
      "        import pandas as pd\n",
      "        import numpy as np\n",
      "\n",
      "\n",
      "        data_url = \"http://lib.stat.cmu.edu/datasets/boston\"\n",
      "        raw_df = pd.read_csv(data_url, sep=\"\\s+\", skiprows=22, header=None)\n",
      "        data = np.hstack([raw_df.values[::2, :], raw_df.values[1::2, :2]])\n",
      "        target = raw_df.values[1::2, 2]\n",
      "\n",
      "    Alternative datasets include the California housing dataset (i.e.\n",
      "    :func:`~sklearn.datasets.fetch_california_housing`) and the Ames housing\n",
      "    dataset. You can load the datasets as follows::\n",
      "\n",
      "        from sklearn.datasets import fetch_california_housing\n",
      "        housing = fetch_california_housing()\n",
      "\n",
      "    for the California housing dataset and::\n",
      "\n",
      "        from sklearn.datasets import fetch_openml\n",
      "        housing = fetch_openml(name=\"house_prices\", as_frame=True)\n",
      "\n",
      "    for the Ames housing dataset.\n",
      "    \n",
      "  warnings.warn(msg, category=FutureWarning)\n"
     ]
    }
   ],
   "source": [
    "\n",
    "from sklearn.datasets import load_boston\n",
    "import numpy as np\n",
    "import pandas as pd\n",
    "import seaborn as sns\n",
    "from matplotlib import pyplot as plt\n",
    "from scipy import stats\n",
    "import scipy as sp\n",
    "from sklearn.covariance import MinCovDet\n",
    "import copy \n",
    "\n",
    "#Load data\n",
    "X, y = load_boston(return_X_y=True)\n",
    "\n",
    "#Create data frame\n",
    "boston = load_boston()\n",
    "columns = boston.feature_names\n",
    "dfBoston = pd.DataFrame(X, columns = columns)"
   ]
  },
  {
   "cell_type": "code",
   "execution_count": 6,
   "metadata": {
    "scrolled": true
   },
   "outputs": [
    {
     "data": {
      "text/html": [
       "<div>\n",
       "<style scoped>\n",
       "    .dataframe tbody tr th:only-of-type {\n",
       "        vertical-align: middle;\n",
       "    }\n",
       "\n",
       "    .dataframe tbody tr th {\n",
       "        vertical-align: top;\n",
       "    }\n",
       "\n",
       "    .dataframe thead th {\n",
       "        text-align: right;\n",
       "    }\n",
       "</style>\n",
       "<table border=\"1\" class=\"dataframe\">\n",
       "  <thead>\n",
       "    <tr style=\"text-align: right;\">\n",
       "      <th></th>\n",
       "      <th>CRIM</th>\n",
       "      <th>ZN</th>\n",
       "      <th>INDUS</th>\n",
       "      <th>CHAS</th>\n",
       "      <th>NOX</th>\n",
       "      <th>RM</th>\n",
       "      <th>AGE</th>\n",
       "      <th>DIS</th>\n",
       "      <th>RAD</th>\n",
       "      <th>TAX</th>\n",
       "      <th>PTRATIO</th>\n",
       "      <th>B</th>\n",
       "      <th>LSTAT</th>\n",
       "    </tr>\n",
       "  </thead>\n",
       "  <tbody>\n",
       "    <tr>\n",
       "      <th>0</th>\n",
       "      <td>0.00632</td>\n",
       "      <td>18.0</td>\n",
       "      <td>2.31</td>\n",
       "      <td>0.0</td>\n",
       "      <td>0.538</td>\n",
       "      <td>6.575</td>\n",
       "      <td>65.2</td>\n",
       "      <td>4.0900</td>\n",
       "      <td>1.0</td>\n",
       "      <td>296.0</td>\n",
       "      <td>15.3</td>\n",
       "      <td>396.90</td>\n",
       "      <td>4.98</td>\n",
       "    </tr>\n",
       "    <tr>\n",
       "      <th>1</th>\n",
       "      <td>0.02731</td>\n",
       "      <td>0.0</td>\n",
       "      <td>7.07</td>\n",
       "      <td>0.0</td>\n",
       "      <td>0.469</td>\n",
       "      <td>6.421</td>\n",
       "      <td>78.9</td>\n",
       "      <td>4.9671</td>\n",
       "      <td>2.0</td>\n",
       "      <td>242.0</td>\n",
       "      <td>17.8</td>\n",
       "      <td>396.90</td>\n",
       "      <td>9.14</td>\n",
       "    </tr>\n",
       "    <tr>\n",
       "      <th>2</th>\n",
       "      <td>0.02729</td>\n",
       "      <td>0.0</td>\n",
       "      <td>7.07</td>\n",
       "      <td>0.0</td>\n",
       "      <td>0.469</td>\n",
       "      <td>7.185</td>\n",
       "      <td>61.1</td>\n",
       "      <td>4.9671</td>\n",
       "      <td>2.0</td>\n",
       "      <td>242.0</td>\n",
       "      <td>17.8</td>\n",
       "      <td>392.83</td>\n",
       "      <td>4.03</td>\n",
       "    </tr>\n",
       "    <tr>\n",
       "      <th>3</th>\n",
       "      <td>0.03237</td>\n",
       "      <td>0.0</td>\n",
       "      <td>2.18</td>\n",
       "      <td>0.0</td>\n",
       "      <td>0.458</td>\n",
       "      <td>6.998</td>\n",
       "      <td>45.8</td>\n",
       "      <td>6.0622</td>\n",
       "      <td>3.0</td>\n",
       "      <td>222.0</td>\n",
       "      <td>18.7</td>\n",
       "      <td>394.63</td>\n",
       "      <td>2.94</td>\n",
       "    </tr>\n",
       "    <tr>\n",
       "      <th>4</th>\n",
       "      <td>0.06905</td>\n",
       "      <td>0.0</td>\n",
       "      <td>2.18</td>\n",
       "      <td>0.0</td>\n",
       "      <td>0.458</td>\n",
       "      <td>7.147</td>\n",
       "      <td>54.2</td>\n",
       "      <td>6.0622</td>\n",
       "      <td>3.0</td>\n",
       "      <td>222.0</td>\n",
       "      <td>18.7</td>\n",
       "      <td>396.90</td>\n",
       "      <td>5.33</td>\n",
       "    </tr>\n",
       "  </tbody>\n",
       "</table>\n",
       "</div>"
      ],
      "text/plain": [
       "      CRIM    ZN  INDUS  CHAS    NOX     RM   AGE     DIS  RAD    TAX  \\\n",
       "0  0.00632  18.0   2.31   0.0  0.538  6.575  65.2  4.0900  1.0  296.0   \n",
       "1  0.02731   0.0   7.07   0.0  0.469  6.421  78.9  4.9671  2.0  242.0   \n",
       "2  0.02729   0.0   7.07   0.0  0.469  7.185  61.1  4.9671  2.0  242.0   \n",
       "3  0.03237   0.0   2.18   0.0  0.458  6.998  45.8  6.0622  3.0  222.0   \n",
       "4  0.06905   0.0   2.18   0.0  0.458  7.147  54.2  6.0622  3.0  222.0   \n",
       "\n",
       "   PTRATIO       B  LSTAT  \n",
       "0     15.3  396.90   4.98  \n",
       "1     17.8  396.90   9.14  \n",
       "2     17.8  392.83   4.03  \n",
       "3     18.7  394.63   2.94  \n",
       "4     18.7  396.90   5.33  "
      ]
     },
     "execution_count": 6,
     "metadata": {},
     "output_type": "execute_result"
    }
   ],
   "source": [
    "dfBoston.head()"
   ]
  },
  {
   "cell_type": "markdown",
   "metadata": {},
   "source": [
    "Variables\n",
    "There are 14 attributes in each case of the dataset. They are:\n",
    "\n",
    "- CRIM - per capita crime rate by town\n",
    "- ZN - proportion of residential land zoned for lots over 25,000 sq.ft.\n",
    "- INDUS - proportion of non-retail business acres per town.\n",
    "- CHAS - Charles River dummy variable (1 if tract bounds river; 0 otherwise)\n",
    "- NOX - nitric oxides concentration (parts per 10 million)\n",
    "- RM - average number of rooms per dwelling\n",
    "- AGE - proportion of owner-occupied units built prior to 1940\n",
    "- DIS - weighted distances to five Boston employment centres\n",
    "- RAD - index of accessibility to radial highways\n",
    "- TAX - full-value property-tax rate per \\$10,000\n",
    "- PTRATIO - pupil-teacher ratio by town\n",
    "- B - 1000(Bk - 0.63)^2 where Bk is the proportion of blacks by town\n",
    "- LSTAT - % lower status of the population\n",
    "- MEDV - Median value of owner-occupied homes in $1000's"
   ]
  },
  {
   "cell_type": "markdown",
   "metadata": {},
   "source": [
    "Los ratios tienen dos variables, es interesante medir esto."
   ]
  },
  {
   "cell_type": "code",
   "execution_count": 7,
   "metadata": {},
   "outputs": [
    {
     "data": {
      "text/plain": [
       "<matplotlib.axes._subplots.AxesSubplot at 0x13543ea50>"
      ]
     },
     "execution_count": 7,
     "metadata": {},
     "output_type": "execute_result"
    },
    {
     "data": {
      "image/png": "[encoded data removed]",
      "text/plain": [
       "<Figure size 720x432 with 1 Axes>"
      ]
     },
     "metadata": {
      "needs_background": "light"
     },
     "output_type": "display_data"
    }
   ],
   "source": [
    "df_1 = dfBoston[['TAX', 'B']]\n",
    "df_2 = dfBoston[['CRIM', 'ZN', 'INDUS', 'RM', 'AGE', 'DIS', 'RAD', 'PTRATIO','LSTAT']]\n",
    "df_3 = dfBoston[['CHAS', 'NOX']]\n",
    "\n",
    "\n",
    "fig, ax = plt.subplots(figsize=(10, 6))\n",
    "sns.boxplot(data=df_2, orient=\"h\")"
   ]
  },
  {
   "cell_type": "markdown",
   "metadata": {},
   "source": [
    "### Tukey's box plot method\n",
    "\n",
    "<img src=\"Images/boxplot.png\" alt=\"New app\" title=\"New app\" width=800px height=500px/>\n",
    "\n",
    "\n",
    "IQR =Q3 - Q1, whereas q3 := 75th quartile and q1 := 25th quartile\n",
    "\n",
    "Inner fence = [Q1-1.5*IQR, Q3+1.5*IQR]\n",
    "\n",
    "Outer fence = [Q1–3*IQR, Q3+3*IQR]"
   ]
  },
  {
   "cell_type": "code",
   "execution_count": 10,
   "metadata": {},
   "outputs": [
    {
     "name": "stdout",
     "output_type": "stream",
     "text": [
      "Probables outliers\n",
      "[374, 375, 376, 378, 379, 380, 381, 384, 385, 386, 387, 398, 400, 403, 404, 405, 406, 410, 412, 413, 414, 415, 417, 418, 425, 427, 437, 440, 468, 477]\n",
      "Posibles outliers\n",
      "[367, 371, 373, 374, 375, 376, 377, 378, 379, 380, 381, 382, 384, 385, 386, 387, 388, 392, 394, 398, 399, 400, 401, 402, 403, 404, 405, 406, 407, 409, 410, 411, 412, 413, 414, 415, 416, 417, 418, 419, 420, 422, 425, 426, 427, 429, 431, 434, 435, 436, 437, 438, 439, 440, 441, 443, 444, 445, 447, 448, 454, 468, 469, 477, 478, 479]\n"
     ]
    }
   ],
   "source": [
    "#Tukey's method\n",
    "def tukeys_method(df, variable):\n",
    "    #Takes two parameters: dataframe & variable of interest as string\n",
    "    q1 = df[variable].quantile(0.25)\n",
    "    q3 = df[variable].quantile(0.75)\n",
    "    iqr = q3-q1\n",
    "    inner_fence = 1.5*iqr\n",
    "    outer_fence = 3*iqr\n",
    "    \n",
    "    #inner fence lower and upper end\n",
    "    inner_fence_le = q1-inner_fence\n",
    "    inner_fence_ue = q3+inner_fence\n",
    "    \n",
    "    #outer fence lower and upper end\n",
    "    outer_fence_le = q1-outer_fence\n",
    "    outer_fence_ue = q3+outer_fence\n",
    "    \n",
    "    outliers_prob = []\n",
    "    outliers_poss = []\n",
    "    \n",
    "    for index, x in enumerate(df[variable]):\n",
    "        if x <= outer_fence_le or x >= outer_fence_ue:\n",
    "            outliers_prob.append(index)\n",
    "    for index, x in enumerate(df[variable]):\n",
    "        if x <= inner_fence_le or x >= inner_fence_ue:\n",
    "            outliers_poss.append(index)\n",
    "    return outliers_prob, outliers_poss\n",
    "        \n",
    "probable_outliers_tm, possible_outliers_tm = tukeys_method(dfBoston, \"CRIM\")\n",
    "print(\"Probables outliers\")\n",
    "print(probable_outliers_tm)\n",
    "# [374, 375, 376, 378, 379, 380, 381, 384, 385, 386, 387, 398, 400, 403, 404, 405, 406, \n",
    "# 410 412, 413, 414, 415, 417, 418, 425, 427, 437, 440, 468, 477]\n",
    "\n",
    "print(\"Posibles outliers\")\n",
    "print(possible_outliers_tm)\n",
    "# [367, 371, 373, 374, 375, 376, 377, 378, 379, 380, 381, 382, 384, 385, 386, 387, 388, \n",
    "# 392, 394, 398, 399, 400, 401, 402, 403, 404, 405, 406, 407, 409, 410, 411, 412, 413, \n",
    "# 414, 415, 416, 417, 418, 419, 420, 422, 425, 426, 427, 429, 431, 434, 435, 436, 437,\n",
    "# 438, 439, 440, 441, 443, 444, 445, 447, 448, 454, 468, 469, 477, 478, 479]"
   ]
  },
  {
   "cell_type": "code",
   "execution_count": 11,
   "metadata": {},
   "outputs": [
    {
     "data": {
      "text/plain": [
       "0.13043478260869565"
      ]
     },
     "execution_count": 11,
     "metadata": {},
     "output_type": "execute_result"
    }
   ],
   "source": [
    "len(possible_outliers_tm)/dfBoston.shape[0]"
   ]
  },
  {
   "cell_type": "markdown",
   "metadata": {},
   "source": [
    "**Gráfico de distribución**\n",
    "\n",
    "Se puede realizar una transformación logarítmica,"
   ]
  },
  {
   "cell_type": "code",
   "execution_count": 12,
   "metadata": {
    "scrolled": true
   },
   "outputs": [
    {
     "name": "stderr",
     "output_type": "stream",
     "text": [
      "C:\\Users\\PC\\.conda\\envs\\Especializacion_analytics\\lib\\site-packages\\seaborn\\distributions.py:2619: FutureWarning: `distplot` is a deprecated function and will be removed in a future version. Please adapt your code to use either `displot` (a figure-level function with similar flexibility) or `histplot` (an axes-level function for histograms).\n",
      "  warnings.warn(msg, FutureWarning)\n"
     ]
    },
    {
     "data": {
      "text/plain": [
       "<AxesSubplot:xlabel='CRIM', ylabel='Density'>"
      ]
     },
     "execution_count": 12,
     "metadata": {},
     "output_type": "execute_result"
    },
    {
     "data": {
      "image/png": "[encoded data removed]",
      "text/plain": [
       "<Figure size 432x288 with 1 Axes>"
      ]
     },
     "metadata": {
      "needs_background": "light"
     },
     "output_type": "display_data"
    }
   ],
   "source": [
    "sns.distplot(dfBoston['CRIM'])"
   ]
  },
  {
   "cell_type": "code",
   "execution_count": 13,
   "metadata": {},
   "outputs": [
    {
     "name": "stderr",
     "output_type": "stream",
     "text": [
      "C:\\Users\\PC\\.conda\\envs\\Especializacion_analytics\\lib\\site-packages\\seaborn\\distributions.py:2619: FutureWarning: `distplot` is a deprecated function and will be removed in a future version. Please adapt your code to use either `displot` (a figure-level function with similar flexibility) or `histplot` (an axes-level function for histograms).\n",
      "  warnings.warn(msg, FutureWarning)\n"
     ]
    },
    {
     "name": "stdout",
     "output_type": "stream",
     "text": [
      "[]\n",
      "[380, 404, 405, 410, 414, 418]\n"
     ]
    },
    {
     "data": {
      "image/png": "[encoded data removed]",
      "text/plain": [
       "<Figure size 432x288 with 1 Axes>"
      ]
     },
     "metadata": {
      "needs_background": "light"
     },
     "output_type": "display_data"
    }
   ],
   "source": [
    "#Transform 'CRIM' to log \n",
    "log_CRIM = np.log(dfBoston['CRIM'])   #¿Qué pasa con log[0]?\n",
    "\n",
    "dfBoston['CRIM_man'] = dfBoston['CRIM']+1\n",
    "log_CRIM = np.log(dfBoston['CRIM_man'])\n",
    "dfBoston['CRIM_log'] = log_CRIM\n",
    "\n",
    "#Plot\n",
    "sns.distplot(dfBoston['CRIM_log'])\n",
    "\n",
    "#Calculate probable and possible outliers using log-iq method\n",
    "probable_outliers_logiq, possible_outliers_logiq = tukeys_method(dfBoston, 'CRIM_log')\n",
    "print(probable_outliers_logiq)\n",
    "print(possible_outliers_logiq)\n",
    "\n",
    "# Perdida de generalidad (\"mi variable más importantes es el logaritmo de soles\")"
   ]
  },
  {
   "cell_type": "markdown",
   "metadata": {},
   "source": [
    "## Z - Score (tipificación de muestras-normalizar los datos-estandarizar los datos)\n",
    "\n",
    "\n",
    "<img src=\"Images/z_score.png\" alt=\"New app\" title=\"New app\" width=400px height=200px/>\n",
    "\n",
    "Según la teoría, if z > c, donde c normalmente es seteado como 3. Si se da el caso la observación es marcada como outlier.\n",
    "\n",
    "\n",
    "<img src=\"Images/normal_distribution.png\" alt=\"New app\" title=\"New app\" width=500px height=300px/>\n"
   ]
  },
  {
   "cell_type": "code",
   "execution_count": 2,
   "metadata": {},
   "outputs": [
    {
     "data": {
      "text/plain": [
       "count    5.060000e+02\n",
       "mean    -1.123388e-16\n",
       "std      1.000990e+00\n",
       "min     -4.197819e-01\n",
       "25%     -4.109696e-01\n",
       "50%     -3.906665e-01\n",
       "75%      7.396560e-03\n",
       "max      9.933931e+00\n",
       "Name: CRIM, dtype: float64"
      ]
     },
     "execution_count": 2,
     "metadata": {},
     "output_type": "execute_result"
    }
   ],
   "source": [
    "stats.zscore(dfBoston['CRIM']).describe()"
   ]
  },
  {
   "cell_type": "code",
   "execution_count": 3,
   "metadata": {},
   "outputs": [
    {
     "data": {
      "text/plain": [
       "1.0009896093465716"
      ]
     },
     "execution_count": 3,
     "metadata": {},
     "output_type": "execute_result"
    }
   ],
   "source": [
    "stats.zscore(dfBoston['CRIM']).std()"
   ]
  },
  {
   "cell_type": "code",
   "execution_count": null,
   "metadata": {},
   "outputs": [],
   "source": [
    "dfBoston['CRIM']"
   ]
  },
  {
   "cell_type": "code",
   "execution_count": 4,
   "metadata": {},
   "outputs": [
    {
     "data": {
      "text/plain": [
       "(506, 13)"
      ]
     },
     "execution_count": 4,
     "metadata": {},
     "output_type": "execute_result"
    }
   ],
   "source": [
    "dfBoston.shape"
   ]
  },
  {
   "cell_type": "code",
   "execution_count": 5,
   "metadata": {},
   "outputs": [
    {
     "ename": "TypeError",
     "evalue": "'(slice(None, None, None), 0)' is an invalid key",
     "output_type": "error",
     "traceback": [
      "\u001b[1;31m---------------------------------------------------------------------------\u001b[0m",
      "\u001b[1;31mTypeError\u001b[0m                                 Traceback (most recent call last)",
      "\u001b[1;32m~\\AppData\\Local\\Temp/ipykernel_12540/1794694956.py\u001b[0m in \u001b[0;36m<module>\u001b[1;34m\u001b[0m\n\u001b[0;32m     17\u001b[0m     \u001b[1;32mreturn\u001b[0m \u001b[0moutlier\u001b[0m\u001b[1;33m\u001b[0m\u001b[1;33m\u001b[0m\u001b[0m\n\u001b[0;32m     18\u001b[0m \u001b[1;33m\u001b[0m\u001b[0m\n\u001b[1;32m---> 19\u001b[1;33m \u001b[0moutlier_z\u001b[0m \u001b[1;33m=\u001b[0m \u001b[0mz_score_method\u001b[0m\u001b[1;33m(\u001b[0m\u001b[0mdfBoston\u001b[0m\u001b[1;33m,\u001b[0m \u001b[1;34m'CRIM'\u001b[0m\u001b[1;33m)\u001b[0m\u001b[1;33m\u001b[0m\u001b[1;33m\u001b[0m\u001b[0m\n\u001b[0m\u001b[0;32m     20\u001b[0m \u001b[0mprint\u001b[0m\u001b[1;33m(\u001b[0m\u001b[0moutlier_z\u001b[0m\u001b[1;33m)\u001b[0m\u001b[1;33m\u001b[0m\u001b[1;33m\u001b[0m\u001b[0m\n\u001b[0;32m     21\u001b[0m \u001b[1;31m# [380, 398, 404, 405, 410, 414, 418, 427]\u001b[0m\u001b[1;33m\u001b[0m\u001b[1;33m\u001b[0m\u001b[1;33m\u001b[0m\u001b[0m\n",
      "\u001b[1;32m~\\AppData\\Local\\Temp/ipykernel_12540/1794694956.py\u001b[0m in \u001b[0;36mz_score_method\u001b[1;34m(df, variable_name)\u001b[0m\n\u001b[0;32m     10\u001b[0m         \u001b[1;32mif\u001b[0m \u001b[0mcolumns\u001b[0m\u001b[1;33m[\u001b[0m\u001b[0mitem\u001b[0m\u001b[1;33m]\u001b[0m \u001b[1;33m==\u001b[0m \u001b[0mvariable_name\u001b[0m\u001b[1;33m:\u001b[0m\u001b[1;33m\u001b[0m\u001b[1;33m\u001b[0m\u001b[0m\n\u001b[0;32m     11\u001b[0m             \u001b[0mindex\u001b[0m \u001b[1;33m=\u001b[0m \u001b[0mitem\u001b[0m\u001b[1;33m\u001b[0m\u001b[1;33m\u001b[0m\u001b[0m\n\u001b[1;32m---> 12\u001b[1;33m     \u001b[1;32mfor\u001b[0m \u001b[0mi\u001b[0m\u001b[1;33m,\u001b[0m \u001b[0mv\u001b[0m \u001b[1;32min\u001b[0m \u001b[0menumerate\u001b[0m\u001b[1;33m(\u001b[0m\u001b[0mz\u001b[0m\u001b[1;33m[\u001b[0m\u001b[1;33m:\u001b[0m\u001b[1;33m,\u001b[0m \u001b[0mindex\u001b[0m\u001b[1;33m]\u001b[0m\u001b[1;33m)\u001b[0m\u001b[1;33m:\u001b[0m\u001b[1;33m\u001b[0m\u001b[1;33m\u001b[0m\u001b[0m\n\u001b[0m\u001b[0;32m     13\u001b[0m         \u001b[1;32mif\u001b[0m \u001b[0mv\u001b[0m \u001b[1;33m>\u001b[0m \u001b[0mthreshold\u001b[0m\u001b[1;33m:\u001b[0m\u001b[1;33m\u001b[0m\u001b[1;33m\u001b[0m\u001b[0m\n\u001b[0;32m     14\u001b[0m             \u001b[0moutlier\u001b[0m\u001b[1;33m.\u001b[0m\u001b[0mappend\u001b[0m\u001b[1;33m(\u001b[0m\u001b[0mi\u001b[0m\u001b[1;33m)\u001b[0m\u001b[1;33m\u001b[0m\u001b[1;33m\u001b[0m\u001b[0m\n",
      "\u001b[1;32m~\\.conda\\envs\\Especializacion_analytics\\lib\\site-packages\\pandas\\core\\frame.py\u001b[0m in \u001b[0;36m__getitem__\u001b[1;34m(self, key)\u001b[0m\n\u001b[0;32m   3456\u001b[0m             \u001b[1;32mif\u001b[0m \u001b[0mself\u001b[0m\u001b[1;33m.\u001b[0m\u001b[0mcolumns\u001b[0m\u001b[1;33m.\u001b[0m\u001b[0mnlevels\u001b[0m \u001b[1;33m>\u001b[0m \u001b[1;36m1\u001b[0m\u001b[1;33m:\u001b[0m\u001b[1;33m\u001b[0m\u001b[1;33m\u001b[0m\u001b[0m\n\u001b[0;32m   3457\u001b[0m                 \u001b[1;32mreturn\u001b[0m \u001b[0mself\u001b[0m\u001b[1;33m.\u001b[0m\u001b[0m_getitem_multilevel\u001b[0m\u001b[1;33m(\u001b[0m\u001b[0mkey\u001b[0m\u001b[1;33m)\u001b[0m\u001b[1;33m\u001b[0m\u001b[1;33m\u001b[0m\u001b[0m\n\u001b[1;32m-> 3458\u001b[1;33m             \u001b[0mindexer\u001b[0m \u001b[1;33m=\u001b[0m \u001b[0mself\u001b[0m\u001b[1;33m.\u001b[0m\u001b[0mcolumns\u001b[0m\u001b[1;33m.\u001b[0m\u001b[0mget_loc\u001b[0m\u001b[1;33m(\u001b[0m\u001b[0mkey\u001b[0m\u001b[1;33m)\u001b[0m\u001b[1;33m\u001b[0m\u001b[1;33m\u001b[0m\u001b[0m\n\u001b[0m\u001b[0;32m   3459\u001b[0m             \u001b[1;32mif\u001b[0m \u001b[0mis_integer\u001b[0m\u001b[1;33m(\u001b[0m\u001b[0mindexer\u001b[0m\u001b[1;33m)\u001b[0m\u001b[1;33m:\u001b[0m\u001b[1;33m\u001b[0m\u001b[1;33m\u001b[0m\u001b[0m\n\u001b[0;32m   3460\u001b[0m                 \u001b[0mindexer\u001b[0m \u001b[1;33m=\u001b[0m \u001b[1;33m[\u001b[0m\u001b[0mindexer\u001b[0m\u001b[1;33m]\u001b[0m\u001b[1;33m\u001b[0m\u001b[1;33m\u001b[0m\u001b[0m\n",
      "\u001b[1;32m~\\.conda\\envs\\Especializacion_analytics\\lib\\site-packages\\pandas\\core\\indexes\\base.py\u001b[0m in \u001b[0;36mget_loc\u001b[1;34m(self, key, method, tolerance)\u001b[0m\n\u001b[0;32m   3359\u001b[0m             \u001b[0mcasted_key\u001b[0m \u001b[1;33m=\u001b[0m \u001b[0mself\u001b[0m\u001b[1;33m.\u001b[0m\u001b[0m_maybe_cast_indexer\u001b[0m\u001b[1;33m(\u001b[0m\u001b[0mkey\u001b[0m\u001b[1;33m)\u001b[0m\u001b[1;33m\u001b[0m\u001b[1;33m\u001b[0m\u001b[0m\n\u001b[0;32m   3360\u001b[0m             \u001b[1;32mtry\u001b[0m\u001b[1;33m:\u001b[0m\u001b[1;33m\u001b[0m\u001b[1;33m\u001b[0m\u001b[0m\n\u001b[1;32m-> 3361\u001b[1;33m                 \u001b[1;32mreturn\u001b[0m \u001b[0mself\u001b[0m\u001b[1;33m.\u001b[0m\u001b[0m_engine\u001b[0m\u001b[1;33m.\u001b[0m\u001b[0mget_loc\u001b[0m\u001b[1;33m(\u001b[0m\u001b[0mcasted_key\u001b[0m\u001b[1;33m)\u001b[0m\u001b[1;33m\u001b[0m\u001b[1;33m\u001b[0m\u001b[0m\n\u001b[0m\u001b[0;32m   3362\u001b[0m             \u001b[1;32mexcept\u001b[0m \u001b[0mKeyError\u001b[0m \u001b[1;32mas\u001b[0m \u001b[0merr\u001b[0m\u001b[1;33m:\u001b[0m\u001b[1;33m\u001b[0m\u001b[1;33m\u001b[0m\u001b[0m\n\u001b[0;32m   3363\u001b[0m                 \u001b[1;32mraise\u001b[0m \u001b[0mKeyError\u001b[0m\u001b[1;33m(\u001b[0m\u001b[0mkey\u001b[0m\u001b[1;33m)\u001b[0m \u001b[1;32mfrom\u001b[0m \u001b[0merr\u001b[0m\u001b[1;33m\u001b[0m\u001b[1;33m\u001b[0m\u001b[0m\n",
      "\u001b[1;32m~\\.conda\\envs\\Especializacion_analytics\\lib\\site-packages\\pandas\\_libs\\index.pyx\u001b[0m in \u001b[0;36mpandas._libs.index.IndexEngine.get_loc\u001b[1;34m()\u001b[0m\n",
      "\u001b[1;32m~\\.conda\\envs\\Especializacion_analytics\\lib\\site-packages\\pandas\\_libs\\index.pyx\u001b[0m in \u001b[0;36mpandas._libs.index.IndexEngine.get_loc\u001b[1;34m()\u001b[0m\n",
      "\u001b[1;31mTypeError\u001b[0m: '(slice(None, None, None), 0)' is an invalid key"
     ]
    }
   ],
   "source": [
    "#Internally studentized method (z-score)\n",
    "def z_score_method(df, variable_name):\n",
    "    #Takes two parameters: dataframe & variable of interest as string\n",
    "    columns = df.columns\n",
    "    z = np.abs(stats.zscore(df))\n",
    "    threshold = 3\n",
    "    outlier = []\n",
    "    index=0\n",
    "    for item in range(len(columns)):\n",
    "        if columns[item] == variable_name:\n",
    "            index = item\n",
    "    for i, v in enumerate(z[:, index]):\n",
    "        if v > threshold:\n",
    "            outlier.append(i)\n",
    "        else:\n",
    "            continue\n",
    "    return outlier\n",
    "\n",
    "outlier_z = z_score_method(dfBoston, 'CRIM')\n",
    "print(outlier_z)\n",
    "# [380, 398, 404, 405, 410, 414, 418, 427]"
   ]
  },
  {
   "cell_type": "markdown",
   "metadata": {},
   "source": [
    "## Median Absolute Deviation Method\n",
    "\n",
    "\n",
    "<img src=\"Images/mad.png\" alt=\"New app\" title=\"New app\" width=400px height=200px/>"
   ]
  },
  {
   "cell_type": "code",
   "execution_count": 31,
   "metadata": {},
   "outputs": [
    {
     "name": "stdout",
     "output_type": "stream",
     "text": [
      "165\n"
     ]
    }
   ],
   "source": [
    "#MAD method\n",
    "def mad_method(df, variable_name):\n",
    "    #Takes two parameters: dataframe & variable of interest as string\n",
    "    columns = df.columns\n",
    "    med = np.median(df, axis = 0)\n",
    "    mad = np.abs(stats.median_absolute_deviation(df))\n",
    "    threshold = 3\n",
    "    outlier = []\n",
    "    valor = []\n",
    "    index=0\n",
    "    for item in range(len(columns)):\n",
    "        if columns[item] == variable_name:\n",
    "            index == item\n",
    "    for i, v in enumerate(df.loc[:,variable_name]):\n",
    "        t = (v-med[index])/mad[index]\n",
    "        if t > threshold:\n",
    "            outlier.append(i)\n",
    "        else:\n",
    "            continue\n",
    "    return outlier\n",
    "\n",
    "outlier_mad = mad_method(dfBoston, 'CRIM')\n",
    "print(len(outlier_mad))"
   ]
  },
  {
   "cell_type": "code",
   "execution_count": 35,
   "metadata": {},
   "outputs": [
    {
     "data": {
      "text/plain": [
       "count    506.000000\n",
       "mean       3.613524\n",
       "std        8.601545\n",
       "min        0.006320\n",
       "25%        0.082045\n",
       "50%        0.256510\n",
       "75%        3.677083\n",
       "max       88.976200\n",
       "Name: CRIM, dtype: float64"
      ]
     },
     "execution_count": 35,
     "metadata": {},
     "output_type": "execute_result"
    }
   ],
   "source": [
    "dfBoston['CRIM'].describe()"
   ]
  },
  {
   "cell_type": "code",
   "execution_count": 34,
   "metadata": {},
   "outputs": [
    {
     "name": "stdout",
     "output_type": "stream",
     "text": [
      "[20, 31, 32, 34, 141, 142, 143, 144, 145, 146, 147, 148, 149, 150, 151, 153, 154, 155, 156, 158, 159, 160, 161, 162, 163, 164, 165, 166, 167, 168, 169, 171, 310, 356, 357, 358, 359, 360, 361, 362, 363, 364, 365, 366, 367, 368, 369, 370, 371, 372, 373, 374, 375, 376, 377, 378, 379, 380, 381, 382, 383, 384, 385, 386, 387, 388, 389, 390, 391, 392, 393, 394, 395, 396, 397, 398, 399, 400, 401, 402, 403, 404, 405, 406, 407, 408, 409, 410, 411, 412, 413, 414, 415, 416, 417, 418, 419, 420, 421, 422, 423, 424, 425, 426, 427, 428, 429, 430, 431, 432, 433, 434, 435, 436, 437, 438, 439, 440, 441, 442, 443, 444, 445, 446, 447, 448, 449, 450, 451, 452, 453, 454, 455, 456, 457, 458, 459, 460, 461, 462, 463, 464, 465, 466, 467, 468, 469, 470, 471, 472, 473, 474, 475, 476, 477, 478, 479, 480, 481, 482, 483, 484, 485, 486, 487]\n"
     ]
    }
   ],
   "source": [
    "print(outlier_mad)"
   ]
  },
  {
   "cell_type": "code",
   "execution_count": 30,
   "metadata": {
    "collapsed": true
   },
   "outputs": [
    {
     "data": {
      "text/plain": [
       "[20,\n",
       " 31,\n",
       " 32,\n",
       " 34,\n",
       " 141,\n",
       " 142,\n",
       " 143,\n",
       " 144,\n",
       " 145,\n",
       " 146,\n",
       " 147,\n",
       " 148,\n",
       " 149,\n",
       " 150,\n",
       " 151,\n",
       " 153,\n",
       " 154,\n",
       " 155,\n",
       " 156,\n",
       " 158,\n",
       " 159,\n",
       " 160,\n",
       " 161,\n",
       " 162,\n",
       " 163,\n",
       " 164,\n",
       " 165,\n",
       " 166,\n",
       " 167,\n",
       " 168,\n",
       " 169,\n",
       " 171,\n",
       " 310,\n",
       " 356,\n",
       " 357,\n",
       " 358,\n",
       " 359,\n",
       " 360,\n",
       " 361,\n",
       " 362,\n",
       " 363,\n",
       " 364,\n",
       " 365,\n",
       " 366,\n",
       " 367,\n",
       " 368,\n",
       " 369,\n",
       " 370,\n",
       " 371,\n",
       " 372,\n",
       " 373,\n",
       " 374,\n",
       " 375,\n",
       " 376,\n",
       " 377,\n",
       " 378,\n",
       " 379,\n",
       " 380,\n",
       " 381,\n",
       " 382,\n",
       " 383,\n",
       " 384,\n",
       " 385,\n",
       " 386,\n",
       " 387,\n",
       " 388,\n",
       " 389,\n",
       " 390,\n",
       " 391,\n",
       " 392,\n",
       " 393,\n",
       " 394,\n",
       " 395,\n",
       " 396,\n",
       " 397,\n",
       " 398,\n",
       " 399,\n",
       " 400,\n",
       " 401,\n",
       " 402,\n",
       " 403,\n",
       " 404,\n",
       " 405,\n",
       " 406,\n",
       " 407,\n",
       " 408,\n",
       " 409,\n",
       " 410,\n",
       " 411,\n",
       " 412,\n",
       " 413,\n",
       " 414,\n",
       " 415,\n",
       " 416,\n",
       " 417,\n",
       " 418,\n",
       " 419,\n",
       " 420,\n",
       " 421,\n",
       " 422,\n",
       " 423,\n",
       " 424,\n",
       " 425,\n",
       " 426,\n",
       " 427,\n",
       " 428,\n",
       " 429,\n",
       " 430,\n",
       " 431,\n",
       " 432,\n",
       " 433,\n",
       " 434,\n",
       " 435,\n",
       " 436,\n",
       " 437,\n",
       " 438,\n",
       " 439,\n",
       " 440,\n",
       " 441,\n",
       " 442,\n",
       " 443,\n",
       " 444,\n",
       " 445,\n",
       " 446,\n",
       " 447,\n",
       " 448,\n",
       " 449,\n",
       " 450,\n",
       " 451,\n",
       " 452,\n",
       " 453,\n",
       " 454,\n",
       " 455,\n",
       " 456,\n",
       " 457,\n",
       " 458,\n",
       " 459,\n",
       " 460,\n",
       " 461,\n",
       " 462,\n",
       " 463,\n",
       " 464,\n",
       " 465,\n",
       " 466,\n",
       " 467,\n",
       " 468,\n",
       " 469,\n",
       " 470,\n",
       " 471,\n",
       " 472,\n",
       " 473,\n",
       " 474,\n",
       " 475,\n",
       " 476,\n",
       " 477,\n",
       " 478,\n",
       " 479,\n",
       " 480,\n",
       " 481,\n",
       " 482,\n",
       " 483,\n",
       " 484,\n",
       " 485,\n",
       " 486,\n",
       " 487]"
      ]
     },
     "execution_count": 30,
     "metadata": {},
     "output_type": "execute_result"
    }
   ],
   "source": [
    "outlier_mad"
   ]
  },
  {
   "cell_type": "code",
   "execution_count": 27,
   "metadata": {},
   "outputs": [
    {
     "data": {
      "text/plain": [
       "count    506.000000\n",
       "mean       3.613524\n",
       "std        8.601545\n",
       "min        0.006320\n",
       "25%        0.082045\n",
       "50%        0.256510\n",
       "75%        3.677083\n",
       "max       88.976200\n",
       "Name: CRIM, dtype: float64"
      ]
     },
     "execution_count": 27,
     "metadata": {},
     "output_type": "execute_result"
    }
   ],
   "source": [
    "dfBoston['CRIM'].describe()"
   ]
  },
  {
   "cell_type": "markdown",
   "metadata": {},
   "source": [
    "# Detectando outliers multivariables"
   ]
  },
  {
   "cell_type": "markdown",
   "metadata": {},
   "source": [
    "# Visualización\n",
    "\n",
    "La forma más común de detectar outliers es usando __scatter plots__.  Los __scatterplots__ nos ayudan a encontrar la relación entre dos variables (numericas).\n",
    "\n",
    "Entre las ventajas que tiene visualizar los datos, es que es sencillo encontrar los outliers de forma visual. Mientras que entre las desventajas que tenemos es que se complica cuando se quiera encontrar la relación entre más de dos variables y cuando buscamos marcar los outliers encontrados."
   ]
  },
  {
   "cell_type": "code",
   "execution_count": 36,
   "metadata": {},
   "outputs": [
    {
     "data": {
      "image/png": "[encoded data removed]",
      "text/plain": [
       "<Figure size 432x288 with 1 Axes>"
      ]
     },
     "metadata": {
      "needs_background": "light"
     },
     "output_type": "display_data"
    }
   ],
   "source": [
    "\n",
    "#Scatterpblot\n",
    "ax = sns.scatterplot(x=\"LSTAT\", y=\"CRIM\", data=dfBoston)"
   ]
  },
  {
   "cell_type": "markdown",
   "metadata": {},
   "source": [
    "### Mahalanobis Distance\n",
    "\n",
    "La distancia de Mahalanobis nos ayuda a encontrar la distancia de un elemento x hacia una distribución D. Esta distancia es una generalización del método (Z-score). En sencillo la distancia de Mahalanobis define cuantas desviaciones estandar el elemento x esta alejando del promedio de la distribución D.\n",
    "\n",
    "\n",
    "\n",
    "<img src=\"Images/mahalanobis_distance.png\" alt=\"New app\" title=\"New app\" width=400px height=200px/>\n",
    "\n",
    "Donde:\n",
    "\n",
    "X: representa un vector del registro\n",
    "u: representa el vector promedio de las variables independientes.\n",
    "C(-1): inversa de la matriz de covarianza\n",
    "\n",
    "Para definir el punto de corte se asume lo siguiente:\n",
    "\n",
    "La distribución de la data es una distribución normal con K variables, entonces la DM sigue una distribución chi cuadrado con K grados de libertad. \n",
    "\n",
    "\n",
    "<img src=\"Images/punto_corte_mahalanobis.png\" alt=\"New app\" title=\"New app\" width=400px height=200px/>"
   ]
  },
  {
   "cell_type": "code",
   "execution_count": 47,
   "metadata": {},
   "outputs": [
    {
     "name": "stderr",
     "output_type": "stream",
     "text": [
      "/Users/dennis/virtualenvs/jupyter/lib/python3.7/site-packages/ipykernel_launcher.py:10: RuntimeWarning: invalid value encountered in sqrt\n",
      "  # Remove the CWD from sys.path while we load stuff.\n"
     ]
    }
   ],
   "source": [
    "#Mahalonibis Distance\n",
    "\n",
    "def mahalanobis_method(df):\n",
    "    #M-Distance\n",
    "    x_minus_mu = df - np.mean(df)\n",
    "    cov = np.cov(df.values.T)                           #Covariance\n",
    "    inv_covmat = sp.linalg.inv(cov)                     #Inverse covariance\n",
    "    left_term = np.dot(x_minus_mu, inv_covmat) \n",
    "    mahal = np.dot(left_term, x_minus_mu.T)\n",
    "    md = np.sqrt(mahal.diagonal())\n",
    "    \n",
    "    #print(md)\n",
    "    \n",
    "    #Flag as outlier\n",
    "    outlier = []\n",
    "    #Cut-off point\n",
    "    C = np.sqrt(stats.chi2.ppf((1-0.001), df=df.shape[1]))    #degrees of freedom = number of variables\n",
    "    for index, value in enumerate(md):\n",
    "        if value > C:\n",
    "            outlier.append(index)\n",
    "        else:\n",
    "            continue\n",
    "    return outlier, md\n",
    "\n",
    "\n",
    "df_bivariate = dfBoston[['LSTAT', 'CRIM']]\n",
    "outliers_mahal_bi, md_bi = mahalanobis_method(df=df_bivariate)\n",
    "#[380, 398, 404, 405, 410, 414, 418, 427]\n",
    "\n",
    "outliers_mahal, md = mahalanobis_method(df=dfBoston)\n",
    "#[152, 155, 214, 353, 364, 365, 367, 380, 405, 410, 414, 418, 488, 489, 490, 491, 492]"
   ]
  },
  {
   "cell_type": "code",
   "execution_count": 38,
   "metadata": {},
   "outputs": [
    {
     "data": {
      "text/plain": [
       "[380, 398, 404, 405, 410, 414, 418, 427]"
      ]
     },
     "execution_count": 38,
     "metadata": {},
     "output_type": "execute_result"
    }
   ],
   "source": [
    "outliers_mahal_bi"
   ]
  },
  {
   "cell_type": "code",
   "execution_count": 48,
   "metadata": {},
   "outputs": [
    {
     "data": {
      "text/plain": [
       "317"
      ]
     },
     "execution_count": 48,
     "metadata": {},
     "output_type": "execute_result"
    }
   ],
   "source": [
    "len(outliers_mahal)"
   ]
  },
  {
   "cell_type": "code",
   "execution_count": 44,
   "metadata": {},
   "outputs": [
    {
     "data": {
      "text/plain": [
       "506"
      ]
     },
     "execution_count": 44,
     "metadata": {},
     "output_type": "execute_result"
    }
   ],
   "source": [
    "dfBoston.shape[0]"
   ]
  },
  {
   "cell_type": "markdown",
   "metadata": {},
   "source": [
    "## Robust Mahalanobis Distance\n",
    "\n",
    "La covarianza de determinante minimo (MCD) permite calcular las estimaciones de u y C de forma robusta a partir de usar un subconjunto de registros."
   ]
  },
  {
   "cell_type": "code",
   "execution_count": 50,
   "metadata": {
    "collapsed": true
   },
   "outputs": [
    {
     "name": "stderr",
     "output_type": "stream",
     "text": [
      "/Users/dennis/virtualenvs/jupyter/lib/python3.7/site-packages/sklearn/covariance/_robust_covariance.py:170: RuntimeWarning: Determinant has increased; this should not happen: log(det) > log(previous_det) (-1.896874865097542 > -1.916831817043082). You may want to try with a higher value of support_fraction (current value: 0.516).\n",
      "  RuntimeWarning)\n",
      "/Users/dennis/virtualenvs/jupyter/lib/python3.7/site-packages/sklearn/covariance/_robust_covariance.py:170: RuntimeWarning: Determinant has increased; this should not happen: log(det) > log(previous_det) (-1.756743694396548 > -1.759418957444407). You may want to try with a higher value of support_fraction (current value: 0.516).\n",
      "  RuntimeWarning)\n",
      "/Users/dennis/virtualenvs/jupyter/lib/python3.7/site-packages/sklearn/covariance/_robust_covariance.py:170: RuntimeWarning: Determinant has increased; this should not happen: log(det) > log(previous_det) (-1.725995025914923 > -1.800130378263940). You may want to try with a higher value of support_fraction (current value: 0.516).\n",
      "  RuntimeWarning)\n",
      "/Users/dennis/virtualenvs/jupyter/lib/python3.7/site-packages/sklearn/covariance/_robust_covariance.py:170: RuntimeWarning: Determinant has increased; this should not happen: log(det) > log(previous_det) (-1.789612335332590 > -1.802587500906959). You may want to try with a higher value of support_fraction (current value: 0.516).\n",
      "  RuntimeWarning)\n",
      "/Users/dennis/virtualenvs/jupyter/lib/python3.7/site-packages/sklearn/covariance/_robust_covariance.py:170: RuntimeWarning: Determinant has increased; this should not happen: log(det) > log(previous_det) (-1.735357377965761 > -1.813280617414991). You may want to try with a higher value of support_fraction (current value: 0.516).\n",
      "  RuntimeWarning)\n",
      "/Users/dennis/virtualenvs/jupyter/lib/python3.7/site-packages/sklearn/covariance/_robust_covariance.py:170: RuntimeWarning: Determinant has increased; this should not happen: log(det) > log(previous_det) (-1.862146201433875 > -1.864827495738915). You may want to try with a higher value of support_fraction (current value: 0.516).\n",
      "  RuntimeWarning)\n",
      "/Users/dennis/virtualenvs/jupyter/lib/python3.7/site-packages/sklearn/covariance/_robust_covariance.py:170: RuntimeWarning: Determinant has increased; this should not happen: log(det) > log(previous_det) (-1.840886623299356 > -1.918278030509898). You may want to try with a higher value of support_fraction (current value: 0.516).\n",
      "  RuntimeWarning)\n",
      "/Users/dennis/virtualenvs/jupyter/lib/python3.7/site-packages/sklearn/covariance/_robust_covariance.py:170: RuntimeWarning: Determinant has increased; this should not happen: log(det) > log(previous_det) (-1.843092026617718 > -1.903275379959108). You may want to try with a higher value of support_fraction (current value: 0.516).\n",
      "  RuntimeWarning)\n",
      "/Users/dennis/virtualenvs/jupyter/lib/python3.7/site-packages/sklearn/covariance/_robust_covariance.py:170: RuntimeWarning: Determinant has increased; this should not happen: log(det) > log(previous_det) (-1.866471448911735 > -1.922286309384729). You may want to try with a higher value of support_fraction (current value: 0.516).\n",
      "  RuntimeWarning)\n",
      "/Users/dennis/virtualenvs/jupyter/lib/python3.7/site-packages/sklearn/covariance/_robust_covariance.py:170: RuntimeWarning: Determinant has increased; this should not happen: log(det) > log(previous_det) (-1.889869844587903 > -1.900441651897982). You may want to try with a higher value of support_fraction (current value: 0.516).\n",
      "  RuntimeWarning)\n",
      "/Users/dennis/virtualenvs/jupyter/lib/python3.7/site-packages/sklearn/covariance/_robust_covariance.py:170: RuntimeWarning: Determinant has increased; this should not happen: log(det) > log(previous_det) (-1.816497295363776 > -1.848111127196990). You may want to try with a higher value of support_fraction (current value: 0.516).\n",
      "  RuntimeWarning)\n",
      "/Users/dennis/virtualenvs/jupyter/lib/python3.7/site-packages/sklearn/covariance/_robust_covariance.py:170: RuntimeWarning: Determinant has increased; this should not happen: log(det) > log(previous_det) (-1.931053260232929 > -1.934792994837794). You may want to try with a higher value of support_fraction (current value: 0.516).\n",
      "  RuntimeWarning)\n",
      "/Users/dennis/virtualenvs/jupyter/lib/python3.7/site-packages/sklearn/covariance/_robust_covariance.py:170: RuntimeWarning: Determinant has increased; this should not happen: log(det) > log(previous_det) (-1.785901814448202 > -1.793571028372121). You may want to try with a higher value of support_fraction (current value: 0.516).\n",
      "  RuntimeWarning)\n",
      "/Users/dennis/virtualenvs/jupyter/lib/python3.7/site-packages/sklearn/covariance/_robust_covariance.py:170: RuntimeWarning: Determinant has increased; this should not happen: log(det) > log(previous_det) (-1.839869281951923 > -1.866148784016652). You may want to try with a higher value of support_fraction (current value: 0.516).\n",
      "  RuntimeWarning)\n",
      "/Users/dennis/virtualenvs/jupyter/lib/python3.7/site-packages/sklearn/covariance/_robust_covariance.py:170: RuntimeWarning: Determinant has increased; this should not happen: log(det) > log(previous_det) (-1.888553283065743 > -1.947847815332826). You may want to try with a higher value of support_fraction (current value: 0.516).\n",
      "  RuntimeWarning)\n",
      "/Users/dennis/virtualenvs/jupyter/lib/python3.7/site-packages/sklearn/covariance/_robust_covariance.py:170: RuntimeWarning: Determinant has increased; this should not happen: log(det) > log(previous_det) (-1.865306329819640 > -1.881785277917597). You may want to try with a higher value of support_fraction (current value: 0.516).\n",
      "  RuntimeWarning)\n",
      "/Users/dennis/virtualenvs/jupyter/lib/python3.7/site-packages/sklearn/covariance/_robust_covariance.py:170: RuntimeWarning: Determinant has increased; this should not happen: log(det) > log(previous_det) (-1.800816412885633 > -1.810352790928192). You may want to try with a higher value of support_fraction (current value: 0.516).\n",
      "  RuntimeWarning)\n",
      "/Users/dennis/virtualenvs/jupyter/lib/python3.7/site-packages/sklearn/covariance/_robust_covariance.py:170: RuntimeWarning: Determinant has increased; this should not happen: log(det) > log(previous_det) (-1.805399636666371 > -1.859165159053273). You may want to try with a higher value of support_fraction (current value: 0.516).\n",
      "  RuntimeWarning)\n",
      "/Users/dennis/virtualenvs/jupyter/lib/python3.7/site-packages/sklearn/covariance/_robust_covariance.py:170: RuntimeWarning: Determinant has increased; this should not happen: log(det) > log(previous_det) (-1.938807260728812 > -2.095382957491472). You may want to try with a higher value of support_fraction (current value: 0.516).\n",
      "  RuntimeWarning)\n",
      "/Users/dennis/virtualenvs/jupyter/lib/python3.7/site-packages/sklearn/covariance/_robust_covariance.py:170: RuntimeWarning: Determinant has increased; this should not happen: log(det) > log(previous_det) (-1.782636323504891 > -1.876665853142464). You may want to try with a higher value of support_fraction (current value: 0.516).\n",
      "  RuntimeWarning)\n",
      "/Users/dennis/virtualenvs/jupyter/lib/python3.7/site-packages/sklearn/covariance/_robust_covariance.py:170: RuntimeWarning: Determinant has increased; this should not happen: log(det) > log(previous_det) (-1.766559057950289 > -1.935051200063505). You may want to try with a higher value of support_fraction (current value: 0.516).\n",
      "  RuntimeWarning)\n",
      "/Users/dennis/virtualenvs/jupyter/lib/python3.7/site-packages/sklearn/covariance/_robust_covariance.py:170: RuntimeWarning: Determinant has increased; this should not happen: log(det) > log(previous_det) (-1.937169395717440 > -1.963118333483797). You may want to try with a higher value of support_fraction (current value: 0.516).\n",
      "  RuntimeWarning)\n",
      "/Users/dennis/virtualenvs/jupyter/lib/python3.7/site-packages/sklearn/covariance/_robust_covariance.py:170: RuntimeWarning: Determinant has increased; this should not happen: log(det) > log(previous_det) (-1.800931136995494 > -1.804802540058800). You may want to try with a higher value of support_fraction (current value: 0.516).\n",
      "  RuntimeWarning)\n",
      "/Users/dennis/virtualenvs/jupyter/lib/python3.7/site-packages/sklearn/covariance/_robust_covariance.py:170: RuntimeWarning: Determinant has increased; this should not happen: log(det) > log(previous_det) (-1.738443373515800 > -1.863995286407807). You may want to try with a higher value of support_fraction (current value: 0.516).\n",
      "  RuntimeWarning)\n",
      "/Users/dennis/virtualenvs/jupyter/lib/python3.7/site-packages/sklearn/covariance/_robust_covariance.py:170: RuntimeWarning: Determinant has increased; this should not happen: log(det) > log(previous_det) (-1.837457521566479 > -1.881819987858707). You may want to try with a higher value of support_fraction (current value: 0.516).\n",
      "  RuntimeWarning)\n",
      "/Users/dennis/virtualenvs/jupyter/lib/python3.7/site-packages/sklearn/covariance/_robust_covariance.py:170: RuntimeWarning: Determinant has increased; this should not happen: log(det) > log(previous_det) (-1.977406249378555 > -1.985064351944061). You may want to try with a higher value of support_fraction (current value: 0.516).\n",
      "  RuntimeWarning)\n",
      "/Users/dennis/virtualenvs/jupyter/lib/python3.7/site-packages/sklearn/covariance/_robust_covariance.py:170: RuntimeWarning: Determinant has increased; this should not happen: log(det) > log(previous_det) (-1.786635623763235 > -1.973863289063193). You may want to try with a higher value of support_fraction (current value: 0.516).\n",
      "  RuntimeWarning)\n",
      "/Users/dennis/virtualenvs/jupyter/lib/python3.7/site-packages/sklearn/covariance/_robust_covariance.py:170: RuntimeWarning: Determinant has increased; this should not happen: log(det) > log(previous_det) (-1.739440562089097 > -2.027861256549341). You may want to try with a higher value of support_fraction (current value: 0.516).\n",
      "  RuntimeWarning)\n",
      "/Users/dennis/virtualenvs/jupyter/lib/python3.7/site-packages/sklearn/covariance/_robust_covariance.py:170: RuntimeWarning: Determinant has increased; this should not happen: log(det) > log(previous_det) (-1.902318586553777 > -1.931288716839772). You may want to try with a higher value of support_fraction (current value: 0.516).\n",
      "  RuntimeWarning)\n",
      "/Users/dennis/virtualenvs/jupyter/lib/python3.7/site-packages/sklearn/covariance/_robust_covariance.py:170: RuntimeWarning: Determinant has increased; this should not happen: log(det) > log(previous_det) (-1.870133676063524 > -1.891198813621484). You may want to try with a higher value of support_fraction (current value: 0.516).\n",
      "  RuntimeWarning)\n",
      "/Users/dennis/virtualenvs/jupyter/lib/python3.7/site-packages/sklearn/covariance/_robust_covariance.py:170: RuntimeWarning: Determinant has increased; this should not happen: log(det) > log(previous_det) (-1.915891078265192 > -2.064690157251489). You may want to try with a higher value of support_fraction (current value: 0.516).\n",
      "  RuntimeWarning)\n",
      "/Users/dennis/virtualenvs/jupyter/lib/python3.7/site-packages/sklearn/covariance/_robust_covariance.py:170: RuntimeWarning: Determinant has increased; this should not happen: log(det) > log(previous_det) (-1.897038955532457 > -1.969755048542250). You may want to try with a higher value of support_fraction (current value: 0.516).\n",
      "  RuntimeWarning)\n"
     ]
    },
    {
     "name": "stderr",
     "output_type": "stream",
     "text": [
      "/Users/dennis/virtualenvs/jupyter/lib/python3.7/site-packages/sklearn/covariance/_robust_covariance.py:170: RuntimeWarning: Determinant has increased; this should not happen: log(det) > log(previous_det) (-1.933955964904158 > -1.972398958602541). You may want to try with a higher value of support_fraction (current value: 0.516).\n",
      "  RuntimeWarning)\n",
      "/Users/dennis/virtualenvs/jupyter/lib/python3.7/site-packages/sklearn/covariance/_robust_covariance.py:170: RuntimeWarning: Determinant has increased; this should not happen: log(det) > log(previous_det) (-1.731437125369810 > -1.975043210961681). You may want to try with a higher value of support_fraction (current value: 0.516).\n",
      "  RuntimeWarning)\n",
      "/Users/dennis/virtualenvs/jupyter/lib/python3.7/site-packages/sklearn/covariance/_robust_covariance.py:170: RuntimeWarning: Determinant has increased; this should not happen: log(det) > log(previous_det) (-1.865357703303184 > -1.923922790781543). You may want to try with a higher value of support_fraction (current value: 0.516).\n",
      "  RuntimeWarning)\n",
      "/Users/dennis/virtualenvs/jupyter/lib/python3.7/site-packages/sklearn/covariance/_robust_covariance.py:170: RuntimeWarning: Determinant has increased; this should not happen: log(det) > log(previous_det) (-1.830065545132634 > -1.947326760859248). You may want to try with a higher value of support_fraction (current value: 0.516).\n",
      "  RuntimeWarning)\n",
      "/Users/dennis/virtualenvs/jupyter/lib/python3.7/site-packages/sklearn/covariance/_robust_covariance.py:170: RuntimeWarning: Determinant has increased; this should not happen: log(det) > log(previous_det) (-1.913374631543498 > -1.986862879050349). You may want to try with a higher value of support_fraction (current value: 0.516).\n",
      "  RuntimeWarning)\n",
      "/Users/dennis/virtualenvs/jupyter/lib/python3.7/site-packages/sklearn/covariance/_robust_covariance.py:170: RuntimeWarning: Determinant has increased; this should not happen: log(det) > log(previous_det) (-1.764375625965791 > -1.897176522858983). You may want to try with a higher value of support_fraction (current value: 0.516).\n",
      "  RuntimeWarning)\n",
      "/Users/dennis/virtualenvs/jupyter/lib/python3.7/site-packages/sklearn/covariance/_robust_covariance.py:170: RuntimeWarning: Determinant has increased; this should not happen: log(det) > log(previous_det) (-1.701715500656956 > -1.723256525730561). You may want to try with a higher value of support_fraction (current value: 0.516).\n",
      "  RuntimeWarning)\n",
      "/Users/dennis/virtualenvs/jupyter/lib/python3.7/site-packages/sklearn/covariance/_robust_covariance.py:170: RuntimeWarning: Determinant has increased; this should not happen: log(det) > log(previous_det) (-1.788107658405265 > -1.811301065789699). You may want to try with a higher value of support_fraction (current value: 0.516).\n",
      "  RuntimeWarning)\n",
      "/Users/dennis/virtualenvs/jupyter/lib/python3.7/site-packages/sklearn/covariance/_robust_covariance.py:170: RuntimeWarning: Determinant has increased; this should not happen: log(det) > log(previous_det) (-1.812405887521210 > -1.881984141200956). You may want to try with a higher value of support_fraction (current value: 0.516).\n",
      "  RuntimeWarning)\n",
      "/Users/dennis/virtualenvs/jupyter/lib/python3.7/site-packages/sklearn/covariance/_robust_covariance.py:170: RuntimeWarning: Determinant has increased; this should not happen: log(det) > log(previous_det) (-1.802838407734972 > -1.857875909453558). You may want to try with a higher value of support_fraction (current value: 0.516).\n",
      "  RuntimeWarning)\n",
      "/Users/dennis/virtualenvs/jupyter/lib/python3.7/site-packages/sklearn/covariance/_robust_covariance.py:170: RuntimeWarning: Determinant has increased; this should not happen: log(det) > log(previous_det) (-1.820599065470937 > -1.824328173538976). You may want to try with a higher value of support_fraction (current value: 0.516).\n",
      "  RuntimeWarning)\n",
      "/Users/dennis/virtualenvs/jupyter/lib/python3.7/site-packages/sklearn/covariance/_robust_covariance.py:170: RuntimeWarning: Determinant has increased; this should not happen: log(det) > log(previous_det) (-1.779974175976033 > -1.790482187062398). You may want to try with a higher value of support_fraction (current value: 0.516).\n",
      "  RuntimeWarning)\n",
      "/Users/dennis/virtualenvs/jupyter/lib/python3.7/site-packages/sklearn/covariance/_robust_covariance.py:170: RuntimeWarning: Determinant has increased; this should not happen: log(det) > log(previous_det) (-1.765295380745316 > -1.765671398434566). You may want to try with a higher value of support_fraction (current value: 0.516).\n",
      "  RuntimeWarning)\n",
      "/Users/dennis/virtualenvs/jupyter/lib/python3.7/site-packages/sklearn/covariance/_robust_covariance.py:170: RuntimeWarning: Determinant has increased; this should not happen: log(det) > log(previous_det) (-2.022622424671823 > -2.039202013701180). You may want to try with a higher value of support_fraction (current value: 0.516).\n",
      "  RuntimeWarning)\n",
      "/Users/dennis/virtualenvs/jupyter/lib/python3.7/site-packages/sklearn/covariance/_robust_covariance.py:170: RuntimeWarning: Determinant has increased; this should not happen: log(det) > log(previous_det) (-1.915734042347678 > -1.960857308511040). You may want to try with a higher value of support_fraction (current value: 0.516).\n",
      "  RuntimeWarning)\n",
      "/Users/dennis/virtualenvs/jupyter/lib/python3.7/site-packages/sklearn/covariance/_robust_covariance.py:170: RuntimeWarning: Determinant has increased; this should not happen: log(det) > log(previous_det) (-1.788323010969640 > -1.880814378034549). You may want to try with a higher value of support_fraction (current value: 0.516).\n",
      "  RuntimeWarning)\n",
      "/Users/dennis/virtualenvs/jupyter/lib/python3.7/site-packages/sklearn/covariance/_robust_covariance.py:170: RuntimeWarning: Determinant has increased; this should not happen: log(det) > log(previous_det) (-1.697812764932708 > -1.852514117564409). You may want to try with a higher value of support_fraction (current value: 0.516).\n",
      "  RuntimeWarning)\n",
      "/Users/dennis/virtualenvs/jupyter/lib/python3.7/site-packages/sklearn/covariance/_robust_covariance.py:170: RuntimeWarning: Determinant has increased; this should not happen: log(det) > log(previous_det) (-1.949402359468772 > -1.984482403247945). You may want to try with a higher value of support_fraction (current value: 0.516).\n",
      "  RuntimeWarning)\n",
      "/Users/dennis/virtualenvs/jupyter/lib/python3.7/site-packages/sklearn/covariance/_robust_covariance.py:170: RuntimeWarning: Determinant has increased; this should not happen: log(det) > log(previous_det) (-1.841439661608353 > -1.851504780411007). You may want to try with a higher value of support_fraction (current value: 0.516).\n",
      "  RuntimeWarning)\n",
      "/Users/dennis/virtualenvs/jupyter/lib/python3.7/site-packages/sklearn/covariance/_robust_covariance.py:170: RuntimeWarning: Determinant has increased; this should not happen: log(det) > log(previous_det) (-1.908629287540162 > -2.078071442462312). You may want to try with a higher value of support_fraction (current value: 0.516).\n",
      "  RuntimeWarning)\n",
      "/Users/dennis/virtualenvs/jupyter/lib/python3.7/site-packages/sklearn/covariance/_robust_covariance.py:170: RuntimeWarning: Determinant has increased; this should not happen: log(det) > log(previous_det) (-2.010292920483884 > -2.069099681355377). You may want to try with a higher value of support_fraction (current value: 0.516).\n",
      "  RuntimeWarning)\n",
      "/Users/dennis/virtualenvs/jupyter/lib/python3.7/site-packages/sklearn/covariance/_robust_covariance.py:170: RuntimeWarning: Determinant has increased; this should not happen: log(det) > log(previous_det) (-1.892441494763771 > -1.931990882505348). You may want to try with a higher value of support_fraction (current value: 0.516).\n",
      "  RuntimeWarning)\n",
      "/Users/dennis/virtualenvs/jupyter/lib/python3.7/site-packages/sklearn/covariance/_robust_covariance.py:170: RuntimeWarning: Determinant has increased; this should not happen: log(det) > log(previous_det) (-1.994548335534683 > -2.007158670631354). You may want to try with a higher value of support_fraction (current value: 0.516).\n",
      "  RuntimeWarning)\n",
      "/Users/dennis/virtualenvs/jupyter/lib/python3.7/site-packages/sklearn/covariance/_robust_covariance.py:170: RuntimeWarning: Determinant has increased; this should not happen: log(det) > log(previous_det) (-1.992662666307101 > -2.138676381772985). You may want to try with a higher value of support_fraction (current value: 0.516).\n",
      "  RuntimeWarning)\n"
     ]
    }
   ],
   "source": [
    "#Robust Mahalonibis Distance\n",
    "def robust_mahalanobis_method(df):\n",
    "    #Minimum covariance determinant\n",
    "    rng = np.random.RandomState(0)\n",
    "    real_cov = np.cov(df.values.T)\n",
    "    X = rng.multivariate_normal(mean=np.mean(df, axis=0), cov=real_cov, size=506)\n",
    "    cov = MinCovDet(random_state=0).fit(X)\n",
    "    mcd = cov.covariance_ #robust covariance metric\n",
    "    robust_mean = cov.location_  #robust mean\n",
    "    inv_covmat = sp.linalg.inv(mcd) #inverse covariance metric\n",
    "    \n",
    "    #Robust M-Distance\n",
    "    x_minus_mu = df - robust_mean\n",
    "    left_term = np.dot(x_minus_mu, inv_covmat)\n",
    "    mahal = np.dot(left_term, x_minus_mu.T)\n",
    "    md = np.sqrt(mahal.diagonal())\n",
    "    \n",
    "    #Flag as outlier\n",
    "    outlier = []\n",
    "    C = np.sqrt(stats.chi2.ppf((1-0.001), df=df.shape[1]))#degrees of freedom = number of variables\n",
    "    for index, value in enumerate(md):\n",
    "        if value > C:\n",
    "            outlier.append(index)\n",
    "        else:\n",
    "            continue\n",
    "    return outlier, md\n",
    "\n",
    "outliers_mahal_rob_bi, md_rb_bi = robust_mahalanobis_method(df=df_bivariate)\n",
    "#[141, 374, 380, 398, 404, 405, 410, 414, 418, 427]\n",
    "\n",
    "outliers_mahal_rob, md_rb = robust_mahalanobis_method(df=dfBoston)\n",
    "#[123, 126, 142, 152, 155, 163, 214, 283, 353, 364, 365, 367, 380, 405, 410, \n",
    "# 418, 488, 489, 490, 491, 492]"
   ]
  },
  {
   "cell_type": "code",
   "execution_count": 51,
   "metadata": {},
   "outputs": [
    {
     "name": "stdout",
     "output_type": "stream",
     "text": [
      "[141, 380, 398, 404, 405, 410, 414, 418, 427]\n"
     ]
    }
   ],
   "source": [
    "print(outliers_mahal_rob_bi)"
   ]
  },
  {
   "cell_type": "code",
   "execution_count": 52,
   "metadata": {},
   "outputs": [
    {
     "name": "stdout",
     "output_type": "stream",
     "text": [
      "[142, 152, 155, 163, 283, 353, 364, 365, 367, 380, 405, 410, 418, 488, 489, 490, 491, 492]\n"
     ]
    }
   ],
   "source": [
    "print(outliers_mahal_rob)"
   ]
  },
  {
   "cell_type": "code",
   "execution_count": null,
   "metadata": {},
   "outputs": [],
   "source": [
    "#Visualization\n",
    "#You need deep copy otherwise cannot \n",
    "#add column to a slice of a DataFrame\n",
    "df_bi_cp = copy.deepcopy(df_bivariate) \n",
    "\n",
    "#Add md and robust md to copy of dataframe\n",
    "df_bi_cp['md'] = md_bi\n",
    "df_bi_cp['md_robust'] = md_rb_bi\n",
    "\n",
    "def flag_outliers(df, outliers):\n",
    "    flag = []\n",
    "    for index in range(df.shape[0]):\n",
    "        if index in outliers:\n",
    "            flag.append(1)\n",
    "        else:\n",
    "            flag.append(0)\n",
    "    return flag\n",
    "\n",
    "#Flag outliers with 1, others with 0\n",
    "df_bi_cp['flag'] = flag_outliers(df_bivariate, outliers_mahal_bi)\n",
    "df_bi_cp['flag_rob'] = flag_outliers(df_bivariate, outliers_mahal_rob_bi)"
   ]
  },
  {
   "cell_type": "code",
   "execution_count": null,
   "metadata": {},
   "outputs": [],
   "source": [
    "#MD classic\n",
    "ax = sns.scatterplot(x=\"LSTAT\", y=\"CRIM\", hue='flag', data=df_bi_cp)"
   ]
  },
  {
   "cell_type": "code",
   "execution_count": null,
   "metadata": {},
   "outputs": [],
   "source": [
    "#MD robust\n",
    "ax = sns.scatterplot(x=\"LSTAT\", y=\"CRIM\", hue='flag_rob', data=df_bi_cp)"
   ]
  },
  {
   "cell_type": "markdown",
   "metadata": {},
   "source": [
    "## DBSCAN"
   ]
  },
  {
   "cell_type": "code",
   "execution_count": null,
   "metadata": {},
   "outputs": [],
   "source": [
    "df_bivariate.plot.scatter(x = \"LSTAT\", y = \"CRIM\")"
   ]
  },
  {
   "cell_type": "code",
   "execution_count": null,
   "metadata": {},
   "outputs": [],
   "source": [
    "from sklearn.preprocessing import MinMaxScaler\n",
    "\n",
    "\n",
    "scaler = MinMaxScaler()\n",
    "scaler.fit(df_bivariate)\n",
    "df_bivariate_scaler = scaler.transform(df_bivariate)\n",
    "#ageAndFare = scaler.fit_transform(ageAndFare)\n",
    "df_bivariate_scaler = pd.DataFrame(df_bivariate_scaler, columns = [\"LSTAT\", \"CRIM\"])\n",
    "df_bivariate_scaler.plot.scatter(x = \"LSTAT\", y = \"CRIM\")"
   ]
  },
  {
   "cell_type": "code",
   "execution_count": null,
   "metadata": {},
   "outputs": [],
   "source": [
    "from sklearn.cluster import DBSCAN\n",
    "\n",
    "outlier_detection = DBSCAN(\n",
    "  eps = 0.05,\n",
    "  metric=\"euclidean\",\n",
    "  min_samples = 3,\n",
    "  n_jobs = -1)\n",
    "clusters = outlier_detection.fit_predict(df_bivariate_scaler)"
   ]
  },
  {
   "cell_type": "code",
   "execution_count": null,
   "metadata": {},
   "outputs": [],
   "source": [
    "df_bivariate_scaler['cluster'] = clusters"
   ]
  },
  {
   "cell_type": "code",
   "execution_count": null,
   "metadata": {},
   "outputs": [],
   "source": [
    "df_bivariate_scaler['cluster'].value_counts()"
   ]
  },
  {
   "cell_type": "code",
   "execution_count": null,
   "metadata": {},
   "outputs": [],
   "source": [
    "from matplotlib import cm\n",
    "cmap = cm.get_cmap('Accent')\n",
    "df_bivariate_scaler.plot.scatter(\n",
    "  x = \"LSTAT\",\n",
    "  y = \"CRIM\",\n",
    "  c = clusters,\n",
    "  cmap = cmap,\n",
    "  colorbar = False\n",
    ")"
   ]
  },
  {
   "cell_type": "code",
   "execution_count": null,
   "metadata": {},
   "outputs": [],
   "source": []
  }
 ],
 "metadata": {
  "kernelspec": {
   "display_name": "analytics",
   "language": "python",
   "name": "myenv"
  },
  "language_info": {
   "codemirror_mode": {
    "name": "ipython",
    "version": 3
   },
   "file_extension": ".py",
   "mimetype": "text/x-python",
   "name": "python",
   "nbconvert_exporter": "python",
   "pygments_lexer": "ipython3",
   "version": "3.7.11"
  }
 },
 "nbformat": 4,
 "nbformat_minor": 4
}
