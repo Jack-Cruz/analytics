{
 "cells": [
  {
   "cell_type": "markdown",
   "id": "c4ae9bd4",
   "metadata": {},
   "source": [
    "# III. Uso de sentencias de control de flujo"
   ]
  },
  {
   "cell_type": "markdown",
   "id": "d03d7f1a",
   "metadata": {},
   "source": [
    "Python soporta las sentencias de control de flujo que podemos encontrar en otros lenguajes de programación tales como C, R y Java.\n",
    "\n",
    "Las sentencias presentes en Python 3.6 son\n",
    "\n",
    "- If\n",
    "- Else\n",
    "\n",
    "- While\n",
    "- For\n",
    "\n",
    "- Break\n",
    "- Continue\n",
    "- Pass\n",
    "\n",
    "- Try\n",
    "- With\n"
   ]
  },
  {
   "cell_type": "markdown",
   "id": "023f8b79",
   "metadata": {},
   "source": [
    "## 1. If\n",
    "\n",
    "La sentencia if es quizás la más conocida. Esta sentencua se usa para ejecución condicional de código.\n",
    "\n",
    "Puede haber cero o más bloques elif, y el bloque else es opcional. La palabra reservada ‘elif‘ es una abreviación de ‘else if’, y es útil para evitar un identación excesivo.\n",
    "\n",
    "Una secuencia if ... elif ... elif ... sustituye las sentencias switch o case encontradas en otros lenguajes."
   ]
  },
  {
   "cell_type": "code",
   "execution_count": 2,
   "id": "3fb59dfd",
   "metadata": {},
   "outputs": [
    {
     "name": "stdout",
     "output_type": "stream",
     "text": [
      "Negativo cambiado a cero\n",
      "Menor de 10\n",
      "Valor: 0\n"
     ]
    }
   ],
   "source": [
    "x = -30\n",
    "\n",
    "if x < 0:\n",
    "    x = 0\n",
    "    print('Negativo cambiado a cero')\n",
    "\n",
    "if x < 10:\n",
    "    print('Menor de 10')\n",
    "elif x < 15:\n",
    "    print('Menor a 15')\n",
    "else:\n",
    "    print('Mayor a 1')\n",
    "\n",
    "print('Valor:', x)"
   ]
  },
  {
   "cell_type": "markdown",
   "id": "b606d0c9",
   "metadata": {},
   "source": [
    "## 2. While\n",
    "\n",
    "La sentencia while es usada para repetir la ejecución de un código mientras la condición sea verdadera.\n",
    "\n",
    "El primer bloque corresponde al código que se ejecuta mientras la condición sea verdadera. Se puede crear un segundo bloque opcional con la sentencia else, la cual permite ejecutar ese bloque antes de terminar la ejecución del bucle while.\n",
    "\n",
    "Se pueden usar las sentencias **break** y **continue** en el primer bloque."
   ]
  },
  {
   "cell_type": "code",
   "execution_count": 4,
   "id": "6431e476",
   "metadata": {},
   "outputs": [],
   "source": [
    "a = 0\n",
    "b = 1"
   ]
  },
  {
   "cell_type": "code",
   "execution_count": 6,
   "id": "e88435b7",
   "metadata": {},
   "outputs": [],
   "source": [
    "a = 0; b = 1"
   ]
  },
  {
   "cell_type": "code",
   "execution_count": 16,
   "id": "ecc5330d",
   "metadata": {},
   "outputs": [],
   "source": [
    "a, b = 0, 1"
   ]
  },
  {
   "cell_type": "code",
   "execution_count": 18,
   "id": "56614d87",
   "metadata": {},
   "outputs": [],
   "source": [
    "while b < 1000:\n",
    "    #print(b, end=' '\n",
    "    a, b = b, a+b\n",
    "    print(b, end=' ')"
   ]
  },
  {
   "cell_type": "markdown",
   "id": "6a659c95",
   "metadata": {},
   "source": [
    "## 3. For\n",
    "\n",
    "La sentencia for se usa para iterar sobre los elementos que pertenecen a una secuencia del tipo string, tupla, lista o cualquier otro objeto iterable.\n",
    "\n",
    "La sentencia for en Python difiere un poco de lo que uno puede estar acostumbrado en lenguajes como C o Pascal. En lugar de siempre iterar sobre una progresión aritmética de números (como en Pascal) o darle al usuario la posibilidad de definir tanto el paso de la iteración como la condición de fin (como en C), la sentencia for de Python itera sobre los ítems de cualquier secuencia (una lista o una cadena de texto), en el orden que aparecen en la secuencia."
   ]
  },
  {
   "cell_type": "code",
   "execution_count": 20,
   "id": "9444d66c",
   "metadata": {},
   "outputs": [
    {
     "name": "stdout",
     "output_type": "stream",
     "text": [
      "Machine Learning 16\n",
      "Learning 8\n",
      "Data Science 12\n"
     ]
    }
   ],
   "source": [
    "palabras = ['Machine Learning', 'Learning', 'Data Science']\n",
    "\n",
    "for p in palabras:\n",
    "    print(p, len(p))"
   ]
  },
  {
   "cell_type": "code",
   "execution_count": 22,
   "id": "06babd90",
   "metadata": {},
   "outputs": [
    {
     "data": {
      "text/plain": [
       "[0, 2]"
      ]
     },
     "execution_count": 22,
     "metadata": {},
     "output_type": "execute_result"
    }
   ],
   "source": [
    "rango = range(0, len(palabras), 2)\n",
    "list(rango)"
   ]
  },
  {
   "cell_type": "code",
   "execution_count": 23,
   "id": "1828e1f1",
   "metadata": {},
   "outputs": [
    {
     "name": "stdout",
     "output_type": "stream",
     "text": [
      "0 Machine Learning\n",
      "1 Learning\n",
      "2 Data Science\n"
     ]
    }
   ],
   "source": [
    "for i in range(len(palabras)):\n",
    "    print(i, palabras[i])"
   ]
  }
 ],
 "metadata": {
  "kernelspec": {
   "display_name": "analytics",
   "language": "python",
   "name": "myenv"
  },
  "language_info": {
   "codemirror_mode": {
    "name": "ipython",
    "version": 3
   },
   "file_extension": ".py",
   "mimetype": "text/x-python",
   "name": "python",
   "nbconvert_exporter": "python",
   "pygments_lexer": "ipython3",
   "version": "3.7.11"
  }
 },
 "nbformat": 4,
 "nbformat_minor": 5
}
